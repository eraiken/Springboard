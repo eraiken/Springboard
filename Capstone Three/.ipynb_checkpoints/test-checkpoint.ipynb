{
 "cells": [
  {
   "cell_type": "code",
   "execution_count": 4,
   "id": "f018690c-d3e2-422c-8969-13c1fa2da508",
   "metadata": {},
   "outputs": [],
   "source": [
    "from datasets import load_dataset"
   ]
  },
  {
   "cell_type": "code",
   "execution_count": 5,
   "id": "e73751c2-adc5-451e-aa8b-76b1dd684e02",
   "metadata": {
    "scrolled": false
   },
   "outputs": [
    {
     "data": {
      "application/vnd.jupyter.widget-view+json": {
       "model_id": "44dbe79391574b8fa854b05ec5bf1309",
       "version_major": 2,
       "version_minor": 0
      },
      "text/plain": [
       "README.md:   0%|          | 0.00/2.37k [00:00<?, ?B/s]"
      ]
     },
     "metadata": {},
     "output_type": "display_data"
    },
    {
     "name": "stderr",
     "output_type": "stream",
     "text": [
      "C:\\Users\\snail\\anaconda3\\Lib\\site-packages\\huggingface_hub\\file_download.py:139: UserWarning: `huggingface_hub` cache-system uses symlinks by default to efficiently store duplicated files but your machine does not support them in C:\\Users\\snail\\.cache\\huggingface\\hub\\datasets--huggan--wikiart. Caching files will still work but in a degraded version that might require more space on your disk. This warning can be disabled by setting the `HF_HUB_DISABLE_SYMLINKS_WARNING` environment variable. For more details, see https://huggingface.co/docs/huggingface_hub/how-to-cache#limitations.\n",
      "To support symlinks on Windows, you either need to activate Developer Mode or to run Python as an administrator. In order to activate developer mode, see this article: https://docs.microsoft.com/en-us/windows/apps/get-started/enable-your-device-for-development\n",
      "  warnings.warn(message)\n"
     ]
    },
    {
     "data": {
      "application/vnd.jupyter.widget-view+json": {
       "model_id": "ca084569656544d6852b7aa4cbe1aaa5",
       "version_major": 2,
       "version_minor": 0
      },
      "text/plain": [
       "Resolving data files:   0%|          | 0/72 [00:00<?, ?it/s]"
      ]
     },
     "metadata": {},
     "output_type": "display_data"
    },
    {
     "data": {
      "application/vnd.jupyter.widget-view+json": {
       "model_id": "60dc652821934a8eac07667c912bddea",
       "version_major": 2,
       "version_minor": 0
      },
      "text/plain": [
       "dataset_infos.json:   0%|          | 0.00/5.91k [00:00<?, ?B/s]"
      ]
     },
     "metadata": {},
     "output_type": "display_data"
    },
    {
     "data": {
      "application/vnd.jupyter.widget-view+json": {
       "model_id": "6ca7aec1349043a4a9b4a970ce80411a",
       "version_major": 2,
       "version_minor": 0
      },
      "text/plain": [
       "Downloading data:   0%|          | 0/72 [00:00<?, ?files/s]"
      ]
     },
     "metadata": {},
     "output_type": "display_data"
    },
    {
     "data": {
      "application/vnd.jupyter.widget-view+json": {
       "model_id": "e2bc50b35f634c4f98eabc30171eeff1",
       "version_major": 2,
       "version_minor": 0
      },
      "text/plain": [
       "train-00000-of-00072.parquet:   0%|          | 0.00/522M [00:00<?, ?B/s]"
      ]
     },
     "metadata": {},
     "output_type": "display_data"
    },
    {
     "data": {
      "application/vnd.jupyter.widget-view+json": {
       "model_id": "52d12b72c1c14d02a8e731c503cc5e11",
       "version_major": 2,
       "version_minor": 0
      },
      "text/plain": [
       "train-00001-of-00072.parquet:   0%|          | 0.00/518M [00:00<?, ?B/s]"
      ]
     },
     "metadata": {},
     "output_type": "display_data"
    },
    {
     "data": {
      "application/vnd.jupyter.widget-view+json": {
       "model_id": "e3c7ffb3da894830aa1122006116492a",
       "version_major": 2,
       "version_minor": 0
      },
      "text/plain": [
       "train-00002-of-00072.parquet:   0%|          | 0.00/533M [00:00<?, ?B/s]"
      ]
     },
     "metadata": {},
     "output_type": "display_data"
    },
    {
     "data": {
      "application/vnd.jupyter.widget-view+json": {
       "model_id": "147c5f704bba4797aad18aef88915e25",
       "version_major": 2,
       "version_minor": 0
      },
      "text/plain": [
       "train-00003-of-00072.parquet:   0%|          | 0.00/533M [00:00<?, ?B/s]"
      ]
     },
     "metadata": {},
     "output_type": "display_data"
    },
    {
     "data": {
      "application/vnd.jupyter.widget-view+json": {
       "model_id": "88bfb7870c24416db351cce08090b9aa",
       "version_major": 2,
       "version_minor": 0
      },
      "text/plain": [
       "train-00004-of-00072.parquet:   0%|          | 0.00/532M [00:00<?, ?B/s]"
      ]
     },
     "metadata": {},
     "output_type": "display_data"
    },
    {
     "data": {
      "application/vnd.jupyter.widget-view+json": {
       "model_id": "f02c5eb6b3794199a5205b08183757f0",
       "version_major": 2,
       "version_minor": 0
      },
      "text/plain": [
       "train-00005-of-00072.parquet:   0%|          | 0.00/519M [00:00<?, ?B/s]"
      ]
     },
     "metadata": {},
     "output_type": "display_data"
    },
    {
     "data": {
      "application/vnd.jupyter.widget-view+json": {
       "model_id": "c5f8cb4569da420f8541b85376cfe1f7",
       "version_major": 2,
       "version_minor": 0
      },
      "text/plain": [
       "train-00006-of-00072.parquet:   0%|          | 0.00/523M [00:00<?, ?B/s]"
      ]
     },
     "metadata": {},
     "output_type": "display_data"
    },
    {
     "data": {
      "application/vnd.jupyter.widget-view+json": {
       "model_id": "448734ea3c39455ba600bb5b5af0f211",
       "version_major": 2,
       "version_minor": 0
      },
      "text/plain": [
       "train-00007-of-00072.parquet:   0%|          | 0.00/532M [00:00<?, ?B/s]"
      ]
     },
     "metadata": {},
     "output_type": "display_data"
    },
    {
     "data": {
      "application/vnd.jupyter.widget-view+json": {
       "model_id": "1618c9a660e74caa977a91f87fab926d",
       "version_major": 2,
       "version_minor": 0
      },
      "text/plain": [
       "train-00008-of-00072.parquet:   0%|          | 0.00/532M [00:00<?, ?B/s]"
      ]
     },
     "metadata": {},
     "output_type": "display_data"
    },
    {
     "data": {
      "application/vnd.jupyter.widget-view+json": {
       "model_id": "e95b914891144fce8f5fe89f5868d057",
       "version_major": 2,
       "version_minor": 0
      },
      "text/plain": [
       "train-00009-of-00072.parquet:   0%|          | 0.00/531M [00:00<?, ?B/s]"
      ]
     },
     "metadata": {},
     "output_type": "display_data"
    },
    {
     "data": {
      "application/vnd.jupyter.widget-view+json": {
       "model_id": "1f0d67077bb54f66b5e77ddc93ebc16c",
       "version_major": 2,
       "version_minor": 0
      },
      "text/plain": [
       "train-00010-of-00072.parquet:   0%|          | 0.00/530M [00:00<?, ?B/s]"
      ]
     },
     "metadata": {},
     "output_type": "display_data"
    },
    {
     "data": {
      "application/vnd.jupyter.widget-view+json": {
       "model_id": "3bcd3611b07c41b6854c85fbbf7c490c",
       "version_major": 2,
       "version_minor": 0
      },
      "text/plain": [
       "train-00011-of-00072.parquet:   0%|          | 0.00/539M [00:00<?, ?B/s]"
      ]
     },
     "metadata": {},
     "output_type": "display_data"
    },
    {
     "data": {
      "application/vnd.jupyter.widget-view+json": {
       "model_id": "3fcee06d0c3a4e9ba95ef608489d32ae",
       "version_major": 2,
       "version_minor": 0
      },
      "text/plain": [
       "train-00012-of-00072.parquet:   0%|          | 0.00/523M [00:00<?, ?B/s]"
      ]
     },
     "metadata": {},
     "output_type": "display_data"
    },
    {
     "data": {
      "application/vnd.jupyter.widget-view+json": {
       "model_id": "d87dd0b99f714e6ba11fc8fddffb8d36",
       "version_major": 2,
       "version_minor": 0
      },
      "text/plain": [
       "train-00013-of-00072.parquet:   0%|          | 0.00/555M [00:00<?, ?B/s]"
      ]
     },
     "metadata": {},
     "output_type": "display_data"
    },
    {
     "data": {
      "application/vnd.jupyter.widget-view+json": {
       "model_id": "dbee0d584c674b7d949ddd264ddf0664",
       "version_major": 2,
       "version_minor": 0
      },
      "text/plain": [
       "train-00014-of-00072.parquet:   0%|          | 0.00/453M [00:00<?, ?B/s]"
      ]
     },
     "metadata": {},
     "output_type": "display_data"
    },
    {
     "data": {
      "application/vnd.jupyter.widget-view+json": {
       "model_id": "90a73141fd4d42299efc0a486dc43600",
       "version_major": 2,
       "version_minor": 0
      },
      "text/plain": [
       "train-00015-of-00072.parquet:   0%|          | 0.00/563M [00:00<?, ?B/s]"
      ]
     },
     "metadata": {},
     "output_type": "display_data"
    },
    {
     "data": {
      "application/vnd.jupyter.widget-view+json": {
       "model_id": "2f09de4b9f754d40861ed8307b9a9a3d",
       "version_major": 2,
       "version_minor": 0
      },
      "text/plain": [
       "train-00016-of-00072.parquet:   0%|          | 0.00/510M [00:00<?, ?B/s]"
      ]
     },
     "metadata": {},
     "output_type": "display_data"
    },
    {
     "data": {
      "application/vnd.jupyter.widget-view+json": {
       "model_id": "3581ada32ccb4ff2a0c6da0d5529482b",
       "version_major": 2,
       "version_minor": 0
      },
      "text/plain": [
       "train-00017-of-00072.parquet:   0%|          | 0.00/459M [00:00<?, ?B/s]"
      ]
     },
     "metadata": {},
     "output_type": "display_data"
    },
    {
     "data": {
      "application/vnd.jupyter.widget-view+json": {
       "model_id": "16772fd1a4494e7887ae125ae8c49a04",
       "version_major": 2,
       "version_minor": 0
      },
      "text/plain": [
       "train-00018-of-00072.parquet:   0%|          | 0.00/457M [00:00<?, ?B/s]"
      ]
     },
     "metadata": {},
     "output_type": "display_data"
    },
    {
     "data": {
      "application/vnd.jupyter.widget-view+json": {
       "model_id": "b93831fab4444fcf9988f846d6b776cf",
       "version_major": 2,
       "version_minor": 0
      },
      "text/plain": [
       "train-00019-of-00072.parquet:   0%|          | 0.00/453M [00:00<?, ?B/s]"
      ]
     },
     "metadata": {},
     "output_type": "display_data"
    },
    {
     "data": {
      "application/vnd.jupyter.widget-view+json": {
       "model_id": "e77a6ee646424e3f8adbc3b86e486885",
       "version_major": 2,
       "version_minor": 0
      },
      "text/plain": [
       "train-00020-of-00072.parquet:   0%|          | 0.00/455M [00:00<?, ?B/s]"
      ]
     },
     "metadata": {},
     "output_type": "display_data"
    },
    {
     "data": {
      "application/vnd.jupyter.widget-view+json": {
       "model_id": "2121f705444d40adbdd9c27d908d2a63",
       "version_major": 2,
       "version_minor": 0
      },
      "text/plain": [
       "train-00021-of-00072.parquet:   0%|          | 0.00/456M [00:00<?, ?B/s]"
      ]
     },
     "metadata": {},
     "output_type": "display_data"
    },
    {
     "data": {
      "application/vnd.jupyter.widget-view+json": {
       "model_id": "11afc5ac14ab46fb9ffa2b79b2eb4dc9",
       "version_major": 2,
       "version_minor": 0
      },
      "text/plain": [
       "train-00022-of-00072.parquet:   0%|          | 0.00/448M [00:00<?, ?B/s]"
      ]
     },
     "metadata": {},
     "output_type": "display_data"
    },
    {
     "data": {
      "application/vnd.jupyter.widget-view+json": {
       "model_id": "acf77a23a2864854b25555dd3236a96f",
       "version_major": 2,
       "version_minor": 0
      },
      "text/plain": [
       "train-00023-of-00072.parquet:   0%|          | 0.00/453M [00:00<?, ?B/s]"
      ]
     },
     "metadata": {},
     "output_type": "display_data"
    },
    {
     "data": {
      "application/vnd.jupyter.widget-view+json": {
       "model_id": "6bc32c6caf2144bab5a4abba357b0979",
       "version_major": 2,
       "version_minor": 0
      },
      "text/plain": [
       "train-00024-of-00072.parquet:   0%|          | 0.00/444M [00:00<?, ?B/s]"
      ]
     },
     "metadata": {},
     "output_type": "display_data"
    },
    {
     "data": {
      "application/vnd.jupyter.widget-view+json": {
       "model_id": "489135874db2468c824ee992c8ced2b2",
       "version_major": 2,
       "version_minor": 0
      },
      "text/plain": [
       "train-00025-of-00072.parquet:   0%|          | 0.00/448M [00:00<?, ?B/s]"
      ]
     },
     "metadata": {},
     "output_type": "display_data"
    },
    {
     "data": {
      "application/vnd.jupyter.widget-view+json": {
       "model_id": "bf4c5f0463a446f1879b7c0cd868485d",
       "version_major": 2,
       "version_minor": 0
      },
      "text/plain": [
       "train-00026-of-00072.parquet:   0%|          | 0.00/464M [00:00<?, ?B/s]"
      ]
     },
     "metadata": {},
     "output_type": "display_data"
    },
    {
     "data": {
      "application/vnd.jupyter.widget-view+json": {
       "model_id": "066d65a46fe6463a963c1b4034155b34",
       "version_major": 2,
       "version_minor": 0
      },
      "text/plain": [
       "train-00027-of-00072.parquet:   0%|          | 0.00/455M [00:00<?, ?B/s]"
      ]
     },
     "metadata": {},
     "output_type": "display_data"
    },
    {
     "data": {
      "application/vnd.jupyter.widget-view+json": {
       "model_id": "77fe42cd0b59421f98ac61e2e67f0948",
       "version_major": 2,
       "version_minor": 0
      },
      "text/plain": [
       "train-00028-of-00072.parquet:   0%|          | 0.00/442M [00:00<?, ?B/s]"
      ]
     },
     "metadata": {},
     "output_type": "display_data"
    },
    {
     "data": {
      "application/vnd.jupyter.widget-view+json": {
       "model_id": "86a0e497b7164f0a94f288c9edf29ab1",
       "version_major": 2,
       "version_minor": 0
      },
      "text/plain": [
       "train-00029-of-00072.parquet:   0%|          | 0.00/449M [00:00<?, ?B/s]"
      ]
     },
     "metadata": {},
     "output_type": "display_data"
    },
    {
     "data": {
      "application/vnd.jupyter.widget-view+json": {
       "model_id": "e4fe121f23e64a9bbae55c2b74d64538",
       "version_major": 2,
       "version_minor": 0
      },
      "text/plain": [
       "train-00030-of-00072.parquet:   0%|          | 0.00/452M [00:00<?, ?B/s]"
      ]
     },
     "metadata": {},
     "output_type": "display_data"
    },
    {
     "data": {
      "application/vnd.jupyter.widget-view+json": {
       "model_id": "d3c2bf7ccc0a458a8d712a7c9dc8823d",
       "version_major": 2,
       "version_minor": 0
      },
      "text/plain": [
       "train-00031-of-00072.parquet:   0%|          | 0.00/450M [00:00<?, ?B/s]"
      ]
     },
     "metadata": {},
     "output_type": "display_data"
    },
    {
     "data": {
      "application/vnd.jupyter.widget-view+json": {
       "model_id": "42031d94a2e745638bcb41e80af23629",
       "version_major": 2,
       "version_minor": 0
      },
      "text/plain": [
       "train-00032-of-00072.parquet:   0%|          | 0.00/460M [00:00<?, ?B/s]"
      ]
     },
     "metadata": {},
     "output_type": "display_data"
    },
    {
     "data": {
      "application/vnd.jupyter.widget-view+json": {
       "model_id": "a530d204c56841a684c0080030ece1e5",
       "version_major": 2,
       "version_minor": 0
      },
      "text/plain": [
       "train-00033-of-00072.parquet:   0%|          | 0.00/455M [00:00<?, ?B/s]"
      ]
     },
     "metadata": {},
     "output_type": "display_data"
    },
    {
     "data": {
      "application/vnd.jupyter.widget-view+json": {
       "model_id": "17e08f0447b84b27ac579a85a2fba811",
       "version_major": 2,
       "version_minor": 0
      },
      "text/plain": [
       "train-00034-of-00072.parquet:   0%|          | 0.00/466M [00:00<?, ?B/s]"
      ]
     },
     "metadata": {},
     "output_type": "display_data"
    },
    {
     "data": {
      "application/vnd.jupyter.widget-view+json": {
       "model_id": "d967322c2d354f4987ea9e478f16e9a2",
       "version_major": 2,
       "version_minor": 0
      },
      "text/plain": [
       "train-00035-of-00072.parquet:   0%|          | 0.00/455M [00:00<?, ?B/s]"
      ]
     },
     "metadata": {},
     "output_type": "display_data"
    },
    {
     "data": {
      "application/vnd.jupyter.widget-view+json": {
       "model_id": "1beb87fa7a2c4d45a102f06faa758acf",
       "version_major": 2,
       "version_minor": 0
      },
      "text/plain": [
       "train-00036-of-00072.parquet:   0%|          | 0.00/446M [00:00<?, ?B/s]"
      ]
     },
     "metadata": {},
     "output_type": "display_data"
    },
    {
     "data": {
      "application/vnd.jupyter.widget-view+json": {
       "model_id": "e5e6e774c59a45e1baac39eb0932bbf6",
       "version_major": 2,
       "version_minor": 0
      },
      "text/plain": [
       "train-00037-of-00072.parquet:   0%|          | 0.00/453M [00:00<?, ?B/s]"
      ]
     },
     "metadata": {},
     "output_type": "display_data"
    },
    {
     "data": {
      "application/vnd.jupyter.widget-view+json": {
       "model_id": "fb18e83254fa4e9ca50daafdbf9882a9",
       "version_major": 2,
       "version_minor": 0
      },
      "text/plain": [
       "train-00038-of-00072.parquet:   0%|          | 0.00/454M [00:00<?, ?B/s]"
      ]
     },
     "metadata": {},
     "output_type": "display_data"
    },
    {
     "data": {
      "application/vnd.jupyter.widget-view+json": {
       "model_id": "5a79c619073f41c2a2d31c7da324ddfd",
       "version_major": 2,
       "version_minor": 0
      },
      "text/plain": [
       "train-00039-of-00072.parquet:   0%|          | 0.00/454M [00:00<?, ?B/s]"
      ]
     },
     "metadata": {},
     "output_type": "display_data"
    },
    {
     "data": {
      "application/vnd.jupyter.widget-view+json": {
       "model_id": "f1876eb750b242c6be2ef52d1d5e3c77",
       "version_major": 2,
       "version_minor": 0
      },
      "text/plain": [
       "train-00040-of-00072.parquet:   0%|          | 0.00/440M [00:00<?, ?B/s]"
      ]
     },
     "metadata": {},
     "output_type": "display_data"
    },
    {
     "data": {
      "application/vnd.jupyter.widget-view+json": {
       "model_id": "4df452a8e3354a5087dc212b3c45620c",
       "version_major": 2,
       "version_minor": 0
      },
      "text/plain": [
       "train-00041-of-00072.parquet:   0%|          | 0.00/455M [00:00<?, ?B/s]"
      ]
     },
     "metadata": {},
     "output_type": "display_data"
    },
    {
     "data": {
      "application/vnd.jupyter.widget-view+json": {
       "model_id": "17efe3d7908c4deeb53aaf71cac87957",
       "version_major": 2,
       "version_minor": 0
      },
      "text/plain": [
       "train-00042-of-00072.parquet:   0%|          | 0.00/446M [00:00<?, ?B/s]"
      ]
     },
     "metadata": {},
     "output_type": "display_data"
    },
    {
     "data": {
      "application/vnd.jupyter.widget-view+json": {
       "model_id": "acf6ebab9df94f5caa3c2008237c5995",
       "version_major": 2,
       "version_minor": 0
      },
      "text/plain": [
       "train-00043-of-00072.parquet:   0%|          | 0.00/473M [00:00<?, ?B/s]"
      ]
     },
     "metadata": {},
     "output_type": "display_data"
    },
    {
     "data": {
      "application/vnd.jupyter.widget-view+json": {
       "model_id": "12caff70046f4e59aad9b79b94a9fae5",
       "version_major": 2,
       "version_minor": 0
      },
      "text/plain": [
       "train-00044-of-00072.parquet:   0%|          | 0.00/451M [00:00<?, ?B/s]"
      ]
     },
     "metadata": {},
     "output_type": "display_data"
    },
    {
     "data": {
      "application/vnd.jupyter.widget-view+json": {
       "model_id": "de7fccabb7a44d8596abe62fae1d1bb4",
       "version_major": 2,
       "version_minor": 0
      },
      "text/plain": [
       "train-00045-of-00072.parquet:   0%|          | 0.00/452M [00:00<?, ?B/s]"
      ]
     },
     "metadata": {},
     "output_type": "display_data"
    },
    {
     "data": {
      "application/vnd.jupyter.widget-view+json": {
       "model_id": "0479a883001848a5a15f6ce3cbc71ff8",
       "version_major": 2,
       "version_minor": 0
      },
      "text/plain": [
       "train-00046-of-00072.parquet:   0%|          | 0.00/458M [00:00<?, ?B/s]"
      ]
     },
     "metadata": {},
     "output_type": "display_data"
    },
    {
     "data": {
      "application/vnd.jupyter.widget-view+json": {
       "model_id": "e45b861d32c0492b9e1573391cd77e28",
       "version_major": 2,
       "version_minor": 0
      },
      "text/plain": [
       "train-00047-of-00072.parquet:   0%|          | 0.00/481M [00:00<?, ?B/s]"
      ]
     },
     "metadata": {},
     "output_type": "display_data"
    },
    {
     "data": {
      "application/vnd.jupyter.widget-view+json": {
       "model_id": "ac42eddaa8874e82b51761176fcef078",
       "version_major": 2,
       "version_minor": 0
      },
      "text/plain": [
       "train-00048-of-00072.parquet:   0%|          | 0.00/491M [00:00<?, ?B/s]"
      ]
     },
     "metadata": {},
     "output_type": "display_data"
    },
    {
     "data": {
      "application/vnd.jupyter.widget-view+json": {
       "model_id": "e8d327b51171426f8e2c291be72897eb",
       "version_major": 2,
       "version_minor": 0
      },
      "text/plain": [
       "train-00049-of-00072.parquet:   0%|          | 0.00/489M [00:00<?, ?B/s]"
      ]
     },
     "metadata": {},
     "output_type": "display_data"
    },
    {
     "data": {
      "application/vnd.jupyter.widget-view+json": {
       "model_id": "629891dc95e24b8fb9c7e7253345d023",
       "version_major": 2,
       "version_minor": 0
      },
      "text/plain": [
       "train-00050-of-00072.parquet:   0%|          | 0.00/472M [00:00<?, ?B/s]"
      ]
     },
     "metadata": {},
     "output_type": "display_data"
    },
    {
     "data": {
      "application/vnd.jupyter.widget-view+json": {
       "model_id": "a5e4b0aef852477e81402df39605fd6d",
       "version_major": 2,
       "version_minor": 0
      },
      "text/plain": [
       "train-00051-of-00072.parquet:   0%|          | 0.00/515M [00:00<?, ?B/s]"
      ]
     },
     "metadata": {},
     "output_type": "display_data"
    },
    {
     "data": {
      "application/vnd.jupyter.widget-view+json": {
       "model_id": "d69c5389047c4b499f320ad134eacdc8",
       "version_major": 2,
       "version_minor": 0
      },
      "text/plain": [
       "train-00052-of-00072.parquet:   0%|          | 0.00/514M [00:00<?, ?B/s]"
      ]
     },
     "metadata": {},
     "output_type": "display_data"
    },
    {
     "data": {
      "application/vnd.jupyter.widget-view+json": {
       "model_id": "ae7482f650d1448e8b1011ab0793dfca",
       "version_major": 2,
       "version_minor": 0
      },
      "text/plain": [
       "train-00053-of-00072.parquet:   0%|          | 0.00/509M [00:00<?, ?B/s]"
      ]
     },
     "metadata": {},
     "output_type": "display_data"
    },
    {
     "data": {
      "application/vnd.jupyter.widget-view+json": {
       "model_id": "182d62411bd04ac996f92ab8eeaa8456",
       "version_major": 2,
       "version_minor": 0
      },
      "text/plain": [
       "train-00054-of-00072.parquet:   0%|          | 0.00/462M [00:00<?, ?B/s]"
      ]
     },
     "metadata": {},
     "output_type": "display_data"
    },
    {
     "data": {
      "application/vnd.jupyter.widget-view+json": {
       "model_id": "53cdabb44e6149538d4ac98a3be62ec4",
       "version_major": 2,
       "version_minor": 0
      },
      "text/plain": [
       "train-00055-of-00072.parquet:   0%|          | 0.00/453M [00:00<?, ?B/s]"
      ]
     },
     "metadata": {},
     "output_type": "display_data"
    },
    {
     "data": {
      "application/vnd.jupyter.widget-view+json": {
       "model_id": "e9fe6fdcd03d454f9274a7c0b3b8c8a7",
       "version_major": 2,
       "version_minor": 0
      },
      "text/plain": [
       "train-00056-of-00072.parquet:   0%|          | 0.00/414M [00:00<?, ?B/s]"
      ]
     },
     "metadata": {},
     "output_type": "display_data"
    },
    {
     "data": {
      "application/vnd.jupyter.widget-view+json": {
       "model_id": "76e4041c9c3642f392f28052557eeba8",
       "version_major": 2,
       "version_minor": 0
      },
      "text/plain": [
       "train-00057-of-00072.parquet:   0%|          | 0.00/405M [00:00<?, ?B/s]"
      ]
     },
     "metadata": {},
     "output_type": "display_data"
    },
    {
     "data": {
      "application/vnd.jupyter.widget-view+json": {
       "model_id": "2cdbb26e419445e4b076b55131b690a0",
       "version_major": 2,
       "version_minor": 0
      },
      "text/plain": [
       "train-00058-of-00072.parquet:   0%|          | 0.00/359M [00:00<?, ?B/s]"
      ]
     },
     "metadata": {},
     "output_type": "display_data"
    },
    {
     "data": {
      "application/vnd.jupyter.widget-view+json": {
       "model_id": "457b20f2458348828927b21154cd9cb8",
       "version_major": 2,
       "version_minor": 0
      },
      "text/plain": [
       "train-00059-of-00072.parquet:   0%|          | 0.00/304M [00:00<?, ?B/s]"
      ]
     },
     "metadata": {},
     "output_type": "display_data"
    },
    {
     "data": {
      "application/vnd.jupyter.widget-view+json": {
       "model_id": "3ae520db147d480289e9c3a2cc288211",
       "version_major": 2,
       "version_minor": 0
      },
      "text/plain": [
       "train-00060-of-00072.parquet:   0%|          | 0.00/449M [00:00<?, ?B/s]"
      ]
     },
     "metadata": {},
     "output_type": "display_data"
    },
    {
     "data": {
      "application/vnd.jupyter.widget-view+json": {
       "model_id": "661901d633454077bfd6fd52a987600c",
       "version_major": 2,
       "version_minor": 0
      },
      "text/plain": [
       "train-00061-of-00072.parquet:   0%|          | 0.00/438M [00:00<?, ?B/s]"
      ]
     },
     "metadata": {},
     "output_type": "display_data"
    },
    {
     "data": {
      "application/vnd.jupyter.widget-view+json": {
       "model_id": "6ddc73d7a79543a594f4fbc7099d3aa1",
       "version_major": 2,
       "version_minor": 0
      },
      "text/plain": [
       "train-00062-of-00072.parquet:   0%|          | 0.00/447M [00:00<?, ?B/s]"
      ]
     },
     "metadata": {},
     "output_type": "display_data"
    },
    {
     "data": {
      "application/vnd.jupyter.widget-view+json": {
       "model_id": "d01a7c6fa140490bb9f14e3e3e4baf5e",
       "version_major": 2,
       "version_minor": 0
      },
      "text/plain": [
       "train-00063-of-00072.parquet:   0%|          | 0.00/435M [00:00<?, ?B/s]"
      ]
     },
     "metadata": {},
     "output_type": "display_data"
    },
    {
     "data": {
      "application/vnd.jupyter.widget-view+json": {
       "model_id": "7efee182515143f695e0b8b06e8e9514",
       "version_major": 2,
       "version_minor": 0
      },
      "text/plain": [
       "train-00064-of-00072.parquet:   0%|          | 0.00/446M [00:00<?, ?B/s]"
      ]
     },
     "metadata": {},
     "output_type": "display_data"
    },
    {
     "data": {
      "application/vnd.jupyter.widget-view+json": {
       "model_id": "c30e98485990464a9c3ab95cd137fee7",
       "version_major": 2,
       "version_minor": 0
      },
      "text/plain": [
       "train-00065-of-00072.parquet:   0%|          | 0.00/439M [00:00<?, ?B/s]"
      ]
     },
     "metadata": {},
     "output_type": "display_data"
    },
    {
     "data": {
      "application/vnd.jupyter.widget-view+json": {
       "model_id": "93875aff1b6e4ceb8d76672c20b1f267",
       "version_major": 2,
       "version_minor": 0
      },
      "text/plain": [
       "train-00066-of-00072.parquet:   0%|          | 0.00/448M [00:00<?, ?B/s]"
      ]
     },
     "metadata": {},
     "output_type": "display_data"
    },
    {
     "data": {
      "application/vnd.jupyter.widget-view+json": {
       "model_id": "54a1a8fdbfc9477ca0b01be5a829db84",
       "version_major": 2,
       "version_minor": 0
      },
      "text/plain": [
       "train-00067-of-00072.parquet:   0%|          | 0.00/436M [00:00<?, ?B/s]"
      ]
     },
     "metadata": {},
     "output_type": "display_data"
    },
    {
     "data": {
      "application/vnd.jupyter.widget-view+json": {
       "model_id": "1c87c65038c04b72ab5dc2da95910ec1",
       "version_major": 2,
       "version_minor": 0
      },
      "text/plain": [
       "train-00068-of-00072.parquet:   0%|          | 0.00/474M [00:00<?, ?B/s]"
      ]
     },
     "metadata": {},
     "output_type": "display_data"
    },
    {
     "data": {
      "application/vnd.jupyter.widget-view+json": {
       "model_id": "0d0243338158428380f7e7de3efe9a0e",
       "version_major": 2,
       "version_minor": 0
      },
      "text/plain": [
       "train-00069-of-00072.parquet:   0%|          | 0.00/454M [00:00<?, ?B/s]"
      ]
     },
     "metadata": {},
     "output_type": "display_data"
    },
    {
     "data": {
      "application/vnd.jupyter.widget-view+json": {
       "model_id": "4ea4abbf4c3c431a8a47ae1f7b1fc944",
       "version_major": 2,
       "version_minor": 0
      },
      "text/plain": [
       "train-00070-of-00072.parquet:   0%|          | 0.00/486M [00:00<?, ?B/s]"
      ]
     },
     "metadata": {},
     "output_type": "display_data"
    },
    {
     "data": {
      "application/vnd.jupyter.widget-view+json": {
       "model_id": "b551cf2ead334021b2de3c8627c3bbb3",
       "version_major": 2,
       "version_minor": 0
      },
      "text/plain": [
       "train-00071-of-00072.parquet:   0%|          | 0.00/367M [00:00<?, ?B/s]"
      ]
     },
     "metadata": {},
     "output_type": "display_data"
    },
    {
     "data": {
      "application/vnd.jupyter.widget-view+json": {
       "model_id": "2cab1ecdf45640c1a57666ded9dc7252",
       "version_major": 2,
       "version_minor": 0
      },
      "text/plain": [
       "Generating train split:   0%|          | 0/81444 [00:00<?, ? examples/s]"
      ]
     },
     "metadata": {},
     "output_type": "display_data"
    },
    {
     "data": {
      "application/vnd.jupyter.widget-view+json": {
       "model_id": "484069e994ee43fab8b73a9c8be39e44",
       "version_major": 2,
       "version_minor": 0
      },
      "text/plain": [
       "Loading dataset shards:   0%|          | 0/45 [00:00<?, ?it/s]"
      ]
     },
     "metadata": {},
     "output_type": "display_data"
    }
   ],
   "source": [
    "ds = load_dataset(\"huggan/wikiart\")"
   ]
  },
  {
   "cell_type": "code",
   "execution_count": null,
   "id": "b65112f8-2ce9-4914-8f42-8c05f0ac5c04",
   "metadata": {},
   "outputs": [],
   "source": []
  }
 ],
 "metadata": {
  "kernelspec": {
   "display_name": "Python 3 (ipykernel)",
   "language": "python",
   "name": "python3"
  },
  "language_info": {
   "codemirror_mode": {
    "name": "ipython",
    "version": 3
   },
   "file_extension": ".py",
   "mimetype": "text/x-python",
   "name": "python",
   "nbconvert_exporter": "python",
   "pygments_lexer": "ipython3",
   "version": "3.11.5"
  }
 },
 "nbformat": 4,
 "nbformat_minor": 5
}
