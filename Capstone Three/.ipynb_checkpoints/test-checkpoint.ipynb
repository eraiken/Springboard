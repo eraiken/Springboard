{
 "cells": [
  {
   "cell_type": "code",
   "execution_count": 3,
   "id": "f018690c-d3e2-422c-8969-13c1fa2da508",
   "metadata": {},
   "outputs": [],
   "source": [
    "from datasets import load_dataset"
   ]
  },
  {
   "cell_type": "code",
   "execution_count": 4,
   "id": "e73751c2-adc5-451e-aa8b-76b1dd684e02",
   "metadata": {},
   "outputs": [
    {
     "data": {
      "application/vnd.jupyter.widget-view+json": {
       "model_id": "025a707b35624aaea898b10a7bdf6c77",
       "version_major": 2,
       "version_minor": 0
      },
      "text/plain": [
       "Resolving data files:   0%|          | 0/72 [00:00<?, ?it/s]"
      ]
     },
     "metadata": {},
     "output_type": "display_data"
    },
    {
     "data": {
      "application/vnd.jupyter.widget-view+json": {
       "model_id": "9f4664993f044a0e973e8e5a45c596f0",
       "version_major": 2,
       "version_minor": 0
      },
      "text/plain": [
       "Downloading data:   0%|          | 0/72 [00:00<?, ?files/s]"
      ]
     },
     "metadata": {},
     "output_type": "display_data"
    },
    {
     "data": {
      "application/vnd.jupyter.widget-view+json": {
       "model_id": "2f7da2f9bfdf446bbd7bf4fdcad94b11",
       "version_major": 2,
       "version_minor": 0
      },
      "text/plain": [
       "train-00004-of-00072.parquet:   6%|5         | 31.5M/532M [00:00<?, ?B/s]"
      ]
     },
     "metadata": {},
     "output_type": "display_data"
    },
    {
     "name": "stderr",
     "output_type": "stream",
     "text": [
      "C:\\Users\\jason\\anaconda3\\Lib\\site-packages\\huggingface_hub\\file_download.py:139: UserWarning: `huggingface_hub` cache-system uses symlinks by default to efficiently store duplicated files but your machine does not support them in C:\\Users\\jason\\.cache\\huggingface\\hub\\datasets--huggan--wikiart. Caching files will still work but in a degraded version that might require more space on your disk. This warning can be disabled by setting the `HF_HUB_DISABLE_SYMLINKS_WARNING` environment variable. For more details, see https://huggingface.co/docs/huggingface_hub/how-to-cache#limitations.\n",
      "To support symlinks on Windows, you either need to activate Developer Mode or to run Python as an administrator. In order to activate developer mode, see this article: https://docs.microsoft.com/en-us/windows/apps/get-started/enable-your-device-for-development\n",
      "  warnings.warn(message)\n"
     ]
    },
    {
     "data": {
      "application/vnd.jupyter.widget-view+json": {
       "model_id": "cd5a422eda3045ffaf8fc53d62827b77",
       "version_major": 2,
       "version_minor": 0
      },
      "text/plain": [
       "train-00005-of-00072.parquet:   0%|          | 0.00/519M [00:00<?, ?B/s]"
      ]
     },
     "metadata": {},
     "output_type": "display_data"
    },
    {
     "data": {
      "application/vnd.jupyter.widget-view+json": {
       "model_id": "00465556d2184379985ee3b03b3924ae",
       "version_major": 2,
       "version_minor": 0
      },
      "text/plain": [
       "train-00006-of-00072.parquet:   0%|          | 0.00/523M [00:00<?, ?B/s]"
      ]
     },
     "metadata": {},
     "output_type": "display_data"
    },
    {
     "data": {
      "application/vnd.jupyter.widget-view+json": {
       "model_id": "33f4da5d1aac489ebe0a6fffc59d1eb9",
       "version_major": 2,
       "version_minor": 0
      },
      "text/plain": [
       "train-00007-of-00072.parquet:   0%|          | 0.00/532M [00:00<?, ?B/s]"
      ]
     },
     "metadata": {},
     "output_type": "display_data"
    },
    {
     "data": {
      "application/vnd.jupyter.widget-view+json": {
       "model_id": "8500151a353944238bab60c7cd67938b",
       "version_major": 2,
       "version_minor": 0
      },
      "text/plain": [
       "train-00008-of-00072.parquet:   0%|          | 0.00/532M [00:00<?, ?B/s]"
      ]
     },
     "metadata": {},
     "output_type": "display_data"
    },
    {
     "data": {
      "application/vnd.jupyter.widget-view+json": {
       "model_id": "b70439ff853043fcbd2a3f9349085026",
       "version_major": 2,
       "version_minor": 0
      },
      "text/plain": [
       "train-00009-of-00072.parquet:   0%|          | 0.00/531M [00:00<?, ?B/s]"
      ]
     },
     "metadata": {},
     "output_type": "display_data"
    },
    {
     "data": {
      "application/vnd.jupyter.widget-view+json": {
       "model_id": "8fcf07910d77474b976d777fc67b1679",
       "version_major": 2,
       "version_minor": 0
      },
      "text/plain": [
       "train-00010-of-00072.parquet:   0%|          | 0.00/530M [00:00<?, ?B/s]"
      ]
     },
     "metadata": {},
     "output_type": "display_data"
    },
    {
     "data": {
      "application/vnd.jupyter.widget-view+json": {
       "model_id": "aa9e425acd8f4f8d9c343f4fd187fcb3",
       "version_major": 2,
       "version_minor": 0
      },
      "text/plain": [
       "train-00011-of-00072.parquet:   0%|          | 0.00/539M [00:00<?, ?B/s]"
      ]
     },
     "metadata": {},
     "output_type": "display_data"
    },
    {
     "data": {
      "application/vnd.jupyter.widget-view+json": {
       "model_id": "ab4ed52e7c3e46f1b2dfaa5566736eca",
       "version_major": 2,
       "version_minor": 0
      },
      "text/plain": [
       "train-00012-of-00072.parquet:   0%|          | 0.00/523M [00:00<?, ?B/s]"
      ]
     },
     "metadata": {},
     "output_type": "display_data"
    },
    {
     "data": {
      "application/vnd.jupyter.widget-view+json": {
       "model_id": "f02e444556c84b529c81674bdb94dfbc",
       "version_major": 2,
       "version_minor": 0
      },
      "text/plain": [
       "train-00013-of-00072.parquet:   0%|          | 0.00/555M [00:00<?, ?B/s]"
      ]
     },
     "metadata": {},
     "output_type": "display_data"
    },
    {
     "name": "stderr",
     "output_type": "stream",
     "text": [
      "Error while downloading from https://cdn-lfs.hf.co/repos/fc/7d/fc7dd99919d627e53ad085014d5634fe03e1b608f83dc9791b8cdfd5405b691e/82a1711781f1a214fc4e60bd47cd37dec11ebe2f5f13f75a1284212365ac8359?response-content-disposition=inline%3B+filename*%3DUTF-8%27%27train-00013-of-00072.parquet%3B+filename%3D%22train-00013-of-00072.parquet%22%3B&Expires=1729813594&Policy=eyJTdGF0ZW1lbnQiOlt7IkNvbmRpdGlvbiI6eyJEYXRlTGVzc1RoYW4iOnsiQVdTOkVwb2NoVGltZSI6MTcyOTgxMzU5NH19LCJSZXNvdXJjZSI6Imh0dHBzOi8vY2RuLWxmcy5oZi5jby9yZXBvcy9mYy83ZC9mYzdkZDk5OTE5ZDYyN2U1M2FkMDg1MDE0ZDU2MzRmZTAzZTFiNjA4ZjgzZGM5NzkxYjhjZGZkNTQwNWI2OTFlLzgyYTE3MTE3ODFmMWEyMTRmYzRlNjBiZDQ3Y2QzN2RlYzExZWJlMmY1ZjEzZjc1YTEyODQyMTIzNjVhYzgzNTk%7EcmVzcG9uc2UtY29udGVudC1kaXNwb3NpdGlvbj0qIn1dfQ__&Signature=MR7bfd07H%7EdlmGHy0edJaecfDIEqlcvLfIYMTiJQ2dOL4FqszPb8bxzp7GvKgHlebT2-P18scekrU9xYgMv5ci7YI6tf8z4OfG3gCKwDcSZHuURnL3-wMxNFMPI274AcSw7xQAOLG4WB4TJEwEMfzbaxaGBiEgeUEf6IZc3ijUQtDiqj-QXJtXh%7EAx69%7EzvCNxDwD7gZIvZDj8hVD2D1Fcwr787-qU5VZMYgOfWPyKwGMtgMryDgWalVTKodmA5aWmZspsYCDjNO2wnNNKOR1zBBjStsypITmGr%7E2KbBSQpzUTU%7EWq4qhwhDiVmzXMrTHvnJ8zSquKhd9gYWwcAAwQ__&Key-Pair-Id=K3RPWS32NSSJCE: HTTPSConnectionPool(host='cdn-lfs.hf.co', port=443): Read timed out.\n",
      "Trying to resume download...\n"
     ]
    },
    {
     "data": {
      "application/vnd.jupyter.widget-view+json": {
       "model_id": "b14070b2262e408887962988e612c223",
       "version_major": 2,
       "version_minor": 0
      },
      "text/plain": [
       "train-00013-of-00072.parquet:  83%|########3 | 461M/555M [00:00<?, ?B/s]"
      ]
     },
     "metadata": {},
     "output_type": "display_data"
    },
    {
     "data": {
      "application/vnd.jupyter.widget-view+json": {
       "model_id": "3110977d0b2546b384efcae6bba4c742",
       "version_major": 2,
       "version_minor": 0
      },
      "text/plain": [
       "train-00014-of-00072.parquet:   0%|          | 0.00/453M [00:00<?, ?B/s]"
      ]
     },
     "metadata": {},
     "output_type": "display_data"
    },
    {
     "data": {
      "application/vnd.jupyter.widget-view+json": {
       "model_id": "0753d3b986ef48b4aa2e72667a0cff28",
       "version_major": 2,
       "version_minor": 0
      },
      "text/plain": [
       "train-00015-of-00072.parquet:   0%|          | 0.00/563M [00:00<?, ?B/s]"
      ]
     },
     "metadata": {},
     "output_type": "display_data"
    },
    {
     "data": {
      "application/vnd.jupyter.widget-view+json": {
       "model_id": "93164692aa4b4b36979f5a73c86fd66f",
       "version_major": 2,
       "version_minor": 0
      },
      "text/plain": [
       "train-00016-of-00072.parquet:   0%|          | 0.00/510M [00:00<?, ?B/s]"
      ]
     },
     "metadata": {},
     "output_type": "display_data"
    },
    {
     "data": {
      "application/vnd.jupyter.widget-view+json": {
       "model_id": "029892452a8740b5915e776f1b04ff1d",
       "version_major": 2,
       "version_minor": 0
      },
      "text/plain": [
       "train-00017-of-00072.parquet:   0%|          | 0.00/459M [00:00<?, ?B/s]"
      ]
     },
     "metadata": {},
     "output_type": "display_data"
    },
    {
     "data": {
      "application/vnd.jupyter.widget-view+json": {
       "model_id": "6feb758f4363462ba828ab850eb7c604",
       "version_major": 2,
       "version_minor": 0
      },
      "text/plain": [
       "train-00018-of-00072.parquet:   0%|          | 0.00/457M [00:00<?, ?B/s]"
      ]
     },
     "metadata": {},
     "output_type": "display_data"
    },
    {
     "data": {
      "application/vnd.jupyter.widget-view+json": {
       "model_id": "ecd2617b2f574ce69b1798d2ea33e0eb",
       "version_major": 2,
       "version_minor": 0
      },
      "text/plain": [
       "train-00019-of-00072.parquet:   0%|          | 0.00/453M [00:00<?, ?B/s]"
      ]
     },
     "metadata": {},
     "output_type": "display_data"
    },
    {
     "data": {
      "application/vnd.jupyter.widget-view+json": {
       "model_id": "e4cb6b56a7f946178bec587082818883",
       "version_major": 2,
       "version_minor": 0
      },
      "text/plain": [
       "train-00020-of-00072.parquet:   0%|          | 0.00/455M [00:00<?, ?B/s]"
      ]
     },
     "metadata": {},
     "output_type": "display_data"
    },
    {
     "data": {
      "application/vnd.jupyter.widget-view+json": {
       "model_id": "50790655234b42838d7fc9f31c4e8171",
       "version_major": 2,
       "version_minor": 0
      },
      "text/plain": [
       "train-00021-of-00072.parquet:   0%|          | 0.00/456M [00:00<?, ?B/s]"
      ]
     },
     "metadata": {},
     "output_type": "display_data"
    },
    {
     "data": {
      "application/vnd.jupyter.widget-view+json": {
       "model_id": "b948db50176845789e1e66dd46873708",
       "version_major": 2,
       "version_minor": 0
      },
      "text/plain": [
       "train-00022-of-00072.parquet:   0%|          | 0.00/448M [00:00<?, ?B/s]"
      ]
     },
     "metadata": {},
     "output_type": "display_data"
    },
    {
     "data": {
      "application/vnd.jupyter.widget-view+json": {
       "model_id": "30cc449c96ba4b198e9f58c9094588d6",
       "version_major": 2,
       "version_minor": 0
      },
      "text/plain": [
       "train-00023-of-00072.parquet:   0%|          | 0.00/453M [00:00<?, ?B/s]"
      ]
     },
     "metadata": {},
     "output_type": "display_data"
    },
    {
     "data": {
      "application/vnd.jupyter.widget-view+json": {
       "model_id": "d73c4a6673ee48f8bd02db5e4a09ba9c",
       "version_major": 2,
       "version_minor": 0
      },
      "text/plain": [
       "train-00024-of-00072.parquet:   0%|          | 0.00/444M [00:00<?, ?B/s]"
      ]
     },
     "metadata": {},
     "output_type": "display_data"
    },
    {
     "data": {
      "application/vnd.jupyter.widget-view+json": {
       "model_id": "c960973cbd1f42d6867ffd8427bb42e3",
       "version_major": 2,
       "version_minor": 0
      },
      "text/plain": [
       "train-00025-of-00072.parquet:   0%|          | 0.00/448M [00:00<?, ?B/s]"
      ]
     },
     "metadata": {},
     "output_type": "display_data"
    },
    {
     "data": {
      "application/vnd.jupyter.widget-view+json": {
       "model_id": "52109faa59674a22ae0ca60287a2512e",
       "version_major": 2,
       "version_minor": 0
      },
      "text/plain": [
       "train-00026-of-00072.parquet:   0%|          | 0.00/464M [00:00<?, ?B/s]"
      ]
     },
     "metadata": {},
     "output_type": "display_data"
    },
    {
     "data": {
      "application/vnd.jupyter.widget-view+json": {
       "model_id": "d753626fc190402c8b691c340d10eb97",
       "version_major": 2,
       "version_minor": 0
      },
      "text/plain": [
       "train-00027-of-00072.parquet:   0%|          | 0.00/455M [00:00<?, ?B/s]"
      ]
     },
     "metadata": {},
     "output_type": "display_data"
    },
    {
     "data": {
      "application/vnd.jupyter.widget-view+json": {
       "model_id": "cfd9bc99c35a4c55aff84a50596767bc",
       "version_major": 2,
       "version_minor": 0
      },
      "text/plain": [
       "train-00028-of-00072.parquet:   0%|          | 0.00/442M [00:00<?, ?B/s]"
      ]
     },
     "metadata": {},
     "output_type": "display_data"
    },
    {
     "data": {
      "application/vnd.jupyter.widget-view+json": {
       "model_id": "eaede85719b34abfbab9cf089e3b8589",
       "version_major": 2,
       "version_minor": 0
      },
      "text/plain": [
       "train-00029-of-00072.parquet:   0%|          | 0.00/449M [00:00<?, ?B/s]"
      ]
     },
     "metadata": {},
     "output_type": "display_data"
    },
    {
     "data": {
      "application/vnd.jupyter.widget-view+json": {
       "model_id": "1b7e89a66aa24f629eb90fbf582d581a",
       "version_major": 2,
       "version_minor": 0
      },
      "text/plain": [
       "train-00030-of-00072.parquet:   0%|          | 0.00/452M [00:00<?, ?B/s]"
      ]
     },
     "metadata": {},
     "output_type": "display_data"
    },
    {
     "data": {
      "application/vnd.jupyter.widget-view+json": {
       "model_id": "7c949374f7a241549b4470b3b35b9eac",
       "version_major": 2,
       "version_minor": 0
      },
      "text/plain": [
       "train-00031-of-00072.parquet:   0%|          | 0.00/450M [00:00<?, ?B/s]"
      ]
     },
     "metadata": {},
     "output_type": "display_data"
    },
    {
     "data": {
      "application/vnd.jupyter.widget-view+json": {
       "model_id": "a4d41aa238454b36b5a8eb7069898886",
       "version_major": 2,
       "version_minor": 0
      },
      "text/plain": [
       "train-00032-of-00072.parquet:   0%|          | 0.00/460M [00:00<?, ?B/s]"
      ]
     },
     "metadata": {},
     "output_type": "display_data"
    },
    {
     "data": {
      "application/vnd.jupyter.widget-view+json": {
       "model_id": "4c38e97629c44e609de75b38b7760ca6",
       "version_major": 2,
       "version_minor": 0
      },
      "text/plain": [
       "train-00033-of-00072.parquet:   0%|          | 0.00/455M [00:00<?, ?B/s]"
      ]
     },
     "metadata": {},
     "output_type": "display_data"
    },
    {
     "data": {
      "application/vnd.jupyter.widget-view+json": {
       "model_id": "90364b5e39cd4c38aec2105f712c25e1",
       "version_major": 2,
       "version_minor": 0
      },
      "text/plain": [
       "train-00034-of-00072.parquet:   0%|          | 0.00/466M [00:00<?, ?B/s]"
      ]
     },
     "metadata": {},
     "output_type": "display_data"
    },
    {
     "data": {
      "application/vnd.jupyter.widget-view+json": {
       "model_id": "ae9eb864c8dd4da78cea6be4f037d934",
       "version_major": 2,
       "version_minor": 0
      },
      "text/plain": [
       "train-00035-of-00072.parquet:   0%|          | 0.00/455M [00:00<?, ?B/s]"
      ]
     },
     "metadata": {},
     "output_type": "display_data"
    },
    {
     "data": {
      "application/vnd.jupyter.widget-view+json": {
       "model_id": "53797f0965504e2cb51d3a6c5d15a8a7",
       "version_major": 2,
       "version_minor": 0
      },
      "text/plain": [
       "train-00036-of-00072.parquet:   0%|          | 0.00/446M [00:00<?, ?B/s]"
      ]
     },
     "metadata": {},
     "output_type": "display_data"
    },
    {
     "data": {
      "application/vnd.jupyter.widget-view+json": {
       "model_id": "1ed5ddcd5362458582a345248cfe7551",
       "version_major": 2,
       "version_minor": 0
      },
      "text/plain": [
       "train-00037-of-00072.parquet:   0%|          | 0.00/453M [00:00<?, ?B/s]"
      ]
     },
     "metadata": {},
     "output_type": "display_data"
    },
    {
     "data": {
      "application/vnd.jupyter.widget-view+json": {
       "model_id": "a76ee1a7ae854697966573a762e7705b",
       "version_major": 2,
       "version_minor": 0
      },
      "text/plain": [
       "train-00038-of-00072.parquet:   0%|          | 0.00/454M [00:00<?, ?B/s]"
      ]
     },
     "metadata": {},
     "output_type": "display_data"
    },
    {
     "data": {
      "application/vnd.jupyter.widget-view+json": {
       "model_id": "837a2245bd3147b8a37396809e3578ee",
       "version_major": 2,
       "version_minor": 0
      },
      "text/plain": [
       "train-00039-of-00072.parquet:   0%|          | 0.00/454M [00:00<?, ?B/s]"
      ]
     },
     "metadata": {},
     "output_type": "display_data"
    },
    {
     "data": {
      "application/vnd.jupyter.widget-view+json": {
       "model_id": "fc44c89c2bac488598170baa13d6a89e",
       "version_major": 2,
       "version_minor": 0
      },
      "text/plain": [
       "train-00040-of-00072.parquet:   0%|          | 0.00/440M [00:00<?, ?B/s]"
      ]
     },
     "metadata": {},
     "output_type": "display_data"
    },
    {
     "data": {
      "application/vnd.jupyter.widget-view+json": {
       "model_id": "ae1fe6f7e95c47418227b5e8ddcf6d20",
       "version_major": 2,
       "version_minor": 0
      },
      "text/plain": [
       "train-00041-of-00072.parquet:   0%|          | 0.00/455M [00:00<?, ?B/s]"
      ]
     },
     "metadata": {},
     "output_type": "display_data"
    },
    {
     "data": {
      "application/vnd.jupyter.widget-view+json": {
       "model_id": "bb196dff8d22495982b8bc5b7a72de71",
       "version_major": 2,
       "version_minor": 0
      },
      "text/plain": [
       "train-00042-of-00072.parquet:   0%|          | 0.00/446M [00:00<?, ?B/s]"
      ]
     },
     "metadata": {},
     "output_type": "display_data"
    },
    {
     "data": {
      "application/vnd.jupyter.widget-view+json": {
       "model_id": "34980144a1754eadb48fccb23d782f67",
       "version_major": 2,
       "version_minor": 0
      },
      "text/plain": [
       "train-00043-of-00072.parquet:   0%|          | 0.00/473M [00:00<?, ?B/s]"
      ]
     },
     "metadata": {},
     "output_type": "display_data"
    },
    {
     "data": {
      "application/vnd.jupyter.widget-view+json": {
       "model_id": "44603872f9e14b52a366700c0ddde230",
       "version_major": 2,
       "version_minor": 0
      },
      "text/plain": [
       "train-00044-of-00072.parquet:   0%|          | 0.00/451M [00:00<?, ?B/s]"
      ]
     },
     "metadata": {},
     "output_type": "display_data"
    },
    {
     "data": {
      "application/vnd.jupyter.widget-view+json": {
       "model_id": "7e320dab9069425ba855469d935de167",
       "version_major": 2,
       "version_minor": 0
      },
      "text/plain": [
       "train-00045-of-00072.parquet:   0%|          | 0.00/452M [00:00<?, ?B/s]"
      ]
     },
     "metadata": {},
     "output_type": "display_data"
    },
    {
     "data": {
      "application/vnd.jupyter.widget-view+json": {
       "model_id": "e6d9d026dc2d4f7e9aa96702724f2746",
       "version_major": 2,
       "version_minor": 0
      },
      "text/plain": [
       "train-00046-of-00072.parquet:   0%|          | 0.00/458M [00:00<?, ?B/s]"
      ]
     },
     "metadata": {},
     "output_type": "display_data"
    },
    {
     "data": {
      "application/vnd.jupyter.widget-view+json": {
       "model_id": "a9efaf5a73ea4bc3851cc2549bf2d671",
       "version_major": 2,
       "version_minor": 0
      },
      "text/plain": [
       "train-00047-of-00072.parquet:   0%|          | 0.00/481M [00:00<?, ?B/s]"
      ]
     },
     "metadata": {},
     "output_type": "display_data"
    },
    {
     "data": {
      "application/vnd.jupyter.widget-view+json": {
       "model_id": "11ae4e325c664a4b9796f6344c45869c",
       "version_major": 2,
       "version_minor": 0
      },
      "text/plain": [
       "train-00048-of-00072.parquet:   0%|          | 0.00/491M [00:00<?, ?B/s]"
      ]
     },
     "metadata": {},
     "output_type": "display_data"
    },
    {
     "data": {
      "application/vnd.jupyter.widget-view+json": {
       "model_id": "d46dbbe867794b3f8bc92cbb74ff3ca0",
       "version_major": 2,
       "version_minor": 0
      },
      "text/plain": [
       "train-00049-of-00072.parquet:   0%|          | 0.00/489M [00:00<?, ?B/s]"
      ]
     },
     "metadata": {},
     "output_type": "display_data"
    },
    {
     "data": {
      "application/vnd.jupyter.widget-view+json": {
       "model_id": "d270866e273f42be9d4ace5a7e75355c",
       "version_major": 2,
       "version_minor": 0
      },
      "text/plain": [
       "train-00050-of-00072.parquet:   0%|          | 0.00/472M [00:00<?, ?B/s]"
      ]
     },
     "metadata": {},
     "output_type": "display_data"
    },
    {
     "data": {
      "application/vnd.jupyter.widget-view+json": {
       "model_id": "62dbb59cf89f4fa6bc7f1ce57a717a18",
       "version_major": 2,
       "version_minor": 0
      },
      "text/plain": [
       "train-00051-of-00072.parquet:   0%|          | 0.00/515M [00:00<?, ?B/s]"
      ]
     },
     "metadata": {},
     "output_type": "display_data"
    },
    {
     "data": {
      "application/vnd.jupyter.widget-view+json": {
       "model_id": "0923c14bc1444d799a3718e3a1da4344",
       "version_major": 2,
       "version_minor": 0
      },
      "text/plain": [
       "train-00052-of-00072.parquet:   0%|          | 0.00/514M [00:00<?, ?B/s]"
      ]
     },
     "metadata": {},
     "output_type": "display_data"
    },
    {
     "data": {
      "application/vnd.jupyter.widget-view+json": {
       "model_id": "0428c9ae131641f8aa087464b58a7024",
       "version_major": 2,
       "version_minor": 0
      },
      "text/plain": [
       "train-00053-of-00072.parquet:   0%|          | 0.00/509M [00:00<?, ?B/s]"
      ]
     },
     "metadata": {},
     "output_type": "display_data"
    },
    {
     "data": {
      "application/vnd.jupyter.widget-view+json": {
       "model_id": "f96121ff08d547e59bc3ac2490671c41",
       "version_major": 2,
       "version_minor": 0
      },
      "text/plain": [
       "train-00054-of-00072.parquet:   0%|          | 0.00/462M [00:00<?, ?B/s]"
      ]
     },
     "metadata": {},
     "output_type": "display_data"
    },
    {
     "data": {
      "application/vnd.jupyter.widget-view+json": {
       "model_id": "64fde995fec64e12ba5f442d52f06667",
       "version_major": 2,
       "version_minor": 0
      },
      "text/plain": [
       "train-00055-of-00072.parquet:   0%|          | 0.00/453M [00:00<?, ?B/s]"
      ]
     },
     "metadata": {},
     "output_type": "display_data"
    },
    {
     "data": {
      "application/vnd.jupyter.widget-view+json": {
       "model_id": "0f27954764f340598982fc755f1b7a14",
       "version_major": 2,
       "version_minor": 0
      },
      "text/plain": [
       "train-00056-of-00072.parquet:   0%|          | 0.00/414M [00:00<?, ?B/s]"
      ]
     },
     "metadata": {},
     "output_type": "display_data"
    },
    {
     "data": {
      "application/vnd.jupyter.widget-view+json": {
       "model_id": "e6073aa180e14cefae612ef6e5407b4b",
       "version_major": 2,
       "version_minor": 0
      },
      "text/plain": [
       "train-00057-of-00072.parquet:   0%|          | 0.00/405M [00:00<?, ?B/s]"
      ]
     },
     "metadata": {},
     "output_type": "display_data"
    },
    {
     "data": {
      "application/vnd.jupyter.widget-view+json": {
       "model_id": "78977a802cb64b10a784b7fefc31d67d",
       "version_major": 2,
       "version_minor": 0
      },
      "text/plain": [
       "train-00058-of-00072.parquet:   0%|          | 0.00/359M [00:00<?, ?B/s]"
      ]
     },
     "metadata": {},
     "output_type": "display_data"
    },
    {
     "data": {
      "application/vnd.jupyter.widget-view+json": {
       "model_id": "ffc87fa181c94c9a91975967477622f3",
       "version_major": 2,
       "version_minor": 0
      },
      "text/plain": [
       "train-00059-of-00072.parquet:   0%|          | 0.00/304M [00:00<?, ?B/s]"
      ]
     },
     "metadata": {},
     "output_type": "display_data"
    },
    {
     "data": {
      "application/vnd.jupyter.widget-view+json": {
       "model_id": "328650d0153a4b12a9b643254b4f13dc",
       "version_major": 2,
       "version_minor": 0
      },
      "text/plain": [
       "train-00060-of-00072.parquet:   0%|          | 0.00/449M [00:00<?, ?B/s]"
      ]
     },
     "metadata": {},
     "output_type": "display_data"
    },
    {
     "data": {
      "application/vnd.jupyter.widget-view+json": {
       "model_id": "0f82bb2ebd1c44c8bb2b0abe2e41787c",
       "version_major": 2,
       "version_minor": 0
      },
      "text/plain": [
       "train-00061-of-00072.parquet:   0%|          | 0.00/438M [00:00<?, ?B/s]"
      ]
     },
     "metadata": {},
     "output_type": "display_data"
    },
    {
     "data": {
      "application/vnd.jupyter.widget-view+json": {
       "model_id": "73870062c6a646abbeb0af36fe21ddec",
       "version_major": 2,
       "version_minor": 0
      },
      "text/plain": [
       "train-00062-of-00072.parquet:   0%|          | 0.00/447M [00:00<?, ?B/s]"
      ]
     },
     "metadata": {},
     "output_type": "display_data"
    },
    {
     "data": {
      "application/vnd.jupyter.widget-view+json": {
       "model_id": "ba87806c272242ce90dd2931ff072e5a",
       "version_major": 2,
       "version_minor": 0
      },
      "text/plain": [
       "train-00063-of-00072.parquet:   0%|          | 0.00/435M [00:00<?, ?B/s]"
      ]
     },
     "metadata": {},
     "output_type": "display_data"
    },
    {
     "data": {
      "application/vnd.jupyter.widget-view+json": {
       "model_id": "6e5b843e9ac24c4a9d7104bbfc9248f5",
       "version_major": 2,
       "version_minor": 0
      },
      "text/plain": [
       "train-00064-of-00072.parquet:   0%|          | 0.00/446M [00:00<?, ?B/s]"
      ]
     },
     "metadata": {},
     "output_type": "display_data"
    },
    {
     "data": {
      "application/vnd.jupyter.widget-view+json": {
       "model_id": "ddb57c1b7a504e95a792a8f6589dfc03",
       "version_major": 2,
       "version_minor": 0
      },
      "text/plain": [
       "train-00065-of-00072.parquet:   0%|          | 0.00/439M [00:00<?, ?B/s]"
      ]
     },
     "metadata": {},
     "output_type": "display_data"
    },
    {
     "data": {
      "application/vnd.jupyter.widget-view+json": {
       "model_id": "5c6427aba99847c395e9d587f7bc773c",
       "version_major": 2,
       "version_minor": 0
      },
      "text/plain": [
       "train-00066-of-00072.parquet:   0%|          | 0.00/448M [00:00<?, ?B/s]"
      ]
     },
     "metadata": {},
     "output_type": "display_data"
    },
    {
     "data": {
      "application/vnd.jupyter.widget-view+json": {
       "model_id": "8c2f89ce9ba64ed8ab0b7400a5458d94",
       "version_major": 2,
       "version_minor": 0
      },
      "text/plain": [
       "train-00067-of-00072.parquet:   0%|          | 0.00/436M [00:00<?, ?B/s]"
      ]
     },
     "metadata": {},
     "output_type": "display_data"
    },
    {
     "data": {
      "application/vnd.jupyter.widget-view+json": {
       "model_id": "01fbbe0bafae414780db3bc541dc54c3",
       "version_major": 2,
       "version_minor": 0
      },
      "text/plain": [
       "train-00068-of-00072.parquet:   0%|          | 0.00/474M [00:00<?, ?B/s]"
      ]
     },
     "metadata": {},
     "output_type": "display_data"
    },
    {
     "data": {
      "application/vnd.jupyter.widget-view+json": {
       "model_id": "0c290feaa3f74d98ac2883a0b153bad5",
       "version_major": 2,
       "version_minor": 0
      },
      "text/plain": [
       "train-00069-of-00072.parquet:   0%|          | 0.00/454M [00:00<?, ?B/s]"
      ]
     },
     "metadata": {},
     "output_type": "display_data"
    },
    {
     "data": {
      "application/vnd.jupyter.widget-view+json": {
       "model_id": "1929c99d037e404c9170e852593c8115",
       "version_major": 2,
       "version_minor": 0
      },
      "text/plain": [
       "train-00070-of-00072.parquet:   0%|          | 0.00/486M [00:00<?, ?B/s]"
      ]
     },
     "metadata": {},
     "output_type": "display_data"
    },
    {
     "data": {
      "application/vnd.jupyter.widget-view+json": {
       "model_id": "6b7d4618a5ec4f83a9fa84b8e3e0f428",
       "version_major": 2,
       "version_minor": 0
      },
      "text/plain": [
       "train-00071-of-00072.parquet:   0%|          | 0.00/367M [00:00<?, ?B/s]"
      ]
     },
     "metadata": {},
     "output_type": "display_data"
    },
    {
     "data": {
      "application/vnd.jupyter.widget-view+json": {
       "model_id": "eb924ce22de44a74919da7ff70279fb5",
       "version_major": 2,
       "version_minor": 0
      },
      "text/plain": [
       "Generating train split:   0%|          | 0/81444 [00:00<?, ? examples/s]"
      ]
     },
     "metadata": {},
     "output_type": "display_data"
    },
    {
     "data": {
      "application/vnd.jupyter.widget-view+json": {
       "model_id": "382bfe69edc24f3bb08ee25427a06b05",
       "version_major": 2,
       "version_minor": 0
      },
      "text/plain": [
       "Loading dataset shards:   0%|          | 0/45 [00:00<?, ?it/s]"
      ]
     },
     "metadata": {},
     "output_type": "display_data"
    }
   ],
   "source": [
    "ds = load_dataset(\"huggan/wikiart\")"
   ]
  },
  {
   "cell_type": "code",
   "execution_count": null,
   "id": "b65112f8-2ce9-4914-8f42-8c05f0ac5c04",
   "metadata": {},
   "outputs": [],
   "source": []
  }
 ],
 "metadata": {
  "kernelspec": {
   "display_name": "Python 3 (ipykernel)",
   "language": "python",
   "name": "python3"
  },
  "language_info": {
   "codemirror_mode": {
    "name": "ipython",
    "version": 3
   },
   "file_extension": ".py",
   "mimetype": "text/x-python",
   "name": "python",
   "nbconvert_exporter": "python",
   "pygments_lexer": "ipython3",
   "version": "3.12.4"
  }
 },
 "nbformat": 4,
 "nbformat_minor": 5
}
