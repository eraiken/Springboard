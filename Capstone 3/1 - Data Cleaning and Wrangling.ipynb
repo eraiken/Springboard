{
 "cells": [
  {
   "cell_type": "markdown",
   "id": "3ef2f9f8",
   "metadata": {},
   "source": [
    "# Capstone 3 - Data Cleaning & Wrangling"
   ]
  },
  {
   "cell_type": "markdown",
   "id": "021e5b6a",
   "metadata": {},
   "source": [
    "### Table of contents\n",
    "\n",
    "* [Motivation](#motivation)\n",
    "    * [Preparation](#preparation)\n",
    "* [Cleaning & wrangling](#cleaning)\n",
    "    * [SONYC data](#sonyc)\n",
    "        * [Initial cleaning](#sonyc-initial)\n",
    "        * [Dates](#sonyc-dates)\n",
    "        * [Sound taxonomy](#sound-tax)\n",
    "        * [Audio files](#audio-files)\n",
    "            * [Presence columns](#presence-cols)\n",
    "            * [Proximity columns](#proximity-cols)\n",
    "        * [Coordinate data](#coordinate-data)\n",
    "    * [School district shapefile](#sdshp)\n",
    "    * [School points shapefile](#spshp)\n",
    "    * [Building a map](#map)\n",
    "        * [Closest schools](#closest-schools)\n",
    "        * [Map of schools within coverage area](#coverage-map)\n",
    "    * [School quality reports](#school-quality)\n",
    "        * [Load school quality reports](#load-quality-data)\n",
    "        * [Combining school metrics](#combine-school-metrics)\n",
    "* [Initial EDA](#initial-eda)\n",
    "* [Final data cleaning before saving](#final-cleaning)\n",
    "    * [Data validation](#data-validation)\n",
    "    * [Check for overlap](#check-overlap)\n",
    "    * [Data range validation](#data-range-validation)\n",
    "    * [Check temporal coverage](#temporal-coverage)\n",
    "* [Conclusion](#conclusion)\n",
    "    * [Save data](#save-data)"
   ]
  },
  {
   "cell_type": "markdown",
   "id": "4790789c",
   "metadata": {},
   "source": [
    "## Motivation <a name=\"motivation\"></a>\n",
    "This project aims to understand how environmental noise has affected school performance in New York City between the years 2016 and 2019."
   ]
  },
  {
   "cell_type": "markdown",
   "id": "441d4092",
   "metadata": {},
   "source": [
    "### Preparation <a name=\"preparation\"></a>\n",
    "Import relevant packages"
   ]
  },
  {
   "cell_type": "code",
   "execution_count": 1,
   "id": "f70b4879",
   "metadata": {},
   "outputs": [],
   "source": [
    "import pandas as pd\n",
    "import numpy as np\n",
    "import matplotlib.pyplot as plt\n",
    "import seaborn as sns\n",
    "\n",
    "from datetime import datetime, timedelta\n",
    "\n",
    "import geopandas as gpd\n",
    "from shapely.geometry import Point"
   ]
  },
  {
   "cell_type": "markdown",
   "id": "0ddeda49",
   "metadata": {},
   "source": [
    "# Cleaning & wrangling <a name=\"cleaning\"></a>"
   ]
  },
  {
   "cell_type": "markdown",
   "id": "9d85f1fd",
   "metadata": {},
   "source": [
    "## SONYC data <a name=\"sonyc\"></a>\n",
    "\n",
    "We are using the dataset SONYC-UST v2.3, obtained from the [SONYC website](https://wp.nyu.edu/sonyc/resources/).\n",
    "\n",
    "Documentation [here](https://zenodo.org/records/3966543)."
   ]
  },
  {
   "cell_type": "code",
   "execution_count": 2,
   "id": "c3fb8ca3",
   "metadata": {},
   "outputs": [],
   "source": [
    "# Load SONYC data\n",
    "noise_data = pd.read_csv(\"annotations.csv\")"
   ]
  },
  {
   "cell_type": "code",
   "execution_count": 3,
   "id": "3b077539",
   "metadata": {},
   "outputs": [
    {
     "data": {
      "text/html": [
       "<div>\n",
       "<style scoped>\n",
       "    .dataframe tbody tr th:only-of-type {\n",
       "        vertical-align: middle;\n",
       "    }\n",
       "\n",
       "    .dataframe tbody tr th {\n",
       "        vertical-align: top;\n",
       "    }\n",
       "\n",
       "    .dataframe thead th {\n",
       "        text-align: right;\n",
       "    }\n",
       "</style>\n",
       "<table border=\"1\" class=\"dataframe\">\n",
       "  <thead>\n",
       "    <tr style=\"text-align: right;\">\n",
       "      <th></th>\n",
       "      <th>split</th>\n",
       "      <th>sensor_id</th>\n",
       "      <th>audio_filename</th>\n",
       "      <th>annotator_id</th>\n",
       "      <th>borough</th>\n",
       "      <th>block</th>\n",
       "      <th>latitude</th>\n",
       "      <th>longitude</th>\n",
       "      <th>year</th>\n",
       "      <th>week</th>\n",
       "      <th>...</th>\n",
       "      <th>7-X_other-unknown-human-voice_proximity</th>\n",
       "      <th>8-1_dog-barking-whining_proximity</th>\n",
       "      <th>1_engine_presence</th>\n",
       "      <th>2_machinery-impact_presence</th>\n",
       "      <th>3_non-machinery-impact_presence</th>\n",
       "      <th>4_powered-saw_presence</th>\n",
       "      <th>5_alert-signal_presence</th>\n",
       "      <th>6_music_presence</th>\n",
       "      <th>7_human-voice_presence</th>\n",
       "      <th>8_dog_presence</th>\n",
       "    </tr>\n",
       "  </thead>\n",
       "  <tbody>\n",
       "    <tr>\n",
       "      <th>0</th>\n",
       "      <td>test</td>\n",
       "      <td>0</td>\n",
       "      <td>00_026884.wav</td>\n",
       "      <td>-6</td>\n",
       "      <td>1</td>\n",
       "      <td>547</td>\n",
       "      <td>40.72951</td>\n",
       "      <td>-73.99388</td>\n",
       "      <td>2019</td>\n",
       "      <td>43</td>\n",
       "      <td>...</td>\n",
       "      <td>-1</td>\n",
       "      <td>-1</td>\n",
       "      <td>-1</td>\n",
       "      <td>1</td>\n",
       "      <td>0</td>\n",
       "      <td>-1</td>\n",
       "      <td>-1</td>\n",
       "      <td>-1</td>\n",
       "      <td>-1</td>\n",
       "      <td>-1</td>\n",
       "    </tr>\n",
       "    <tr>\n",
       "      <th>1</th>\n",
       "      <td>test</td>\n",
       "      <td>0</td>\n",
       "      <td>00_026884.wav</td>\n",
       "      <td>-4</td>\n",
       "      <td>1</td>\n",
       "      <td>547</td>\n",
       "      <td>40.72951</td>\n",
       "      <td>-73.99388</td>\n",
       "      <td>2019</td>\n",
       "      <td>43</td>\n",
       "      <td>...</td>\n",
       "      <td>-1</td>\n",
       "      <td>-1</td>\n",
       "      <td>1</td>\n",
       "      <td>-1</td>\n",
       "      <td>-1</td>\n",
       "      <td>-1</td>\n",
       "      <td>-1</td>\n",
       "      <td>-1</td>\n",
       "      <td>-1</td>\n",
       "      <td>-1</td>\n",
       "    </tr>\n",
       "    <tr>\n",
       "      <th>2</th>\n",
       "      <td>test</td>\n",
       "      <td>0</td>\n",
       "      <td>00_026884.wav</td>\n",
       "      <td>-3</td>\n",
       "      <td>1</td>\n",
       "      <td>547</td>\n",
       "      <td>40.72951</td>\n",
       "      <td>-73.99388</td>\n",
       "      <td>2019</td>\n",
       "      <td>43</td>\n",
       "      <td>...</td>\n",
       "      <td>-1</td>\n",
       "      <td>-1</td>\n",
       "      <td>1</td>\n",
       "      <td>-1</td>\n",
       "      <td>-1</td>\n",
       "      <td>-1</td>\n",
       "      <td>-1</td>\n",
       "      <td>-1</td>\n",
       "      <td>-1</td>\n",
       "      <td>-1</td>\n",
       "    </tr>\n",
       "    <tr>\n",
       "      <th>3</th>\n",
       "      <td>test</td>\n",
       "      <td>0</td>\n",
       "      <td>00_026884.wav</td>\n",
       "      <td>-1</td>\n",
       "      <td>1</td>\n",
       "      <td>547</td>\n",
       "      <td>40.72951</td>\n",
       "      <td>-73.99388</td>\n",
       "      <td>2019</td>\n",
       "      <td>43</td>\n",
       "      <td>...</td>\n",
       "      <td>-1</td>\n",
       "      <td>-1</td>\n",
       "      <td>-1</td>\n",
       "      <td>0</td>\n",
       "      <td>0</td>\n",
       "      <td>-1</td>\n",
       "      <td>-1</td>\n",
       "      <td>-1</td>\n",
       "      <td>-1</td>\n",
       "      <td>-1</td>\n",
       "    </tr>\n",
       "    <tr>\n",
       "      <th>4</th>\n",
       "      <td>test</td>\n",
       "      <td>0</td>\n",
       "      <td>00_026884.wav</td>\n",
       "      <td>0</td>\n",
       "      <td>1</td>\n",
       "      <td>547</td>\n",
       "      <td>40.72951</td>\n",
       "      <td>-73.99388</td>\n",
       "      <td>2019</td>\n",
       "      <td>43</td>\n",
       "      <td>...</td>\n",
       "      <td>-1</td>\n",
       "      <td>-1</td>\n",
       "      <td>1</td>\n",
       "      <td>0</td>\n",
       "      <td>1</td>\n",
       "      <td>0</td>\n",
       "      <td>0</td>\n",
       "      <td>0</td>\n",
       "      <td>0</td>\n",
       "      <td>0</td>\n",
       "    </tr>\n",
       "  </tbody>\n",
       "</table>\n",
       "<p>5 rows × 78 columns</p>\n",
       "</div>"
      ],
      "text/plain": [
       "  split  sensor_id audio_filename  annotator_id  borough  block  latitude  \\\n",
       "0  test          0  00_026884.wav            -6        1    547  40.72951   \n",
       "1  test          0  00_026884.wav            -4        1    547  40.72951   \n",
       "2  test          0  00_026884.wav            -3        1    547  40.72951   \n",
       "3  test          0  00_026884.wav            -1        1    547  40.72951   \n",
       "4  test          0  00_026884.wav             0        1    547  40.72951   \n",
       "\n",
       "   longitude  year  week  ...  7-X_other-unknown-human-voice_proximity  \\\n",
       "0  -73.99388  2019    43  ...                                       -1   \n",
       "1  -73.99388  2019    43  ...                                       -1   \n",
       "2  -73.99388  2019    43  ...                                       -1   \n",
       "3  -73.99388  2019    43  ...                                       -1   \n",
       "4  -73.99388  2019    43  ...                                       -1   \n",
       "\n",
       "   8-1_dog-barking-whining_proximity  1_engine_presence  \\\n",
       "0                                 -1                 -1   \n",
       "1                                 -1                  1   \n",
       "2                                 -1                  1   \n",
       "3                                 -1                 -1   \n",
       "4                                 -1                  1   \n",
       "\n",
       "   2_machinery-impact_presence  3_non-machinery-impact_presence  \\\n",
       "0                            1                                0   \n",
       "1                           -1                               -1   \n",
       "2                           -1                               -1   \n",
       "3                            0                                0   \n",
       "4                            0                                1   \n",
       "\n",
       "   4_powered-saw_presence  5_alert-signal_presence  6_music_presence  \\\n",
       "0                      -1                       -1                -1   \n",
       "1                      -1                       -1                -1   \n",
       "2                      -1                       -1                -1   \n",
       "3                      -1                       -1                -1   \n",
       "4                       0                        0                 0   \n",
       "\n",
       "   7_human-voice_presence  8_dog_presence  \n",
       "0                      -1              -1  \n",
       "1                      -1              -1  \n",
       "2                      -1              -1  \n",
       "3                      -1              -1  \n",
       "4                       0               0  \n",
       "\n",
       "[5 rows x 78 columns]"
      ]
     },
     "execution_count": 3,
     "metadata": {},
     "output_type": "execute_result"
    }
   ],
   "source": [
    "# Check dataframe\n",
    "noise_data.head()"
   ]
  },
  {
   "cell_type": "code",
   "execution_count": 4,
   "id": "3c7788a9",
   "metadata": {
    "scrolled": true
   },
   "outputs": [
    {
     "name": "stdout",
     "output_type": "stream",
     "text": [
      "<class 'pandas.core.frame.DataFrame'>\n",
      "RangeIndex: 62022 entries, 0 to 62021\n",
      "Data columns (total 78 columns):\n",
      " #   Column                                        Non-Null Count  Dtype  \n",
      "---  ------                                        --------------  -----  \n",
      " 0   split                                         62022 non-null  object \n",
      " 1   sensor_id                                     62022 non-null  int64  \n",
      " 2   audio_filename                                62022 non-null  object \n",
      " 3   annotator_id                                  62022 non-null  int64  \n",
      " 4   borough                                       62022 non-null  int64  \n",
      " 5   block                                         62022 non-null  int64  \n",
      " 6   latitude                                      62022 non-null  float64\n",
      " 7   longitude                                     62022 non-null  float64\n",
      " 8   year                                          62022 non-null  int64  \n",
      " 9   week                                          62022 non-null  int64  \n",
      " 10  day                                           62022 non-null  int64  \n",
      " 11  hour                                          62022 non-null  int64  \n",
      " 12  1-1_small-sounding-engine_presence            62022 non-null  int64  \n",
      " 13  1-2_medium-sounding-engine_presence           62022 non-null  int64  \n",
      " 14  1-3_large-sounding-engine_presence            62022 non-null  int64  \n",
      " 15  1-X_engine-of-uncertain-size_presence         62022 non-null  int64  \n",
      " 16  2-1_rock-drill_presence                       62022 non-null  int64  \n",
      " 17  2-2_jackhammer_presence                       62022 non-null  int64  \n",
      " 18  2-3_hoe-ram_presence                          62022 non-null  int64  \n",
      " 19  2-4_pile-driver_presence                      62022 non-null  int64  \n",
      " 20  2-X_other-unknown-impact-machinery_presence   62022 non-null  int64  \n",
      " 21  3-1_non-machinery-impact_presence             62022 non-null  int64  \n",
      " 22  4-1_chainsaw_presence                         62022 non-null  int64  \n",
      " 23  4-2_small-medium-rotating-saw_presence        62022 non-null  int64  \n",
      " 24  4-3_large-rotating-saw_presence               62022 non-null  int64  \n",
      " 25  4-X_other-unknown-powered-saw_presence        62022 non-null  int64  \n",
      " 26  5-1_car-horn_presence                         62022 non-null  int64  \n",
      " 27  5-2_car-alarm_presence                        62022 non-null  int64  \n",
      " 28  5-3_siren_presence                            62022 non-null  int64  \n",
      " 29  5-4_reverse-beeper_presence                   62022 non-null  int64  \n",
      " 30  5-X_other-unknown-alert-signal_presence       62022 non-null  int64  \n",
      " 31  6-1_stationary-music_presence                 62022 non-null  int64  \n",
      " 32  6-2_mobile-music_presence                     62022 non-null  int64  \n",
      " 33  6-3_ice-cream-truck_presence                  62022 non-null  int64  \n",
      " 34  6-X_music-from-uncertain-source_presence      62022 non-null  int64  \n",
      " 35  7-1_person-or-small-group-talking_presence    62022 non-null  int64  \n",
      " 36  7-2_person-or-small-group-shouting_presence   62022 non-null  int64  \n",
      " 37  7-3_large-crowd_presence                      62022 non-null  int64  \n",
      " 38  7-4_amplified-speech_presence                 62022 non-null  int64  \n",
      " 39  7-X_other-unknown-human-voice_presence        62022 non-null  int64  \n",
      " 40  8-1_dog-barking-whining_presence              62022 non-null  int64  \n",
      " 41  1-1_small-sounding-engine_proximity           62022 non-null  object \n",
      " 42  1-2_medium-sounding-engine_proximity          62022 non-null  object \n",
      " 43  1-3_large-sounding-engine_proximity           62022 non-null  object \n",
      " 44  1-X_engine-of-uncertain-size_proximity        62022 non-null  object \n",
      " 45  2-1_rock-drill_proximity                      62022 non-null  object \n",
      " 46  2-2_jackhammer_proximity                      62022 non-null  object \n",
      " 47  2-3_hoe-ram_proximity                         62022 non-null  object \n",
      " 48  2-4_pile-driver_proximity                     62022 non-null  object \n",
      " 49  2-X_other-unknown-impact-machinery_proximity  62022 non-null  object \n",
      " 50  3-1_non-machinery-impact_proximity            62022 non-null  object \n",
      " 51  4-1_chainsaw_proximity                        62022 non-null  object \n",
      " 52  4-2_small-medium-rotating-saw_proximity       62022 non-null  object \n",
      " 53  4-3_large-rotating-saw_proximity              62022 non-null  object \n",
      " 54  4-X_other-unknown-powered-saw_proximity       62022 non-null  object \n",
      " 55  5-1_car-horn_proximity                        62022 non-null  object \n",
      " 56  5-2_car-alarm_proximity                       62022 non-null  object \n",
      " 57  5-3_siren_proximity                           62022 non-null  object \n",
      " 58  5-4_reverse-beeper_proximity                  62022 non-null  object \n",
      " 59  5-X_other-unknown-alert-signal_proximity      62022 non-null  object \n",
      " 60  6-1_stationary-music_proximity                62022 non-null  object \n",
      " 61  6-2_mobile-music_proximity                    62022 non-null  object \n",
      " 62  6-3_ice-cream-truck_proximity                 62022 non-null  object \n",
      " 63  6-X_music-from-uncertain-source_proximity     62022 non-null  object \n",
      " 64  7-1_person-or-small-group-talking_proximity   62022 non-null  object \n",
      " 65  7-2_person-or-small-group-shouting_proximity  62022 non-null  object \n",
      " 66  7-3_large-crowd_proximity                     62022 non-null  object \n",
      " 67  7-4_amplified-speech_proximity                62022 non-null  object \n",
      " 68  7-X_other-unknown-human-voice_proximity       62022 non-null  object \n",
      " 69  8-1_dog-barking-whining_proximity             62022 non-null  object \n",
      " 70  1_engine_presence                             62022 non-null  int64  \n",
      " 71  2_machinery-impact_presence                   62022 non-null  int64  \n",
      " 72  3_non-machinery-impact_presence               62022 non-null  int64  \n",
      " 73  4_powered-saw_presence                        62022 non-null  int64  \n",
      " 74  5_alert-signal_presence                       62022 non-null  int64  \n",
      " 75  6_music_presence                              62022 non-null  int64  \n",
      " 76  7_human-voice_presence                        62022 non-null  int64  \n",
      " 77  8_dog_presence                                62022 non-null  int64  \n",
      "dtypes: float64(2), int64(45), object(31)\n",
      "memory usage: 36.9+ MB\n"
     ]
    }
   ],
   "source": [
    "# Check dataframe info\n",
    "noise_data.info()"
   ]
  },
  {
   "cell_type": "markdown",
   "id": "02609360",
   "metadata": {},
   "source": [
    "### Initial cleaning <a name=\"sonyc-initial\"></a>"
   ]
  },
  {
   "cell_type": "markdown",
   "id": "7c3ee67b",
   "metadata": {},
   "source": [
    "#### Drop columns\n",
    "There are a few columns that we can remove outright since they are not informative for our data analysis. These are:\n",
    "- `split`: The data split. (train, validate, test)\n",
    "- `annotator_id`: The anonymous ID of the annotator."
   ]
  },
  {
   "cell_type": "code",
   "execution_count": 5,
   "id": "c695a313",
   "metadata": {},
   "outputs": [],
   "source": [
    "# Create a list of columns to drop.\n",
    "drop_cols = ['split', 'annotator_id']\n",
    "\n",
    "# Drop the columns\n",
    "noise_data = noise_data.drop(drop_cols, axis=1)"
   ]
  },
  {
   "cell_type": "markdown",
   "id": "8a378fc1",
   "metadata": {},
   "source": [
    "Note that while `audio_filename` might not seem important for our analysis purposes, we will need to retain it while cleaning the data. Multiple SONYC team members worked on annotating the same recordings, meaning multiple annotation rows exist for one particular audio recording. We would like to control for noise in the data where we can by eliminating any duplicate information for one audio recording. We can drop this column after we are finished cleaning the data. "
   ]
  },
  {
   "cell_type": "markdown",
   "id": "f7e69f94",
   "metadata": {},
   "source": [
    "#### Check for null values"
   ]
  },
  {
   "cell_type": "code",
   "execution_count": 6,
   "id": "bf274ac3",
   "metadata": {
    "scrolled": true
   },
   "outputs": [
    {
     "data": {
      "text/plain": [
       "False"
      ]
     },
     "execution_count": 6,
     "metadata": {},
     "output_type": "execute_result"
    }
   ],
   "source": [
    "# Check whether any null values exist in the dataframe\n",
    "noise_data.isnull().values.any()"
   ]
  },
  {
   "cell_type": "markdown",
   "id": "ee685023",
   "metadata": {},
   "source": [
    "#### Date and time conversion\n",
    "Let's put the time data into a usable format. Currently, the date and time of each recording are recorded as follows:\n",
    "- `year`: the year the recording is from\n",
    "- `week`: the week of the year the recording is from\n",
    "- `day`: the day of the week the recording is from, with Monday as the start (`0`=Monday)\n",
    "- `hour`: the hour of the day the recording is from"
   ]
  },
  {
   "cell_type": "code",
   "execution_count": 7,
   "id": "790e0de6",
   "metadata": {
    "scrolled": true
   },
   "outputs": [],
   "source": [
    "# Add a column for date in YYYY-MM-DD format\n",
    "noise_data['date'] = noise_data.apply(\n",
    "    lambda row: datetime.strptime(f\"{row['year']}-{row['week']}-{row['day']}\", \"%Y-%W-%w\"), #%w accounts for Monday start\n",
    "    axis=1\n",
    ")\n",
    "\n",
    "# Add a column for time in 24-hour format\n",
    "noise_data['time'] = noise_data['hour'].apply(lambda hour: f\"{hour:02}:00\")"
   ]
  },
  {
   "cell_type": "code",
   "execution_count": 8,
   "id": "8c3511b6",
   "metadata": {},
   "outputs": [
    {
     "data": {
      "text/html": [
       "<div>\n",
       "<style scoped>\n",
       "    .dataframe tbody tr th:only-of-type {\n",
       "        vertical-align: middle;\n",
       "    }\n",
       "\n",
       "    .dataframe tbody tr th {\n",
       "        vertical-align: top;\n",
       "    }\n",
       "\n",
       "    .dataframe thead th {\n",
       "        text-align: right;\n",
       "    }\n",
       "</style>\n",
       "<table border=\"1\" class=\"dataframe\">\n",
       "  <thead>\n",
       "    <tr style=\"text-align: right;\">\n",
       "      <th></th>\n",
       "      <th>date</th>\n",
       "      <th>time</th>\n",
       "    </tr>\n",
       "  </thead>\n",
       "  <tbody>\n",
       "    <tr>\n",
       "      <th>0</th>\n",
       "      <td>2019-10-31</td>\n",
       "      <td>08:00</td>\n",
       "    </tr>\n",
       "    <tr>\n",
       "      <th>1</th>\n",
       "      <td>2019-10-31</td>\n",
       "      <td>08:00</td>\n",
       "    </tr>\n",
       "    <tr>\n",
       "      <th>2</th>\n",
       "      <td>2019-10-31</td>\n",
       "      <td>08:00</td>\n",
       "    </tr>\n",
       "    <tr>\n",
       "      <th>3</th>\n",
       "      <td>2019-10-31</td>\n",
       "      <td>08:00</td>\n",
       "    </tr>\n",
       "    <tr>\n",
       "      <th>4</th>\n",
       "      <td>2019-10-31</td>\n",
       "      <td>08:00</td>\n",
       "    </tr>\n",
       "  </tbody>\n",
       "</table>\n",
       "</div>"
      ],
      "text/plain": [
       "        date   time\n",
       "0 2019-10-31  08:00\n",
       "1 2019-10-31  08:00\n",
       "2 2019-10-31  08:00\n",
       "3 2019-10-31  08:00\n",
       "4 2019-10-31  08:00"
      ]
     },
     "execution_count": 8,
     "metadata": {},
     "output_type": "execute_result"
    }
   ],
   "source": [
    "# Check new column\n",
    "noise_data[['date', 'time']].head()"
   ]
  },
  {
   "cell_type": "markdown",
   "id": "eddaf8d1",
   "metadata": {},
   "source": [
    "We'll add `month`, `weekday`, and `is_school_day` columns to our dataframe to help with analysis."
   ]
  },
  {
   "cell_type": "code",
   "execution_count": 9,
   "id": "520d4f21",
   "metadata": {},
   "outputs": [],
   "source": [
    "noise_data['month'] = noise_data['date'].dt.to_period('M')\n",
    "noise_data['weekday'] = noise_data['date'].dt.weekday\n",
    "noise_data['is_school_day'] = noise_data['weekday'].between(0, 4)"
   ]
  },
  {
   "cell_type": "markdown",
   "id": "019ed233",
   "metadata": {},
   "source": [
    "We no longer need the `week` column, so let's drop it."
   ]
  },
  {
   "cell_type": "code",
   "execution_count": 10,
   "id": "c2543d5a",
   "metadata": {},
   "outputs": [],
   "source": [
    "noise_data = noise_data.drop('week', axis=1)"
   ]
  },
  {
   "cell_type": "markdown",
   "id": "df724fda",
   "metadata": {},
   "source": [
    "### Dates <a name=\"sonyc-dates\"></a>\n",
    "We will be looking at school performance data from the start of the 2016-2017 school year through the end of the 2018-2019 school year. Let's exclude dates in our SONYC dataset that are outside of this range."
   ]
  },
  {
   "cell_type": "code",
   "execution_count": 11,
   "id": "f8bf50df",
   "metadata": {},
   "outputs": [],
   "source": [
    "# Set start/end dates for school years\n",
    "start_date = \"2016-08-01\"\n",
    "end_date = \"2019-06-30\""
   ]
  },
  {
   "cell_type": "code",
   "execution_count": 12,
   "id": "46d2275a",
   "metadata": {},
   "outputs": [],
   "source": [
    "noise_data = noise_data[(noise_data['date'] >= start_date) & (noise_data['date'] <= end_date)]"
   ]
  },
  {
   "cell_type": "markdown",
   "id": "4c1448b6",
   "metadata": {},
   "source": [
    "### Sound taxonomy <a name=\"sound-tax\"></a>\n",
    "Our `noise_data` dataframe has multiple columns representing categories from SONYC's sound taxonomy. The naming scheme (from SONYC's [Zenodo page documentation](https://zenodo.org/records/3966543)) for these columns is as follows:\n",
    "- `<coarse_id>-<fine_id>_<fine_name>_presence`: Columns of this form indicate the presence of fine-level class. `1` if present, `0` if not present. If `-1`, then the class was not labeled in this annotation because the annotation was performed by a SONYC team member who only annotated one coarse group of classes at a time when annotating the verified subset.\n",
    "- `<coarse_id>_<coarse_name>_presence`: Columns of this form indicate the presence of a coarse-level class. `1` if present, `0` if not present. If `-1`, then the class was not labeled in this annotation because the annotation was performed by a SONYC team member who only annotated one coarse group of classes at a time when annotating the verified subset. These columns are computed from the fine-level class presence columns and are presented here for convenience when training on only coarse-level classes.\n",
    "- `<coarse_id>-<fine_id>_<fine_name>_proximity`: Columns of this form indicate the proximity of a fine-level class. After indicating the presence of a fine-level class, citizen science annotators were asked to indicate the proximity of the sound event to the sensor. Only the citizen science volunteers performed this task, and therefore this data is not included in the verified annotations. This column may take on one of the following four values: (`near`, `far`, `notsure`, `-1`). If `-1`, then the proximity was not annotated because either the annotation was not performed by a citizen science volunteer, or the citizen science volunteer did not indicate the presence of the class."
   ]
  },
  {
   "cell_type": "markdown",
   "id": "3151b84f",
   "metadata": {},
   "source": [
    "Let's check the data types for these columns:"
   ]
  },
  {
   "cell_type": "code",
   "execution_count": 13,
   "id": "36c82e42",
   "metadata": {
    "scrolled": true
   },
   "outputs": [
    {
     "name": "stdout",
     "output_type": "stream",
     "text": [
      "<class 'pandas.core.frame.DataFrame'>\n",
      "Index: 57918 entries, 8 to 62021\n",
      "Data columns (total 66 columns):\n",
      " #   Column                                        Non-Null Count  Dtype \n",
      "---  ------                                        --------------  ----- \n",
      " 0   1-1_small-sounding-engine_presence            57918 non-null  int64 \n",
      " 1   1-2_medium-sounding-engine_presence           57918 non-null  int64 \n",
      " 2   1-3_large-sounding-engine_presence            57918 non-null  int64 \n",
      " 3   1-X_engine-of-uncertain-size_presence         57918 non-null  int64 \n",
      " 4   2-1_rock-drill_presence                       57918 non-null  int64 \n",
      " 5   2-2_jackhammer_presence                       57918 non-null  int64 \n",
      " 6   2-3_hoe-ram_presence                          57918 non-null  int64 \n",
      " 7   2-4_pile-driver_presence                      57918 non-null  int64 \n",
      " 8   2-X_other-unknown-impact-machinery_presence   57918 non-null  int64 \n",
      " 9   3-1_non-machinery-impact_presence             57918 non-null  int64 \n",
      " 10  4-1_chainsaw_presence                         57918 non-null  int64 \n",
      " 11  4-2_small-medium-rotating-saw_presence        57918 non-null  int64 \n",
      " 12  4-3_large-rotating-saw_presence               57918 non-null  int64 \n",
      " 13  4-X_other-unknown-powered-saw_presence        57918 non-null  int64 \n",
      " 14  5-1_car-horn_presence                         57918 non-null  int64 \n",
      " 15  5-2_car-alarm_presence                        57918 non-null  int64 \n",
      " 16  5-3_siren_presence                            57918 non-null  int64 \n",
      " 17  5-4_reverse-beeper_presence                   57918 non-null  int64 \n",
      " 18  5-X_other-unknown-alert-signal_presence       57918 non-null  int64 \n",
      " 19  6-1_stationary-music_presence                 57918 non-null  int64 \n",
      " 20  6-2_mobile-music_presence                     57918 non-null  int64 \n",
      " 21  6-3_ice-cream-truck_presence                  57918 non-null  int64 \n",
      " 22  6-X_music-from-uncertain-source_presence      57918 non-null  int64 \n",
      " 23  7-1_person-or-small-group-talking_presence    57918 non-null  int64 \n",
      " 24  7-2_person-or-small-group-shouting_presence   57918 non-null  int64 \n",
      " 25  7-3_large-crowd_presence                      57918 non-null  int64 \n",
      " 26  7-4_amplified-speech_presence                 57918 non-null  int64 \n",
      " 27  7-X_other-unknown-human-voice_presence        57918 non-null  int64 \n",
      " 28  8-1_dog-barking-whining_presence              57918 non-null  int64 \n",
      " 29  1-1_small-sounding-engine_proximity           57918 non-null  object\n",
      " 30  1-2_medium-sounding-engine_proximity          57918 non-null  object\n",
      " 31  1-3_large-sounding-engine_proximity           57918 non-null  object\n",
      " 32  1-X_engine-of-uncertain-size_proximity        57918 non-null  object\n",
      " 33  2-1_rock-drill_proximity                      57918 non-null  object\n",
      " 34  2-2_jackhammer_proximity                      57918 non-null  object\n",
      " 35  2-3_hoe-ram_proximity                         57918 non-null  object\n",
      " 36  2-4_pile-driver_proximity                     57918 non-null  object\n",
      " 37  2-X_other-unknown-impact-machinery_proximity  57918 non-null  object\n",
      " 38  3-1_non-machinery-impact_proximity            57918 non-null  object\n",
      " 39  4-1_chainsaw_proximity                        57918 non-null  object\n",
      " 40  4-2_small-medium-rotating-saw_proximity       57918 non-null  object\n",
      " 41  4-3_large-rotating-saw_proximity              57918 non-null  object\n",
      " 42  4-X_other-unknown-powered-saw_proximity       57918 non-null  object\n",
      " 43  5-1_car-horn_proximity                        57918 non-null  object\n",
      " 44  5-2_car-alarm_proximity                       57918 non-null  object\n",
      " 45  5-3_siren_proximity                           57918 non-null  object\n",
      " 46  5-4_reverse-beeper_proximity                  57918 non-null  object\n",
      " 47  5-X_other-unknown-alert-signal_proximity      57918 non-null  object\n",
      " 48  6-1_stationary-music_proximity                57918 non-null  object\n",
      " 49  6-2_mobile-music_proximity                    57918 non-null  object\n",
      " 50  6-3_ice-cream-truck_proximity                 57918 non-null  object\n",
      " 51  6-X_music-from-uncertain-source_proximity     57918 non-null  object\n",
      " 52  7-1_person-or-small-group-talking_proximity   57918 non-null  object\n",
      " 53  7-2_person-or-small-group-shouting_proximity  57918 non-null  object\n",
      " 54  7-3_large-crowd_proximity                     57918 non-null  object\n",
      " 55  7-4_amplified-speech_proximity                57918 non-null  object\n",
      " 56  7-X_other-unknown-human-voice_proximity       57918 non-null  object\n",
      " 57  8-1_dog-barking-whining_proximity             57918 non-null  object\n",
      " 58  1_engine_presence                             57918 non-null  int64 \n",
      " 59  2_machinery-impact_presence                   57918 non-null  int64 \n",
      " 60  3_non-machinery-impact_presence               57918 non-null  int64 \n",
      " 61  4_powered-saw_presence                        57918 non-null  int64 \n",
      " 62  5_alert-signal_presence                       57918 non-null  int64 \n",
      " 63  6_music_presence                              57918 non-null  int64 \n",
      " 64  7_human-voice_presence                        57918 non-null  int64 \n",
      " 65  8_dog_presence                                57918 non-null  int64 \n",
      "dtypes: int64(37), object(29)\n",
      "memory usage: 29.6+ MB\n"
     ]
    }
   ],
   "source": [
    "sound_taxonomy_cols = [col for col in noise_data.columns if '_presence' in col or '_proximity' in col]\n",
    "noise_data[sound_taxonomy_cols].info()"
   ]
  },
  {
   "cell_type": "markdown",
   "id": "b72c8886",
   "metadata": {},
   "source": [
    "Note that columns ending with `_presence` are of type integer, while columns ending with `_proximity` are of type object. This is in line with what we would expect, since `_presence` columns take on one of three integer values &mdash; `1`, `0`, or `-1` &mdash; while `_proximity` columns take on one of four values &mdash; `near`, `far`, `notsure`, or `-1`, where `-1` means that the proximity was not annotated \"because either the annotation was not performed by a citizen science volunteer, or the citizen science volunteer did not indicate the presence of the class.\""
   ]
  },
  {
   "cell_type": "markdown",
   "id": "c73c20b0",
   "metadata": {},
   "source": [
    "Let's create a dictionary for this sound hierarchy. We can use this dictionary to facilitate cleaning and analysis."
   ]
  },
  {
   "cell_type": "code",
   "execution_count": 14,
   "id": "617f332f",
   "metadata": {},
   "outputs": [],
   "source": [
    "hierarchy = {\n",
    "    '1_engine': ['1-1_small-sounding-engine', '1-2_medium-sounding-engine', \n",
    "                '1-3_large-sounding-engine', '1-X_engine-of-uncertain-size'],\n",
    "    '2_machinery-impact': ['2-1_rock-drill', '2-2_jackhammer', '2-3_hoe-ram', \n",
    "                         '2-4_pile-driver', '2-X_other-unknown-impact-machinery'],\n",
    "    '3_non-machinery-impact': ['3-1_non-machinery-impact'],\n",
    "    '4_powered-saw': ['4-1_chainsaw', '4-2_small-medium-rotating-saw', \n",
    "                     '4-3_large-rotating-saw', '4-X_other-unknown-powered-saw'],\n",
    "    '5_alert-signal': ['5-1_car-horn', '5-2_car-alarm', '5-3_siren', \n",
    "                      '5-4_reverse-beeper', '5-X_other-unknown-alert-signal'],\n",
    "    '6_music': ['6-1_stationary-music', '6-2_mobile-music', '6-3_ice-cream-truck',\n",
    "               '6-X_music-from-uncertain-source'],\n",
    "    '7_human-voice': ['7-1_person-or-small-group-talking', '7-2_person-or-small-group-shouting',\n",
    "                     '7-3_large-crowd', '7-4_amplified-speech', '7-X_other-unknown-human-voice'],\n",
    "    '8_dog': ['8-1_dog-barking-whining']\n",
    "}"
   ]
  },
  {
   "cell_type": "markdown",
   "id": "2034829e",
   "metadata": {},
   "source": [
    "### Audio files <a name=\"audio-files\"></a>\n",
    "In our dataset, multiple annotations exist for a single sound file, as we can see here by taking the `value_counts` for `audio_filename`:"
   ]
  },
  {
   "cell_type": "code",
   "execution_count": 15,
   "id": "845f35a5",
   "metadata": {
    "scrolled": true
   },
   "outputs": [
    {
     "data": {
      "text/plain": [
       "audio_filename\n",
       "04_026992.wav    22\n",
       "00_000066.wav    20\n",
       "01_010420.wav    20\n",
       "04_003239.wav    14\n",
       "04_010714.wav    14\n",
       "                 ..\n",
       "25_011182.wav     3\n",
       "25_011189.wav     3\n",
       "25_011212.wav     3\n",
       "25_011272.wav     3\n",
       "46_020853.wav     3\n",
       "Name: count, Length: 17958, dtype: int64"
      ]
     },
     "execution_count": 15,
     "metadata": {},
     "output_type": "execute_result"
    }
   ],
   "source": [
    "annotation_counts = noise_data['audio_filename'].value_counts()\n",
    "annotation_counts"
   ]
  },
  {
   "cell_type": "markdown",
   "id": "3757e589",
   "metadata": {},
   "source": [
    "We are going to simplify our dataframe so that only one \"annotation\" exists per audio file. However, we will need to weight each file's annotation by $1/n$, where $n$ is the number of annotations."
   ]
  },
  {
   "cell_type": "markdown",
   "id": "290e0360",
   "metadata": {},
   "source": [
    "#### `_presence` columns <a name=\"presence-cols\"></a>\n",
    "\n",
    "To account for differences in annotations in the `_presence` columns, we could average these annotations and then convert them to booleans.<br>\n",
    "However, we may also wish to account for annotations where the presence of a specific sound is ambiguous. The source of a sound may not always be clear; particularly for sounds that are mechanical in nature. For this reason, we will be using the keys in our `hierarchy` dictionary to create simplified columns indicating the presence or absence of a noise.\n",
    "\n",
    "Since `-1` represents missing data, we will treat records with `-1` in `_presence` columns identically to how we treat records with `0`.\n",
    "Let's replace all instances of `-1` in these columns with `0`."
   ]
  },
  {
   "cell_type": "code",
   "execution_count": 16,
   "id": "b84fbffd",
   "metadata": {},
   "outputs": [],
   "source": [
    "sounds_presence = [col for col in noise_data.columns if '_presence' in col]\n",
    "noise_data[sounds_presence] = noise_data[sounds_presence].replace(-1, 0)"
   ]
  },
  {
   "cell_type": "markdown",
   "id": "44782b03",
   "metadata": {},
   "source": [
    "Let's now write a function that will simplify our annotations in the `_presence` columns of our `noise_data` dataframe."
   ]
  },
  {
   "cell_type": "code",
   "execution_count": 17,
   "id": "1025bb33",
   "metadata": {},
   "outputs": [],
   "source": [
    "# Define metadata columns to preserve\n",
    "metadata_cols = [\n",
    "    'audio_filename', 'sensor_id', 'borough', 'block', \n",
    "    'latitude', 'longitude', 'year', 'day', 'hour',\n",
    "    'date', 'time', 'month', 'weekday', 'is_school_day'\n",
    "]"
   ]
  },
  {
   "cell_type": "code",
   "execution_count": 18,
   "id": "66f6809e",
   "metadata": {},
   "outputs": [],
   "source": [
    "def simplify_presence_annotations(noise_data, threshold=0.5):\n",
    "    \"\"\"\n",
    "    Simplifies presence annotations by:\n",
    "    1. Using a threshold to determine final presence classification\n",
    "    2. Aggregating to high-level categories\n",
    "    \"\"\"\n",
    "    pd.options.mode.chained_assignment = None  # Temporarily disable warning\n",
    "    \n",
    "    # Create a copy of the dataframe\n",
    "    df = noise_data.copy()\n",
    "    \n",
    "    # Get presence columns\n",
    "    presence_cols = [col for col in df.columns if '_presence' in col]\n",
    "    \n",
    "    # Create aggregation dictionary\n",
    "    agg_dict = {}\n",
    "    \n",
    "    # For metadata columns, use first value\n",
    "    existing_metadata = [col for col in metadata_cols if col in df.columns]\n",
    "    for col in existing_metadata:\n",
    "        if col != 'audio_filename':\n",
    "            agg_dict[col] = 'first'\n",
    "            \n",
    "    # For presence columns, use mean\n",
    "    for col in presence_cols:\n",
    "        agg_dict[col] = 'mean'\n",
    "    \n",
    "    # Group by audio_filename and aggregate\n",
    "    df = df.groupby('audio_filename', as_index=False).agg(agg_dict)\n",
    "    \n",
    "    # Apply threshold to presence columns\n",
    "    for col in presence_cols:\n",
    "        df[col] = (df[col] > threshold).astype(int)\n",
    "    \n",
    "    # Create high-level category columns\n",
    "    for main_category, subcategories in hierarchy.items():\n",
    "        # Convert subcategory names to column names\n",
    "        subcategory_cols = [f\"{sub}_presence\" for sub in subcategories]\n",
    "        existing_subcols = [col for col in subcategory_cols if col in df.columns]\n",
    "        if existing_subcols:\n",
    "            # If any subcategory is present (1), mark the main category as present\n",
    "            df[f\"{main_category}_presence\"] = (df[existing_subcols].max(axis=1) > 0).astype(int)\n",
    "    \n",
    "    # Keep only high-level categories and metadata\n",
    "    columns_to_keep = (\n",
    "        existing_metadata +  # Metadata columns\n",
    "        [f\"{cat}_presence\" for cat in hierarchy.keys()]  # High-level categories\n",
    "    )\n",
    "    \n",
    "    df_simplified = df[columns_to_keep]\n",
    "    \n",
    "    # Add annotation count\n",
    "    df_simplified['annotation_count'] = noise_data.groupby('audio_filename').size().reindex(df_simplified['audio_filename']).values\n",
    "    \n",
    "    pd.options.mode.chained_assignment = 'warn'  # Re-enable warning\n",
    "    \n",
    "    return df_simplified"
   ]
  },
  {
   "cell_type": "code",
   "execution_count": 19,
   "id": "746059b2",
   "metadata": {
    "scrolled": true
   },
   "outputs": [],
   "source": [
    "df_presence = simplify_presence_annotations(noise_data, threshold=0.07)"
   ]
  },
  {
   "cell_type": "markdown",
   "id": "3d3e120a",
   "metadata": {},
   "source": [
    "#### `_proximity` columns <a name=\"proximity-cols\"></a>\n",
    "\n",
    "Just as we did with `_presence` columns, let's create a list of columns containing `_proximity`."
   ]
  },
  {
   "cell_type": "code",
   "execution_count": 20,
   "id": "f5297152",
   "metadata": {
    "scrolled": true
   },
   "outputs": [
    {
     "data": {
      "text/plain": [
       "['1-1_small-sounding-engine_proximity',\n",
       " '1-2_medium-sounding-engine_proximity',\n",
       " '1-3_large-sounding-engine_proximity',\n",
       " '1-X_engine-of-uncertain-size_proximity',\n",
       " '2-1_rock-drill_proximity',\n",
       " '2-2_jackhammer_proximity',\n",
       " '2-3_hoe-ram_proximity',\n",
       " '2-4_pile-driver_proximity',\n",
       " '2-X_other-unknown-impact-machinery_proximity',\n",
       " '3-1_non-machinery-impact_proximity',\n",
       " '4-1_chainsaw_proximity',\n",
       " '4-2_small-medium-rotating-saw_proximity',\n",
       " '4-3_large-rotating-saw_proximity',\n",
       " '4-X_other-unknown-powered-saw_proximity',\n",
       " '5-1_car-horn_proximity',\n",
       " '5-2_car-alarm_proximity',\n",
       " '5-3_siren_proximity',\n",
       " '5-4_reverse-beeper_proximity',\n",
       " '5-X_other-unknown-alert-signal_proximity',\n",
       " '6-1_stationary-music_proximity',\n",
       " '6-2_mobile-music_proximity',\n",
       " '6-3_ice-cream-truck_proximity',\n",
       " '6-X_music-from-uncertain-source_proximity',\n",
       " '7-1_person-or-small-group-talking_proximity',\n",
       " '7-2_person-or-small-group-shouting_proximity',\n",
       " '7-3_large-crowd_proximity',\n",
       " '7-4_amplified-speech_proximity',\n",
       " '7-X_other-unknown-human-voice_proximity',\n",
       " '8-1_dog-barking-whining_proximity']"
      ]
     },
     "execution_count": 20,
     "metadata": {},
     "output_type": "execute_result"
    }
   ],
   "source": [
    "sounds_proximity = [col for col in noise_data.columns if '_proximity' in col]\n",
    "sounds_proximity"
   ]
  },
  {
   "cell_type": "code",
   "execution_count": 21,
   "id": "f71cc52b",
   "metadata": {},
   "outputs": [],
   "source": [
    "def simplify_proximity_annotations(noise_data, threshold=0.5):\n",
    "    \"\"\"\n",
    "    Simplifies proximity annotations by:\n",
    "    1. One-hot encoding 'near' and 'far' values\n",
    "    2. Ignoring 'notsure' and '-1' values\n",
    "    3. Using a threshold to determine final near/far classification\n",
    "    \"\"\"\n",
    "    \n",
    "    pd.options.mode.chained_assignment = None  # Temporarily disable warning\n",
    "    \n",
    "    # Create a copy of the dataframe\n",
    "    df = noise_data.copy()\n",
    "    \n",
    "    # Get proximity columns\n",
    "    proximity_cols = [col for col in df.columns if '_proximity' in col]\n",
    "    \n",
    "    # Create dataframe for storing one-hot encoded values\n",
    "    df_encoded = df.copy()\n",
    "    \n",
    "    # One-hot encode proximity values\n",
    "    for col in proximity_cols:\n",
    "        base_col = col.replace('_proximity', '')\n",
    "        \n",
    "        # Create near/far indicator columns (1 if the value matches, 0 if not)\n",
    "        df_encoded[f\"{base_col}_near\"] = (df[col] == 'near').astype(float)\n",
    "        df_encoded[f\"{base_col}_far\"] = (df[col] == 'far').astype(float)\n",
    "    \n",
    "    # Get all near/far columns\n",
    "    near_cols = [col for col in df_encoded.columns if col.endswith('_near')]\n",
    "    far_cols = [col for col in df_encoded.columns if col.endswith('_far')]\n",
    "    \n",
    "    # Create aggregation dictionary\n",
    "    agg_dict = {}\n",
    "    \n",
    "    # For metadata columns, use first value\n",
    "    existing_metadata = [col for col in metadata_cols if col in df.columns]\n",
    "    for col in existing_metadata:\n",
    "        if col != 'audio_filename':\n",
    "            agg_dict[col] = 'first'\n",
    "            \n",
    "    # For near/far columns, use mean and then threshold\n",
    "    for col in near_cols + far_cols:\n",
    "        agg_dict[col] = 'mean'\n",
    "    \n",
    "    # Group by audio_filename and aggregate\n",
    "    df_encoded = df_encoded.groupby('audio_filename', as_index=False).agg(agg_dict)\n",
    "    \n",
    "    # Apply threshold to near/far columns\n",
    "    for col in near_cols + far_cols:\n",
    "        df_encoded[col] = (df_encoded[col] > threshold).astype(int)\n",
    "    \n",
    "    # Create high-level category columns for both near and far\n",
    "    for main_category, subcategories in hierarchy.items():\n",
    "        # Handle near annotations\n",
    "        near_subcols = [f\"{sub}_near\" for sub in subcategories]\n",
    "        existing_near_subcols = [col for col in near_subcols if col in df_encoded.columns]\n",
    "        if existing_near_subcols:\n",
    "            # For high-level categories, if any subcategory is 1, the category is 1\n",
    "            df_encoded[f\"{main_category}_near\"] = (df_encoded[existing_near_subcols].max(axis=1) > 0).astype(int)\n",
    "            \n",
    "        # Handle far annotations\n",
    "        far_subcols = [f\"{sub}_far\" for sub in subcategories]\n",
    "        existing_far_subcols = [col for col in far_subcols if col in df_encoded.columns]\n",
    "        if existing_far_subcols:\n",
    "            df_encoded[f\"{main_category}_far\"] = (df_encoded[existing_far_subcols].max(axis=1) > 0).astype(int)\n",
    "    \n",
    "    # Keep only high-level categories and metadata\n",
    "    columns_to_keep = (\n",
    "        existing_metadata +  # Metadata columns\n",
    "        [f\"{cat}_near\" for cat in hierarchy.keys()] +  # High-level near categories\n",
    "        [f\"{cat}_far\" for cat in hierarchy.keys()]     # High-level far categories\n",
    "    )\n",
    "    \n",
    "    df_simplified = df_encoded[columns_to_keep]\n",
    "    \n",
    "    # Add annotation count\n",
    "    df_simplified['annotation_count'] = df.groupby('audio_filename').size().reindex(df_simplified['audio_filename']).values\n",
    "    \n",
    "    pd.options.mode.chained_assignment = 'warn'  # Re-enable warning\n",
    "    \n",
    "    return df_simplified"
   ]
  },
  {
   "cell_type": "code",
   "execution_count": 22,
   "id": "1d007b1d",
   "metadata": {
    "scrolled": true
   },
   "outputs": [],
   "source": [
    "# Process proximity annotations with threshold (adjust threshold as needed)\n",
    "df_proximity = simplify_proximity_annotations(noise_data, threshold=0.3)"
   ]
  },
  {
   "cell_type": "markdown",
   "id": "6e36c785",
   "metadata": {},
   "source": [
    "#### Zero rows analysis\n",
    "We will look at both `df_presence` and `df_proximity` to see if the percentage of rows consisting of all zeros is reasonable for our analysis. (Ideally, we would like fewer than 10% of rows to consist of all zeros. If this is not the case, then we will adjust our threshold to be lower.)"
   ]
  },
  {
   "cell_type": "code",
   "execution_count": 23,
   "id": "6e4b5d34",
   "metadata": {},
   "outputs": [],
   "source": [
    "cols_to_check = [col for col in df_presence.columns \n",
    "                if col.endswith('_presence')]\n",
    "    \n",
    "# Find rows where all specified columns are 0\n",
    "all_zeros = df_presence[cols_to_check].eq(0).all(axis=1)\n",
    "zero_rows = df_presence[all_zeros]\n",
    "    \n",
    "# Calculate statistics\n",
    "total_rows = len(df_presence)\n",
    "zero_count = len(zero_rows)\n",
    "    \n",
    "# Get average annotation count for zero rows\n",
    "avg_annotations_zero = zero_rows['annotation_count'].mean()\n",
    "\n",
    "analysis = {\n",
    "    'total_rows': total_rows,\n",
    "    'zero_rows': zero_count,\n",
    "    'zero_percentage': (zero_count / total_rows) * 100 if total_rows > 0 else 0,\n",
    "    'avg_annotations_per_zero_row': avg_annotations_zero,\n",
    "    'zero_rows_by_annotation_count': zero_rows['annotation_count'].value_counts().sort_index().to_dict() ,\n",
    "    'columns_checked': len(cols_to_check)\n",
    "}"
   ]
  },
  {
   "cell_type": "code",
   "execution_count": 24,
   "id": "01817735",
   "metadata": {},
   "outputs": [
    {
     "data": {
      "text/plain": [
       "{'total_rows': 17958,\n",
       " 'zero_rows': 689,\n",
       " 'zero_percentage': 3.836730148123399,\n",
       " 'avg_annotations_per_zero_row': 3.042089985486212,\n",
       " 'zero_rows_by_annotation_count': {3: 676, 4: 5, 6: 8},\n",
       " 'columns_checked': 8}"
      ]
     },
     "execution_count": 24,
     "metadata": {},
     "output_type": "execute_result"
    }
   ],
   "source": [
    "analysis"
   ]
  },
  {
   "cell_type": "markdown",
   "id": "155784c6",
   "metadata": {},
   "source": [
    "A threshold of `0.07` for `df_presence` gives us a reasonable amount of zero rows while maintaining sufficient data needed for analysis."
   ]
  },
  {
   "cell_type": "markdown",
   "id": "78caba27",
   "metadata": {},
   "source": [
    "Let's check the percentage of rows consisting of all zeros in our `df_proximity` dataframe to see whether we need to adjust the threshold."
   ]
  },
  {
   "cell_type": "code",
   "execution_count": 25,
   "id": "9f9dcbd5",
   "metadata": {
    "scrolled": true
   },
   "outputs": [
    {
     "data": {
      "text/plain": [
       "{'total_rows': 17958, 'zero_rows': 1641, 'zero_percentage': 9.137988640160374}"
      ]
     },
     "execution_count": 25,
     "metadata": {},
     "output_type": "execute_result"
    }
   ],
   "source": [
    "# Get proximity columns (both near and far)\n",
    "proximity_cols = [col for col in df_proximity.columns \n",
    "                 if col.endswith('_near') or col.endswith('_far')]\n",
    "\n",
    "# Find rows where all proximity values are 0\n",
    "all_zeros = df_proximity[proximity_cols].eq(0).all(axis=1)\n",
    "zero_rows = df_proximity[all_zeros]\n",
    "\n",
    "# Calculate statistics\n",
    "total_rows = len(df_proximity)\n",
    "zero_count = len(zero_rows)\n",
    "\n",
    "# Get average annotation count for zero rows\n",
    "avg_annotations_zero = zero_rows['annotation_count'].mean() if 'annotation_count' in df_proximity.columns else None\n",
    "\n",
    "analysis = {\n",
    "    'total_rows': total_rows,\n",
    "    'zero_rows': zero_count,\n",
    "    'zero_percentage': (zero_count / total_rows) * 100 if total_rows > 0 else 0\n",
    "}\n",
    "\n",
    "analysis"
   ]
  },
  {
   "cell_type": "markdown",
   "id": "3ad34a03",
   "metadata": {},
   "source": [
    "A threshold of `0.3` for `df_proximity` gives us a reasonable amount of zero rows while maintaining sufficient data needed for analysis."
   ]
  },
  {
   "cell_type": "markdown",
   "id": "d445495c",
   "metadata": {},
   "source": [
    "#### Combining the data"
   ]
  },
  {
   "cell_type": "code",
   "execution_count": 26,
   "id": "3e8b95c6",
   "metadata": {},
   "outputs": [
    {
     "name": "stdout",
     "output_type": "stream",
     "text": [
      "\n",
      "Columns in combined dataset:\n",
      "Presence columns: ['1_engine_presence', '2_machinery-impact_presence', '3_non-machinery-impact_presence', '4_powered-saw_presence', '5_alert-signal_presence', '6_music_presence', '7_human-voice_presence', '8_dog_presence']\n",
      "Near columns: ['1_engine_near', '2_machinery-impact_near', '3_non-machinery-impact_near', '4_powered-saw_near', '5_alert-signal_near', '6_music_near', '7_human-voice_near', '8_dog_near']\n",
      "Far columns: ['1_engine_far', '2_machinery-impact_far', '3_non-machinery-impact_far', '4_powered-saw_far', '5_alert-signal_far', '6_music_far', '7_human-voice_far', '8_dog_far']\n",
      "\n",
      "Total rows: 17958\n"
     ]
    }
   ],
   "source": [
    "# Combine the dataframes\n",
    "merge_cols = [col for col in df_presence.columns \n",
    "             if not col.endswith('_presence') \n",
    "             and col != 'annotation_count']\n",
    "\n",
    "df_combined = df_presence.merge(\n",
    "    df_proximity.drop(columns=['annotation_count']),\n",
    "    on=merge_cols\n",
    ")\n",
    "\n",
    "# Verify the results\n",
    "print(\"\\nColumns in combined dataset:\")\n",
    "print(\"Presence columns:\", [col for col in df_combined.columns if '_presence' in col])\n",
    "print(\"Near columns:\", [col for col in df_combined.columns if '_near' in col])\n",
    "print(\"Far columns:\", [col for col in df_combined.columns if '_far' in col])\n",
    "print(\"\\nTotal rows:\", len(df_combined))"
   ]
  },
  {
   "cell_type": "code",
   "execution_count": 27,
   "id": "d30918cb",
   "metadata": {},
   "outputs": [],
   "source": [
    "noise_data = df_combined"
   ]
  },
  {
   "cell_type": "markdown",
   "id": "b31e3960",
   "metadata": {},
   "source": [
    "### Coordinate data <a name=\"coordinate-data\"></a>\n",
    "We need to convert the `latitude` and `longitude` columns into a usable format."
   ]
  },
  {
   "cell_type": "code",
   "execution_count": 28,
   "id": "90b235a8",
   "metadata": {},
   "outputs": [],
   "source": [
    "# Create a GeoDataFrame with a geometry column\n",
    "sensors_gdf = gpd.GeoDataFrame(\n",
    "    noise_data, \n",
    "    geometry=[Point(xy) for xy in zip(noise_data['longitude'], noise_data['latitude'])],\n",
    "    crs=\"EPSG:4326\"\n",
    ")"
   ]
  },
  {
   "cell_type": "markdown",
   "id": "3f8a10a0",
   "metadata": {},
   "source": [
    "---\n",
    "## School district shapefile <a name=\"sdshp\"></a>"
   ]
  },
  {
   "cell_type": "markdown",
   "id": "f66966f2",
   "metadata": {},
   "source": [
    "Our school district shapefile includes the boundaries of each school district in New York City."
   ]
  },
  {
   "cell_type": "code",
   "execution_count": 29,
   "id": "47fead05",
   "metadata": {},
   "outputs": [],
   "source": [
    "# Load school district shapefile\n",
    "districts_gdf = gpd.read_file(\"school-districts\")"
   ]
  },
  {
   "cell_type": "code",
   "execution_count": 30,
   "id": "cfb032bc",
   "metadata": {},
   "outputs": [],
   "source": [
    "# Ensure all data is in the same coordinate system\n",
    "districts_gdf = districts_gdf.to_crs(\"EPSG:4326\")"
   ]
  },
  {
   "cell_type": "code",
   "execution_count": 31,
   "id": "2d6cb67f",
   "metadata": {},
   "outputs": [
    {
     "name": "stdout",
     "output_type": "stream",
     "text": [
      "<class 'geopandas.geodataframe.GeoDataFrame'>\n",
      "RangeIndex: 33 entries, 0 to 32\n",
      "Data columns (total 4 columns):\n",
      " #   Column      Non-Null Count  Dtype   \n",
      "---  ------      --------------  -----   \n",
      " 0   school_dis  33 non-null     float64 \n",
      " 1   shape_area  33 non-null     float64 \n",
      " 2   shape_leng  33 non-null     float64 \n",
      " 3   geometry    33 non-null     geometry\n",
      "dtypes: float64(3), geometry(1)\n",
      "memory usage: 1.2 KB\n"
     ]
    }
   ],
   "source": [
    "districts_gdf.info()"
   ]
  },
  {
   "cell_type": "markdown",
   "id": "8238a503",
   "metadata": {},
   "source": [
    "The feature `school_dis` names the school district that each school in the shapefile belongs to. These school districts are each represented by two digit numbers. Since there is no need for `school_dis` to be of time float, let's change it to type integer."
   ]
  },
  {
   "cell_type": "code",
   "execution_count": 32,
   "id": "acb733d9",
   "metadata": {},
   "outputs": [],
   "source": [
    "districts_gdf['school_dis'] = districts_gdf['school_dis'].astype(int)"
   ]
  },
  {
   "cell_type": "markdown",
   "id": "0574c136",
   "metadata": {},
   "source": [
    "---\n",
    "## School points shapefile <a name=\"spshp\"></a>\n",
    "Specific geographical coordinates for schools in NYC. Taken from [here](https://data.cityofnewyork.us/Education/School-Point-Locations/jfju-ynrr/about_data)."
   ]
  },
  {
   "cell_type": "code",
   "execution_count": 33,
   "id": "4d2318c4",
   "metadata": {},
   "outputs": [],
   "source": [
    "# Load schoolpoints shapefile\n",
    "schoolpoints_gdf = gpd.read_file(\"schoolpoints\")"
   ]
  },
  {
   "cell_type": "code",
   "execution_count": 34,
   "id": "bd5e7f6f",
   "metadata": {},
   "outputs": [],
   "source": [
    "# Ensure all data is in the same coordinate system\n",
    "schoolpoints_gdf = schoolpoints_gdf.to_crs(\"EPSG:4326\")"
   ]
  },
  {
   "cell_type": "code",
   "execution_count": 35,
   "id": "9a9a64a6",
   "metadata": {
    "scrolled": false
   },
   "outputs": [
    {
     "data": {
      "text/html": [
       "<div>\n",
       "<style scoped>\n",
       "    .dataframe tbody tr th:only-of-type {\n",
       "        vertical-align: middle;\n",
       "    }\n",
       "\n",
       "    .dataframe tbody tr th {\n",
       "        vertical-align: top;\n",
       "    }\n",
       "\n",
       "    .dataframe thead th {\n",
       "        text-align: right;\n",
       "    }\n",
       "</style>\n",
       "<table border=\"1\" class=\"dataframe\">\n",
       "  <thead>\n",
       "    <tr style=\"text-align: right;\">\n",
       "      <th></th>\n",
       "      <th>ATS</th>\n",
       "      <th>Building_C</th>\n",
       "      <th>Location_C</th>\n",
       "      <th>Name</th>\n",
       "      <th>Geographic</th>\n",
       "      <th>Latitude</th>\n",
       "      <th>Longitude</th>\n",
       "      <th>geometry</th>\n",
       "    </tr>\n",
       "  </thead>\n",
       "  <tbody>\n",
       "    <tr>\n",
       "      <th>0</th>\n",
       "      <td>01M015</td>\n",
       "      <td>M015</td>\n",
       "      <td>M015</td>\n",
       "      <td>P.S. 015 Roberto Clemente</td>\n",
       "      <td>1</td>\n",
       "      <td>40.722075</td>\n",
       "      <td>-73.978747</td>\n",
       "      <td>POINT (-73.97875 40.72208)</td>\n",
       "    </tr>\n",
       "    <tr>\n",
       "      <th>1</th>\n",
       "      <td>01M020</td>\n",
       "      <td>M020</td>\n",
       "      <td>M020</td>\n",
       "      <td>P.S. 020 Anna Silver</td>\n",
       "      <td>1</td>\n",
       "      <td>40.721305</td>\n",
       "      <td>-73.986312</td>\n",
       "      <td>POINT (-73.98631 40.72131)</td>\n",
       "    </tr>\n",
       "    <tr>\n",
       "      <th>2</th>\n",
       "      <td>01M034</td>\n",
       "      <td>M034</td>\n",
       "      <td>M034</td>\n",
       "      <td>P.S. 034 Franklin D. Roosevelt</td>\n",
       "      <td>1</td>\n",
       "      <td>40.726008</td>\n",
       "      <td>-73.975058</td>\n",
       "      <td>POINT (-73.97506 40.72601)</td>\n",
       "    </tr>\n",
       "    <tr>\n",
       "      <th>3</th>\n",
       "      <td>01M063</td>\n",
       "      <td>M063</td>\n",
       "      <td>M063</td>\n",
       "      <td>The STAR Academy - P.S.63</td>\n",
       "      <td>1</td>\n",
       "      <td>40.724440</td>\n",
       "      <td>-73.986214</td>\n",
       "      <td>POINT (-73.98621 40.72444)</td>\n",
       "    </tr>\n",
       "    <tr>\n",
       "      <th>4</th>\n",
       "      <td>01M064</td>\n",
       "      <td>M064</td>\n",
       "      <td>M064</td>\n",
       "      <td>P.S. 064 Robert Simon</td>\n",
       "      <td>1</td>\n",
       "      <td>40.723130</td>\n",
       "      <td>-73.981597</td>\n",
       "      <td>POINT (-73.9816 40.72313)</td>\n",
       "    </tr>\n",
       "    <tr>\n",
       "      <th>...</th>\n",
       "      <td>...</td>\n",
       "      <td>...</td>\n",
       "      <td>...</td>\n",
       "      <td>...</td>\n",
       "      <td>...</td>\n",
       "      <td>...</td>\n",
       "      <td>...</td>\n",
       "      <td>...</td>\n",
       "    </tr>\n",
       "    <tr>\n",
       "      <th>1945</th>\n",
       "      <td>88X966</td>\n",
       "      <td>X988</td>\n",
       "      <td>X966</td>\n",
       "      <td>ALC - BRONX EDUCATIONAL CENTER</td>\n",
       "      <td>8</td>\n",
       "      <td>40.816494</td>\n",
       "      <td>-73.890278</td>\n",
       "      <td>POINT (-73.89028 40.81649)</td>\n",
       "    </tr>\n",
       "    <tr>\n",
       "      <th>1946</th>\n",
       "      <td>88X994</td>\n",
       "      <td>X358</td>\n",
       "      <td>X994</td>\n",
       "      <td>ALC - Crotona Academy</td>\n",
       "      <td>12</td>\n",
       "      <td>40.829306</td>\n",
       "      <td>-73.892243</td>\n",
       "      <td>POINT (-73.89224 40.82931)</td>\n",
       "    </tr>\n",
       "    <tr>\n",
       "      <th>1947</th>\n",
       "      <td>88X995</td>\n",
       "      <td>X896</td>\n",
       "      <td>X995</td>\n",
       "      <td>ALC - Rose Hill Academy</td>\n",
       "      <td>10</td>\n",
       "      <td>40.857248</td>\n",
       "      <td>-73.903165</td>\n",
       "      <td>POINT (-73.90316 40.85725)</td>\n",
       "    </tr>\n",
       "    <tr>\n",
       "      <th>1948</th>\n",
       "      <td>88X996</td>\n",
       "      <td>X450</td>\n",
       "      <td>X996</td>\n",
       "      <td>ALC - Stevenson Campus</td>\n",
       "      <td>8</td>\n",
       "      <td>40.821218</td>\n",
       "      <td>-73.855930</td>\n",
       "      <td>POINT (-73.85593 40.82122)</td>\n",
       "    </tr>\n",
       "    <tr>\n",
       "      <th>1949</th>\n",
       "      <td>93M359</td>\n",
       "      <td>M882</td>\n",
       "      <td>M359</td>\n",
       "      <td>Dream Program</td>\n",
       "      <td>2</td>\n",
       "      <td>40.747398</td>\n",
       "      <td>-73.992832</td>\n",
       "      <td>POINT (-73.99283 40.7474)</td>\n",
       "    </tr>\n",
       "  </tbody>\n",
       "</table>\n",
       "<p>1950 rows × 8 columns</p>\n",
       "</div>"
      ],
      "text/plain": [
       "         ATS Building_C Location_C                            Name  \\\n",
       "0     01M015       M015       M015       P.S. 015 Roberto Clemente   \n",
       "1     01M020       M020       M020            P.S. 020 Anna Silver   \n",
       "2     01M034       M034       M034  P.S. 034 Franklin D. Roosevelt   \n",
       "3     01M063       M063       M063       The STAR Academy - P.S.63   \n",
       "4     01M064       M064       M064           P.S. 064 Robert Simon   \n",
       "...      ...        ...        ...                             ...   \n",
       "1945  88X966       X988       X966  ALC - BRONX EDUCATIONAL CENTER   \n",
       "1946  88X994       X358       X994           ALC - Crotona Academy   \n",
       "1947  88X995       X896       X995         ALC - Rose Hill Academy   \n",
       "1948  88X996       X450       X996          ALC - Stevenson Campus   \n",
       "1949  93M359       M882       M359                   Dream Program   \n",
       "\n",
       "      Geographic   Latitude  Longitude                    geometry  \n",
       "0              1  40.722075 -73.978747  POINT (-73.97875 40.72208)  \n",
       "1              1  40.721305 -73.986312  POINT (-73.98631 40.72131)  \n",
       "2              1  40.726008 -73.975058  POINT (-73.97506 40.72601)  \n",
       "3              1  40.724440 -73.986214  POINT (-73.98621 40.72444)  \n",
       "4              1  40.723130 -73.981597   POINT (-73.9816 40.72313)  \n",
       "...          ...        ...        ...                         ...  \n",
       "1945           8  40.816494 -73.890278  POINT (-73.89028 40.81649)  \n",
       "1946          12  40.829306 -73.892243  POINT (-73.89224 40.82931)  \n",
       "1947          10  40.857248 -73.903165  POINT (-73.90316 40.85725)  \n",
       "1948           8  40.821218 -73.855930  POINT (-73.85593 40.82122)  \n",
       "1949           2  40.747398 -73.992832   POINT (-73.99283 40.7474)  \n",
       "\n",
       "[1950 rows x 8 columns]"
      ]
     },
     "execution_count": 35,
     "metadata": {},
     "output_type": "execute_result"
    }
   ],
   "source": [
    "schoolpoints_gdf"
   ]
  },
  {
   "cell_type": "markdown",
   "id": "6eaecfe0",
   "metadata": {},
   "source": [
    "---\n",
    "## Building a map: Schools, districts, and sensors <a name=\"map\"></a>"
   ]
  },
  {
   "cell_type": "code",
   "execution_count": 36,
   "id": "afe013cc",
   "metadata": {},
   "outputs": [
    {
     "data": {
      "image/png": "[encoded data removed]",
      "text/plain": [
       "<Figure size 1000x1000 with 1 Axes>"
      ]
     },
     "metadata": {},
     "output_type": "display_data"
    }
   ],
   "source": [
    "# Set up the plot\n",
    "fig, ax = plt.subplots(figsize=(10, 10))\n",
    "\n",
    "# Plot school districts as polygons\n",
    "districts_gdf.plot(ax=ax, color='lightgrey', edgecolor='black', alpha=0.5)\n",
    "\n",
    "# Plot sensor locations as points\n",
    "sensors_gdf.plot(ax=ax, marker='o', color='blue', markersize=5, label=\"Sensors\")\n",
    "\n",
    "# Plot school locations as points\n",
    "schoolpoints_gdf.plot(ax=ax, marker='o', color='red', markersize=3, label=\"Schools\", alpha=0.5)\n",
    "\n",
    "# Add a title and legend\n",
    "plt.title(\"Schools and Sensor Locations\")\n",
    "plt.xlabel(\"Longitude\")\n",
    "plt.ylabel(\"Latitude\")\n",
    "plt.legend()\n",
    "\n",
    "# Display the plot\n",
    "plt.show()"
   ]
  },
  {
   "cell_type": "markdown",
   "id": "bc279a64",
   "metadata": {},
   "source": [
    "There is only a small region where sensors are located on the school districts map. Let's shrink the map using a bounding box."
   ]
  },
  {
   "cell_type": "code",
   "execution_count": 37,
   "id": "2b205649",
   "metadata": {},
   "outputs": [
    {
     "data": {
      "image/png": "[encoded data removed]",
      "text/plain": [
       "<Figure size 1000x1000 with 1 Axes>"
      ]
     },
     "metadata": {},
     "output_type": "display_data"
    }
   ],
   "source": [
    "# Define a buffer distance (so no sensor is lying directly on the boundary of the map)\n",
    "buffer_distance = 0.01\n",
    "\n",
    "# Calculate the bounding box for the sensor data\n",
    "minx, miny, maxx, maxy = sensors_gdf.total_bounds\n",
    "\n",
    "# Expand the bounding box by the buffer distance\n",
    "expanded_minx = minx - buffer_distance\n",
    "expanded_miny = miny - buffer_distance\n",
    "expanded_maxx = maxx + buffer_distance\n",
    "expanded_maxy = maxy + buffer_distance\n",
    "\n",
    "# Plot school districts and sensor points within the bounding box\n",
    "fig, ax = plt.subplots(figsize=(10, 10))\n",
    "\n",
    "# Plot the school districts\n",
    "districts_gdf.plot(ax=ax, color='lightgrey', edgecolor='black', alpha=0.5)\n",
    "\n",
    "# Plot the sensor locations\n",
    "sensors_gdf.plot(ax=ax, marker='o', color='blue', markersize=5)\n",
    "\n",
    "# Plot school locations as points\n",
    "schoolpoints_gdf.plot(ax=ax, marker='o', color='red', markersize=3, label=\"Schools\", alpha=0.5)\n",
    "\n",
    "# Set the plot limits to the bounding box\n",
    "ax.set_xlim(expanded_minx, expanded_maxx)\n",
    "ax.set_ylim(expanded_miny, expanded_maxy)\n",
    "\n",
    "# Add district names as labels\n",
    "for idx, row in districts_gdf.iterrows():\n",
    "    # Calculate the centroid of the district for labeling\n",
    "    centroid = row.geometry.centroid\n",
    "    ax.annotate(row['school_dis'],\n",
    "                xy=(centroid.x, centroid.y),\n",
    "                horizontalalignment='center',\n",
    "                fontsize=10,\n",
    "                color='gray')\n",
    "\n",
    "# Add title and labels\n",
    "plt.title(\"School and Sensor Locations (Zoomed In)\")\n",
    "plt.xlabel(\"Longitude\")\n",
    "plt.ylabel(\"Latitude\")\n",
    "plt.show()"
   ]
  },
  {
   "cell_type": "markdown",
   "id": "a65e00c4",
   "metadata": {},
   "source": [
    "There are a number of schools that are not near our sensors that we can eliminate from our analysis.\n",
    "\n",
    "In our analysis, we will only include schools that are within a 2 km radius of each sensor. We will create a map to visualize this:"
   ]
  },
  {
   "cell_type": "code",
   "execution_count": null,
   "id": "74194590",
   "metadata": {},
   "outputs": [],
   "source": [
    "# Define a buffer distance\n",
    "buffer_distance = 0.01\n",
    "\n",
    "# Calculate the bounding box for the sensor data\n",
    "minx, miny, maxx, maxy = sensors_gdf.total_bounds\n",
    "\n",
    "# Expand the bounding box by the buffer distance\n",
    "expanded_minx = minx - buffer_distance\n",
    "expanded_miny = miny - buffer_distance\n",
    "expanded_maxx = maxx + buffer_distance\n",
    "expanded_maxy = maxy + buffer_distance\n",
    "\n",
    "# Project to a local coordinate system (New York State Plane)\n",
    "sensors_projected = sensors_gdf.to_crs(epsg=2263)\n",
    "districts_projected = districts_gdf.to_crs(epsg=2263)\n",
    "schoolpoints_projected = schoolpoints_gdf.to_crs(epsg=2263)\n",
    "\n",
    "# Create 2km buffers around sensor points (2000 meters = 2km)\n",
    "buffer_gdf = gpd.GeoDataFrame(geometry=sensors_projected.geometry.buffer(2000))\n",
    "# Project buffers back to WGS 84 for plotting\n",
    "buffer_gdf = buffer_gdf.set_crs(sensors_projected.crs).to_crs(sensors_gdf.crs)\n",
    "\n",
    "# Plot\n",
    "fig, ax = plt.subplots(figsize=(10, 10))\n",
    "\n",
    "# Plot the school districts\n",
    "districts_gdf.plot(ax=ax, color='lightgrey', edgecolor='black', alpha=0.5)\n",
    "\n",
    "# Plot the buffer zones\n",
    "buffer_gdf.plot(ax=ax, color='blue', alpha=0.1)\n",
    "\n",
    "# Plot the sensor locations\n",
    "sensors_gdf.plot(ax=ax, marker='o', color='black', markersize=5, label=\"Sensors\")\n",
    "\n",
    "# Plot school locations as points\n",
    "schoolpoints_gdf.plot(ax=ax, marker='o', color='red', markersize=3, label=\"Schools\", alpha=0.5)\n",
    "\n",
    "# Set the plot limits to the bounding box\n",
    "ax.set_xlim(expanded_minx, expanded_maxx)\n",
    "ax.set_ylim(expanded_miny, expanded_maxy)\n",
    "\n",
    "# Add district names as labels\n",
    "for idx, row in districts_gdf.iterrows():\n",
    "    centroid = row.geometry.centroid\n",
    "    ax.annotate(row['school_dis'],\n",
    "                xy=(centroid.x, centroid.y),\n",
    "                horizontalalignment='center',\n",
    "                fontsize=10,\n",
    "                color='gray')\n",
    "\n",
    "# Add title and labels\n",
    "plt.title(\"School and Sensor Locations with 2km Coverage Areas\")\n",
    "plt.xlabel(\"Longitude\")\n",
    "plt.ylabel(\"Latitude\")\n",
    "plt.legend()\n",
    "plt.show()\n",
    "\n",
    "# Count schools within buffer zones using projected coordinates for accuracy\n",
    "schools_within_buffer = []\n",
    "for buffer in sensors_projected.geometry.buffer(2000):\n",
    "    schools_in_range = schoolpoints_projected[schoolpoints_projected.geometry.within(buffer)]\n",
    "    schools_within_buffer.extend(schools_in_range.index.tolist())\n",
    "\n",
    "# Get unique schools\n",
    "unique_schools_covered = len(set(schools_within_buffer))\n",
    "total_schools = len(schoolpoints_gdf)\n",
    "\n",
    "print(f\"Number of schools within 2km of sensors: {unique_schools_covered}\")\n",
    "print(f\"Total number of schools: {total_schools}\")\n",
    "print(f\"Percentage of schools covered: {(unique_schools_covered/total_schools)*100:.1f}%\")"
   ]
  },
  {
   "cell_type": "markdown",
   "id": "5e345974",
   "metadata": {},
   "source": [
    "### Find closest schools to each sensor <a name=\"closest-schools\"></a>"
   ]
  },
  {
   "cell_type": "markdown",
   "id": "917d5963",
   "metadata": {},
   "source": [
    "Let's identify all schools within a 2 km radius of each sensor.\n",
    "\n",
    "For each sensor, we will identify all schools within a 2 km radius of that sensor. Then, we will use this list of schools to create a dataframe in which all sensor IDs are one-hot encoded. This will allow us to identify which specific schools are covered by which specific sensors. \n",
    "\n",
    "We will later use this information to pull annotations on sound recordings for each school."
   ]
  },
  {
   "cell_type": "code",
   "execution_count": null,
   "id": "58e9ec02",
   "metadata": {},
   "outputs": [],
   "source": [
    "# First, project the data\n",
    "sensors_projected = sensors_gdf.to_crs(epsg=2263)\n",
    "schoolpoints_projected = schoolpoints_gdf.to_crs(epsg=2263)\n",
    "\n",
    "# Get unique sensor locations\n",
    "unique_sensors = sensors_projected.groupby('sensor_id').agg({\n",
    "    'geometry': 'first'\n",
    "}).reset_index()\n",
    "\n",
    "matches = []\n",
    "\n",
    "# For each unique sensor\n",
    "for _, sensor_row in unique_sensors.iterrows():\n",
    "    # Create 2km buffer (2000 meters)\n",
    "    sensor_buffer = sensor_row.geometry.buffer(2000)\n",
    "    \n",
    "    # Find schools within buffer\n",
    "    schools_in_range = schoolpoints_projected[schoolpoints_projected.geometry.within(sensor_buffer)]\n",
    "    \n",
    "    # If any schools are found, add them to our matches list\n",
    "    if not schools_in_range.empty:\n",
    "        # Convert sensor point back to original CRS for lat/lon\n",
    "        sensor_point = gpd.GeoSeries([sensor_row.geometry], crs=sensors_projected.crs).to_crs(sensors_gdf.crs)[0]\n",
    "        \n",
    "        for _, school in schools_in_range.iterrows():\n",
    "            # Calculate distance in meters, then convert to km\n",
    "            distance = sensor_row.geometry.distance(school.geometry) / 1000\n",
    "            matches.append({\n",
    "                'sensor_id': sensor_row['sensor_id'],\n",
    "                'sensor_lat': sensor_point.y,\n",
    "                'sensor_lon': sensor_point.x,\n",
    "                'school_ats': school['ATS'],\n",
    "                'school_name': school['Name'],\n",
    "                'school_lat': school['Latitude'],\n",
    "                'school_lon': school['Longitude'],\n",
    "                'distance_km': distance\n",
    "            })\n",
    "\n",
    "# Create DataFrame from matches\n",
    "coverage_df = pd.DataFrame(matches)\n",
    "\n",
    "# Print some diagnostics\n",
    "print(f\"Number of unique sensors: {len(unique_sensors)}\")\n",
    "print(f\"Number of unique schools in matches: {len(coverage_df['school_name'].unique())}\")\n",
    "print(f\"Distance range: {coverage_df['distance_km'].min():.2f}km to {coverage_df['distance_km'].max():.2f}km\")\n",
    "\n",
    "# Create schools_multiple_sensors with the same process as before\n",
    "schools_multiple_sensors = (\n",
    "    coverage_df.groupby(['school_name', 'school_ats'])\n",
    "    .agg({\n",
    "        'sensor_id': ['count', list],\n",
    "        'distance_km': ['min', 'max']\n",
    "    })\n",
    "    .reset_index()\n",
    ")\n",
    "schools_multiple_sensors.columns = ['school_name', 'school_ats', 'num_sensors', 'sensor_ids', 'min_distance_km', 'max_distance_km']\n",
    "schools_multiple_sensors = schools_multiple_sensors.sort_values('num_sensors', ascending=False)\n",
    "\n",
    "# Print more diagnostics\n",
    "print(f\"\\nNumber of schools in coverage matrix: {len(schools_multiple_sensors)}\")\n",
    "\n",
    "# Let's also look at the distribution of schools per sensor\n",
    "sensor_school_counts = coverage_df.groupby('sensor_id')['school_name'].nunique()\n",
    "print(\"\\nDistribution of schools per sensor:\")\n",
    "print(sensor_school_counts.describe())"
   ]
  },
  {
   "cell_type": "code",
   "execution_count": null,
   "id": "4afce193",
   "metadata": {},
   "outputs": [],
   "source": [
    "# First get the number of recordings per sensor\n",
    "recordings_per_sensor = sensors_gdf.groupby('sensor_id').size()\n",
    "\n",
    "def create_sensor_coverage_matrix(schools_df):\n",
    "    # Get all unique sensor IDs\n",
    "    all_sensors = set()\n",
    "    for sensor_list in schools_df['sensor_ids']:\n",
    "        all_sensors.update(sensor_list)\n",
    "    \n",
    "    # Create a dictionary to store the binary coverage data\n",
    "    coverage_dict = {\n",
    "        'school_name': [],\n",
    "        'school_ats': [],\n",
    "        'num_sensors': [],\n",
    "        'num_recordings': [],  # New column\n",
    "        'min_distance_km': [],\n",
    "        'max_distance_km': []\n",
    "    }\n",
    "    # Add a column for each sensor\n",
    "    for sensor in all_sensors:\n",
    "        coverage_dict[f'sensor_{sensor}'] = []\n",
    "    \n",
    "    # Fill the dictionary\n",
    "    for _, row in schools_df.iterrows():\n",
    "        coverage_dict['school_name'].append(row['school_name'])\n",
    "        coverage_dict['school_ats'].append(row['school_ats'])\n",
    "        coverage_dict['num_sensors'].append(row['num_sensors'])\n",
    "        coverage_dict['min_distance_km'].append(row['min_distance_km'])\n",
    "        coverage_dict['max_distance_km'].append(row['max_distance_km'])\n",
    "        \n",
    "        # Calculate total recordings for this school\n",
    "        total_recordings = sum(recordings_per_sensor[sensor] for sensor in row['sensor_ids'])\n",
    "        coverage_dict['num_recordings'].append(total_recordings)\n",
    "        \n",
    "        # Fill sensor columns\n",
    "        for sensor in all_sensors:\n",
    "            coverage_dict[f'sensor_{sensor}'].append(1 if sensor in row['sensor_ids'] else 0)\n",
    "    \n",
    "    # Create DataFrame\n",
    "    coverage_matrix = pd.DataFrame(coverage_dict)\n",
    "    # Set school_name as index\n",
    "    coverage_matrix.set_index('school_name', inplace=True)\n",
    "    \n",
    "    return coverage_matrix\n",
    "\n",
    "# Create the coverage matrix\n",
    "coverage_matrix = create_sensor_coverage_matrix(schools_multiple_sensors)\n",
    "\n",
    "# Sort columns for better readability\n",
    "sensor_cols = [col for col in coverage_matrix.columns if col.startswith('sensor_')]\n",
    "other_cols = [col for col in coverage_matrix.columns if not col.startswith('sensor_')]\n",
    "coverage_matrix = coverage_matrix[other_cols + sorted(sensor_cols)]"
   ]
  },
  {
   "cell_type": "markdown",
   "id": "7c8804a7",
   "metadata": {},
   "source": [
    "### Map of schools within coverage area <a name=\"coverage-map\"></a>\n",
    "As we saw earlier, there are a number of schools that will not be covered by our analysis because they are not located close enough to a sensor. Let's create a new map with *only* the schools that will be covered by our analysis. Again, these are schools that are located within 2 km of a sensor."
   ]
  },
  {
   "cell_type": "code",
   "execution_count": null,
   "id": "3b2c161c",
   "metadata": {},
   "outputs": [],
   "source": [
    "# Create list of schools from our coverage matrix\n",
    "coverage_schools = coverage_matrix['school_ats'].unique()\n",
    "\n",
    "# Use this list to filter our schoolpoints_gdf\n",
    "schoolpoints_gdf_coverage = schoolpoints_gdf[schoolpoints_gdf['ATS'].isin(coverage_schools)]"
   ]
  },
  {
   "cell_type": "code",
   "execution_count": null,
   "id": "d182d5f9",
   "metadata": {
    "scrolled": true
   },
   "outputs": [],
   "source": [
    "# Project to a local coordinate system (New York State Plane)\n",
    "sensors_projected = sensors_gdf.to_crs(epsg=2263)\n",
    "schoolpoints_projected = schoolpoints_gdf.to_crs(epsg=2263)\n",
    "\n",
    "# First, let's get unique sensor locations by sensor_id\n",
    "unique_sensors = sensors_projected.groupby('sensor_id').agg({\n",
    "    'geometry': 'first'  # Take the first location for each sensor\n",
    "}).reset_index()\n",
    "\n",
    "# Create a list to store all matches\n",
    "matches = []\n",
    "\n",
    "# For each unique sensor\n",
    "for _, sensor_row in unique_sensors.iterrows():\n",
    "    # Create 2km buffer (2000 meters)\n",
    "    sensor_buffer = sensor_row.geometry.buffer(2000)\n",
    "    \n",
    "    # Find schools within buffer\n",
    "    schools_in_range = schoolpoints_projected[schoolpoints_projected.geometry.within(sensor_buffer)]\n",
    "    \n",
    "    # If any schools are found, add them to our matches list\n",
    "    if not schools_in_range.empty:\n",
    "        # Convert back to original CRS for lat/lon\n",
    "        sensor_point = gpd.GeoSeries([sensor_row.geometry], crs=sensors_projected.crs).to_crs(sensors_gdf.crs)[0]\n",
    "        \n",
    "        for _, school in schools_in_range.iterrows():\n",
    "            # Calculate distance in meters, then convert to km\n",
    "            distance = sensor_row.geometry.distance(school.geometry) / 1000\n",
    "            matches.append({\n",
    "                'sensor_id': sensor_row['sensor_id'],\n",
    "                'sensor_lat': sensor_point.y,\n",
    "                'sensor_lon': sensor_point.x,\n",
    "                'school_ats': school['ATS'],\n",
    "                'school_name': school['Name'],\n",
    "                'school_lat': school['Latitude'],\n",
    "                'school_lon': school['Longitude'],\n",
    "                'distance_km': distance\n",
    "            })\n",
    "\n",
    "# Create DataFrame from matches\n",
    "coverage_df = pd.DataFrame(matches)\n",
    "\n",
    "# Sort by sensor_id and distance\n",
    "coverage_df = coverage_df.sort_values(['sensor_id', 'distance_km'])\n",
    "\n",
    "# Print summary statistics\n",
    "print(f\"Total number of unique sensor-school pairs within 2km: {len(coverage_df)}\")\n",
    "print(f\"Number of unique sensors: {len(unique_sensors)}\")\n",
    "print(f\"Total number of recordings: {len(sensors_gdf)}\")\n",
    "print(f\"Number of unique schools: {len(coverage_df['school_name'].unique())}\")\n",
    "\n",
    "print(f\"\\nNumber of schools covered by each sensor:\")\n",
    "sensor_coverage = coverage_df.groupby('sensor_id').size().sort_values(ascending=False)\n",
    "print(sensor_coverage)\n",
    "\n",
    "print(f\"\\nNumber of sensors covering each school:\")\n",
    "school_coverage = coverage_df.groupby(['school_name', 'school_ats']).size().sort_values(ascending=False)\n",
    "print(school_coverage)\n",
    "\n",
    "# Create a summary DataFrame showing schools with multiple sensors\n",
    "schools_multiple_sensors = (\n",
    "    coverage_df.groupby(['school_name', 'school_ats'])\n",
    "    .agg({\n",
    "        'sensor_id': ['count', list],\n",
    "        'distance_km': ['min', 'max']\n",
    "    })\n",
    "    .reset_index()\n",
    ")\n",
    "schools_multiple_sensors.columns = ['school_name', 'school_ats', 'num_sensors', 'sensor_ids', 'min_distance_km', 'max_distance_km']\n",
    "schools_multiple_sensors = schools_multiple_sensors.sort_values('num_sensors', ascending=False)\n",
    "\n",
    "print(\"\\nSchools covered by multiple sensors:\")\n",
    "print(schools_multiple_sensors[schools_multiple_sensors['num_sensors'] > 1])\n",
    "\n",
    "# Additional information about recordings per sensor\n",
    "recordings_per_sensor = sensors_gdf.groupby('sensor_id').size().sort_values(ascending=False)\n",
    "print(\"\\nNumber of recordings per sensor:\")\n",
    "print(recordings_per_sensor)\n",
    "\n",
    "# Let's also verify the distance calculations\n",
    "print(\"\\nDistance statistics (km):\")\n",
    "print(coverage_df['distance_km'].describe())"
   ]
  },
  {
   "cell_type": "code",
   "execution_count": null,
   "id": "fc87ae80",
   "metadata": {},
   "outputs": [],
   "source": [
    "# Define a buffer distance (so no sensor is lying directly on the boundary of the map)\n",
    "buffer_distance = 0.01\n",
    "\n",
    "# Calculate the bounding box for the sensor data\n",
    "minx, miny, maxx, maxy = sensors_gdf.total_bounds\n",
    "\n",
    "# Expand the bounding box by the buffer distance\n",
    "expanded_minx = minx - buffer_distance\n",
    "expanded_miny = miny - buffer_distance\n",
    "expanded_maxx = maxx + buffer_distance\n",
    "expanded_maxy = maxy + buffer_distance\n",
    "\n",
    "# Plot school districts and sensor points within the bounding box\n",
    "fig, ax = plt.subplots(figsize=(10, 10))\n",
    "\n",
    "# Plot the school districts\n",
    "districts_gdf.plot(ax=ax, color='lightgrey', edgecolor='black', alpha=0.5)\n",
    "\n",
    "# Plot the sensor locations\n",
    "sensors_gdf.plot(ax=ax, marker='o', color='blue', markersize=5)\n",
    "\n",
    "# Plot school locations as points\n",
    "schoolpoints_gdf_coverage.plot(ax=ax, marker='o', color='red', markersize=3, label=\"Schools\", alpha=0.5)\n",
    "\n",
    "# Set the plot limits to the bounding box\n",
    "ax.set_xlim(expanded_minx, expanded_maxx)\n",
    "ax.set_ylim(expanded_miny, expanded_maxy)\n",
    "\n",
    "# Add district names as labels\n",
    "for idx, row in districts_gdf.iterrows():\n",
    "    # Calculate the centroid of the district for labeling\n",
    "    centroid = row.geometry.centroid\n",
    "    ax.annotate(row['school_dis'],\n",
    "                xy=(centroid.x, centroid.y),\n",
    "                horizontalalignment='center',\n",
    "                fontsize=10,\n",
    "                color='gray')\n",
    "\n",
    "# Add title and labels\n",
    "plt.title(\"Sensor Locations and Schools within 2 km of a Sensor (Zoomed In)\")\n",
    "plt.xlabel(\"Longitude\")\n",
    "plt.ylabel(\"Latitude\")\n",
    "plt.show()"
   ]
  },
  {
   "cell_type": "markdown",
   "id": "c8ffe227",
   "metadata": {},
   "source": [
    "### Save for later retrieval"
   ]
  },
  {
   "cell_type": "code",
   "execution_count": null,
   "id": "6d0380cc",
   "metadata": {},
   "outputs": [],
   "source": [
    "%store coverage_matrix"
   ]
  },
  {
   "cell_type": "markdown",
   "id": "3163c6a5",
   "metadata": {},
   "source": [
    "---"
   ]
  },
  {
   "cell_type": "markdown",
   "id": "48c257dc",
   "metadata": {},
   "source": [
    "## School quality reports <a name=\"school-quality\"></a>\n",
    "School quality reports are freely available on the New York City Public Schools website. Source page is [here](https://infohub.nyced.org/reports/students-and-schools/school-quality/school-quality-reports-and-resources/school-quality-report-citywide-data).\n",
    "\n",
    "We have school quality reports from elementary, middle, and high schools for the academic years 2016-2017 through 2018-2019. Each school year is comprised of two separate reports, both in Excel format: one containing elementary and middle school quality metrics, and another containing high school quality metrics."
   ]
  },
  {
   "cell_type": "markdown",
   "id": "8da1382e",
   "metadata": {},
   "source": [
    "### Load school quality reports <a name=\"load-quality-data\"></a>\n",
    "We will load the school quality reports into their own `ExcelFile` objects."
   ]
  },
  {
   "cell_type": "code",
   "execution_count": null,
   "id": "a09b2017",
   "metadata": {},
   "outputs": [],
   "source": [
    "# 2016-2017 school year\n",
    "lower_grades_16_17 = pd.ExcelFile('./School Quality Reports/201617_ems_sqr.xlsx')\n",
    "high_school_16_17 = pd.ExcelFile('./School Quality Reports/201617_hs_sqr.xlsx')\n",
    "\n",
    "# 2017-2018 school year\n",
    "lower_grades_17_18 = pd.ExcelFile('./School Quality Reports/201718_ems_sqr.xlsx')\n",
    "high_school_17_18 = pd.ExcelFile('./School Quality Reports/201718_hs_sqr.xlsx')\n",
    "\n",
    "# 2018-2019 school year\n",
    "lower_grades_18_19 = pd.ExcelFile('./School Quality Reports/201718_ems_sqr.xlsx')\n",
    "high_school_18_19 = pd.ExcelFile('./School Quality Reports/201718_hs_sqr.xlsx')"
   ]
  },
  {
   "cell_type": "markdown",
   "id": "59ee63b5",
   "metadata": {},
   "source": [
    "Using these `ExcelFile` objects, we will retrieve the sheets `\"Summary\"` and `\"Student Achievement\"` from each Excel file and load each into a dictionary, `summary_sheets` and `achievement_sheets` respectively.\n",
    "\n",
    "In both of these steps, we will use a list of school IDs to filter the sheets. Let's create this list here:"
   ]
  },
  {
   "cell_type": "code",
   "execution_count": null,
   "id": "743de811",
   "metadata": {},
   "outputs": [],
   "source": [
    "# Get the list of school IDs to filter on\n",
    "school_ids = coverage_matrix['school_ats'].unique()"
   ]
  },
  {
   "cell_type": "code",
   "execution_count": null,
   "id": "99c0a1fd",
   "metadata": {},
   "outputs": [],
   "source": [
    "# Check length\n",
    "len(school_ids)"
   ]
  },
  {
   "cell_type": "code",
   "execution_count": null,
   "id": "dbbaa5ea",
   "metadata": {},
   "outputs": [],
   "source": [
    "type(school_ids)"
   ]
  },
  {
   "cell_type": "markdown",
   "id": "d95f6147",
   "metadata": {},
   "source": [
    "#### Summary sheets"
   ]
  },
  {
   "cell_type": "markdown",
   "id": "5f770258",
   "metadata": {},
   "source": [
    "Let's parse the `\"Summary\"` sheets from each Excel workbook loaded in the previous step."
   ]
  },
  {
   "cell_type": "code",
   "execution_count": null,
   "id": "48842a18",
   "metadata": {},
   "outputs": [],
   "source": [
    "lg_reports = [lower_grades_16_17, lower_grades_17_18, lower_grades_18_19] \n",
    "hs_reports = [high_school_16_17, high_school_17_18, high_school_18_19]\n",
    "\n",
    "summary_sheets = {}\n",
    "\n",
    "# Parsing for K-8 (lower grades) reports\n",
    "for idx, report in enumerate(lg_reports):\n",
    "    df = report.parse('Summary')\n",
    "    \n",
    "    # Assign the first row as the header and drop it from the DataFrame\n",
    "    df.columns = df.iloc[0]\n",
    "    df = df.drop(0).reset_index(drop=True)\n",
    "    \n",
    "    # Store the processed DataFrame in a dictionary\n",
    "    summary_sheets[f'lg_summary_{16+idx}_{17+idx}'] = df\n",
    "\n",
    "# Parsing for high school reports\n",
    "for idx, report in enumerate(hs_reports):\n",
    "    df = report.parse('Summary')\n",
    "    \n",
    "    # Assign the first row as the header and drop it from the DataFrame\n",
    "    df.columns = df.iloc[0]\n",
    "    df = df.drop(0).reset_index(drop=True)\n",
    "    \n",
    "    # Store the processed DataFrame in a dictionary\n",
    "    summary_sheets[f'hs_summary_{16+idx}_{17+idx}'] = df"
   ]
  },
  {
   "cell_type": "markdown",
   "id": "eb637aac",
   "metadata": {},
   "source": [
    "Now, let's filter the `DBN` column to include schools from our `coverage_matrix`."
   ]
  },
  {
   "cell_type": "code",
   "execution_count": null,
   "id": "2e1e61e7",
   "metadata": {},
   "outputs": [],
   "source": [
    "# Loop through each achievement sheet DataFrame in the dictionary and filter it\n",
    "coverage_summary_sheets = {}\n",
    "for key, df in summary_sheets.items():\n",
    "    # Filter the DataFrame to only include rows where DBN is in school_ids\n",
    "    coverage_summary_sheets[key] = df[df['DBN'].isin(school_ids)].reset_index(drop=True)"
   ]
  },
  {
   "cell_type": "code",
   "execution_count": null,
   "id": "3c5ee7d4",
   "metadata": {},
   "outputs": [],
   "source": [
    "# Do the same for schools that are not in our coverage area\n",
    "non_coverage_summary_sheets = {}\n",
    "for key, df in summary_sheets.items():\n",
    "    non_coverage_summary_sheets[key] = df[~df['DBN'].isin(school_ids)].reset_index(drop=True)"
   ]
  },
  {
   "cell_type": "markdown",
   "id": "067b1ddb",
   "metadata": {},
   "source": [
    "Let's define a dictionary in which we name the features we are interested in including as keys. As values, we will write the new name for the column in the dataframe we will create."
   ]
  },
  {
   "cell_type": "code",
   "execution_count": null,
   "id": "29eebd60",
   "metadata": {},
   "outputs": [],
   "source": [
    "# Define column mapping dictionary for summary metrics (old_name: new_name)\n",
    "summary_columns = {\n",
    "    # School identifiers\n",
    "    'DBN': 'DBN',\n",
    "    'School Name': 'school_name',\n",
    "    \n",
    "    # Enrollment\n",
    "    'Enrollment': 'enrollment',\n",
    "    \n",
    "    # Student population characteristics\n",
    "    'Percent English Language Learners': 'ell_pct',\n",
    "    'Percent Students with Disabilities': 'disability_pct',\n",
    "    'Percent Self-Contained': 'self_contained_pct',\n",
    "    \n",
    "    # Demographics\n",
    "    'Percent Asian': 'asian_pct',\n",
    "    'Percent Black': 'black_pct',\n",
    "    'Percent Hispanic': 'hispanic_pct',\n",
    "    'Percent White': 'white_pct',\n",
    "    \n",
    "    # Attendance metrics\n",
    "    'Student Attendance Rate': 'student_attendance_rate',\n",
    "    'Percent of Students Chronically Absent': 'chronic_absence_pct',\n",
    "    'Teacher Attendance Rate': 'teacher_attendance_rate'\n",
    "}"
   ]
  },
  {
   "cell_type": "markdown",
   "id": "d0da8f29",
   "metadata": {},
   "source": [
    "Now, let's use this list to loop through our `coverage_summary_sheets` and `non_coverage_summary_sheets` dictionaries to create new dataframes that include only the features we are interested in.\n",
    "\n",
    "In this section, we will also define a function `convert_datatypes` to be used in our loop, which will convert columns to the appropriate datatype as we go."
   ]
  },
  {
   "cell_type": "code",
   "execution_count": null,
   "id": "df5a528d",
   "metadata": {},
   "outputs": [],
   "source": [
    "def convert_datatypes(df, dtype_dict):\n",
    "    \"\"\"\n",
    "    Convert column data types according to specified dictionary\n",
    "    Handles percentage strings, currency strings, etc.\n",
    "    \"\"\"\n",
    "    df = df.copy()  # Create copy to avoid modifying original\n",
    "    \n",
    "    for col, dtype in dtype_dict.items():\n",
    "        if col in df.columns:\n",
    "            try:\n",
    "                if dtype in ['float64', 'int64']:\n",
    "                    # Remove percentage signs and convert to numeric if present\n",
    "                    if df[col].dtype == 'object':\n",
    "                        # Updated string replacement to avoid deprecation warning\n",
    "                        df[col] = df[col].astype(str).str.replace('%', '')\n",
    "                        df[col] = df[col].astype(str).str.replace('$', '')\n",
    "                        df[col] = df[col].astype(str).str.replace(',', '')\n",
    "                    df[col] = pd.to_numeric(df[col], errors='coerce')\n",
    "                    \n",
    "                    if dtype == 'int64':\n",
    "                        df[col] = df[col].astype('int64', errors='ignore')\n",
    "                \n",
    "                elif dtype == 'string':\n",
    "                    df[col] = df[col].astype('string')\n",
    "                \n",
    "                elif dtype == 'boolean':\n",
    "                    df[col] = df[col].astype('boolean')\n",
    "                \n",
    "            except Exception as e:\n",
    "                print(f\"Error converting {col} to {dtype}: {str(e)}\")\n",
    "    \n",
    "    return df"
   ]
  },
  {
   "cell_type": "code",
   "execution_count": null,
   "id": "3853c29f",
   "metadata": {},
   "outputs": [],
   "source": [
    "# Define dictionary for column data types\n",
    "dtype_conversions = {\n",
    "    'enrollment':'int64',\n",
    "    'ell_pct':'float64',\n",
    "    'disability_pct':'float64',\n",
    "    'self_contained_pct':'float64',\n",
    "    'asian_pct':'float64',\n",
    "    'black_pct':'float64',\n",
    "    'hispanic_pct':'float64',\n",
    "    'white_pct':'float64',\n",
    "    'student_attendance_rate':'float64',\n",
    "    'chronic_absence_pct':'float64',\n",
    "    'teacher_attendance_rate':'float64'\n",
    "}"
   ]
  },
  {
   "cell_type": "markdown",
   "id": "8d434fcf",
   "metadata": {},
   "source": [
    "##### Coverage schools"
   ]
  },
  {
   "cell_type": "code",
   "execution_count": null,
   "id": "28e89c13",
   "metadata": {
    "scrolled": false
   },
   "outputs": [],
   "source": [
    "coverage_summary_dfs = []\n",
    "\n",
    "# Loop through the dictionary keys\n",
    "for sheet_name, df in coverage_summary_sheets.items():\n",
    "    # Extract the academic year from the sheet name\n",
    "    academic_year = '20' + sheet_name.split('_')[-2] + '-20' + sheet_name.split('_')[-1]\n",
    "    \n",
    "    # Select and rename columns in one step\n",
    "    temp_df = df[summary_columns.keys()].rename(columns=summary_columns)\n",
    "    \n",
    "    # Convert data types\n",
    "    temp_df = convert_datatypes(temp_df, dtype_conversions)\n",
    "    \n",
    "    # Add academic year column\n",
    "    temp_df['academic_year'] = academic_year\n",
    "    \n",
    "    # Append to our list\n",
    "    coverage_summary_dfs.append(temp_df)\n",
    "\n",
    "# Combine all dataframes\n",
    "coverage_combined_summary_df = pd.concat(coverage_summary_dfs, ignore_index=True)\n",
    "coverage_combined_summary_df = coverage_combined_summary_df.sort_values(['academic_year', 'DBN'])\n",
    "\n",
    "# Verify the conversions worked\n",
    "print(\"\\nFinal data types:\")\n",
    "print(coverage_combined_summary_df.dtypes)\n",
    "\n",
    "# Display info about the combined dataset\n",
    "print(f\"Total number of records: {len(coverage_combined_summary_df)}\")\n",
    "print(f\"\\nAcademic years included: {coverage_combined_summary_df['academic_year'].unique()}\")\n",
    "print(f\"\\nNumber of unique schools: {coverage_combined_summary_df['DBN'].nunique()}\")"
   ]
  },
  {
   "cell_type": "markdown",
   "id": "d1f56de6",
   "metadata": {},
   "source": [
    "##### Non-coverage schools"
   ]
  },
  {
   "cell_type": "code",
   "execution_count": null,
   "id": "01361dcc",
   "metadata": {},
   "outputs": [],
   "source": [
    "non_coverage_summary_dfs = []\n",
    "\n",
    "# Loop through the dictionary keys\n",
    "for sheet_name, df in non_coverage_summary_sheets.items():\n",
    "    # Extract the academic year from the sheet name\n",
    "    academic_year = '20' + sheet_name.split('_')[-2] + '-20' + sheet_name.split('_')[-1]\n",
    "    \n",
    "    # Select and rename columns in one step\n",
    "    temp_df = df[summary_columns.keys()].rename(columns=summary_columns)\n",
    "    \n",
    "    # Convert data types\n",
    "    temp_df = convert_datatypes(temp_df, dtype_conversions)\n",
    "    \n",
    "    # Add academic year column\n",
    "    temp_df['academic_year'] = academic_year\n",
    "    \n",
    "    # Append to our list\n",
    "    non_coverage_summary_dfs.append(temp_df)\n",
    "\n",
    "# Combine all dataframes\n",
    "non_coverage_combined_summary_df = pd.concat(non_coverage_summary_dfs, ignore_index=True)\n",
    "non_coverage_combined_summary_df = non_coverage_combined_summary_df.sort_values(['academic_year', 'DBN'])\n",
    "\n",
    "# Verify the conversions worked\n",
    "print(\"\\nFinal data types:\")\n",
    "print(non_coverage_combined_summary_df.dtypes)\n",
    "\n",
    "# Display info about the combined dataset\n",
    "print(f\"Total number of records: {len(non_coverage_combined_summary_df)}\")\n",
    "print(f\"\\nAcademic years included: {non_coverage_combined_summary_df['academic_year'].unique()}\")\n",
    "print(f\"\\nNumber of unique schools: {non_coverage_combined_summary_df['DBN'].nunique()}\")"
   ]
  },
  {
   "cell_type": "markdown",
   "id": "c60624dc",
   "metadata": {},
   "source": [
    "##### Check missing schools (Summary sheets)\n",
    "Based on the number of unique schools in our `combined_summary_df` dataframe, it looks like we might be missing some data, since the length of our `school_ids` list is `71`. While we won't delve too deep into this discrepancy at this stage in data cleaning, let's keep this in mind during our data exploration phase. For now, let's create a list of missing schools."
   ]
  },
  {
   "cell_type": "code",
   "execution_count": null,
   "id": "4218111e",
   "metadata": {
    "scrolled": true
   },
   "outputs": [],
   "source": [
    "# Get list of unique schools from combined_summary_df\n",
    "summary_schools = coverage_combined_summary_df['DBN'].unique()\n",
    "\n",
    "# Convert both lists to sets for easier comparison\n",
    "school_ids_set = set(school_ids)\n",
    "summary_schools_set = set(summary_schools)\n",
    "\n",
    "# Find schools that are in school_ids but not in summary_schools\n",
    "missing_summary_schools = school_ids_set - summary_schools_set\n",
    "\n",
    "# Print results\n",
    "print(f\"Total schools in school_ids: {len(school_ids)}\")\n",
    "print(f\"Total schools in summary_df: {len(summary_schools)}\")\n",
    "print(f\"\\nNumber of missing schools: {len(missing_summary_schools)}\")\n",
    "print(\"\\nMissing schools:\")\n",
    "for school in sorted(missing_summary_schools):\n",
    "    print(school)\n",
    "\n",
    "# Optional: Save missing schools to a DataFrame for further analysis\n",
    "missing_summary_schools_df = pd.DataFrame({'DBN': list(missing_summary_schools)})"
   ]
  },
  {
   "cell_type": "markdown",
   "id": "9076d725",
   "metadata": {},
   "source": [
    "#### Achievement sheets"
   ]
  },
  {
   "cell_type": "code",
   "execution_count": null,
   "id": "69d7c6cf",
   "metadata": {},
   "outputs": [],
   "source": [
    "# Parsing for achievement_sheets\n",
    "\n",
    "achievement_sheets = {}\n",
    "\n",
    "# Parsing for K-8 (lower grades) reports\n",
    "for idx, report in enumerate(lg_reports):\n",
    "    df = report.parse('Student Achievement')\n",
    "    \n",
    "    # Assign the first row as the header and drop it from the DataFrame\n",
    "    df.columns = df.iloc[0]\n",
    "    df = df.drop(0).reset_index(drop=True)\n",
    "    \n",
    "    # Store the processed DataFrame in a dictionary\n",
    "    achievement_sheets[f'lg_achievement_{16+idx}_{17+idx}'] = df\n",
    "\n",
    "# Parsing for high school reports\n",
    "for idx, report in enumerate(hs_reports):\n",
    "    df = report.parse('Student Achievement')\n",
    "    \n",
    "    # Assign the first row as the header and drop it from the DataFrame\n",
    "    df.columns = df.iloc[0]\n",
    "    df = df.drop(0).reset_index(drop=True)\n",
    "    \n",
    "    # Store the processed DataFrame in a dictionary\n",
    "    achievement_sheets[f'hs_achievement_{16+idx}_{17+idx}'] = df"
   ]
  },
  {
   "cell_type": "markdown",
   "id": "690dbea7",
   "metadata": {},
   "source": [
    "Just as we did for `summary_sheets`, let's filter `achievement_sheets` for schools that are in our `coverage_matrix` on `DBN`:"
   ]
  },
  {
   "cell_type": "code",
   "execution_count": null,
   "id": "4651c637",
   "metadata": {},
   "outputs": [],
   "source": [
    "# Loop through each achievement sheet DataFrame in the dictionary and filter it\n",
    "coverage_achievement_sheets = {}\n",
    "non_coverage_achievement_sheets = {}\n",
    "for key, df in achievement_sheets.items():\n",
    "    # Filter the DataFrame to only include rows where DBN is in school_ids\n",
    "    coverage_achievement_sheets[key] = df[df['DBN'].isin(school_ids)].reset_index(drop=True)\n",
    "    # Do the same for schools that are not in our coverage area\n",
    "    non_coverage_achievement_sheets[key] = df[~df['DBN'].isin(school_ids)].reset_index(drop=True)"
   ]
  },
  {
   "cell_type": "markdown",
   "id": "a0c20fe3",
   "metadata": {},
   "source": [
    "Just as we did for the \"Summary\" portion of this section, let's define which features from the \"Student Achievement\" sheet we are interested in.\n",
    "\n",
    "Note that these metrics differ between lower grades (elementary and middle schools) and high schools, so we will be handling them separately."
   ]
  },
  {
   "cell_type": "code",
   "execution_count": null,
   "id": "5f367be5",
   "metadata": {
    "scrolled": false
   },
   "outputs": [],
   "source": [
    "school_ids"
   ]
  },
  {
   "cell_type": "markdown",
   "id": "ab7d3ce6",
   "metadata": {},
   "source": [
    "##### Elementary and middle schools"
   ]
  },
  {
   "cell_type": "code",
   "execution_count": null,
   "id": "ffc4c109",
   "metadata": {},
   "outputs": [],
   "source": [
    "# Define column mapping dictionary (old_name: new_name)\n",
    "achievement_columns = {\n",
    "    # School identifiers (keep original names)\n",
    "    'DBN': 'DBN',\n",
    "    'School Name': 'school_name',\n",
    "    'School Type': 'school_type',\n",
    "    \n",
    "    # Overall achievement rating\n",
    "    'Student Achievement - Section Rating': 'achievement_rating',\n",
    "    'Student Achievement - Section Score': 'achievement_score',\n",
    "    \n",
    "    # ELA Proficiency metrics\n",
    "    'Metric Value - Percentage of Students at Level 3 or 4, ELA': 'ela_proficient_pct',\n",
    "    'Metric Value - Average Student Proficiency, ELA': 'ela_avg_proficiency',\n",
    "    'Metric Value - Average Student Proficiency, ELA, School\\'s Lowest Third': 'ela_lowest_third_proficiency',\n",
    "    \n",
    "    # Math Proficiency metrics\n",
    "    'Metric Value - Percentage of Students at Level 3 or 4, Math': 'math_proficient_pct',\n",
    "    'Metric Value - Average Student Proficiency, Math': 'math_avg_proficiency',\n",
    "    'Metric Value - Average Student Proficiency, Math, School\\'s Lowest Third': 'math_lowest_third_proficiency',\n",
    "    \n",
    "    # Attendance\n",
    "    'Percentage of Students with 90%+ Attendance': 'attendance_90_plus_pct',\n",
    "    \n",
    "    # Sample size indicators\n",
    "    'N count - Percentage of Students at Level 3 or 4, ELA': 'ela_proficient_n',\n",
    "    'N count - Percentage of Students at Level 3 or 4, Math': 'math_proficient_n',\n",
    "    'N count - Average Student Proficiency, ELA, School\\'s Lowest Third': 'ela_lowest_third_n',\n",
    "    'N count - Average Student Proficiency, Math, School\\'s Lowest Third': 'math_lowest_third_n'\n",
    "}"
   ]
  },
  {
   "cell_type": "markdown",
   "id": "a8346117",
   "metadata": {},
   "source": [
    "Now, let's use this dictionary to create new dataframes. Then, we will combine these dataframes into one large dataframe containing the elementary and middle school data called `lg_achievement_df`."
   ]
  },
  {
   "cell_type": "code",
   "execution_count": null,
   "id": "9ec1a2a4",
   "metadata": {},
   "outputs": [],
   "source": [
    "lg_achievement_dtype_conversions = {\n",
    "    'achievement_score': 'float64',\n",
    "    'ela_proficient_pct': 'float64',\n",
    "    'ela_avg_proficiency': 'float64',\n",
    "    'ela_lowest_third_proficiency': 'float64',\n",
    "    'math_proficient_pct': 'float64',\n",
    "    'math_avg_proficiency': 'float64',\n",
    "    'math_lowest_third_proficiency': 'float64',\n",
    "    'attendance_90_plus_pct': 'float64',\n",
    "    'ela_proficient_n': 'int64',\n",
    "    'math_proficient_n': 'int64',\n",
    "    'ela_lowest_third_n': 'int64',\n",
    "    'math_lowest_third_n': 'int64'\n",
    "}"
   ]
  },
  {
   "cell_type": "code",
   "execution_count": null,
   "id": "7591b070",
   "metadata": {},
   "outputs": [],
   "source": [
    "# For COVERAGE SCHOOLS\n",
    "\n",
    "coverage_lg_achievement_dfs = []\n",
    "\n",
    "# Loop through the dictionary keys\n",
    "for sheet_name, df in coverage_achievement_sheets.items():\n",
    "    # Check if this is a lower grades achievement sheet\n",
    "    if 'lg_achievement_' in sheet_name:\n",
    "        # Extract the academic year from the sheet name\n",
    "        academic_year = '20' + sheet_name.split('_')[-2] + '-20' + sheet_name.split('_')[-1]\n",
    "        \n",
    "        # Select and rename columns\n",
    "        temp_df = df[achievement_columns.keys()].rename(columns=achievement_columns)\n",
    "        \n",
    "        # Convert data types\n",
    "        temp_df = convert_datatypes(temp_df, lg_achievement_dtype_conversions)\n",
    "        \n",
    "        # Add academic year column\n",
    "        temp_df['academic_year'] = academic_year\n",
    "        \n",
    "        # Append to our list\n",
    "        coverage_lg_achievement_dfs.append(temp_df)\n",
    "\n",
    "# Create a dataframe of just the lower grades school data\n",
    "coverage_lg_achievement_df = pd.concat(coverage_lg_achievement_dfs, ignore_index=True).sort_values(['academic_year', 'DBN'])\n",
    "\n",
    "# Display info about the combined dataset\n",
    "print(f\"Total number of records: {len(coverage_lg_achievement_df)}\")\n",
    "print(f\"\\nAcademic years included: {coverage_lg_achievement_df['academic_year'].unique()}\")\n",
    "print(f\"\\nNumber of unique schools: {coverage_lg_achievement_df['DBN'].nunique()}\")"
   ]
  },
  {
   "cell_type": "code",
   "execution_count": null,
   "id": "65985196",
   "metadata": {},
   "outputs": [],
   "source": [
    "# Verify the data types\n",
    "print(\"Final data types for lower grades achievement data:\")\n",
    "print(coverage_lg_achievement_df.dtypes)"
   ]
  },
  {
   "cell_type": "code",
   "execution_count": null,
   "id": "e3d9cac5",
   "metadata": {
    "scrolled": true
   },
   "outputs": [],
   "source": [
    "# For NON-COVERAGE SCHOOLS\n",
    "\n",
    "non_coverage_achievement_dfs = []\n",
    "\n",
    "# Loop through the dictionary keys\n",
    "for sheet_name, df in non_coverage_achievement_sheets.items():\n",
    "    # Check if this is a lower grades achievement sheet\n",
    "    if 'lg_achievement_' in sheet_name:\n",
    "        # Extract the academic year from the sheet name\n",
    "        academic_year = '20' + sheet_name.split('_')[-2] + '-20' + sheet_name.split('_')[-1]\n",
    "        \n",
    "        # Select and rename columns\n",
    "        temp_df = df[achievement_columns.keys()].rename(columns=achievement_columns)\n",
    "        \n",
    "        # Convert data types\n",
    "        temp_df = convert_datatypes(temp_df, lg_achievement_dtype_conversions)\n",
    "        \n",
    "        # Add academic year column\n",
    "        temp_df['academic_year'] = academic_year\n",
    "        \n",
    "        # Append to our list\n",
    "        non_coverage_achievement_dfs.append(temp_df)\n",
    "\n",
    "# Create a dataframe of just the lower grades school data\n",
    "non_coverage_lg_achievement_df = pd.concat(non_coverage_achievement_dfs, ignore_index=True).sort_values(['academic_year', 'DBN'])\n",
    "\n",
    "# Display info about the combined dataset\n",
    "print(f\"Total number of records: {len(non_coverage_lg_achievement_df)}\")\n",
    "print(f\"\\nAcademic years included: {non_coverage_lg_achievement_df['academic_year'].unique()}\")\n",
    "print(f\"\\nNumber of unique schools: {non_coverage_lg_achievement_df['DBN'].nunique()}\")"
   ]
  },
  {
   "cell_type": "code",
   "execution_count": null,
   "id": "869238cb",
   "metadata": {},
   "outputs": [],
   "source": [
    "# Verify the data types\n",
    "print(\"Final data types for lower grades achievement data:\")\n",
    "print(non_coverage_lg_achievement_df.dtypes)"
   ]
  },
  {
   "cell_type": "markdown",
   "id": "7b3bd169",
   "metadata": {},
   "source": [
    "While we are at it, let's use `coverage_lg_achievement_df` and `non_coverage_lg_achievement_df` to create a list of elementary and middle schools. This could be helpful in our EDA phase."
   ]
  },
  {
   "cell_type": "code",
   "execution_count": null,
   "id": "a8b51377",
   "metadata": {},
   "outputs": [],
   "source": [
    "# Make copies of dataframes\n",
    "cov_lg_ach_df_copy = coverage_lg_achievement_df\n",
    "non_cov_lg_ach_df_copy = non_coverage_lg_achievement_df\n",
    "\n",
    "# Add a coverage column to each dataframe - True for covered, False for non-covered\n",
    "cov_lg_ach_df_copy['coverage'] = True\n",
    "non_cov_lg_ach_df_copy['coverage'] = False\n",
    "\n",
    "# Concatenate the dataframes\n",
    "combined_lg_df = pd.concat([cov_lg_ach_df_copy, non_cov_lg_ach_df_copy], ignore_index=True)\n",
    "\n",
    "# Drop duplicates based on 'DBN', keeping the first occurrence\n",
    "combined_lg_df = combined_lg_df.drop_duplicates(subset='DBN', keep='first')\n",
    "\n",
    "# Filter for elementary and middle schools\n",
    "elem_middle_schools = (\n",
    "    combined_lg_df[['DBN', 'school_name', 'school_type', 'coverage']]\n",
    "    .sort_values('DBN')\n",
    "    .reset_index(drop=True)\n",
    ")"
   ]
  },
  {
   "cell_type": "markdown",
   "id": "d18c2f8d",
   "metadata": {},
   "source": [
    "##### High school grades"
   ]
  },
  {
   "cell_type": "code",
   "execution_count": null,
   "id": "c45c190c",
   "metadata": {},
   "outputs": [],
   "source": [
    "# Define column mapping dictionary for high school metrics (old_name: new_name)\n",
    "hs_achievement_columns = {\n",
    "    # School identifiers (keep original names)\n",
    "    'DBN': 'DBN',\n",
    "    'School Name': 'school_name',\n",
    "    'School Type': 'school_type',\n",
    "    \n",
    "    # Overall achievement rating\n",
    "    'Student Achievement - Section Rating': 'achievement_rating',\n",
    "    'Student Achievement - Section Score': 'achievement_score',\n",
    "    \n",
    "    # Graduation metrics\n",
    "    'Metric Value - 4-Year Graduation Rate': 'grad_rate_4yr',\n",
    "    'Metric Value - 6-Year Graduation Rate': 'grad_rate_6yr',\n",
    "    \n",
    "    # Core Regents exam performance\n",
    "    'Metric Value - Average Regents Score - English (Common Core)': 'regents_english',\n",
    "    'Metric Value - Average Regents Score - Algebra I (Common Core)': 'regents_algebra',\n",
    "    'Metric Value - Average Regents Score - Living Environment': 'regents_living_env',\n",
    "    'Metric Value - Average Regents Score - Global History': 'regents_global',\n",
    "    'Metric Value - Average Regents Score - US History': 'regents_us_history',\n",
    "    \n",
    "    # College readiness\n",
    "    'Metric Value - College and Career Preparatory Course Index': 'college_prep_index',\n",
    "    'Metric Value - 4-Year College Readiness Index': 'college_ready_4yr',\n",
    "    'Metric Value - 6-Year College Readiness Index': 'college_ready_6yr',\n",
    "    \n",
    "    # Post-secondary outcomes\n",
    "    'Metric Value - Postsecondary Enrollment Rate - 6 Months': 'postsec_enroll_6mo',\n",
    "    'Metric Value - Postsecondary Enrollment Rate - 18 Months': 'postsec_enroll_18mo',\n",
    "    \n",
    "    # Credit accumulation\n",
    "    'Metric Value - 10+ Credits in 1st Year - All Students': 'credits_yr1',\n",
    "    'Metric Value - 10+ Credits in 2nd Year - All Students': 'credits_yr2',\n",
    "    'Metric Value - 10+ Credits in 3rd Year - All Students': 'credits_yr3',\n",
    "    \n",
    "    # Sample size indicators\n",
    "    'N count - 4-Year Graduation Rate': 'grad_rate_n',\n",
    "    'N count - Average Regents Score - English (Common Core)': 'regents_english_n',\n",
    "    'N count - 4-Year College Readiness Index': 'college_ready_n',\n",
    "    \n",
    "    # Attendance\n",
    "    'Percentage of Students with 90%+ Attendance': 'attendance_90_plus_pct'\n",
    "}"
   ]
  },
  {
   "cell_type": "markdown",
   "id": "933ee575",
   "metadata": {},
   "source": [
    "Let's do the same for the high schools:"
   ]
  },
  {
   "cell_type": "code",
   "execution_count": null,
   "id": "4967e357",
   "metadata": {},
   "outputs": [],
   "source": [
    "# Define data types for high school achievement metrics\n",
    "hs_achievement_dtype_conversions = {\n",
    "    'achievement_score': 'float64',\n",
    "    'grad_rate_4yr': 'float64',\n",
    "    'grad_rate_6yr': 'float64',\n",
    "    'college_ready_4yr': 'float64',\n",
    "    'college_ready_6yr': 'float64',\n",
    "    'regents_english': 'float64',\n",
    "    'regents_algebra': 'float64',\n",
    "    'regents_living_env': 'float64',\n",
    "    'regents_global': 'float64',\n",
    "    'regents_us_history': 'float64',\n",
    "    'college_prep_index': 'float64',\n",
    "    'postsec_enroll_6mo': 'float64',\n",
    "    'postsec_enroll_18mo': 'float64',\n",
    "    'credits_yr1': 'float64',\n",
    "    'credits_yr2': 'float64',\n",
    "    'credits_yr3': 'float64',\n",
    "    'grad_rate_n': 'int64',\n",
    "    'regents_english_n': 'int64',\n",
    "    'college_ready_n': 'int64',\n",
    "    'attendance_90_plus_pct': 'float64'\n",
    "}"
   ]
  },
  {
   "cell_type": "code",
   "execution_count": null,
   "id": "d44d26e3",
   "metadata": {
    "scrolled": true
   },
   "outputs": [],
   "source": [
    "# For COVERAGE SCHOOLS\n",
    "\n",
    "coverage_hs_achievement_dfs = []\n",
    "\n",
    "# Loop through the dictionary keys\n",
    "for sheet_name, df in coverage_achievement_sheets.items():\n",
    "    # Check if this is a high school achievement sheet\n",
    "    if 'hs_achievement_' in sheet_name:\n",
    "        # Extract the academic year from the sheet name\n",
    "        academic_year = '20' + sheet_name.split('_')[-2] + '-20' + sheet_name.split('_')[-1]\n",
    "        \n",
    "        # Select and rename columns in one step\n",
    "        temp_df = df[hs_achievement_columns.keys()].rename(columns=hs_achievement_columns)\n",
    "        \n",
    "        # Convert data types\n",
    "        temp_df = convert_datatypes(temp_df, hs_achievement_dtype_conversions)\n",
    "        \n",
    "        # Add academic year column\n",
    "        temp_df['academic_year'] = academic_year\n",
    "        \n",
    "        # Append to our list\n",
    "        coverage_hs_achievement_dfs.append(temp_df)\n",
    "\n",
    "# Create a dataframe of just the high school data\n",
    "coverage_hs_achievement_df = pd.concat(coverage_hs_achievement_dfs, ignore_index=True).sort_values(['academic_year', 'DBN'])\n",
    "\n",
    "# Display info about the combined dataset\n",
    "print(f\"Total number of records: {len(coverage_hs_achievement_df)}\")\n",
    "print(f\"\\nAcademic years included: {coverage_hs_achievement_df['academic_year'].unique()}\")\n",
    "print(f\"\\nNumber of unique schools: {coverage_hs_achievement_df['DBN'].nunique()}\")"
   ]
  },
  {
   "cell_type": "code",
   "execution_count": null,
   "id": "92824c26",
   "metadata": {},
   "outputs": [],
   "source": [
    "# Verify the data types\n",
    "print(\"Final data types for high school achievement data:\")\n",
    "print(coverage_hs_achievement_df.dtypes)"
   ]
  },
  {
   "cell_type": "markdown",
   "id": "e9d1db32",
   "metadata": {},
   "source": [
    "`grad_rate_n` and `college_ready_n` did not convert to `int64`, so let's investigate why."
   ]
  },
  {
   "cell_type": "code",
   "execution_count": null,
   "id": "143c7f85",
   "metadata": {},
   "outputs": [],
   "source": [
    "for col in ['college_ready_n', 'grad_rate_n']:\n",
    "    print(f\"\\nCurrent dtype of {col}:\", coverage_hs_achievement_df[col].dtype)\n",
    "    print(f\"\\nSample values of {col}:\")\n",
    "    print(coverage_hs_achievement_df[col].head())\n",
    "    \n",
    "    # Check for any non-numeric values\n",
    "    print(f\"\\nUnique non-numeric values in {col}:\")\n",
    "    non_numeric = coverage_hs_achievement_df[pd.to_numeric(coverage_hs_achievement_df[col], errors='coerce').isna()][col]\n",
    "    if len(non_numeric) > 0:\n",
    "        print(non_numeric.unique())\n",
    "        print(len(non_numeric))"
   ]
  },
  {
   "cell_type": "markdown",
   "id": "2d47aa72",
   "metadata": {},
   "source": [
    "It looks like these the `NaN` values in these columns are responsible for why they are not converting to integers. These `NaN` values might appear for a few reasons: perhaps the school in question has not been open long enough to have graduates, or they did not report graduation data for that year.\n",
    "\n",
    "The number of `NaN` values is fairly low. Let's see which schools these belong to:"
   ]
  },
  {
   "cell_type": "code",
   "execution_count": null,
   "id": "66575b50",
   "metadata": {},
   "outputs": [],
   "source": [
    "# NaN schools for college_ready_n\n",
    "nan_schools = coverage_hs_achievement_df[coverage_hs_achievement_df['college_ready_n'].isna()][['DBN', 'school_name', 'academic_year', 'college_ready_n']]\n",
    "nan_schools"
   ]
  },
  {
   "cell_type": "code",
   "execution_count": null,
   "id": "2c3a3cf8",
   "metadata": {},
   "outputs": [],
   "source": [
    "# NaN schools for grad_rate_n\n",
    "nan_schools = coverage_hs_achievement_df[coverage_hs_achievement_df['grad_rate_n'].isna()][['DBN', 'school_name', 'academic_year', 'grad_rate_n']]\n",
    "nan_schools"
   ]
  },
  {
   "cell_type": "markdown",
   "id": "2e7de161",
   "metadata": {},
   "source": [
    "For both `college_ready_n` and `grad_rate_n`, the same schools have `NaN` values. Let's fill these values to `-1` as a way to mark them for further exploration in our EDA phase."
   ]
  },
  {
   "cell_type": "code",
   "execution_count": null,
   "id": "1cfcceb5",
   "metadata": {},
   "outputs": [],
   "source": [
    "columns_to_fix = ['college_ready_n', 'grad_rate_n']\n",
    "\n",
    "for col in columns_to_fix:\n",
    "    print(f\"\\nProcessing {col}:\")\n",
    "    # First clean the data\n",
    "    coverage_hs_achievement_df[col] = coverage_hs_achievement_df[col].astype(str).str.replace(',', '')\n",
    "    # Convert to float first (in case there are decimal points)\n",
    "    coverage_hs_achievement_df[col] = pd.to_numeric(coverage_hs_achievement_df[col], errors='coerce')\n",
    "    # Then convert to integer, replacing NaN with -1 or another sentinel value\n",
    "    coverage_hs_achievement_df[col] = coverage_hs_achievement_df[col].fillna(-1).astype('int64')\n",
    "\n",
    "    # Print summary of conversion\n",
    "    print(f\"After conversion of {col}:\")\n",
    "    print(\"New dtype:\", coverage_hs_achievement_df[col].dtype)\n",
    "    print(\"Value range:\", coverage_hs_achievement_df[col].min(), \"to\", coverage_hs_achievement_df[col].max())\n",
    "    print(\"Number of -1 values (originally NaN):\", (coverage_hs_achievement_df[col] == -1).sum())"
   ]
  },
  {
   "cell_type": "markdown",
   "id": "d6c0c443",
   "metadata": {},
   "source": [
    "After some manipulation, we have successfully converted the columns `college_ready_n` and `grad_rate_n` to type integer."
   ]
  },
  {
   "cell_type": "code",
   "execution_count": null,
   "id": "faa63896",
   "metadata": {},
   "outputs": [],
   "source": [
    "# For NON-COVERAGE SCHOOLS\n",
    "\n",
    "non_coverage_hs_achievement_dfs = []\n",
    "\n",
    "# Loop through the dictionary keys\n",
    "for sheet_name, df in non_coverage_achievement_sheets.items():\n",
    "    # Check if this is a high school achievement sheet\n",
    "    if 'hs_achievement_' in sheet_name:\n",
    "        # Extract the academic year from the sheet name\n",
    "        academic_year = '20' + sheet_name.split('_')[-2] + '-20' + sheet_name.split('_')[-1]\n",
    "        \n",
    "        # Select and rename columns in one step\n",
    "        temp_df = df[hs_achievement_columns.keys()].rename(columns=hs_achievement_columns)\n",
    "        \n",
    "        # Convert data types\n",
    "        temp_df = convert_datatypes(temp_df, hs_achievement_dtype_conversions)\n",
    "        \n",
    "        # Add academic year column\n",
    "        temp_df['academic_year'] = academic_year\n",
    "        \n",
    "        # Append to our list\n",
    "        non_coverage_hs_achievement_dfs.append(temp_df)\n",
    "\n",
    "# Create a dataframe of just the high school data\n",
    "non_coverage_hs_achievement_df = pd.concat(non_coverage_hs_achievement_dfs, ignore_index=True).sort_values(['academic_year', 'DBN'])\n",
    "\n",
    "# Display info about the combined dataset\n",
    "print(f\"Total number of records: {len(non_coverage_hs_achievement_df)}\")\n",
    "print(f\"\\nAcademic years included: {non_coverage_hs_achievement_df['academic_year'].unique()}\")\n",
    "print(f\"\\nNumber of unique schools: {non_coverage_hs_achievement_df['DBN'].nunique()}\")"
   ]
  },
  {
   "cell_type": "markdown",
   "id": "ddbfd142",
   "metadata": {},
   "source": [
    "Just as we did with high schools in our coverage zone, let's verify the data types of high schools outside of our coverage zone."
   ]
  },
  {
   "cell_type": "code",
   "execution_count": null,
   "id": "ff3b6eca",
   "metadata": {},
   "outputs": [],
   "source": [
    "# Verify the data types\n",
    "print(\"Final data types for high school achievement data:\")\n",
    "print(non_coverage_hs_achievement_df.dtypes)"
   ]
  },
  {
   "cell_type": "markdown",
   "id": "0ccfd4cf",
   "metadata": {},
   "source": [
    "Again, we have some columns whose data types did not convert to integer. These are `grad_rate_n`, `regents_english_n`, and `college_ready_n`. Likely, these columns suffer from the same issues as the ones in our `coverage_hs_achievement_df` dataframe, but let's check to make sure."
   ]
  },
  {
   "cell_type": "code",
   "execution_count": null,
   "id": "1461e3be",
   "metadata": {},
   "outputs": [],
   "source": [
    "for col in ['grad_rate_n', 'regents_english_n', 'college_ready_n']:\n",
    "    print(f\"\\nCurrent dtype of {col}:\", non_coverage_hs_achievement_df[col].dtype)\n",
    "    print(f\"\\nSample values of {col}:\")\n",
    "    print(non_coverage_hs_achievement_df[col].head())\n",
    "    \n",
    "    # Check for any non-numeric values\n",
    "    print(f\"\\nUnique non-numeric values in {col}:\")\n",
    "    non_numeric = non_coverage_hs_achievement_df[pd.to_numeric(non_coverage_hs_achievement_df[col], errors='coerce').isna()][col]\n",
    "    if len(non_numeric) > 0:\n",
    "        print(non_numeric.unique())\n",
    "        print(len(non_numeric))"
   ]
  },
  {
   "cell_type": "markdown",
   "id": "db932a77",
   "metadata": {},
   "source": [
    "Again, these `NaN` values are the reason these columns did not convert to our desired integer type. Let's investigate to see if there is a pattern among the schools with `NaN` values."
   ]
  },
  {
   "cell_type": "code",
   "execution_count": null,
   "id": "5ddc4b8c",
   "metadata": {
    "scrolled": true
   },
   "outputs": [],
   "source": [
    "# NaN schools for grad_rate_n\n",
    "nan_schools = non_coverage_hs_achievement_df[non_coverage_hs_achievement_df['grad_rate_n'].isna()][['DBN', 'school_name', 'academic_year', 'grad_rate_n']]\n",
    "nan_schools"
   ]
  },
  {
   "cell_type": "code",
   "execution_count": null,
   "id": "592d5e28",
   "metadata": {
    "scrolled": true
   },
   "outputs": [],
   "source": [
    "# NaN schools for regents_english_n\n",
    "nan_schools = non_coverage_hs_achievement_df[non_coverage_hs_achievement_df['regents_english_n'].isna()][['DBN', 'school_name', 'academic_year', 'regents_english_n']]\n",
    "nan_schools"
   ]
  },
  {
   "cell_type": "code",
   "execution_count": null,
   "id": "639c636c",
   "metadata": {
    "scrolled": true
   },
   "outputs": [],
   "source": [
    "# NaN schools for college_ready_n\n",
    "nan_schools = non_coverage_hs_achievement_df[non_coverage_hs_achievement_df['college_ready_n'].isna()][['DBN', 'school_name', 'academic_year', 'college_ready_n']]\n",
    "nan_schools"
   ]
  },
  {
   "cell_type": "markdown",
   "id": "4340bd6b",
   "metadata": {},
   "source": [
    "Again, we will mark these `NaN` values as `-1` so we know to investigate them during the EDA phase of our project."
   ]
  },
  {
   "cell_type": "code",
   "execution_count": null,
   "id": "138cd22c",
   "metadata": {},
   "outputs": [],
   "source": [
    "columns_to_fix = ['grad_rate_n', 'regents_english_n', 'college_ready_n']\n",
    "\n",
    "for col in columns_to_fix:\n",
    "    print(f\"\\nProcessing {col}:\")\n",
    "    # First clean the data\n",
    "    non_coverage_hs_achievement_df[col] = non_coverage_hs_achievement_df[col].astype(str).str.replace(',', '')\n",
    "    # Convert to float first (in case there are decimal points)\n",
    "    non_coverage_hs_achievement_df[col] = pd.to_numeric(non_coverage_hs_achievement_df[col], errors='coerce')\n",
    "    # Then convert to integer, replacing NaN with -1 or another sentinel value\n",
    "    non_coverage_hs_achievement_df[col] = non_coverage_hs_achievement_df[col].fillna(-1).astype('int64')\n",
    "\n",
    "    # Print summary of conversion\n",
    "    print(f\"After conversion of {col}:\")\n",
    "    print(\"New dtype:\", non_coverage_hs_achievement_df[col].dtype)\n",
    "    print(\"Value range:\", non_coverage_hs_achievement_df[col].min(), \"to\", non_coverage_hs_achievement_df[col].max())\n",
    "    print(\"Number of -1 values (originally NaN):\", (non_coverage_hs_achievement_df[col] == -1).sum())"
   ]
  },
  {
   "cell_type": "markdown",
   "id": "a565afeb",
   "metadata": {},
   "source": [
    "Now, let's create another list of schools from `coverage_hs_achievement_df` and `non_coverage_hs_achievement_df`."
   ]
  },
  {
   "cell_type": "code",
   "execution_count": null,
   "id": "60021c18",
   "metadata": {},
   "outputs": [],
   "source": [
    "# Make copies of dataframes\n",
    "cov_hs_ach_df_copy = coverage_hs_achievement_df\n",
    "non_cov_hs_ach_df_copy = non_coverage_hs_achievement_df\n",
    "\n",
    "# Add a coverage column to each dataframe - True for covered, False for non-covered\n",
    "cov_hs_ach_df_copy['coverage'] = True\n",
    "non_cov_hs_ach_df_copy['coverage'] = False\n",
    "\n",
    "# Concatenate the dataframes\n",
    "combined_hs_df = pd.concat([cov_hs_ach_df_copy, non_cov_hs_ach_df_copy], ignore_index=True)\n",
    "\n",
    "# Drop duplicates based on 'DBN', keeping the first occurrence\n",
    "combined_hs_df = combined_hs_df.drop_duplicates(subset='DBN', keep='first')\n",
    "\n",
    "# Filter for elementary and middle schools\n",
    "high_schools = (\n",
    "    combined_hs_df[['DBN', 'school_name', 'school_type', 'coverage']]\n",
    "    .sort_values('DBN')\n",
    "    .reset_index(drop=True)\n",
    ")"
   ]
  },
  {
   "cell_type": "markdown",
   "id": "3c6806d9",
   "metadata": {},
   "source": [
    "Let's combine all summary dataframes into one dataframe:"
   ]
  },
  {
   "cell_type": "code",
   "execution_count": null,
   "id": "95f513f0",
   "metadata": {},
   "outputs": [],
   "source": [
    "# Combine all dataframes\n",
    "coverage_combined_achievement_df = pd.concat([coverage_lg_achievement_df, coverage_hs_achievement_df], ignore_index=True).sort_values(['academic_year', 'DBN'])\n",
    "\n",
    "# Display info about the combined dataset\n",
    "print(f\"Total number of records: {len(coverage_combined_achievement_df)}\")\n",
    "print(f\"\\nAcademic years included: {coverage_combined_achievement_df['academic_year'].unique()}\")\n",
    "print(f\"\\nNumber of unique schools: {coverage_combined_achievement_df['DBN'].nunique()}\")"
   ]
  },
  {
   "cell_type": "code",
   "execution_count": null,
   "id": "0d47c159",
   "metadata": {},
   "outputs": [],
   "source": [
    "# Combine all dataframes\n",
    "non_coverage_combined_achievement_df = pd.concat([non_coverage_lg_achievement_df, non_coverage_hs_achievement_df], ignore_index=True).sort_values(['academic_year', 'DBN'])\n",
    "\n",
    "# Display info about the combined dataset\n",
    "print(f\"Total number of records: {len(non_coverage_combined_achievement_df)}\")\n",
    "print(f\"\\nAcademic years included: {non_coverage_combined_achievement_df['academic_year'].unique()}\")\n",
    "print(f\"\\nNumber of unique schools: {non_coverage_combined_achievement_df['DBN'].nunique()}\")"
   ]
  },
  {
   "cell_type": "markdown",
   "id": "619c8fdf",
   "metadata": {},
   "source": [
    "##### Check missing schools (Achievement sheets)\n",
    "Just as with our `summary_sheets`, it looks like we are missing schools from our `achievement_sheets`. Since this is the same number of unique schools, it is likely that we are missing the same schools from `achievement_sheets` as we were in `summary_sheets`. But just to be sure, we can create another list."
   ]
  },
  {
   "cell_type": "code",
   "execution_count": null,
   "id": "eb41d316",
   "metadata": {
    "scrolled": true
   },
   "outputs": [],
   "source": [
    "# Get list of unique schools from coverage_combined_achievement_df\n",
    "achievement_schools = coverage_combined_achievement_df['DBN'].unique()\n",
    "\n",
    "# Convert both lists to sets for easier comparison\n",
    "school_ids_set = set(school_ids)\n",
    "achievement_schools_set = set(achievement_schools)\n",
    "\n",
    "# Find schools that are in school_ids but not in summary_schools\n",
    "missing_achievement_schools = school_ids_set - achievement_schools_set\n",
    "\n",
    "# Print results\n",
    "print(f\"Total schools in school_ids: {len(school_ids)}\")\n",
    "print(f\"Total schools in summary_df: {len(achievement_schools)}\")\n",
    "print(f\"\\nNumber of missing schools: {len(missing_achievement_schools)}\")\n",
    "print(\"\\nMissing schools:\")\n",
    "for school in sorted(missing_achievement_schools):\n",
    "    print(school)\n",
    "\n",
    "# Save missing schools to a DataFrame for further analysis\n",
    "missing_achievement_schools_df = pd.DataFrame({'DBN': list(missing_achievement_schools)})"
   ]
  },
  {
   "cell_type": "markdown",
   "id": "b66b5865",
   "metadata": {},
   "source": [
    "### Combining school metrics <a name=\"combine-school-metrics\"></a>\n",
    "Let's create a new dataframe from `coverage_matrix`, `coverage_combined_summary_df`, and `coverage_combined_achievement_df`.\n",
    "\n",
    "Let's first join `coverage_combined_summary_df` and `coverage_combined_achievement_df` on `DBN` and `academic_year` to create a new dataframe, `merged_df`. In doing so, we will also check for any unmatched schools between these two dataframes."
   ]
  },
  {
   "cell_type": "code",
   "execution_count": null,
   "id": "11b5a1ba",
   "metadata": {},
   "outputs": [],
   "source": [
    "# Merge the dataframes\n",
    "merged_df = pd.merge(\n",
    "    coverage_combined_summary_df,\n",
    "    coverage_combined_achievement_df,\n",
    "    how='inner',  # only keep matches in both dataframes\n",
    "    on=['DBN', 'academic_year']  # merge on both school ID and year\n",
    ")\n",
    "\n",
    "# Check the results\n",
    "print(\"Original dataframe sizes:\")\n",
    "print(f\"Summary dataframe: {coverage_combined_summary_df.shape}\")\n",
    "print(f\"Achievement dataframe: {coverage_combined_achievement_df.shape}\")\n",
    "print(f\"Merged dataframe: {merged_df.shape}\")\n",
    "\n",
    "# Check for any schools that didn't merge\n",
    "print(\"\\nChecking for unmatched schools...\")\n",
    "\n",
    "# Schools in summary but not in achievement\n",
    "summary_only = set(coverage_combined_summary_df['DBN']) - set(coverage_combined_achievement_df['DBN'])\n",
    "if len(summary_only) > 0:\n",
    "    print(f\"\\nSchools in summary but not in achievement data: {len(summary_only)}\")\n",
    "    print(sorted(summary_only)[:5], \"...\" if len(summary_only) > 5 else \"\")\n",
    "\n",
    "# Schools in achievement but not in summary\n",
    "achievement_only = set(coverage_combined_achievement_df['DBN']) - set(coverage_combined_summary_df['DBN'])\n",
    "if len(achievement_only) > 0:\n",
    "    print(f\"\\nSchools in achievement but not in summary data: {len(achievement_only)}\")\n",
    "    print(sorted(achievement_only)[:5], \"...\" if len(achievement_only) > 5 else \"\")\n",
    "\n",
    "# Check for duplicate school names (keeping the more informative one)\n",
    "if 'school_name_x' in merged_df.columns and 'school_name_y' in merged_df.columns:\n",
    "    # Drop the duplicate school name column (keeping one)\n",
    "    merged_df = merged_df.drop('school_name_y', axis=1)\n",
    "    merged_df = merged_df.rename(columns={'school_name_x': 'school_name'})\n",
    "\n",
    "# Sort the final dataset\n",
    "merged_df = merged_df.sort_values(['academic_year', 'DBN'])\n",
    "\n",
    "# Display some basic info about the merged dataset\n",
    "print(\"\\nMerged dataset summary:\")\n",
    "print(f\"Number of unique schools: {merged_df['DBN'].nunique()}\")\n",
    "print(f\"Years covered: {sorted(merged_df['academic_year'].unique())}\")\n",
    "print(f\"Total records: {len(merged_df)}\")"
   ]
  },
  {
   "cell_type": "markdown",
   "id": "408c5127",
   "metadata": {},
   "source": [
    "Let's now merge `merged_df` with `coverage_matrix` to create `merged_coverage_df`. (`school_ats` in `coverage_matrix` is equivalent to `DBN` in our `merged_df`.)"
   ]
  },
  {
   "cell_type": "code",
   "execution_count": null,
   "id": "42265159",
   "metadata": {},
   "outputs": [],
   "source": [
    "# First rename the school_ats column to match DBN\n",
    "coverage_matrix = coverage_matrix.rename(columns={'school_ats': 'DBN'})\n",
    "\n",
    "# Merge the coverage matrix with the existing merged dataframe\n",
    "merged_coverage_df = pd.merge(\n",
    "    merged_df,\n",
    "    coverage_matrix,\n",
    "    how='left',  # keep all schools from merged_df even if they don't have coverage data\n",
    "    on='DBN'\n",
    ")\n",
    "\n",
    "# Check the results\n",
    "print(\"Original dataframe sizes:\")\n",
    "print(f\"Merged achievement/summary dataframe: {merged_df.shape}\")\n",
    "print(f\"Coverage matrix: {coverage_matrix.shape}\")\n",
    "print(f\"Final merged dataframe: {merged_coverage_df.shape}\")\n",
    "\n",
    "# Check for schools that didn't get coverage data\n",
    "schools_without_coverage = set(merged_df['DBN']) - set(coverage_matrix['DBN'])\n",
    "if len(schools_without_coverage) > 0:\n",
    "    print(f\"\\nSchools without coverage data: {len(schools_without_coverage)}\")\n",
    "    print(sorted(schools_without_coverage)[:5], \"...\" if len(schools_without_coverage) > 5 else \"\")\n",
    "\n",
    "# Check for coverage data that didn't match to schools\n",
    "coverage_without_schools = set(coverage_matrix['DBN']) - set(merged_df['DBN'])\n",
    "if len(coverage_without_schools) > 0:\n",
    "    print(f\"\\nSchools in coverage data but not in main dataset: {len(coverage_without_schools)}\")\n",
    "    print(sorted(coverage_without_schools)[:5], \"...\" if len(coverage_without_schools) > 5 else \"\")\n",
    "\n",
    "# Basic statistics about sensor coverage\n",
    "print(\"\\nSensor coverage statistics:\")\n",
    "print(f\"Schools with no sensors: {(merged_coverage_df['num_sensors'] == 0).sum()}\")\n",
    "print(f\"Average number of sensors per school: {merged_coverage_df['num_sensors'].mean():.2f}\")\n",
    "print(f\"Maximum number of sensors for any school: {merged_coverage_df['num_sensors'].max()}\")\n",
    "\n",
    "# Sort the final dataset\n",
    "merged_coverage_df = merged_coverage_df.sort_values(['academic_year', 'DBN'])\n",
    "\n",
    "# Display final dataset summary\n",
    "print(\"\\nFinal dataset summary:\")\n",
    "print(f\"Number of unique schools: {merged_coverage_df['DBN'].nunique()}\")\n",
    "print(f\"Years covered: {sorted(merged_coverage_df['academic_year'].unique())}\")\n",
    "print(f\"Total records: {len(merged_coverage_df)}\")\n",
    "\n",
    "# Check for any completely missing columns\n",
    "missing_cols = merged_coverage_df.columns[merged_coverage_df.isna().all()].tolist()\n",
    "if missing_cols:\n",
    "    print(\"\\nWarning: The following columns contain all missing values:\")\n",
    "    print(missing_cols)"
   ]
  },
  {
   "cell_type": "markdown",
   "id": "6ce0a611",
   "metadata": {},
   "source": [
    "---"
   ]
  },
  {
   "cell_type": "markdown",
   "id": "a826d5ed",
   "metadata": {},
   "source": [
    "## Initial Data Exploration <a name=\"initial-eda\"></a>"
   ]
  },
  {
   "cell_type": "markdown",
   "id": "8f9723d8",
   "metadata": {},
   "source": [
    "### Analyzing presence of sound during school hours\n",
    "Noise during school hours can potentially disrupt lessons, test-taking, and other forms of classwork and directly affect a student's performance in school."
   ]
  },
  {
   "cell_type": "code",
   "execution_count": null,
   "id": "d6a6d611",
   "metadata": {},
   "outputs": [],
   "source": [
    "presence_counts = pd.DataFrame(index=hierarchy.keys())\n",
    "\n",
    "for cat, subcategories in hierarchy.items():\n",
    "    # Use the high-level category column directly\n",
    "    category_col = f\"{cat}_presence\"\n",
    "\n",
    "    # Calculate overall averages\n",
    "    total_avg = noise_data[category_col].mean()\n",
    "    presence_counts.loc[cat, 'overall_presence'] = total_avg\n",
    "\n",
    "    # School hours analysis (8 AM to 3 PM)\n",
    "    school_hours = noise_data[noise_data['hour'].between(8, 15)]\n",
    "    school_avg = school_hours[category_col].mean()\n",
    "    presence_counts.loc[cat, 'school_hours_presence'] = school_avg\n",
    "    \n",
    "    # Non-school hours analysis (before 8 AM or after 3 PM)\n",
    "    non_school_hours = noise_data[~noise_data['hour'].between(8, 15)]\n",
    "    non_school_avg = non_school_hours[category_col].mean()\n",
    "    presence_counts.loc[cat, 'non_school_hours_presence'] = non_school_avg\n",
    "\n",
    "    # School year analysis (September to June)\n",
    "    school_year = noise_data[noise_data['date'].dt.month.isin([9, 10, 11, 12, 1, 2, 3, 4, 5, 6])]\n",
    "    school_year_avg = school_year[category_col].mean()\n",
    "    presence_counts.loc[cat, 'school_year_presence'] = school_year_avg\n",
    "\n",
    "#     # Add sample sizes\n",
    "#     presence_counts.loc[cat, 'total_samples'] = len(noise_data)\n",
    "#     presence_counts.loc[cat, 'school_hours_samples'] = len(school_hours)\n",
    "#     presence_counts.loc[cat, 'school_year_samples'] = len(school_year)\n",
    "\n",
    "    # Add high confidence observations (presence > 0.75)\n",
    "    presence_counts.loc[cat, 'high_confidence_ratio'] = \\\n",
    "        (noise_data[category_col] >= 0.75).mean()\n",
    "\n",
    "# Convert to percentages\n",
    "for col in ['overall_presence', 'school_hours_presence', 'non_school_hours_presence',\n",
    "            'school_year_presence', 'high_confidence_ratio']:\n",
    "    presence_counts[f'{col}_pct'] = presence_counts[col] * 100\n",
    "\n",
    "# School hours vs. non-school hours difference\n",
    "presence_counts['school_vs_non_school_diff'] = presence_counts['school_hours_presence_pct'] - presence_counts['non_school_hours_presence_pct']\n",
    "\n",
    "# Round all numeric columns to 4 decimal places\n",
    "numeric_cols = presence_counts.select_dtypes(include=['float64']).columns\n",
    "presence_counts[numeric_cols] = presence_counts[numeric_cols].round(4)\n",
    "\n",
    "presence_counts"
   ]
  },
  {
   "cell_type": "markdown",
   "id": "4349303e",
   "metadata": {},
   "source": [
    "Notably, the sounds of impact machinery are 7.1% more prevalent during school hours."
   ]
  },
  {
   "cell_type": "markdown",
   "id": "de280c17",
   "metadata": {},
   "source": [
    "---\n",
    "\n",
    "## Final data cleaning before saving <a name=\"final-cleaning\"></a>\n",
    "\n",
    "Before saving the dataframes we created as variables to load in our EDA notebook, let's perform a final data quality analysis. This way, we can make any necessary changes to our data without having to toggle between notebooks."
   ]
  },
  {
   "cell_type": "markdown",
   "id": "1ad12667",
   "metadata": {},
   "source": [
    "Let's create a dictionary of dataframes that we will be exporting from this notebook for use in our EDA notebook:"
   ]
  },
  {
   "cell_type": "code",
   "execution_count": null,
   "id": "ddd9e7de",
   "metadata": {},
   "outputs": [],
   "source": [
    "# Create dictionary of dataframes\n",
    "dfs = {\n",
    "    'noise_data': noise_data,\n",
    "    'districts_gdf': districts_gdf,\n",
    "    'schoolpoints_gdf': schoolpoints_gdf,\n",
    "    'coverage_matrix': coverage_matrix,\n",
    "    'coverage_combined_summary_df': coverage_combined_summary_df,\n",
    "    'non_coverage_combined_summary_df': non_coverage_combined_summary_df,\n",
    "    'coverage_lg_achievement_df': coverage_lg_achievement_df,\n",
    "    'non_coverage_lg_achievement_df': non_coverage_lg_achievement_df,\n",
    "    'coverage_hs_achievement_df': coverage_hs_achievement_df,\n",
    "    'non_coverage_hs_achievement_df': non_coverage_hs_achievement_df,\n",
    "    'coverage_combined_achievement_df': coverage_combined_achievement_df,\n",
    "    'non_coverage_combined_achievement_df': non_coverage_combined_achievement_df,\n",
    "    'merged_coverage_df': merged_coverage_df,\n",
    "    'elem_middle_schools': elem_middle_schools,\n",
    "    'high_schools': high_schools\n",
    "}"
   ]
  },
  {
   "cell_type": "markdown",
   "id": "31648120",
   "metadata": {},
   "source": [
    "### Data validation <a name=\"data-validation\"></a>\n",
    "\n",
    "Let's perform a data validation check on the dataframes.\n",
    "\n",
    "To do this, we will write a function `validate_loaded_data`. This function will do the following:\n",
    "- Check for expected columns in each dataframe\n",
    "- Verify row counts are within expected ranges\n",
    "- Check for duplicate DBNs (school identification numbers) where they shouldn't exist\n",
    "- Validate academic year format (should be of type `object`)\n",
    "- Check data types\n",
    "- Look for missing values\n",
    "- Verify relationships between dataframes\n",
    "- Check coverage completeness"
   ]
  },
  {
   "cell_type": "code",
   "execution_count": null,
   "id": "ea7e49b1",
   "metadata": {
    "scrolled": true
   },
   "outputs": [],
   "source": [
    "def validate_loaded_data(dfs_dict):\n",
    "    \"\"\"\n",
    "    Validate loaded dataframes for expected properties and structure\n",
    "    \"\"\"\n",
    "    print(\"Running Data Validation Checks...\")\n",
    "    \n",
    "    # Expected columns for each dataframe\n",
    "    expected_columns = {\n",
    "        'noise_data': ['sensor_id', 'borough', 'latitude', 'longitude', 'date', 'is_school_day'],\n",
    "        'coverage_matrix': ['DBN', 'num_sensors', 'num_recordings', 'min_distance_km', 'max_distance_km'],\n",
    "        'coverage_combined_summary_df': ['DBN', 'school_name', 'academic_year'],\n",
    "        'non_coverage_combined_summary_df': ['DBN', 'school_name', 'academic_year'],\n",
    "        'coverage_lg_achievement_df': ['DBN', 'school_name', 'academic_year'],\n",
    "        'non_coverage_lg_achievement_df': ['DBN', 'school_name', 'academic_year'],\n",
    "        'coverage_hs_achievement_df': ['DBN', 'school_name', 'academic_year'],\n",
    "        'non_coverage_hs_achievement_df': ['DBN', 'school_name', 'academic_year'],\n",
    "        'coverage_combined_achievement_df': ['DBN', 'school_name', 'academic_year'],\n",
    "        'non_coverage_combined_achievement_df': ['DBN', 'school_name', 'academic_year'],\n",
    "        'merged_coverage_df': ['DBN', 'school_name', 'academic_year'],\n",
    "        'elem_middle_schools': ['DBN', 'school_name', 'school_type'],\n",
    "        'high_schools': ['DBN', 'school_name', 'school_type']\n",
    "    }\n",
    "    \n",
    "    # Expected number of rows (approximate)\n",
    "    expected_rows = {\n",
    "        'elem_middle_schools': (400, 2000),  # (min, max)\n",
    "        'high_schools': (400, 2000),\n",
    "        'coverage_matrix': (100, 500)\n",
    "    }\n",
    "    \n",
    "    validation_results = {}\n",
    "    \n",
    "    for df_name, df in dfs_dict.items():\n",
    "        print(f\"\\n{'='*50}\")\n",
    "        print(f\"Validating {df_name}...\")\n",
    "        results = {}\n",
    "        \n",
    "        # Basic checks\n",
    "        results['row_count'] = len(df)\n",
    "        results['column_count'] = len(df.columns)\n",
    "        results['null_counts'] = df.isnull().sum().to_dict()\n",
    "        \n",
    "        # Check for expected columns\n",
    "        if df_name in expected_columns:\n",
    "            missing_cols = set(expected_columns[df_name]) - set(df.columns)\n",
    "            results['missing_columns'] = list(missing_cols)\n",
    "            if missing_cols:\n",
    "                print(f\"WARNING: Missing expected columns in {df_name}: {missing_cols}\")\n",
    "        \n",
    "        # Check row counts\n",
    "        if df_name in expected_rows:\n",
    "            min_rows, max_rows = expected_rows[df_name]\n",
    "            if not (min_rows <= len(df) <= max_rows):\n",
    "                print(f\"WARNING: Unexpected number of rows in {df_name}. \"\n",
    "                      f\"Expected between {min_rows} and {max_rows}, got {len(df)}\")\n",
    "        \n",
    "        # Check for duplicate DBNs in reference dataframes\n",
    "        if df_name in ['elem_middle_schools', 'high_schools']:\n",
    "            duplicates = df['DBN'].duplicated().sum()\n",
    "            results['duplicate_dbns'] = duplicates\n",
    "            if duplicates > 0:\n",
    "                print(f\"WARNING: Found {duplicates} duplicate DBNs in {df_name}\")\n",
    "        \n",
    "        # Check academic year format where applicable\n",
    "        if 'academic_year' in df.columns:\n",
    "            year_format = df['academic_year'].astype(str).str.match(r'\\d{4}-\\d{4}').all()\n",
    "            results['valid_year_format'] = year_format\n",
    "            if not year_format:\n",
    "                print(f\"WARNING: Invalid academic year format in {df_name}\")\n",
    "        \n",
    "        # Check data types\n",
    "        results['dtypes'] = df.dtypes.to_dict()\n",
    "        \n",
    "        # GeoPandas specific checks\n",
    "        if df_name in ['districts_gdf', 'schoolpoints_gdf']:\n",
    "            if not hasattr(df, 'crs'):\n",
    "                print(f\"WARNING: {df_name} does not have CRS information\")\n",
    "        \n",
    "        # Coverage checks\n",
    "        if 'coverage' in df_name:\n",
    "            print(\"\\nCoverage Information:\")\n",
    "            print(f\"Unique schools: {df['DBN'].nunique()}\")\n",
    "            if 'academic_year' in df.columns:\n",
    "                print(f\"Years covered: {sorted(df['academic_year'].unique())}\")\n",
    "        \n",
    "        # Store results\n",
    "        validation_results[df_name] = results\n",
    "        \n",
    "        # Print summary\n",
    "        print(f\"\\nSummary for {df_name}:\")\n",
    "        print(f\"- Rows: {results['row_count']}\")\n",
    "        print(f\"- Columns: {results['column_count']}\")\n",
    "        print(f\"- Columns with null values: {sum(1 for v in results['null_counts'].values() if v > 0)}\")\n",
    "    \n",
    "    return validation_results\n",
    "\n",
    "# Run validation\n",
    "validation_results = validate_loaded_data(dfs)"
   ]
  },
  {
   "cell_type": "markdown",
   "id": "59129ab7",
   "metadata": {},
   "source": [
    "Next, we will write a function `check_dataframe_relationships`. This function will make sure that all schools in the dataframes are valid."
   ]
  },
  {
   "cell_type": "code",
   "execution_count": null,
   "id": "1f93302e",
   "metadata": {
    "scrolled": false
   },
   "outputs": [],
   "source": [
    "def check_dataframe_relationships(dfs):\n",
    "    \"\"\"Check if schools in dataframes are valid (exist in reference lists)\"\"\"\n",
    "    print(\"\\nChecking school validity in dataframes...\")\n",
    "    \n",
    "    # Get reference sets of valid school DBNs\n",
    "    valid_lg_schools = set(dfs['elem_middle_schools']['DBN'])\n",
    "    valid_hs_schools = set(dfs['high_schools']['DBN'])\n",
    "    all_valid_schools = valid_lg_schools.union(valid_hs_schools)\n",
    "    \n",
    "    # Check each relevant dataframe\n",
    "    for df_name, df in dfs.items():\n",
    "        if 'DBN' in df.columns and df_name not in ['elem_middle_schools', 'high_schools']:\n",
    "            df_schools = set(df['DBN'])\n",
    "            invalid_schools = df_schools - all_valid_schools\n",
    "            \n",
    "            print(f\"\\nChecking {df_name}:\")\n",
    "            print(f\"Total schools in dataframe: {len(df_schools)}\")\n",
    "            \n",
    "            if invalid_schools:\n",
    "                print(f\"WARNING: Found {len(invalid_schools)} invalid school DBNs:\")\n",
    "                print(sorted(invalid_schools))\n",
    "            else:\n",
    "                print(\"All schools are valid!\")\n",
    "            \n",
    "            # Additional checks for achievement dataframes\n",
    "            if 'lg_achievement' in df_name:\n",
    "                non_lg_schools = df_schools - valid_lg_schools\n",
    "                if non_lg_schools:\n",
    "                    print(f\"WARNING: Found {len(non_lg_schools)} high schools in lower grades achievement data:\")\n",
    "                    print(sorted(non_lg_schools))\n",
    "            \n",
    "            elif 'hs_achievement' in df_name:\n",
    "                non_hs_schools = df_schools - valid_hs_schools\n",
    "                if non_hs_schools:\n",
    "                    print(f\"WARNING: Found {len(non_hs_schools)} lower grades schools in high school achievement data:\")\n",
    "                    print(sorted(non_hs_schools))\n",
    "\n",
    "# Run the check\n",
    "check_dataframe_relationships(dfs)"
   ]
  },
  {
   "cell_type": "code",
   "execution_count": null,
   "id": "fce5dda5",
   "metadata": {},
   "outputs": [],
   "source": [
    "# Create a list of the 18 invalid DBNs \n",
    "invalid_dbns = ['01M458', '01M650', '02M340', '02M394', '02M560', '02M575', '02M586', \n",
    "                '13K482', '15K423', '15K456', '15K698', '75K369', '75M169', '75M226', \n",
    "                '75M721', '75M751', '79M984', '84K937']"
   ]
  },
  {
   "cell_type": "markdown",
   "id": "35e9d539",
   "metadata": {},
   "source": [
    "There are 18 invalid schools in our `coverage_matrix`. The likely reason for this is that our `coverage_matrix` was created from our GeoPandas dataframe, `schoolpoints_gdf`. This dataframe contains *all* schools in the New York City Public School system, including special education schools. These DBNs likely belong to special education schools, since we are not including them in our analysis.\n",
    "\n",
    "According to the New York City Public Schools website, the first two digits of a DBN (District Borough Number) indicate the district where the school is located. Our list includes schools from the following districts: "
   ]
  },
  {
   "cell_type": "code",
   "execution_count": null,
   "id": "7f6fff94",
   "metadata": {},
   "outputs": [],
   "source": [
    "districts = []\n",
    "for dbn in invalid_dbns:\n",
    "    districts.append(dbn[:2])\n",
    "\n",
    "sorted(set(districts))"
   ]
  },
  {
   "cell_type": "markdown",
   "id": "9b978e76",
   "metadata": {},
   "source": [
    "Here are the districts that these schools belong to:\n",
    "- Districts 01, 02: Manhattan\n",
    "- District 13, 15: Brooklyn\n",
    "- District 75: Special education\n",
    "- District 79: Alternative schools and programs\n",
    "- District 84: Community schools (According to the New York State Education Department, community schools are special schools that \"are designed to counter environmental factors that impede student achievement.\")"
   ]
  },
  {
   "cell_type": "markdown",
   "id": "8f291813",
   "metadata": {},
   "source": [
    "We know that districts 75, 79, and 84 are not going to be included in our data since they are varieties of special education schools. \n",
    "\n",
    "Schools in districts 01, 02, 13, and 15 could be newer schools that opened after the 2018-2019 school year (when our analysis time frame ends)."
   ]
  },
  {
   "cell_type": "markdown",
   "id": "671d1425",
   "metadata": {},
   "source": [
    "Now, let's make certain that `schoolpoints_gdf` is the true source of these invalid DBNs."
   ]
  },
  {
   "cell_type": "code",
   "execution_count": null,
   "id": "a42c850b",
   "metadata": {
    "scrolled": false
   },
   "outputs": [],
   "source": [
    "# Group by district number\n",
    "district_counts = pd.Series([dbn[:2] for dbn in invalid_dbns]).value_counts()\n",
    "print(\"Distribution by district:\")\n",
    "print(district_counts)\n",
    "\n",
    "# Check if these schools appear in your original data sources\n",
    "def check_school_in_sources(dbn):\n",
    "    \"\"\"\n",
    "    Check if DBN exists in original Excel sources and schoolpoints_gdf\n",
    "    \"\"\"\n",
    "    # Excel sources\n",
    "    excel_sources = {\n",
    "        'lower_grades_16_17': lower_grades_16_17,\n",
    "        'high_school_16_17': high_school_16_17,\n",
    "        'lower_grades_17_18': lower_grades_17_18,\n",
    "        'high_school_17_18': high_school_17_18,\n",
    "        'lower_grades_18_19': lower_grades_18_19,\n",
    "        'high_school_18_19': high_school_18_19\n",
    "    }\n",
    "    \n",
    "    found_in = []\n",
    "    \n",
    "    # Check Excel files\n",
    "    for source_name, excel_file in excel_sources.items():\n",
    "        try:\n",
    "            summary_df = excel_file.parse('Summary')\n",
    "            if dbn in summary_df['DBN'].values:\n",
    "                found_in.append(source_name)\n",
    "        except:\n",
    "            pass\n",
    "    \n",
    "    # Check schoolpoints_gdf\n",
    "    if dbn in schoolpoints_gdf['ATS'].values:\n",
    "        found_in.append('schoolpoints_gdf (as ATS)')\n",
    "        \n",
    "    return found_in\n",
    "\n",
    "print(\"\\nChecking invalid DBNs in all sources:\")\n",
    "print(f\"Total invalid DBNs: {len(invalid_dbns)}\")\n",
    "\n",
    "# Count where DBNs are found\n",
    "source_counts = {\n",
    "    'only_in_schoolpoints': 0,\n",
    "    'only_in_excel': 0,\n",
    "    'in_both': 0,\n",
    "    'not_found': 0\n",
    "}\n",
    "\n",
    "for dbn in invalid_dbns:\n",
    "    print(f\"\\n{'='*50}\")\n",
    "    print(f\"Checking {dbn}:\")\n",
    "    sources = check_school_in_sources(dbn)\n",
    "    \n",
    "    if not sources:\n",
    "        print(\"Not found in any source\")\n",
    "        source_counts['not_found'] += 1\n",
    "    else:\n",
    "        print(f\"Found in: {sources}\")\n",
    "        \n",
    "        # Count where it was found\n",
    "        in_schoolpoints = 'schoolpoints_gdf (as ATS)' in sources\n",
    "        in_excel = any('grades' in s or 'school' in s for s in sources)\n",
    "        \n",
    "        if in_schoolpoints and in_excel:\n",
    "            source_counts['in_both'] += 1\n",
    "        elif in_schoolpoints:\n",
    "            source_counts['only_in_schoolpoints'] += 1\n",
    "        else:\n",
    "            source_counts['only_in_excel'] += 1\n",
    "\n",
    "print(\"\\n\" + \"=\"*50)\n",
    "print(\"\\nSummary of where invalid DBNs were found:\")\n",
    "for category, count in source_counts.items():\n",
    "    print(f\"{category}: {count}\")\n",
    "\n",
    "# Optional: Compare with valid DBNs\n",
    "print(\"\\nChecking a few valid DBNs for comparison:\")\n",
    "valid_dbns = list(set(coverage_matrix['DBN']) - set(invalid_dbns))[:3]\n",
    "for dbn in valid_dbns:\n",
    "    print(f\"\\n{dbn}:\")\n",
    "    sources = check_school_in_sources(dbn)\n",
    "    print(f\"Found in: {sources}\")"
   ]
  },
  {
   "cell_type": "markdown",
   "id": "e2d2d223",
   "metadata": {},
   "source": [
    "Just as we suspected, `schoolpoints_gdf` is the source of these invalid DBNs. Let's go ahead and remove entries with these invalid DBNs from our `coverage_matrix`."
   ]
  },
  {
   "cell_type": "code",
   "execution_count": null,
   "id": "82c689af",
   "metadata": {},
   "outputs": [],
   "source": [
    "coverage_matrix = coverage_matrix[~coverage_matrix['DBN'].isin(invalid_dbns)]"
   ]
  },
  {
   "cell_type": "markdown",
   "id": "8250d447",
   "metadata": {},
   "source": [
    "Now, let's double check that `coverage_matrix` is free of issues:"
   ]
  },
  {
   "cell_type": "code",
   "execution_count": null,
   "id": "0ad0066a",
   "metadata": {},
   "outputs": [],
   "source": [
    "# Get set of valid DBNs from reference lists (explicitly convert to sets)\n",
    "valid_lg_dbns = set(elem_middle_schools['DBN'])\n",
    "valid_hs_dbns = set(high_schools['DBN'])\n",
    "valid_dbns = valid_lg_dbns.union(valid_hs_dbns)\n",
    "\n",
    "remaining_invalid = set(coverage_matrix['DBN']) - valid_dbns\n",
    "if remaining_invalid:\n",
    "    print(\"\\nWARNING: Some invalid DBNs remain:\")\n",
    "    print(remaining_invalid)\n",
    "else:\n",
    "    print(\"\\nVerification successful: All remaining DBNs are valid\")"
   ]
  },
  {
   "cell_type": "markdown",
   "id": "00d50267",
   "metadata": {},
   "source": [
    "### Check for overlap between coverage and non-coverage dataframes <a name=\"check-overlap\"></a>\n",
    "\n",
    "The function `check_coverage_overlap` will confirm that we have defined our coverage and non-coverage dataframes correctly by checking each pair of coverage and non-coverage dataframes to determine whether any schools from the coverage dataframe are in the non-coverage dataframe and vice versa."
   ]
  },
  {
   "cell_type": "code",
   "execution_count": null,
   "id": "146e2dd5",
   "metadata": {},
   "outputs": [],
   "source": [
    "def check_coverage_overlap():\n",
    "    \"\"\"\n",
    "    Check for overlap between coverage and non-coverage datasets,\n",
    "    accounting for school types\n",
    "    \"\"\"\n",
    "    print(\"Checking for overlap between coverage and non-coverage datasets...\")\n",
    "    print(\"=\"*70)\n",
    "    \n",
    "    # Get reference sets of schools by type\n",
    "    elem_middle_dbns = set(elem_middle_schools['DBN'])\n",
    "    high_school_dbns = set(high_schools['DBN'])\n",
    "    \n",
    "    # Get reference set from coverage_matrix\n",
    "    coverage_dbns = set(coverage_matrix['DBN'])\n",
    "    print(f\"Number of schools in coverage_matrix: {len(coverage_dbns)}\")\n",
    "    print(f\"- Elementary/Middle Schools: {len(coverage_dbns.intersection(elem_middle_dbns))}\")\n",
    "    print(f\"- High Schools: {len(coverage_dbns.intersection(high_school_dbns))}\")\n",
    "    \n",
    "    # Pairs of dataframes to check with their expected school types\n",
    "    df_pairs = [\n",
    "        ('Summary Data', \n",
    "         coverage_combined_summary_df, \n",
    "         non_coverage_combined_summary_df,\n",
    "         coverage_dbns),  # All schools\n",
    "        \n",
    "        ('Lower Grades Achievement', \n",
    "         coverage_lg_achievement_df, \n",
    "         non_coverage_lg_achievement_df,\n",
    "         coverage_dbns.intersection(elem_middle_dbns)),  # Only elementary/middle schools\n",
    "        \n",
    "        ('High School Achievement', \n",
    "         coverage_hs_achievement_df, \n",
    "         non_coverage_hs_achievement_df,\n",
    "         coverage_dbns.intersection(high_school_dbns)),  # Only high schools\n",
    "        \n",
    "        ('Combined Achievement', \n",
    "         coverage_combined_achievement_df, \n",
    "         non_coverage_combined_achievement_df,\n",
    "         coverage_dbns)  # All schools\n",
    "    ]\n",
    "    \n",
    "    for name, coverage_df, non_coverage_df, expected_dbns in df_pairs:\n",
    "        print(f\"\\nChecking {name}:\")\n",
    "        print(\"-\" * 50)\n",
    "        \n",
    "        # Get unique DBNs from each dataset\n",
    "        coverage_schools = set(coverage_df['DBN'].unique())\n",
    "        non_coverage_schools = set(non_coverage_df['DBN'].unique())\n",
    "        \n",
    "        # Find overlapping schools\n",
    "        overlap = coverage_schools.intersection(non_coverage_schools)\n",
    "        \n",
    "        # Check against expected schools\n",
    "        missing_from_coverage = expected_dbns - coverage_schools\n",
    "        unexpected_in_coverage = coverage_schools - expected_dbns\n",
    "        wrong_in_non_coverage = expected_dbns.intersection(non_coverage_schools)\n",
    "        \n",
    "        print(f\"Schools in coverage dataset: {len(coverage_schools)}\")\n",
    "        print(f\"Schools in non-coverage dataset: {len(non_coverage_schools)}\")\n",
    "        print(f\"Expected schools from coverage_matrix: {len(expected_dbns)}\")\n",
    "        \n",
    "        if overlap:\n",
    "            print(f\"\\nWARNING: Found {len(overlap)} schools in both datasets:\")\n",
    "            print(sorted(overlap))\n",
    "        \n",
    "        if missing_from_coverage:\n",
    "            print(f\"\\nWARNING: {len(missing_from_coverage)} expected schools \" \n",
    "                  f\"missing from coverage dataset:\")\n",
    "            print(sorted(missing_from_coverage))\n",
    "        \n",
    "        if unexpected_in_coverage:\n",
    "            print(f\"\\nWARNING: {len(unexpected_in_coverage)} schools in coverage dataset \" \n",
    "                  f\"not expected:\")\n",
    "            print(sorted(unexpected_in_coverage))\n",
    "        \n",
    "        if wrong_in_non_coverage:\n",
    "            print(f\"\\nWARNING: {len(wrong_in_non_coverage)} expected schools \" \n",
    "                  f\"found in non-coverage dataset:\")\n",
    "            print(sorted(wrong_in_non_coverage))\n",
    "        \n",
    "        # Check by academic year if available\n",
    "        if 'academic_year' in coverage_df.columns:\n",
    "            print(\"\\nChecking by academic year:\")\n",
    "            for year in sorted(coverage_df['academic_year'].unique()):\n",
    "                year_coverage = set(coverage_df[coverage_df['academic_year'] == year]['DBN'])\n",
    "                year_non_coverage = set(non_coverage_df[non_coverage_df['academic_year'] == year]['DBN'])\n",
    "                year_overlap = year_coverage.intersection(year_non_coverage)\n",
    "                year_missing = expected_dbns - year_coverage\n",
    "                \n",
    "                if year_overlap:\n",
    "                    print(f\"\\nWARNING: {year} has {len(year_overlap)} overlapping schools:\")\n",
    "                    print(sorted(year_overlap))\n",
    "                \n",
    "                if year_missing:\n",
    "                    print(f\"\\nWARNING: {year} missing {len(year_missing)} expected schools:\")\n",
    "                    print(sorted(year_missing))\n",
    "\n",
    "# Run the check\n",
    "check_coverage_overlap()"
   ]
  },
  {
   "cell_type": "markdown",
   "id": "fec198e7",
   "metadata": {},
   "source": [
    "Based on the results of our analysis, all coverage and non-coverage dataframes are properly split."
   ]
  },
  {
   "cell_type": "markdown",
   "id": "21a60510",
   "metadata": {},
   "source": [
    "### Data range validation <a name=\"data-range-validation\"></a>\n",
    "\n",
    "Let's define a function `verify_ranges_and_units` that will check that all numerical values fall within expected ranges.\n",
    "\n",
    "We will use this function on our `dfs` dictionary."
   ]
  },
  {
   "cell_type": "code",
   "execution_count": null,
   "id": "8dbeea23",
   "metadata": {
    "scrolled": false
   },
   "outputs": [],
   "source": [
    "def verify_ranges_and_units(dfs_dict):\n",
    "    \"\"\"\n",
    "    Verify numerical ranges for all dataframes in dictionary\n",
    "    \"\"\"\n",
    "    import re\n",
    "    \n",
    "    # Define expected ranges for different types of metrics\n",
    "    expected_ranges = {\n",
    "        # Percentage metrics should be 0-1 (decimal format)\n",
    "        'percentage_cols': {\n",
    "            'pattern': ['_pct', '_rate', 'proficient'],\n",
    "            'exclude': ['_n', '_count'],\n",
    "            'min': 0,\n",
    "            'max': 1,\n",
    "            'units': 'decimal %'\n",
    "        },\n",
    "        \n",
    "        # Count/Population metrics should be positive integers\n",
    "        'count_cols': {\n",
    "            'pattern': ['_n$', '_count$', '^enrollment$'],\n",
    "            'min': 0,\n",
    "            'max': 5000,\n",
    "            'units': 'count'\n",
    "        },\n",
    "        \n",
    "        # Distance metrics should be positive\n",
    "        'distance_cols': {\n",
    "            'pattern': ['distance_km'],\n",
    "            'min': 0,\n",
    "            'max': 5,\n",
    "            'units': 'kilometers'\n",
    "        },\n",
    "        \n",
    "        # Achievement scores often have specific ranges\n",
    "        'achievement_cols': {\n",
    "            'pattern': ['achievement_score$'],\n",
    "            'min': 1,\n",
    "            'max': 5,\n",
    "            'units': 'score'\n",
    "        }\n",
    "    }\n",
    "    \n",
    "    # Process each dataframe\n",
    "    for df_name, df in dfs_dict.items():\n",
    "        print(f\"\\n{'='*50}\")\n",
    "        print(f\"Analyzing {df_name}\")\n",
    "        print(f\"{'='*50}\")\n",
    "        \n",
    "        for category, rules in expected_ranges.items():\n",
    "            # Find columns matching the patterns, using more precise regex\n",
    "            matching_cols = []\n",
    "            for pattern in rules['pattern']:\n",
    "                matching_cols.extend([col for col in df.columns \n",
    "                                    if re.search(pattern, col.lower())])\n",
    "            \n",
    "            # Exclude columns if specified\n",
    "            if 'exclude' in rules:\n",
    "                matching_cols = [col for col in matching_cols \n",
    "                               if not any(re.search(excl, col.lower()) \n",
    "                                        for excl in rules['exclude'])]\n",
    "            \n",
    "            # Remove duplicates\n",
    "            matching_cols = list(set(matching_cols))\n",
    "            \n",
    "            if matching_cols:\n",
    "                print(f\"\\nChecking {category}:\")\n",
    "                for col in matching_cols:\n",
    "                    values = df[col].dropna()\n",
    "                    if len(values) > 0:\n",
    "                        print(f\"\\n{col}:\")\n",
    "                        print(f\"Units expected: {rules['units']}\")\n",
    "                        print(f\"Expected range: {rules['min']} to {rules['max']}\")\n",
    "                        \n",
    "                        # Check data type\n",
    "                        if pd.api.types.is_numeric_dtype(values):\n",
    "                            print(f\"Actual range: {values.min()} to {values.max()}\")\n",
    "                            \n",
    "                            # Check for out of range values\n",
    "                            out_of_range = values[(values < rules['min']) | \n",
    "                                                (values > rules['max'])]\n",
    "                            if len(out_of_range) > 0:\n",
    "                                print(f\"WARNING: {len(out_of_range)} values out of expected range\")\n",
    "                                print(f\"Example out of range values: {out_of_range.head().tolist()}\")\n",
    "                            \n",
    "                            # For count columns, check if values are integers\n",
    "                            if category == 'count_cols':\n",
    "                                non_integer = values[values != values.astype(int)]\n",
    "                                if len(non_integer) > 0:\n",
    "                                    print(f\"WARNING: {len(non_integer)} non-integer values found\")\n",
    "                                    print(f\"Example non-integer values: {non_integer.head().tolist()}\")\n",
    "                        else:\n",
    "                            print(f\"WARNING: Column {col} is not numeric\")\n",
    "                            print(f\"Data type: {values.dtype}\")\n",
    "                            print(f\"Example values: {values.head().tolist()}\")\n",
    "\n",
    "# Run the verification\n",
    "verify_ranges_and_units(dfs)"
   ]
  },
  {
   "cell_type": "markdown",
   "id": "e305703a",
   "metadata": {},
   "source": [
    "All values falling out of expected range are either relatively reasonable (there are only three schools whose enrollment exceeds 5,000, which is reasonably large for a city as populated as New York) or expected (`-1` to replace `NaN` values in our `_n` columns). However, running this analysis has revealed something interesting: When we merged our high schoool achievement dataframes, our int columns became floats. Let's fix this."
   ]
  },
  {
   "cell_type": "code",
   "execution_count": null,
   "id": "55820b64",
   "metadata": {},
   "outputs": [],
   "source": [
    "dfs_to_convert = {\n",
    "    'coverage_combined_achievement_df':coverage_combined_achievement_df, \n",
    "    'non_coverage_combined_achievement_df':non_coverage_combined_achievement_df, \n",
    "    'merged_coverage_df':merged_coverage_df\n",
    "}"
   ]
  },
  {
   "cell_type": "code",
   "execution_count": null,
   "id": "289138a6",
   "metadata": {},
   "outputs": [],
   "source": [
    "count_cols = ['ela_proficient_n', 'math_proficient_n', 'ela_lowest_third_n', 'math_lowest_third_n', 'grad_rate_n',\n",
    "              'regents_english_n', 'college_ready_n']\n",
    "\n",
    "def change_to_int(df):\n",
    "    print(\"Before conversion:\")\n",
    "    print(df[count_cols].dtypes)\n",
    "\n",
    "    # Convert to integer\n",
    "    for col in count_cols:\n",
    "        df[col] = df[col].astype('Int64')\n",
    "\n",
    "    # Verify conversion\n",
    "    print(\"\\nAfter conversion:\")\n",
    "    print(df[count_cols].dtypes)"
   ]
  },
  {
   "cell_type": "code",
   "execution_count": null,
   "id": "ba906bd0",
   "metadata": {
    "scrolled": false
   },
   "outputs": [],
   "source": [
    "for key, value in dfs_to_convert.items():\n",
    "    print(f\"{'-'*80}\\n{key}:\")\n",
    "    change_to_int(value)"
   ]
  },
  {
   "cell_type": "markdown",
   "id": "19b88a18",
   "metadata": {},
   "source": [
    "### Check temporal coverage <a name=\"conclusion\"></a>\n",
    "\n",
    "The function `analyze_temporal_coverage` will determine the following:\n",
    "- Which academic years are present in each dataset\n",
    "- Number of records per school year\n",
    "- Number of schools per school year\n",
    "- Missing years in any dataset\n",
    "- Whether there are unexpected changes in school counts\n",
    "\n",
    "Also, specifically, for `noise_data`, this function will check for:\n",
    "- Start and end dates\n",
    "- Gaps in coverage\n",
    "- Distribution of school vs. non-school days"
   ]
  },
  {
   "cell_type": "code",
   "execution_count": null,
   "id": "b7bee17c",
   "metadata": {
    "scrolled": false
   },
   "outputs": [],
   "source": [
    "def analyze_temporal_coverage(dfs_dict):\n",
    "    \"\"\"\n",
    "    Analyze temporal coverage and consistency across dataframes\n",
    "    \"\"\"\n",
    "    print(\"Analyzing Temporal Coverage and Consistency\")\n",
    "    print(\"=\"*50)\n",
    "    \n",
    "    # Dictionary to store temporal info for each dataframe\n",
    "    temporal_info = {}\n",
    "    \n",
    "    for df_name, df in dfs_dict.items():\n",
    "        print(f\"\\nAnalyzing {df_name}:\")\n",
    "        \n",
    "        # Check for academic years\n",
    "        if 'academic_year' in df.columns:\n",
    "            years = sorted(df['academic_year'].unique())\n",
    "            year_counts = df['academic_year'].value_counts().sort_index()\n",
    "            \n",
    "            print(\"\\nAcademic Years:\")\n",
    "            print(f\"Years covered: {years}\")\n",
    "            print(\"\\nRecords per academic year:\")\n",
    "            print(year_counts)\n",
    "            \n",
    "            # Check for consistency in school counts across years\n",
    "            school_counts = df.groupby('academic_year')['DBN'].nunique()\n",
    "            print(\"\\nUnique schools per year:\")\n",
    "            print(school_counts)\n",
    "            \n",
    "            if school_counts.nunique() > 1:\n",
    "                print(\"\\nWARNING: Inconsistent number of schools across years\")\n",
    "                print(\"This might indicate missing data or school openings/closings\")\n",
    "        \n",
    "        # Check for calendar dates (if present)\n",
    "        if 'date' in df.columns:\n",
    "            print(\"\\nCalendar Date Range:\")\n",
    "            print(f\"Start: {df['date'].min()}\")\n",
    "            print(f\"End: {df['date'].max()}\")\n",
    "            \n",
    "            # Check for gaps in coverage\n",
    "            if pd.api.types.is_datetime64_any_dtype(df['date']):\n",
    "                date_counts = df['date'].value_counts().sort_index()\n",
    "                gaps = date_counts[date_counts == 0]\n",
    "                if len(gaps) > 0:\n",
    "                    print(f\"\\nFound {len(gaps)} dates with no data\")\n",
    "        \n",
    "        # Check for school days (if present)\n",
    "        if 'is_school_day' in df.columns:\n",
    "            school_day_counts = df['is_school_day'].value_counts()\n",
    "            print(\"\\nSchool Day Distribution:\")\n",
    "            print(school_day_counts)\n",
    "        \n",
    "        # Store information for cross-dataframe comparison\n",
    "        temporal_info[df_name] = {\n",
    "            'years': years if 'academic_year' in df.columns else None,\n",
    "            'school_counts': school_counts if 'academic_year' in df.columns else None\n",
    "        }\n",
    "    \n",
    "    # Cross-dataframe consistency check\n",
    "    print(\"\\n\" + \"=\"*50)\n",
    "    print(\"Cross-DataFrame Consistency Check\")\n",
    "    print(\"=\"*50)\n",
    "    \n",
    "    # Find all unique academic years across all dataframes\n",
    "    all_years = set()\n",
    "    for info in temporal_info.values():\n",
    "        if info['years'] is not None:\n",
    "            all_years.update(info['years'])\n",
    "    \n",
    "    print(\"\\nAcademic years covered in each dataframe:\")\n",
    "    for df_name, info in temporal_info.items():\n",
    "        if info['years'] is not None:\n",
    "            missing_years = all_years - set(info['years'])\n",
    "            if missing_years:\n",
    "                print(f\"\\n{df_name}:\")\n",
    "                print(f\"Missing years: {sorted(missing_years)}\")\n",
    "            else:\n",
    "                print(f\"\\n{df_name}: Complete coverage\")\n",
    "\n",
    "# Create dictionary of dataframes (using relevant ones for temporal analysis)\n",
    "temporal_dfs = {\n",
    "    'coverage_combined_summary_df': coverage_combined_summary_df,\n",
    "    'non_coverage_combined_summary_df': non_coverage_combined_summary_df,\n",
    "    'coverage_lg_achievement_df': coverage_lg_achievement_df,\n",
    "    'non_coverage_lg_achievement_df': non_coverage_lg_achievement_df,\n",
    "    'coverage_hs_achievement_df': coverage_hs_achievement_df,\n",
    "    'non_coverage_hs_achievement_df': non_coverage_hs_achievement_df,\n",
    "    'noise_data': noise_data  # If it has date information\n",
    "}\n",
    "\n",
    "# Run the analysis\n",
    "analyze_temporal_coverage(temporal_dfs)"
   ]
  },
  {
   "cell_type": "markdown",
   "id": "0214f002",
   "metadata": {},
   "source": [
    "Note that in our non-coverage dataframes, we get warnings about inconsistent numbers of schools across academic years. In each case, there are very slightly fewer schools in the 2016-2017 academic year compared to other years. This is likely because these schools did not report their data."
   ]
  },
  {
   "cell_type": "markdown",
   "id": "43298a7d",
   "metadata": {},
   "source": [
    "---\n",
    "## Conclusion <a name=\"conclusion\"></a>\n",
    "\n",
    "In this notebook, we have cleaned and wrangled several dataframes to prepare us for our exploratory data analysis:\n",
    "- **SONYC data:** We have stored our cleaned dataframe for later retrieval as `noise_data`.\n",
    "- **School district and school points shapefile:** We have stored these as `districts_gdf` and `schoolpoints_gdf`, respectively. These have already assisted us in building a map in this notebook, but we will likely create another map using these GeoPandas dataframes as a deliverable in a later stage of our project.\n",
    "- **School coverage matrix:** These are schools covered by our sensors. Stored as `coverage_matrix`.\n",
    "- **School quality reports:** We have dataframes for summary and achievement information for schools covered in our analysis. These are stored as `combined_summary_df` and `combined_achievement_df`, respectively. We also have a dataframe called `merged_coverage_df` that combines both of these dataframes with our `coverage_matrix` dataframe. In addition to these quality reports, we saved a list of lower-grade schools as well as a list of high schools. There are `elem_middle_schools` and `high_schools`, respectively."
   ]
  },
  {
   "cell_type": "markdown",
   "id": "1c3e1468",
   "metadata": {},
   "source": [
    "### Save data <a name=\"save-data\"></a>\n",
    "Let's save the variables we worked on for use in our Exploratory Data Analysis phase."
   ]
  },
  {
   "cell_type": "code",
   "execution_count": null,
   "id": "7ef981bc",
   "metadata": {
    "scrolled": false
   },
   "outputs": [],
   "source": [
    "# Store GeoPandas dataframes with school district and location data\n",
    "%store districts_gdf \n",
    "%store schoolpoints_gdf\n",
    "\n",
    "# Merged dataset with all metrics\n",
    "%store merged_coverage_df\n",
    "\n",
    "# Reference list of elementary/middle schools\n",
    "%store elem_middle_schools\n",
    "\n",
    "# Reference list of high schools\n",
    "%store high_schools\n",
    "\n",
    "# Sensor coverage for each school\n",
    "%store coverage_matrix\n",
    "\n",
    "# Lower grades achievement data\n",
    "%store coverage_lg_achievement_df\n",
    "%store non_coverage_lg_achievement_df\n",
    "\n",
    "# High school achievement data\n",
    "%store coverage_hs_achievement_df\n",
    "%store non_coverage_hs_achievement_df\n",
    "\n",
    "# Combined achievement data\n",
    "%store coverage_combined_achievement_df\n",
    "%store non_coverage_combined_achievement_df\n",
    "\n",
    "# School demographic information\n",
    "%store coverage_combined_summary_df\n",
    "%store non_coverage_combined_summary_df\n",
    "\n",
    "# Processed version of noise_data\n",
    "%store noise_data"
   ]
  }
 ],
 "metadata": {
  "kernelspec": {
   "display_name": "Python 3 (ipykernel)",
   "language": "python",
   "name": "python3"
  },
  "language_info": {
   "codemirror_mode": {
    "name": "ipython",
    "version": 3
   },
   "file_extension": ".py",
   "mimetype": "text/x-python",
   "name": "python",
   "nbconvert_exporter": "python",
   "pygments_lexer": "ipython3",
   "version": "3.11.5"
  }
 },
 "nbformat": 4,
 "nbformat_minor": 5
}
