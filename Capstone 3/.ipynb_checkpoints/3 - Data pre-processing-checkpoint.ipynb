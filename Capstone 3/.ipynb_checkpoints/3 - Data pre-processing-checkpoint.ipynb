{
 "cells": [
  {
   "cell_type": "markdown",
   "id": "532f72ff",
   "metadata": {},
   "source": [
    "# Capstone 3 - Data pre-processing"
   ]
  },
  {
   "cell_type": "markdown",
   "id": "8ca660a4",
   "metadata": {},
   "source": [
    "### Table of contents\n",
    "\n",
    "<div class=\"alert alert-block alert-info\">\n",
    "<b>Put table of contents here</b>\n",
    "</div>"
   ]
  },
  {
   "cell_type": "markdown",
   "id": "84b2be4b",
   "metadata": {},
   "source": [
    "## Introduction"
   ]
  },
  {
   "cell_type": "markdown",
   "id": "fd3c8d13",
   "metadata": {},
   "source": [
    "### Import relevant libraries"
   ]
  },
  {
   "cell_type": "code",
   "execution_count": 1,
   "id": "210eac74",
   "metadata": {},
   "outputs": [],
   "source": [
    "import pandas as pd\n",
    "import numpy as np\n",
    "from sklearn.impute import KNNImputer"
   ]
  },
  {
   "cell_type": "markdown",
   "id": "a576cd29",
   "metadata": {},
   "source": [
    "### Retrieve variables"
   ]
  },
  {
   "cell_type": "code",
   "execution_count": 2,
   "id": "8f956474",
   "metadata": {},
   "outputs": [],
   "source": [
    "# Retrieve original noise_data dataframe\n",
    "%store -r noise_data\n",
    "\n",
    "# Retrieve GeoPandas dataframes\n",
    "%store -r districts_gdf \n",
    "%store -r schoolpoints_gdf\n",
    "\n",
    "# Retrieve schools covered by sensor range\n",
    "%store -r coverage_matrix\n",
    "\n",
    "# Retrieve school demographic information\n",
    "%store -r combined_summary_df\n",
    "\n",
    "# Retrieve lower grades achievement information\n",
    "%store -r combined_lg_achievement_df\n",
    "\n",
    "# Retrieve high school achievement information\n",
    "%store -r combined_hs_achievement_df\n",
    "\n",
    "# Retrieve combined achievement data\n",
    "%store -r coverage_combined_achievement_df\n",
    "%store -r non_coverage_combined_achievement_df\n",
    "\n",
    "# Retrieve merged dataset with all metrics\n",
    "%store -r merged_coverage_df\n",
    "\n",
    "# Retrieve school lists\n",
    "%store -r elem_middle_schools\n",
    "%store -r high_schools"
   ]
  },
  {
   "cell_type": "markdown",
   "id": "dc59ddd1",
   "metadata": {},
   "source": [
    "## Preparing to pre-process the data"
   ]
  },
  {
   "cell_type": "markdown",
   "id": "5224bb14",
   "metadata": {},
   "source": [
    "To simplify our pre-processing stage, we will write a few functions."
   ]
  },
  {
   "cell_type": "markdown",
   "id": "2bd1068e",
   "metadata": {},
   "source": [
    "### Define a function `identify_missing_values`\n",
    "To start, we will define a function, `identify_missing_values`, that will help us isolate columns with missing values."
   ]
  },
  {
   "cell_type": "code",
   "execution_count": 3,
   "id": "ead914b5",
   "metadata": {},
   "outputs": [],
   "source": [
    "def identify_missing_values(df):\n",
    "    # Distinguish categorical variables from numerical variables\n",
    "    categorical_variables = df.select_dtypes(include=['object', 'category', 'bool']).columns\n",
    "    numerical_variables = df.select_dtypes(exclude=['object', 'category', 'bool']).columns\n",
    "    \n",
    "    # Loop through numerical variables of summary dfs to find number of null values in each column\n",
    "    # Also, create an empty list for adding any columns with missing values\n",
    "    missing_numerical_variables = []\n",
    "    for item in numerical_variables:\n",
    "        missing_values = df[item].isnull().sum()\n",
    "        print(f\"{item}: {df[item].isnull().sum()}\")\n",
    "        if missing_values > 0:\n",
    "            missing_numerical_variables.append(item)\n",
    "    \n",
    "    return missing_numerical_variables"
   ]
  },
  {
   "cell_type": "markdown",
   "id": "0501af05",
   "metadata": {},
   "source": [
    "### Define a function `knn_impute`"
   ]
  },
  {
   "cell_type": "code",
   "execution_count": 4,
   "id": "0fee4d01",
   "metadata": {},
   "outputs": [],
   "source": [
    "def knn_impute(df, n_neighbors=5):\n",
    "    missing_numerical_variables = identify_missing_values(df)\n",
    "    missing_numerical_data = df[missing_numerical_variables]\n",
    "    \n",
    "    # Perform KNN imputation\n",
    "    imputer = KNNImputer(n_neighbors=n_neighbors)\n",
    "    numerical_data_imputed = imputer.fit_transform(missing_numerical_data)\n",
    "    \n",
    "    # Convert imputed data back to a dataframe\n",
    "    numerical_data_imputed = pd.DataFrame(numerical_data_imputed, columns=missing_numerical_variables, \n",
    "                                          index=df.index)\n",
    "    \n",
    "    # Combine with original categorical columns\n",
    "    df_imputed = df.copy()\n",
    "    df_imputed[missing_numerical_variables] = numerical_data_imputed\n",
    "    \n",
    "    return df_imputed"
   ]
  },
  {
   "cell_type": "markdown",
   "id": "6d65c9c1",
   "metadata": {},
   "source": [
    "### Define a function `knn_cross_validate`"
   ]
  },
  {
   "cell_type": "markdown",
   "id": "d97e2fdd",
   "metadata": {},
   "source": [
    "<div class=\"alert alert-block alert-danger\">\n",
    "<b>FINISH THIS!</b> Write a function that uses `knn_impute` to cross-validate imputed numerical values.\n",
    "</div>"
   ]
  },
  {
   "cell_type": "code",
   "execution_count": 5,
   "id": "fc1c2a53",
   "metadata": {},
   "outputs": [],
   "source": [
    "# def knn_cross_validate(df, n_neighbors=5):\n",
    "#     df_imputed = knn_impute(df, n_neighbors=n_neighbors)\n",
    "    \n",
    "#     # Finish the rest after learning more about how to cross-validate"
   ]
  },
  {
   "cell_type": "markdown",
   "id": "b74e6356",
   "metadata": {},
   "source": [
    "## Imputing missing values for summary data"
   ]
  },
  {
   "cell_type": "code",
   "execution_count": 6,
   "id": "0147ec2f",
   "metadata": {},
   "outputs": [],
   "source": [
    "# knn_cross_validate(combined_summary_df)"
   ]
  },
  {
   "cell_type": "markdown",
   "id": "c105e5f8",
   "metadata": {},
   "source": [
    "## Imputing missing values for lower grades achievement data"
   ]
  },
  {
   "cell_type": "code",
   "execution_count": 7,
   "id": "d74571fa",
   "metadata": {},
   "outputs": [],
   "source": [
    "# knn_cross_validate(combined_lg_achievement_df)"
   ]
  },
  {
   "cell_type": "markdown",
   "id": "c8a3e753",
   "metadata": {},
   "source": [
    "## Imputing missing values for lower grades achievement data"
   ]
  },
  {
   "cell_type": "code",
   "execution_count": 8,
   "id": "19c8bfb1",
   "metadata": {},
   "outputs": [],
   "source": [
    "# knn_cross_validate(combined_hs_achievement_df)"
   ]
  }
 ],
 "metadata": {
  "kernelspec": {
   "display_name": "Python 3 (ipykernel)",
   "language": "python",
   "name": "python3"
  },
  "language_info": {
   "codemirror_mode": {
    "name": "ipython",
    "version": 3
   },
   "file_extension": ".py",
   "mimetype": "text/x-python",
   "name": "python",
   "nbconvert_exporter": "python",
   "pygments_lexer": "ipython3",
   "version": "3.11.5"
  }
 },
 "nbformat": 4,
 "nbformat_minor": 5
}
