{
 "cells": [
  {
   "cell_type": "markdown",
   "id": "451df3de",
   "metadata": {},
   "source": [
    "# Modeling for Capstone Two: Music & Happiness"
   ]
  },
  {
   "cell_type": "markdown",
   "id": "e7487205",
   "metadata": {},
   "source": [
    "<div class=\"alert alert-block alert-danger\">\n",
    "    <b>Make sure to update TOC when you're finished.</b>\n",
    "</div>"
   ]
  },
  {
   "cell_type": "markdown",
   "id": "4f91b539",
   "metadata": {},
   "source": [
    "### Table of Contents\n",
    "\n",
    "* [Introduction](#start)\n",
    "    * [Goal](#goal)\n",
    "    * [Import relevant libraries](#import)\n",
    "    * [Load variables from pre-processing \\& training phase](#load)\n",
    "* [Modeling with Linear Regression](#linear-regression)\n",
    "    * [Training and fitting](#lr-train)\n",
    "    * [Residual analysis](#lr-residual)\n",
    "    * [Scatterplot of predictions vs. actual values](#lr-scatter)\n",
    "* [Modeling with Random Forest Regression](#random-forest)\n",
    "    * [Training and fitting](#rf-train)\n",
    "    * [Residual analysis](#rf-residual)\n",
    "    * [Scatterplot of predictions vs. actual values](#rf-scatter)\n",
    "* [Modeling with Gradient Boosting Regressor](#gbr)\n",
    "    * [Training and fitting](#gbr-train)\n",
    "    * [Residual analysis](#gbr-residual)\n",
    "    * [Scatterplot of predictions vs. actual values](#gbr-scatter)\n",
    "* [Model comparison and evaluation](#comparison)\n",
    "* [Analysis](#analysis)"
   ]
  },
  {
   "cell_type": "markdown",
   "id": "120d7132",
   "metadata": {},
   "source": [
    "## 1 - Introduction <a name=\"start\"></a>"
   ]
  },
  {
   "cell_type": "markdown",
   "id": "6cdcbc03",
   "metadata": {},
   "source": [
    "### 1.1 Goal <a name=\"goal\"></a>\n",
    "Previously, we explored Spotify user metrics from 71 countries and their potential relationships to measures from the 2023 World Happiness Report. Our goal is to determine whether any of these metrics - or perhaps a combination of them - effectively predict how a country might rank on the ladder score of the World Happiness Report. \n",
    "\n",
    "#### About the Ladder Score\n",
    "As previously mentioned in our exploratory data analysis section, the \"ladder score\" is the \"national average response to the question of life evaluations.\" This is how each survey respondent answered the question, \"Please imagine a ladder, with steps numbered from 0 at the bottom to 10 at the top. The top of the ladder represents the best possible life for you and the bottom of the ladder represents the worst possible life for you. On which step of the ladder would you say you personally feel you stand at this time?\" (This definition comes directly from the statistical appendix of the 2023 World Happiness Report (WHR), which can be found on the official [World Happiness Report website](https://happiness-report.s3.amazonaws.com/2023/WHR+23_Statistical_Appendix.pdf).)"
   ]
  },
  {
   "cell_type": "markdown",
   "id": "59f72e2e",
   "metadata": {},
   "source": [
    "### 1.2 Import relevant libraries <a name=\"import\"></a>"
   ]
  },
  {
   "cell_type": "code",
   "execution_count": 1,
   "id": "eedac811",
   "metadata": {},
   "outputs": [],
   "source": [
    "import pandas as pd\n",
    "import numpy as np\n",
    "\n",
    "import matplotlib.pyplot as plt\n",
    "import seaborn as sns\n",
    "\n",
    "from sklearn.model_selection import cross_val_score, KFold\n",
    "from sklearn.compose import ColumnTransformer\n",
    "from sklearn.pipeline import Pipeline\n",
    "from sklearn.linear_model import LinearRegression\n",
    "from sklearn.ensemble import RandomForestRegressor, GradientBoostingRegressor\n",
    "\n",
    "from sklearn.metrics import mean_absolute_error, mean_squared_error, r2_score"
   ]
  },
  {
   "cell_type": "markdown",
   "id": "1e6c2aea",
   "metadata": {},
   "source": [
    "### 1.3 Load variables from pre-processing and training phase <a name=\"load\"></a>\n",
    "Previously, we split and trained our data in preparation for creating our model. We stored these variables as `X_train`, `X_test`, `y_train`, and `y_test`. We will retrieve them here:"
   ]
  },
  {
   "cell_type": "code",
   "execution_count": 2,
   "id": "7c1de177",
   "metadata": {},
   "outputs": [],
   "source": [
    "%store -r X_train\n",
    "%store -r X_test\n",
    "%store -r y_train\n",
    "%store -r y_test\n",
    "%store -r df"
   ]
  },
  {
   "cell_type": "markdown",
   "id": "b6d0f142",
   "metadata": {},
   "source": [
    "## 2 - Modeling with Linear Regression <a name=\"linear-regression\"></a>"
   ]
  },
  {
   "cell_type": "markdown",
   "id": "a45043f6",
   "metadata": {},
   "source": [
    "### 2.1 Training and fitting <a name=\"lr-name\"></a>"
   ]
  },
  {
   "cell_type": "code",
   "execution_count": 3,
   "id": "0a6170f1",
   "metadata": {},
   "outputs": [
    {
     "name": "stdout",
     "output_type": "stream",
     "text": [
      "Linear Regression Results:\n",
      "MAE: 0.6025407258728585\n",
      "MSE: 0.5466699818463544\n",
      "R-squared: -0.03191182146676108\n"
     ]
    }
   ],
   "source": [
    "# Initialize the Linear Regression model\n",
    "lin_reg = LinearRegression()\n",
    "\n",
    "# Fit the model to the training data\n",
    "lin_reg.fit(X_train, y_train)\n",
    "\n",
    "# Make predictions on the test set\n",
    "y_pred = lin_reg.predict(X_test)\n",
    "\n",
    "# Evaluate the model using MAE, MSE, and R-squared\n",
    "mae = mean_absolute_error(y_test, y_pred)\n",
    "mse = mean_squared_error(y_test, y_pred)\n",
    "r2 = r2_score(y_test, y_pred)\n",
    "\n",
    "# Output the results\n",
    "print(f\"Linear Regression Results:\")\n",
    "print(f\"MAE: {mae}\")\n",
    "print(f\"MSE: {mse}\")\n",
    "print(f\"R-squared: {r2}\")"
   ]
  },
  {
   "cell_type": "markdown",
   "id": "d9bb5628",
   "metadata": {},
   "source": [
    "#### Interpretation of results\n",
    "The $R^2$ coefficient, also known as the \"coefficient of determination,\" is a measure of how successfully our model predicts our data's variation from the mean. A score of $1.0$ would indicate a perfect model that explains 100% of the variation.\n",
    "\n",
    "Our $R^2$ of =0.03191 suggests that the linear regression model does not follow the trend of data. A negative $R^2$ is not acceptable for our analysis, so we will **not** be proceeding with this model."
   ]
  },
  {
   "cell_type": "markdown",
   "id": "94686c47",
   "metadata": {},
   "source": [
    "### 2.2 Residual analysis <a name=\"lr-residual\"></a>"
   ]
  },
  {
   "cell_type": "code",
   "execution_count": 4,
   "id": "178ea11a",
   "metadata": {},
   "outputs": [
    {
     "data": {
      "image/png": "[encoded data removed]",
      "text/plain": [
       "<Figure size 800x600 with 1 Axes>"
      ]
     },
     "metadata": {},
     "output_type": "display_data"
    }
   ],
   "source": [
    "# Calculate residuals\n",
    "residuals = y_test - y_pred\n",
    "\n",
    "# Plot residuals\n",
    "plt.figure(figsize=(8, 6))\n",
    "sns.scatterplot(x=y_pred, y=residuals)\n",
    "plt.axhline(y=0, color='r', linestyle='--')\n",
    "plt.xlabel('Predicted Values')\n",
    "plt.ylabel('Residuals')\n",
    "plt.title('Residuals vs. Predicted Values')\n",
    "plt.show()"
   ]
  },
  {
   "cell_type": "markdown",
   "id": "a70cce26",
   "metadata": {},
   "source": [
    "Residuals for this model seem to be randomly scattered but are not evenly distributed. Residuals are clustered between 6.2 and 6.8, suggesting the model is not capturing enough variability in the target variable. We would likely benefit from a more complex model."
   ]
  },
  {
   "cell_type": "markdown",
   "id": "e9f4b5d6",
   "metadata": {},
   "source": [
    "### 2.3 Scatterplot of predictions vs. actual values <a name=\"lr-scatter\"></a>"
   ]
  },
  {
   "cell_type": "code",
   "execution_count": 5,
   "id": "5a32858b",
   "metadata": {
    "scrolled": false
   },
   "outputs": [
    {
     "data": {
      "image/png": "[encoded data removed]",
      "text/plain": [
       "<Figure size 640x480 with 1 Axes>"
      ]
     },
     "metadata": {},
     "output_type": "display_data"
    }
   ],
   "source": [
    "plt.scatter(y_test, y_pred, alpha=0.5)\n",
    "plt.xlabel('Actual values')\n",
    "plt.ylabel('Predicted values')\n",
    "\n",
    "min_val = min(min(y_test), min(y_pred))  # Find the minimum value\n",
    "max_val = max(max(y_test), max(y_pred))  # Find the maximum value\n",
    "plt.plot([min_val, max_val], [min_val, max_val], color=\"red\", linestyle=\"--\", label=\"y = x\")\n",
    "\n",
    "plt.legend()\n",
    "plt.show()"
   ]
  },
  {
   "cell_type": "markdown",
   "id": "19094e02",
   "metadata": {},
   "source": [
    "In an accurate model, we would expect the points in our scatterplot of predicted vs. actual values to lie relatively close to the diagonal line $y=x$. For ease of assessment, we have added this line to our graph as a dashed red line.\n",
    "\n",
    "Furthermore, points should be symmetrically distributed along the diagonal line with no systematic pattern, like a downward or upward curve. Such a pattern could indicate under- or overfitting in our model.\n",
    "\n",
    "Additionally, while some outliers are expected, there should not be an excessive amount of points that lie far away from the dashed line.\n",
    "\n",
    "The points on our scatterplot are not aligned with the diagonal and seem to more closely resemble a horizontal line. So far, we can disregard the linear regression model completely for our analysis. We will move on to testing two additional models: Random Forest Regression and Gradient Boosting Regression."
   ]
  },
  {
   "cell_type": "markdown",
   "id": "26e40977",
   "metadata": {},
   "source": [
    "## 3 - Modeling with Random Forest Regression <a name=\"random-forest\"></a>"
   ]
  },
  {
   "cell_type": "markdown",
   "id": "4a1d07a3",
   "metadata": {},
   "source": [
    "### 3.1 Training and fitting <a name=\"rf-train\"></a>"
   ]
  },
  {
   "cell_type": "code",
   "execution_count": 6,
   "id": "d23d53ca",
   "metadata": {},
   "outputs": [
    {
     "name": "stdout",
     "output_type": "stream",
     "text": [
      "Random Forest Regression Results:\n",
      "MAE: 0.40667266666666535\n",
      "MSE: 0.25809198400666505\n",
      "R-squared: 0.5128172788584879\n"
     ]
    }
   ],
   "source": [
    "# Initialize the Random Forest Regressor\n",
    "rf_reg = RandomForestRegressor(n_estimators=100, random_state=42)\n",
    "\n",
    "# Fit the model to the training data\n",
    "rf_reg.fit(X_train, y_train)\n",
    "\n",
    "# Make predictions on the test set\n",
    "y_pred_rf = rf_reg.predict(X_test)\n",
    "\n",
    "# Evaluate the model using MAE, MSE, and R-squared\n",
    "mae_rf = mean_absolute_error(y_test, y_pred_rf)\n",
    "mse_rf = mean_squared_error(y_test, y_pred_rf)\n",
    "r2_rf = r2_score(y_test, y_pred_rf)\n",
    "\n",
    "# Output the results\n",
    "print(f\"Random Forest Regression Results:\")\n",
    "print(f\"MAE: {mae_rf}\")\n",
    "print(f\"MSE: {mse_rf}\")\n",
    "print(f\"R-squared: {r2_rf}\")"
   ]
  },
  {
   "cell_type": "markdown",
   "id": "3ca32410",
   "metadata": {},
   "source": [
    "Our $R^2$ for our random forest regression model is 0.5128, meaning our model explains about 51% of the variation from the mean. This is a decent start, but leaves some room for improvement since slightly less than half of the variance is unexplained.\n",
    "\n",
    "To better understand how reasonable our MAE and MSE are, it would be helpful to know the range of our target variable, `ladder_score`."
   ]
  },
  {
   "cell_type": "code",
   "execution_count": 28,
   "id": "16031ad8",
   "metadata": {},
   "outputs": [
    {
     "name": "stdout",
     "output_type": "stream",
     "text": [
      "Maximum value of our target variable: 7.804\n",
      "Minimum value of our target variable: 4.036\n",
      "Range: 3.7680000000000007\n",
      "\n",
      "Random Forest Regression model's predictions are off by 10.79% of the target variable's range.\n"
     ]
    }
   ],
   "source": [
    "# Range of our target variable\n",
    "max_target = max(df.ladder_score)\n",
    "min_target = min(df.ladder_score)\n",
    "range_target = max(df.ladder_score)-min(df.ladder_score)\n",
    "print(f\"Maximum value of our target variable: {max_target}\\nMinimum value of our target variable: {min_target}\\nRange: {range_target}\\n\")\n",
    "print(f\"Random Forest Regression model's predictions are off by {(mae_rf/range_target)*100:.2f}% of the target variable's range.\")"
   ]
  },
  {
   "cell_type": "markdown",
   "id": "fe9b2f27",
   "metadata": {},
   "source": [
    "With a maximum value of 7.804 and minimum value of 4.036, our MAE of 0.41 is reasonable and off by only about 11% of our target variable's range. `Elaborate more on how this compares to MSE.`"
   ]
  },
  {
   "cell_type": "markdown",
   "id": "8b672fb9",
   "metadata": {},
   "source": [
    "<div class=\"alert alert-block alert-danger\">\n",
    "<b>STOPPING POINT.</b><br>\n",
    "<b>STOPPING POINT.</b><br>\n",
    "<b>STOPPING POINT.</b><br>\n",
    "<b>STOPPING POINT.</b><br>\n",
    "<b>STOPPING POINT.</b><br>\n",
    "<b>STOPPING POINT.</b><br>\n",
    "All code below this block is OUT OF DATE.\n",
    "</div>"
   ]
  },
  {
   "cell_type": "markdown",
   "id": "c0d8e9c4",
   "metadata": {},
   "source": [
    "### 3.2 Residual analysis <a name=\"rf-residual\"></a>"
   ]
  },
  {
   "cell_type": "code",
   "execution_count": 7,
   "id": "2d2caca5",
   "metadata": {},
   "outputs": [
    {
     "data": {
      "image/png": "[encoded data removed]",
      "text/plain": [
       "<Figure size 800x600 with 1 Axes>"
      ]
     },
     "metadata": {},
     "output_type": "display_data"
    }
   ],
   "source": [
    "# Calculate residuals\n",
    "residuals = y_test - y_pred_rf\n",
    "\n",
    "# Plot residuals\n",
    "plt.figure(figsize=(8, 6))\n",
    "sns.scatterplot(x=y_pred_rf, y=residuals)\n",
    "plt.axhline(y=0, color='r', linestyle='--')\n",
    "plt.xlabel('Predicted Values')\n",
    "plt.ylabel('Residuals')\n",
    "plt.title('Residuals vs. Predicted Values')\n",
    "plt.show()"
   ]
  },
  {
   "cell_type": "markdown",
   "id": "3a618e2a",
   "metadata": {},
   "source": [
    "Again, our residuals seem to be randomly distributed; however, unlike our residuals for linear regression, our residuals are mostly greater than 0. This means that our random forest regression model is underpredicting the actual values, and there could be some bias in our model. This may also indicate underfitting in our model."
   ]
  },
  {
   "cell_type": "markdown",
   "id": "dd3491d0",
   "metadata": {},
   "source": [
    "### 3.3 Scatterplot of predictions vs. actual values <a name=\"#rf-scatter\"></a>"
   ]
  },
  {
   "cell_type": "code",
   "execution_count": 8,
   "id": "77369857",
   "metadata": {},
   "outputs": [
    {
     "data": {
      "image/png": "[encoded data removed]",
      "text/plain": [
       "<Figure size 640x480 with 1 Axes>"
      ]
     },
     "metadata": {},
     "output_type": "display_data"
    }
   ],
   "source": [
    "plt.scatter(y_test, y_pred_rf, alpha=0.5)\n",
    "plt.xlabel('Actual values')\n",
    "plt.ylabel('Predicted values')\n",
    "\n",
    "min_val = min(min(y_test), min(y_pred_rf))  # Find the minimum value\n",
    "max_val = max(max(y_test), max(y_pred_rf))  # Find the maximum value\n",
    "plt.plot([min_val, max_val], [min_val, max_val], color=\"red\", linestyle=\"--\", label=\"y = x\")\n",
    "\n",
    "plt.legend()\n",
    "plt.show()"
   ]
  },
  {
   "cell_type": "markdown",
   "id": "0f2bbad0",
   "metadata": {},
   "source": [
    "While the points in our random forest regression scatterplot for predicted vs. actual values seem to be generally increasing, unlike our linear regression scatterplot, they are not increasing in close alignment with the diagonal.\n",
    "\n",
    "Our random forest model has shown several weaknesses compared to our linear regression model: it is more sensitive to error, has a large amount of positive residuals which indicates underfitting, and weak diagonal alignment of predicted vs. actual values. Taking all this into account, so far, our linear regression model appears to be the stronger contender. However, to be sure, let's look at one more potential model: the Gradient Boosting Regressor."
   ]
  },
  {
   "cell_type": "markdown",
   "id": "7b58ee23",
   "metadata": {},
   "source": [
    "## 4 - Model with Gradient Boosting Regressor (GBR) <a name=\"gbr\"></a>"
   ]
  },
  {
   "cell_type": "markdown",
   "id": "7439c0bb",
   "metadata": {},
   "source": [
    "### 4.1 Training and fitting <a name=\"gbr-train\"></a>"
   ]
  },
  {
   "cell_type": "code",
   "execution_count": 9,
   "id": "7e957284",
   "metadata": {},
   "outputs": [
    {
     "name": "stdout",
     "output_type": "stream",
     "text": [
      "Gradient Boosting Regression Results:\n",
      "MAE: 0.5278401590277106\n",
      "MSE: 0.36018879761890604\n",
      "R-squared: 0.3200960532577548\n"
     ]
    }
   ],
   "source": [
    "# Initialize the model\n",
    "gbr = GradientBoostingRegressor()\n",
    "\n",
    "# Fit the model\n",
    "gbr.fit(X_train, y_train)\n",
    "\n",
    "# Make predictions\n",
    "y_pred_gbr = gbr.predict(X_test)\n",
    "\n",
    "# Evaluate the model using MAE, MSE, and R-squared\n",
    "mae_gbr = mean_absolute_error(y_test, y_pred_gbr)\n",
    "mse_gbr = mean_squared_error(y_test, y_pred_gbr)\n",
    "r2_gbr = r2_score(y_test, y_pred_gbr)\n",
    "\n",
    "# Output the results\n",
    "print('Gradient Boosting Regression Results:')\n",
    "print(f'MAE: {mae_gbr}')\n",
    "print(f'MSE: {mse_gbr}')\n",
    "print(f'R-squared: {r2_gbr}')"
   ]
  },
  {
   "cell_type": "markdown",
   "id": "e21a292d",
   "metadata": {},
   "source": [
    "Our GBR results are even less impressive than our random forest regression results. With an $R^2$ of 0.3143, this model explains only 31% of the variation from the mean -- even less than our random forest regression model. The MAE and MSE are also similar but slightly higher than they were for our random forest regression model, meaning our GBR model is slightly more sensitive to error."
   ]
  },
  {
   "cell_type": "markdown",
   "id": "7e02dbde",
   "metadata": {},
   "source": [
    "### 4.2 Residual analysis <a name=\"gbr-residual\"></a>"
   ]
  },
  {
   "cell_type": "code",
   "execution_count": 10,
   "id": "ff3b198a",
   "metadata": {},
   "outputs": [
    {
     "data": {
      "image/png": "[encoded data removed]",
      "text/plain": [
       "<Figure size 800x600 with 1 Axes>"
      ]
     },
     "metadata": {},
     "output_type": "display_data"
    }
   ],
   "source": [
    "# Calculate residuals\n",
    "residuals = y_test - y_pred_gbr\n",
    "\n",
    "# Plot residuals\n",
    "plt.figure(figsize=(8, 6))\n",
    "sns.scatterplot(x=y_pred_gbr, y=residuals)\n",
    "plt.axhline(y=0, color='r', linestyle='--')\n",
    "plt.xlabel('Predicted Values')\n",
    "plt.ylabel('Residuals')\n",
    "plt.title('Residuals vs. Predicted Values')\n",
    "plt.show()"
   ]
  },
  {
   "cell_type": "markdown",
   "id": "6cc010a2",
   "metadata": {},
   "source": [
    "Similar to our random forest regression model, the residuals seem to be mostly above 0, indicating underfitting problems once again."
   ]
  },
  {
   "cell_type": "markdown",
   "id": "82f18caa",
   "metadata": {},
   "source": [
    "### 4.3 Scatterplot of predictions vs. actual values <a name=\"#gbr-scatter\"></a>"
   ]
  },
  {
   "cell_type": "code",
   "execution_count": 11,
   "id": "5e8e40c4",
   "metadata": {},
   "outputs": [
    {
     "data": {
      "image/png": "[encoded data removed]",
      "text/plain": [
       "<Figure size 640x480 with 1 Axes>"
      ]
     },
     "metadata": {},
     "output_type": "display_data"
    }
   ],
   "source": [
    "plt.scatter(y_test, y_pred_rf, alpha=0.5)\n",
    "plt.xlabel('Actual values')\n",
    "plt.ylabel('Predicted values')\n",
    "\n",
    "min_val = min(min(y_test), min(y_pred_gbr))  # Find the minimum value\n",
    "max_val = max(max(y_test), max(y_pred_gbr))  # Find the maximum value\n",
    "plt.plot([min_val, max_val], [min_val, max_val], color=\"red\", linestyle=\"--\", label=\"y = x\")\n",
    "\n",
    "plt.legend()\n",
    "plt.show()"
   ]
  },
  {
   "cell_type": "markdown",
   "id": "aa843c43",
   "metadata": {},
   "source": [
    "This scatterplot for predicted vs. actual values strongly resembles the one for random forest regression, meaning it suffers from the same problems. These points are not increasing in close alignment with the diagonal, so our GBR model is not capturing the underlying relationship well."
   ]
  },
  {
   "cell_type": "markdown",
   "id": "2b3a3280",
   "metadata": {},
   "source": [
    "## 5 - Model Comparison and Evaluation <a name=\"comparison\"></a>"
   ]
  },
  {
   "cell_type": "code",
   "execution_count": 12,
   "id": "345293d6",
   "metadata": {},
   "outputs": [
    {
     "data": {
      "image/png": "[encoded data removed]",
      "text/plain": [
       "<Figure size 1500x500 with 3 Axes>"
      ]
     },
     "metadata": {},
     "output_type": "display_data"
    }
   ],
   "source": [
    "# Metrics from each model\n",
    "metrics = {\n",
    "    'Linear Regression': {'MAE': mae, 'MSE': mse, 'R2': r2},\n",
    "    'Random Forest': {'MAE': mae_rf, 'MSE': mse_rf, 'R2': r2_rf},\n",
    "    'Gradient Boosting': {'MAE': mae_gbr, 'MSE': mse_gbr, 'R2': r2_gbr}\n",
    "}\n",
    "\n",
    "# Extract the metrics for plotting\n",
    "models = list(metrics.keys())\n",
    "mae_values = [metrics[model]['MAE'] for model in models]\n",
    "mse_values = [metrics[model]['MSE'] for model in models]\n",
    "r2_values = [metrics[model]['R2'] for model in models]\n",
    "\n",
    "# Set up the figure and axes\n",
    "fig, ax = plt.subplots(1, 3, figsize=(15, 5))\n",
    "\n",
    "# Bar plot for MAE\n",
    "ax[0].bar(models, mae_values, color=['#1f77b4', '#ff7f0e', '#2ca02c'])\n",
    "ax[0].set_title('MAE Comparison')\n",
    "ax[0].set_ylabel('MAE')\n",
    "\n",
    "# Bar plot for MSE\n",
    "ax[1].bar(models, mse_values, color=['#1f77b4', '#ff7f0e', '#2ca02c'])\n",
    "ax[1].set_title('MSE Comparison')\n",
    "ax[1].set_ylabel('MSE')\n",
    "\n",
    "# Bar plot for R-squared\n",
    "ax[2].bar(models, r2_values, color=['#1f77b4', '#ff7f0e', '#2ca02c'])\n",
    "ax[2].set_title('R-squared Comparison')\n",
    "ax[2].set_ylabel('R-squared')\n",
    "\n",
    "# Adjust layout\n",
    "plt.tight_layout()\n",
    "plt.show()"
   ]
  },
  {
   "cell_type": "markdown",
   "id": "b0d1ef29",
   "metadata": {},
   "source": [
    "We have mentioned previously how linear regression's results have far outperformed our random forest and gradient boosting regression models. To drive this home, we can visually compare these metrics.\n",
    "\n",
    "MAE and MSE, again, were similarly high for our random forest regression and gradient boosting regression models, indicating high sensitivity to error for both of these models. $R^2$ values were also low for both of these models, indicating that neither one explained variance well.\n",
    "\n",
    "Our linear regression model, on the other hand, demonstrated low sensitivity to error and reasonably high account for variance. Furthermore, its predicted vs. actual values were in close alignment with the diagonal $y=x$. For these reasons, **we will proceed with using our linear regression model for this project.**"
   ]
  },
  {
   "cell_type": "markdown",
   "id": "76995b75",
   "metadata": {},
   "source": [
    "## 6 - Analysis <a name=\"analysis\"></a>"
   ]
  },
  {
   "cell_type": "code",
   "execution_count": 13,
   "id": "007b1d50",
   "metadata": {},
   "outputs": [],
   "source": [
    "intercept = lin_reg.intercept_\n",
    "coefficients = lin_reg.coef_"
   ]
  },
  {
   "cell_type": "code",
   "execution_count": 14,
   "id": "1b62ec69",
   "metadata": {},
   "outputs": [],
   "source": [
    "# Create a DataFrame for coefficients\n",
    "coef_df = pd.DataFrame({\n",
    "    'Feature': X_train.columns,\n",
    "    'Coefficient': coefficients\n",
    "})"
   ]
  },
  {
   "cell_type": "code",
   "execution_count": 15,
   "id": "dfe0607e",
   "metadata": {},
   "outputs": [
    {
     "name": "stdout",
     "output_type": "stream",
     "text": [
      "Intercept: 5.128077342569832\n"
     ]
    },
    {
     "data": {
      "text/html": [
       "<div>\n",
       "<style scoped>\n",
       "    .dataframe tbody tr th:only-of-type {\n",
       "        vertical-align: middle;\n",
       "    }\n",
       "\n",
       "    .dataframe tbody tr th {\n",
       "        vertical-align: top;\n",
       "    }\n",
       "\n",
       "    .dataframe thead th {\n",
       "        text-align: right;\n",
       "    }\n",
       "</style>\n",
       "<table border=\"1\" class=\"dataframe\">\n",
       "  <thead>\n",
       "    <tr style=\"text-align: right;\">\n",
       "      <th></th>\n",
       "      <th>Feature</th>\n",
       "      <th>Coefficient</th>\n",
       "    </tr>\n",
       "  </thead>\n",
       "  <tbody>\n",
       "    <tr>\n",
       "      <th>42</th>\n",
       "      <td>country_Israel</td>\n",
       "      <td>1.939975</td>\n",
       "    </tr>\n",
       "    <tr>\n",
       "      <th>24</th>\n",
       "      <td>country_Denmark</td>\n",
       "      <td>0.996115</td>\n",
       "    </tr>\n",
       "    <tr>\n",
       "      <th>38</th>\n",
       "      <td>country_Iceland</td>\n",
       "      <td>0.926022</td>\n",
       "    </tr>\n",
       "    <tr>\n",
       "      <th>48</th>\n",
       "      <td>country_Luxembourg</td>\n",
       "      <td>0.919757</td>\n",
       "    </tr>\n",
       "    <tr>\n",
       "      <th>72</th>\n",
       "      <td>country_Switzerland</td>\n",
       "      <td>0.916493</td>\n",
       "    </tr>\n",
       "    <tr>\n",
       "      <th>...</th>\n",
       "      <td>...</td>\n",
       "      <td>...</td>\n",
       "    </tr>\n",
       "    <tr>\n",
       "      <th>61</th>\n",
       "      <td>country_Philippines</td>\n",
       "      <td>-0.899066</td>\n",
       "    </tr>\n",
       "    <tr>\n",
       "      <th>36</th>\n",
       "      <td>country_Hong Kong</td>\n",
       "      <td>-1.117337</td>\n",
       "    </tr>\n",
       "    <tr>\n",
       "      <th>39</th>\n",
       "      <td>country_India</td>\n",
       "      <td>-1.141086</td>\n",
       "    </tr>\n",
       "    <tr>\n",
       "      <th>55</th>\n",
       "      <td>country_Nigeria</td>\n",
       "      <td>-1.506498</td>\n",
       "    </tr>\n",
       "    <tr>\n",
       "      <th>76</th>\n",
       "      <td>country_Ukraine</td>\n",
       "      <td>-1.743070</td>\n",
       "    </tr>\n",
       "  </tbody>\n",
       "</table>\n",
       "<p>83 rows × 2 columns</p>\n",
       "</div>"
      ],
      "text/plain": [
       "                Feature  Coefficient\n",
       "42       country_Israel     1.939975\n",
       "24      country_Denmark     0.996115\n",
       "38      country_Iceland     0.926022\n",
       "48   country_Luxembourg     0.919757\n",
       "72  country_Switzerland     0.916493\n",
       "..                  ...          ...\n",
       "61  country_Philippines    -0.899066\n",
       "36    country_Hong Kong    -1.117337\n",
       "39        country_India    -1.141086\n",
       "55      country_Nigeria    -1.506498\n",
       "76      country_Ukraine    -1.743070\n",
       "\n",
       "[83 rows x 2 columns]"
      ]
     },
     "execution_count": 15,
     "metadata": {},
     "output_type": "execute_result"
    }
   ],
   "source": [
    "# View the DataFrame\n",
    "print(\"Intercept:\", intercept)\n",
    "coef_df.sort_values(by='Coefficient', ascending=False, inplace=True)\n",
    "coef_df"
   ]
  },
  {
   "cell_type": "code",
   "execution_count": 16,
   "id": "66af55a5",
   "metadata": {},
   "outputs": [
    {
     "name": "stdout",
     "output_type": "stream",
     "text": [
      "Baseline Country: {'Argentina'}\n"
     ]
    }
   ],
   "source": [
    "# Baseline country identification\n",
    "all_countries = ['Argentina', 'Australia', 'Austria', 'Belgium', 'Bolivia', 'Brazil', 'Bulgaria', 'Canada',\n",
    "                 'Chile', 'Colombia', 'Costa Rica', 'Czechia', 'Denmark', 'Dominican Republic', 'Ecuador',\n",
    "                 'Egypt', 'El Salvador', 'Estonia', 'Finland', 'France', 'Germany', 'Greece', 'Guatemala',\n",
    "                 'Honduras', 'Hong Kong', 'Hungary', 'Iceland', 'India', 'Indonesia', 'Ireland', 'Israel',\n",
    "                 'Italy', 'Japan', 'Kazakhstan', 'Latvia', 'Lithuania', 'Luxembourg', 'Malaysia', 'Mexico',\n",
    "                 'Morocco', 'Netherlands', 'New Zealand', 'Nicaragua', 'Nigeria', 'Norway', 'Pakistan', 'Panama',\n",
    "                 'Paraguay', 'Peru', 'Philippines', 'Poland', 'Portugal', 'Romania', 'Saudi Arabia', 'Singapore',\n",
    "                 'Slovakia', 'South Africa', 'South Korea', 'Spain', 'Sweden', 'Switzerland', 'Taiwan', 'Thailand',\n",
    "                 'Turkey', 'Ukraine', 'United Arab Emirates', 'United Kingdom', 'United States', 'Uruguay', \n",
    "                 'Venezuela', 'Vietnam']\n",
    "\n",
    "# Get the one-hot encoded country columns (assuming 'X' is your features DataFrame)\n",
    "encoded_countries = [col.replace('country_', '') for col in df.columns if col.startswith('country_')]\n",
    "\n",
    "# Find the baseline country\n",
    "baseline_country = set(all_countries) - set(encoded_countries)\n",
    "print(\"Baseline Country:\", baseline_country)\n"
   ]
  },
  {
   "cell_type": "code",
   "execution_count": 17,
   "id": "2ad9898d",
   "metadata": {},
   "outputs": [
    {
     "data": {
      "text/html": [
       "<div>\n",
       "<style scoped>\n",
       "    .dataframe tbody tr th:only-of-type {\n",
       "        vertical-align: middle;\n",
       "    }\n",
       "\n",
       "    .dataframe tbody tr th {\n",
       "        vertical-align: top;\n",
       "    }\n",
       "\n",
       "    .dataframe thead th {\n",
       "        text-align: right;\n",
       "    }\n",
       "</style>\n",
       "<table border=\"1\" class=\"dataframe\">\n",
       "  <thead>\n",
       "    <tr style=\"text-align: right;\">\n",
       "      <th></th>\n",
       "      <th>ladder_score</th>\n",
       "      <th>gdp_per_capita</th>\n",
       "      <th>social_support</th>\n",
       "      <th>life_expectancy</th>\n",
       "      <th>life_choice_freedom</th>\n",
       "      <th>generosity</th>\n",
       "      <th>corruption</th>\n",
       "      <th>popularity</th>\n",
       "      <th>is_explicit</th>\n",
       "      <th>duration_ms</th>\n",
       "      <th>...</th>\n",
       "      <th>country_Taiwan</th>\n",
       "      <th>country_Thailand</th>\n",
       "      <th>country_Turkey</th>\n",
       "      <th>country_Ukraine</th>\n",
       "      <th>country_United Arab Emirates</th>\n",
       "      <th>country_United Kingdom</th>\n",
       "      <th>country_United States</th>\n",
       "      <th>country_Uruguay</th>\n",
       "      <th>country_Venezuela</th>\n",
       "      <th>country_Vietnam</th>\n",
       "    </tr>\n",
       "  </thead>\n",
       "  <tbody>\n",
       "    <tr>\n",
       "      <th>0</th>\n",
       "      <td>7.804</td>\n",
       "      <td>10.792</td>\n",
       "      <td>0.969</td>\n",
       "      <td>71.150</td>\n",
       "      <td>0.961</td>\n",
       "      <td>-0.019</td>\n",
       "      <td>0.182</td>\n",
       "      <td>54.241709</td>\n",
       "      <td>21.896163</td>\n",
       "      <td>182422.435666</td>\n",
       "      <td>...</td>\n",
       "      <td>False</td>\n",
       "      <td>False</td>\n",
       "      <td>False</td>\n",
       "      <td>False</td>\n",
       "      <td>False</td>\n",
       "      <td>False</td>\n",
       "      <td>False</td>\n",
       "      <td>False</td>\n",
       "      <td>False</td>\n",
       "      <td>False</td>\n",
       "    </tr>\n",
       "    <tr>\n",
       "      <th>1</th>\n",
       "      <td>7.586</td>\n",
       "      <td>10.962</td>\n",
       "      <td>0.954</td>\n",
       "      <td>71.250</td>\n",
       "      <td>0.934</td>\n",
       "      <td>0.134</td>\n",
       "      <td>0.196</td>\n",
       "      <td>57.968539</td>\n",
       "      <td>42.307692</td>\n",
       "      <td>189429.330769</td>\n",
       "      <td>...</td>\n",
       "      <td>False</td>\n",
       "      <td>False</td>\n",
       "      <td>False</td>\n",
       "      <td>False</td>\n",
       "      <td>False</td>\n",
       "      <td>False</td>\n",
       "      <td>False</td>\n",
       "      <td>False</td>\n",
       "      <td>False</td>\n",
       "      <td>False</td>\n",
       "    </tr>\n",
       "    <tr>\n",
       "      <th>2</th>\n",
       "      <td>7.530</td>\n",
       "      <td>10.896</td>\n",
       "      <td>0.983</td>\n",
       "      <td>72.050</td>\n",
       "      <td>0.936</td>\n",
       "      <td>0.211</td>\n",
       "      <td>0.668</td>\n",
       "      <td>46.119044</td>\n",
       "      <td>34.222222</td>\n",
       "      <td>197176.773333</td>\n",
       "      <td>...</td>\n",
       "      <td>False</td>\n",
       "      <td>False</td>\n",
       "      <td>False</td>\n",
       "      <td>False</td>\n",
       "      <td>False</td>\n",
       "      <td>False</td>\n",
       "      <td>False</td>\n",
       "      <td>False</td>\n",
       "      <td>False</td>\n",
       "      <td>False</td>\n",
       "    </tr>\n",
       "    <tr>\n",
       "      <th>3</th>\n",
       "      <td>7.473</td>\n",
       "      <td>10.639</td>\n",
       "      <td>0.943</td>\n",
       "      <td>72.697</td>\n",
       "      <td>0.809</td>\n",
       "      <td>-0.023</td>\n",
       "      <td>0.708</td>\n",
       "      <td>50.316184</td>\n",
       "      <td>14.979757</td>\n",
       "      <td>209172.384615</td>\n",
       "      <td>...</td>\n",
       "      <td>False</td>\n",
       "      <td>False</td>\n",
       "      <td>False</td>\n",
       "      <td>False</td>\n",
       "      <td>False</td>\n",
       "      <td>False</td>\n",
       "      <td>False</td>\n",
       "      <td>False</td>\n",
       "      <td>False</td>\n",
       "      <td>False</td>\n",
       "    </tr>\n",
       "    <tr>\n",
       "      <th>4</th>\n",
       "      <td>7.403</td>\n",
       "      <td>10.942</td>\n",
       "      <td>0.930</td>\n",
       "      <td>71.550</td>\n",
       "      <td>0.887</td>\n",
       "      <td>0.213</td>\n",
       "      <td>0.379</td>\n",
       "      <td>65.088140</td>\n",
       "      <td>29.573935</td>\n",
       "      <td>187203.403509</td>\n",
       "      <td>...</td>\n",
       "      <td>False</td>\n",
       "      <td>False</td>\n",
       "      <td>False</td>\n",
       "      <td>False</td>\n",
       "      <td>False</td>\n",
       "      <td>False</td>\n",
       "      <td>False</td>\n",
       "      <td>False</td>\n",
       "      <td>False</td>\n",
       "      <td>False</td>\n",
       "    </tr>\n",
       "    <tr>\n",
       "      <th>...</th>\n",
       "      <td>...</td>\n",
       "      <td>...</td>\n",
       "      <td>...</td>\n",
       "      <td>...</td>\n",
       "      <td>...</td>\n",
       "      <td>...</td>\n",
       "      <td>...</td>\n",
       "      <td>...</td>\n",
       "      <td>...</td>\n",
       "      <td>...</td>\n",
       "      <td>...</td>\n",
       "      <td>...</td>\n",
       "      <td>...</td>\n",
       "      <td>...</td>\n",
       "      <td>...</td>\n",
       "      <td>...</td>\n",
       "      <td>...</td>\n",
       "      <td>...</td>\n",
       "      <td>...</td>\n",
       "      <td>...</td>\n",
       "      <td>...</td>\n",
       "    </tr>\n",
       "    <tr>\n",
       "      <th>66</th>\n",
       "      <td>4.903</td>\n",
       "      <td>8.973</td>\n",
       "      <td>0.553</td>\n",
       "      <td>63.901</td>\n",
       "      <td>0.787</td>\n",
       "      <td>-0.231</td>\n",
       "      <td>0.811</td>\n",
       "      <td>55.046564</td>\n",
       "      <td>53.679654</td>\n",
       "      <td>191800.484848</td>\n",
       "      <td>...</td>\n",
       "      <td>False</td>\n",
       "      <td>False</td>\n",
       "      <td>False</td>\n",
       "      <td>False</td>\n",
       "      <td>False</td>\n",
       "      <td>False</td>\n",
       "      <td>False</td>\n",
       "      <td>False</td>\n",
       "      <td>False</td>\n",
       "      <td>False</td>\n",
       "    </tr>\n",
       "    <tr>\n",
       "      <th>67</th>\n",
       "      <td>4.614</td>\n",
       "      <td>10.307</td>\n",
       "      <td>0.796</td>\n",
       "      <td>68.663</td>\n",
       "      <td>0.475</td>\n",
       "      <td>-0.077</td>\n",
       "      <td>0.795</td>\n",
       "      <td>65.592845</td>\n",
       "      <td>18.226601</td>\n",
       "      <td>173797.334975</td>\n",
       "      <td>...</td>\n",
       "      <td>False</td>\n",
       "      <td>False</td>\n",
       "      <td>True</td>\n",
       "      <td>False</td>\n",
       "      <td>False</td>\n",
       "      <td>False</td>\n",
       "      <td>False</td>\n",
       "      <td>False</td>\n",
       "      <td>False</td>\n",
       "      <td>False</td>\n",
       "    </tr>\n",
       "    <tr>\n",
       "      <th>68</th>\n",
       "      <td>4.555</td>\n",
       "      <td>8.540</td>\n",
       "      <td>0.601</td>\n",
       "      <td>57.313</td>\n",
       "      <td>0.766</td>\n",
       "      <td>0.008</td>\n",
       "      <td>0.787</td>\n",
       "      <td>65.561595</td>\n",
       "      <td>12.437811</td>\n",
       "      <td>216097.870647</td>\n",
       "      <td>...</td>\n",
       "      <td>False</td>\n",
       "      <td>False</td>\n",
       "      <td>False</td>\n",
       "      <td>False</td>\n",
       "      <td>False</td>\n",
       "      <td>False</td>\n",
       "      <td>False</td>\n",
       "      <td>False</td>\n",
       "      <td>False</td>\n",
       "      <td>False</td>\n",
       "    </tr>\n",
       "    <tr>\n",
       "      <th>69</th>\n",
       "      <td>4.170</td>\n",
       "      <td>9.367</td>\n",
       "      <td>0.726</td>\n",
       "      <td>63.503</td>\n",
       "      <td>0.732</td>\n",
       "      <td>-0.183</td>\n",
       "      <td>0.580</td>\n",
       "      <td>53.368537</td>\n",
       "      <td>13.333333</td>\n",
       "      <td>218889.055556</td>\n",
       "      <td>...</td>\n",
       "      <td>False</td>\n",
       "      <td>False</td>\n",
       "      <td>False</td>\n",
       "      <td>False</td>\n",
       "      <td>False</td>\n",
       "      <td>False</td>\n",
       "      <td>False</td>\n",
       "      <td>False</td>\n",
       "      <td>False</td>\n",
       "      <td>False</td>\n",
       "    </tr>\n",
       "    <tr>\n",
       "      <th>70</th>\n",
       "      <td>4.036</td>\n",
       "      <td>8.759</td>\n",
       "      <td>0.608</td>\n",
       "      <td>60.777</td>\n",
       "      <td>0.897</td>\n",
       "      <td>0.072</td>\n",
       "      <td>0.774</td>\n",
       "      <td>69.900120</td>\n",
       "      <td>3.846154</td>\n",
       "      <td>225705.403846</td>\n",
       "      <td>...</td>\n",
       "      <td>False</td>\n",
       "      <td>False</td>\n",
       "      <td>False</td>\n",
       "      <td>False</td>\n",
       "      <td>False</td>\n",
       "      <td>False</td>\n",
       "      <td>False</td>\n",
       "      <td>False</td>\n",
       "      <td>False</td>\n",
       "      <td>False</td>\n",
       "    </tr>\n",
       "  </tbody>\n",
       "</table>\n",
       "<p>71 rows × 90 columns</p>\n",
       "</div>"
      ],
      "text/plain": [
       "    ladder_score  gdp_per_capita  social_support  life_expectancy  \\\n",
       "0          7.804          10.792           0.969           71.150   \n",
       "1          7.586          10.962           0.954           71.250   \n",
       "2          7.530          10.896           0.983           72.050   \n",
       "3          7.473          10.639           0.943           72.697   \n",
       "4          7.403          10.942           0.930           71.550   \n",
       "..           ...             ...             ...              ...   \n",
       "66         4.903           8.973           0.553           63.901   \n",
       "67         4.614          10.307           0.796           68.663   \n",
       "68         4.555           8.540           0.601           57.313   \n",
       "69         4.170           9.367           0.726           63.503   \n",
       "70         4.036           8.759           0.608           60.777   \n",
       "\n",
       "    life_choice_freedom  generosity  corruption  popularity  is_explicit  \\\n",
       "0                 0.961      -0.019       0.182   54.241709    21.896163   \n",
       "1                 0.934       0.134       0.196   57.968539    42.307692   \n",
       "2                 0.936       0.211       0.668   46.119044    34.222222   \n",
       "3                 0.809      -0.023       0.708   50.316184    14.979757   \n",
       "4                 0.887       0.213       0.379   65.088140    29.573935   \n",
       "..                  ...         ...         ...         ...          ...   \n",
       "66                0.787      -0.231       0.811   55.046564    53.679654   \n",
       "67                0.475      -0.077       0.795   65.592845    18.226601   \n",
       "68                0.766       0.008       0.787   65.561595    12.437811   \n",
       "69                0.732      -0.183       0.580   53.368537    13.333333   \n",
       "70                0.897       0.072       0.774   69.900120     3.846154   \n",
       "\n",
       "      duration_ms  ...  country_Taiwan  country_Thailand  country_Turkey  \\\n",
       "0   182422.435666  ...           False             False           False   \n",
       "1   189429.330769  ...           False             False           False   \n",
       "2   197176.773333  ...           False             False           False   \n",
       "3   209172.384615  ...           False             False           False   \n",
       "4   187203.403509  ...           False             False           False   \n",
       "..            ...  ...             ...               ...             ...   \n",
       "66  191800.484848  ...           False             False           False   \n",
       "67  173797.334975  ...           False             False            True   \n",
       "68  216097.870647  ...           False             False           False   \n",
       "69  218889.055556  ...           False             False           False   \n",
       "70  225705.403846  ...           False             False           False   \n",
       "\n",
       "    country_Ukraine  country_United Arab Emirates  country_United Kingdom  \\\n",
       "0             False                         False                   False   \n",
       "1             False                         False                   False   \n",
       "2             False                         False                   False   \n",
       "3             False                         False                   False   \n",
       "4             False                         False                   False   \n",
       "..              ...                           ...                     ...   \n",
       "66            False                         False                   False   \n",
       "67            False                         False                   False   \n",
       "68            False                         False                   False   \n",
       "69            False                         False                   False   \n",
       "70            False                         False                   False   \n",
       "\n",
       "    country_United States  country_Uruguay  country_Venezuela  country_Vietnam  \n",
       "0                   False            False              False            False  \n",
       "1                   False            False              False            False  \n",
       "2                   False            False              False            False  \n",
       "3                   False            False              False            False  \n",
       "4                   False            False              False            False  \n",
       "..                    ...              ...                ...              ...  \n",
       "66                  False            False              False            False  \n",
       "67                  False            False              False            False  \n",
       "68                  False            False              False            False  \n",
       "69                  False            False              False            False  \n",
       "70                  False            False              False            False  \n",
       "\n",
       "[71 rows x 90 columns]"
      ]
     },
     "execution_count": 17,
     "metadata": {},
     "output_type": "execute_result"
    }
   ],
   "source": [
    "df"
   ]
  }
 ],
 "metadata": {
  "kernelspec": {
   "display_name": "Python 3 (ipykernel)",
   "language": "python",
   "name": "python3"
  },
  "language_info": {
   "codemirror_mode": {
    "name": "ipython",
    "version": 3
   },
   "file_extension": ".py",
   "mimetype": "text/x-python",
   "name": "python",
   "nbconvert_exporter": "python",
   "pygments_lexer": "ipython3",
   "version": "3.11.5"
  }
 },
 "nbformat": 4,
 "nbformat_minor": 5
}
