{
 "cells": [
  {
   "cell_type": "markdown",
   "id": "0234200e",
   "metadata": {},
   "source": [
    "# Pre-processing and Training for Capstone Two: Music & Happiness\n",
    "\n",
    "### Table of Contents\n",
    "\n",
    "* [Introduction](#start)\n",
    "    * [Import relevant libraries](#import)\n",
    "* [Pre-processing](#preprocess)\n",
    "    * [Encode dummy variables for countries](#dummies)\n",
    "    * [Split the data](#split)\n",
    "    * [Scale data using StandardScale](#scaling)\n",
    "* [Finalizing](#final)\n",
    "    * [Check and save data](#check)"
   ]
  },
  {
   "cell_type": "markdown",
   "id": "5dba637f",
   "metadata": {},
   "source": [
    "## 1 - Introduction <a name=\"start\"></a>\n",
    "\n",
    "In this notebook, we will pick up where we left off in the exploratory data analysis phase by pre-processing and training our data for a machine learning model."
   ]
  },
  {
   "cell_type": "markdown",
   "id": "e82089c9",
   "metadata": {},
   "source": [
    "### 1.1 - Import relevant libraries <a name=\"import\"></a>"
   ]
  },
  {
   "cell_type": "code",
   "execution_count": 1,
   "id": "e8e286db",
   "metadata": {},
   "outputs": [],
   "source": [
    "import pandas as pd\n",
    "from sklearn.preprocessing import StandardScaler\n",
    "from sklearn.model_selection import train_test_split\n",
    "import numpy as np"
   ]
  },
  {
   "cell_type": "code",
   "execution_count": 2,
   "id": "c81c874b",
   "metadata": {},
   "outputs": [],
   "source": [
    "# Retrieve dataframes stored in the EDA phase\n",
    "%store -r wh_songs_country"
   ]
  },
  {
   "cell_type": "markdown",
   "id": "f66394b4",
   "metadata": {},
   "source": [
    "## 2 - Pre-processing <a name=\"import\"></a>\n",
    "\n",
    "Let's pre-process our data to prepare it for our machine learning model. Let's look at the variables we have and decide whether we need to encode them or scale them."
   ]
  },
  {
   "cell_type": "code",
   "execution_count": 3,
   "id": "fb4c5f0a",
   "metadata": {
    "scrolled": true
   },
   "outputs": [
    {
     "name": "stdout",
     "output_type": "stream",
     "text": [
      "<class 'pandas.core.frame.DataFrame'>\n",
      "RangeIndex: 71 entries, 0 to 70\n",
      "Data columns (total 23 columns):\n",
      " #   Column               Non-Null Count  Dtype   \n",
      "---  ------               --------------  -----   \n",
      " 0   country              71 non-null     object  \n",
      " 1   ladder_score         71 non-null     float64 \n",
      " 2   gdp_per_capita       71 non-null     float64 \n",
      " 3   social_support       71 non-null     float64 \n",
      " 4   life_expectancy      71 non-null     float64 \n",
      " 5   life_choice_freedom  71 non-null     float64 \n",
      " 6   generosity           71 non-null     float64 \n",
      " 7   corruption           71 non-null     float64 \n",
      " 8   popularity           71 non-null     float64 \n",
      " 9   is_explicit          71 non-null     float64 \n",
      " 10  duration_ms          71 non-null     float64 \n",
      " 11  danceability         71 non-null     float64 \n",
      " 12  energy               71 non-null     float64 \n",
      " 13  key                  71 non-null     object  \n",
      " 14  loudness             71 non-null     float64 \n",
      " 15  mode                 71 non-null     float64 \n",
      " 16  speechiness          71 non-null     float64 \n",
      " 17  acousticness         71 non-null     float64 \n",
      " 18  instrumentalness     71 non-null     float64 \n",
      " 19  liveness             71 non-null     float64 \n",
      " 20  valence              71 non-null     float64 \n",
      " 21  tempo                71 non-null     float64 \n",
      " 22  time_signature       71 non-null     category\n",
      "dtypes: category(1), float64(20), object(2)\n",
      "memory usage: 12.4+ KB\n"
     ]
    }
   ],
   "source": [
    "wh_songs_country.info()"
   ]
  },
  {
   "cell_type": "markdown",
   "id": "f0e8985b",
   "metadata": {},
   "source": [
    "### 2.1 - Encode dummy variables for countries <a name=\"dummies\"></a>\n",
    "\n",
    "We will encode `country` as a dummy variable."
   ]
  },
  {
   "cell_type": "code",
   "execution_count": 4,
   "id": "b9ebd2d4",
   "metadata": {},
   "outputs": [],
   "source": [
    "# Create dummy variables for country\n",
    "df = pd.get_dummies(wh_songs_country.drop(['key', 'time_signature'], axis=1), columns=['country'], \n",
    "                            prefix=['country'], drop_first=True)"
   ]
  },
  {
   "cell_type": "code",
   "execution_count": 5,
   "id": "c7652b12",
   "metadata": {
    "scrolled": true
   },
   "outputs": [
    {
     "data": {
      "text/html": [
       "<div>\n",
       "<style scoped>\n",
       "    .dataframe tbody tr th:only-of-type {\n",
       "        vertical-align: middle;\n",
       "    }\n",
       "\n",
       "    .dataframe tbody tr th {\n",
       "        vertical-align: top;\n",
       "    }\n",
       "\n",
       "    .dataframe thead th {\n",
       "        text-align: right;\n",
       "    }\n",
       "</style>\n",
       "<table border=\"1\" class=\"dataframe\">\n",
       "  <thead>\n",
       "    <tr style=\"text-align: right;\">\n",
       "      <th></th>\n",
       "      <th>ladder_score</th>\n",
       "      <th>gdp_per_capita</th>\n",
       "      <th>social_support</th>\n",
       "      <th>life_expectancy</th>\n",
       "      <th>life_choice_freedom</th>\n",
       "      <th>generosity</th>\n",
       "      <th>corruption</th>\n",
       "      <th>popularity</th>\n",
       "      <th>is_explicit</th>\n",
       "      <th>duration_ms</th>\n",
       "      <th>...</th>\n",
       "      <th>country_Taiwan</th>\n",
       "      <th>country_Thailand</th>\n",
       "      <th>country_Turkey</th>\n",
       "      <th>country_Ukraine</th>\n",
       "      <th>country_United Arab Emirates</th>\n",
       "      <th>country_United Kingdom</th>\n",
       "      <th>country_United States</th>\n",
       "      <th>country_Uruguay</th>\n",
       "      <th>country_Venezuela</th>\n",
       "      <th>country_Vietnam</th>\n",
       "    </tr>\n",
       "  </thead>\n",
       "  <tbody>\n",
       "    <tr>\n",
       "      <th>0</th>\n",
       "      <td>7.804</td>\n",
       "      <td>10.792</td>\n",
       "      <td>0.969</td>\n",
       "      <td>71.150</td>\n",
       "      <td>0.961</td>\n",
       "      <td>-0.019</td>\n",
       "      <td>0.182</td>\n",
       "      <td>54.241709</td>\n",
       "      <td>21.896163</td>\n",
       "      <td>182422.435666</td>\n",
       "      <td>...</td>\n",
       "      <td>False</td>\n",
       "      <td>False</td>\n",
       "      <td>False</td>\n",
       "      <td>False</td>\n",
       "      <td>False</td>\n",
       "      <td>False</td>\n",
       "      <td>False</td>\n",
       "      <td>False</td>\n",
       "      <td>False</td>\n",
       "      <td>False</td>\n",
       "    </tr>\n",
       "    <tr>\n",
       "      <th>1</th>\n",
       "      <td>7.586</td>\n",
       "      <td>10.962</td>\n",
       "      <td>0.954</td>\n",
       "      <td>71.250</td>\n",
       "      <td>0.934</td>\n",
       "      <td>0.134</td>\n",
       "      <td>0.196</td>\n",
       "      <td>57.968539</td>\n",
       "      <td>42.307692</td>\n",
       "      <td>189429.330769</td>\n",
       "      <td>...</td>\n",
       "      <td>False</td>\n",
       "      <td>False</td>\n",
       "      <td>False</td>\n",
       "      <td>False</td>\n",
       "      <td>False</td>\n",
       "      <td>False</td>\n",
       "      <td>False</td>\n",
       "      <td>False</td>\n",
       "      <td>False</td>\n",
       "      <td>False</td>\n",
       "    </tr>\n",
       "    <tr>\n",
       "      <th>2</th>\n",
       "      <td>7.530</td>\n",
       "      <td>10.896</td>\n",
       "      <td>0.983</td>\n",
       "      <td>72.050</td>\n",
       "      <td>0.936</td>\n",
       "      <td>0.211</td>\n",
       "      <td>0.668</td>\n",
       "      <td>46.119044</td>\n",
       "      <td>34.222222</td>\n",
       "      <td>197176.773333</td>\n",
       "      <td>...</td>\n",
       "      <td>False</td>\n",
       "      <td>False</td>\n",
       "      <td>False</td>\n",
       "      <td>False</td>\n",
       "      <td>False</td>\n",
       "      <td>False</td>\n",
       "      <td>False</td>\n",
       "      <td>False</td>\n",
       "      <td>False</td>\n",
       "      <td>False</td>\n",
       "    </tr>\n",
       "    <tr>\n",
       "      <th>3</th>\n",
       "      <td>7.473</td>\n",
       "      <td>10.639</td>\n",
       "      <td>0.943</td>\n",
       "      <td>72.697</td>\n",
       "      <td>0.809</td>\n",
       "      <td>-0.023</td>\n",
       "      <td>0.708</td>\n",
       "      <td>50.316184</td>\n",
       "      <td>14.979757</td>\n",
       "      <td>209172.384615</td>\n",
       "      <td>...</td>\n",
       "      <td>False</td>\n",
       "      <td>False</td>\n",
       "      <td>False</td>\n",
       "      <td>False</td>\n",
       "      <td>False</td>\n",
       "      <td>False</td>\n",
       "      <td>False</td>\n",
       "      <td>False</td>\n",
       "      <td>False</td>\n",
       "      <td>False</td>\n",
       "    </tr>\n",
       "    <tr>\n",
       "      <th>4</th>\n",
       "      <td>7.403</td>\n",
       "      <td>10.942</td>\n",
       "      <td>0.930</td>\n",
       "      <td>71.550</td>\n",
       "      <td>0.887</td>\n",
       "      <td>0.213</td>\n",
       "      <td>0.379</td>\n",
       "      <td>65.088140</td>\n",
       "      <td>29.573935</td>\n",
       "      <td>187203.403509</td>\n",
       "      <td>...</td>\n",
       "      <td>False</td>\n",
       "      <td>False</td>\n",
       "      <td>False</td>\n",
       "      <td>False</td>\n",
       "      <td>False</td>\n",
       "      <td>False</td>\n",
       "      <td>False</td>\n",
       "      <td>False</td>\n",
       "      <td>False</td>\n",
       "      <td>False</td>\n",
       "    </tr>\n",
       "  </tbody>\n",
       "</table>\n",
       "<p>5 rows × 90 columns</p>\n",
       "</div>"
      ],
      "text/plain": [
       "   ladder_score  gdp_per_capita  social_support  life_expectancy  \\\n",
       "0         7.804          10.792           0.969           71.150   \n",
       "1         7.586          10.962           0.954           71.250   \n",
       "2         7.530          10.896           0.983           72.050   \n",
       "3         7.473          10.639           0.943           72.697   \n",
       "4         7.403          10.942           0.930           71.550   \n",
       "\n",
       "   life_choice_freedom  generosity  corruption  popularity  is_explicit  \\\n",
       "0                0.961      -0.019       0.182   54.241709    21.896163   \n",
       "1                0.934       0.134       0.196   57.968539    42.307692   \n",
       "2                0.936       0.211       0.668   46.119044    34.222222   \n",
       "3                0.809      -0.023       0.708   50.316184    14.979757   \n",
       "4                0.887       0.213       0.379   65.088140    29.573935   \n",
       "\n",
       "     duration_ms  ...  country_Taiwan  country_Thailand  country_Turkey  \\\n",
       "0  182422.435666  ...           False             False           False   \n",
       "1  189429.330769  ...           False             False           False   \n",
       "2  197176.773333  ...           False             False           False   \n",
       "3  209172.384615  ...           False             False           False   \n",
       "4  187203.403509  ...           False             False           False   \n",
       "\n",
       "   country_Ukraine  country_United Arab Emirates  country_United Kingdom  \\\n",
       "0            False                         False                   False   \n",
       "1            False                         False                   False   \n",
       "2            False                         False                   False   \n",
       "3            False                         False                   False   \n",
       "4            False                         False                   False   \n",
       "\n",
       "   country_United States  country_Uruguay  country_Venezuela  country_Vietnam  \n",
       "0                  False            False              False            False  \n",
       "1                  False            False              False            False  \n",
       "2                  False            False              False            False  \n",
       "3                  False            False              False            False  \n",
       "4                  False            False              False            False  \n",
       "\n",
       "[5 rows x 90 columns]"
      ]
     },
     "execution_count": 5,
     "metadata": {},
     "output_type": "execute_result"
    }
   ],
   "source": [
    "# Check dataframe\n",
    "df.head()"
   ]
  },
  {
   "cell_type": "code",
   "execution_count": 6,
   "id": "104e59cd",
   "metadata": {
    "scrolled": true
   },
   "outputs": [
    {
     "name": "stdout",
     "output_type": "stream",
     "text": [
      "<class 'pandas.core.frame.DataFrame'>\n",
      "RangeIndex: 71 entries, 0 to 70\n",
      "Data columns (total 90 columns):\n",
      " #   Column                        Non-Null Count  Dtype  \n",
      "---  ------                        --------------  -----  \n",
      " 0   ladder_score                  71 non-null     float64\n",
      " 1   gdp_per_capita                71 non-null     float64\n",
      " 2   social_support                71 non-null     float64\n",
      " 3   life_expectancy               71 non-null     float64\n",
      " 4   life_choice_freedom           71 non-null     float64\n",
      " 5   generosity                    71 non-null     float64\n",
      " 6   corruption                    71 non-null     float64\n",
      " 7   popularity                    71 non-null     float64\n",
      " 8   is_explicit                   71 non-null     float64\n",
      " 9   duration_ms                   71 non-null     float64\n",
      " 10  danceability                  71 non-null     float64\n",
      " 11  energy                        71 non-null     float64\n",
      " 12  loudness                      71 non-null     float64\n",
      " 13  mode                          71 non-null     float64\n",
      " 14  speechiness                   71 non-null     float64\n",
      " 15  acousticness                  71 non-null     float64\n",
      " 16  instrumentalness              71 non-null     float64\n",
      " 17  liveness                      71 non-null     float64\n",
      " 18  valence                       71 non-null     float64\n",
      " 19  tempo                         71 non-null     float64\n",
      " 20  country_Australia             71 non-null     bool   \n",
      " 21  country_Austria               71 non-null     bool   \n",
      " 22  country_Belgium               71 non-null     bool   \n",
      " 23  country_Bolivia               71 non-null     bool   \n",
      " 24  country_Brazil                71 non-null     bool   \n",
      " 25  country_Bulgaria              71 non-null     bool   \n",
      " 26  country_Canada                71 non-null     bool   \n",
      " 27  country_Chile                 71 non-null     bool   \n",
      " 28  country_Colombia              71 non-null     bool   \n",
      " 29  country_Costa Rica            71 non-null     bool   \n",
      " 30  country_Czechia               71 non-null     bool   \n",
      " 31  country_Denmark               71 non-null     bool   \n",
      " 32  country_Dominican Republic    71 non-null     bool   \n",
      " 33  country_Ecuador               71 non-null     bool   \n",
      " 34  country_Egypt                 71 non-null     bool   \n",
      " 35  country_El Salvador           71 non-null     bool   \n",
      " 36  country_Estonia               71 non-null     bool   \n",
      " 37  country_Finland               71 non-null     bool   \n",
      " 38  country_France                71 non-null     bool   \n",
      " 39  country_Germany               71 non-null     bool   \n",
      " 40  country_Greece                71 non-null     bool   \n",
      " 41  country_Guatemala             71 non-null     bool   \n",
      " 42  country_Honduras              71 non-null     bool   \n",
      " 43  country_Hong Kong             71 non-null     bool   \n",
      " 44  country_Hungary               71 non-null     bool   \n",
      " 45  country_Iceland               71 non-null     bool   \n",
      " 46  country_India                 71 non-null     bool   \n",
      " 47  country_Indonesia             71 non-null     bool   \n",
      " 48  country_Ireland               71 non-null     bool   \n",
      " 49  country_Israel                71 non-null     bool   \n",
      " 50  country_Italy                 71 non-null     bool   \n",
      " 51  country_Japan                 71 non-null     bool   \n",
      " 52  country_Kazakhstan            71 non-null     bool   \n",
      " 53  country_Latvia                71 non-null     bool   \n",
      " 54  country_Lithuania             71 non-null     bool   \n",
      " 55  country_Luxembourg            71 non-null     bool   \n",
      " 56  country_Malaysia              71 non-null     bool   \n",
      " 57  country_Mexico                71 non-null     bool   \n",
      " 58  country_Morocco               71 non-null     bool   \n",
      " 59  country_Netherlands           71 non-null     bool   \n",
      " 60  country_New Zealand           71 non-null     bool   \n",
      " 61  country_Nicaragua             71 non-null     bool   \n",
      " 62  country_Nigeria               71 non-null     bool   \n",
      " 63  country_Norway                71 non-null     bool   \n",
      " 64  country_Pakistan              71 non-null     bool   \n",
      " 65  country_Panama                71 non-null     bool   \n",
      " 66  country_Paraguay              71 non-null     bool   \n",
      " 67  country_Peru                  71 non-null     bool   \n",
      " 68  country_Philippines           71 non-null     bool   \n",
      " 69  country_Poland                71 non-null     bool   \n",
      " 70  country_Portugal              71 non-null     bool   \n",
      " 71  country_Romania               71 non-null     bool   \n",
      " 72  country_Saudi Arabia          71 non-null     bool   \n",
      " 73  country_Singapore             71 non-null     bool   \n",
      " 74  country_Slovakia              71 non-null     bool   \n",
      " 75  country_South Africa          71 non-null     bool   \n",
      " 76  country_South Korea           71 non-null     bool   \n",
      " 77  country_Spain                 71 non-null     bool   \n",
      " 78  country_Sweden                71 non-null     bool   \n",
      " 79  country_Switzerland           71 non-null     bool   \n",
      " 80  country_Taiwan                71 non-null     bool   \n",
      " 81  country_Thailand              71 non-null     bool   \n",
      " 82  country_Turkey                71 non-null     bool   \n",
      " 83  country_Ukraine               71 non-null     bool   \n",
      " 84  country_United Arab Emirates  71 non-null     bool   \n",
      " 85  country_United Kingdom        71 non-null     bool   \n",
      " 86  country_United States         71 non-null     bool   \n",
      " 87  country_Uruguay               71 non-null     bool   \n",
      " 88  country_Venezuela             71 non-null     bool   \n",
      " 89  country_Vietnam               71 non-null     bool   \n",
      "dtypes: bool(70), float64(20)\n",
      "memory usage: 16.1 KB\n"
     ]
    }
   ],
   "source": [
    "# Check that the dummy variables have encoded properly\n",
    "df.info()"
   ]
  },
  {
   "cell_type": "markdown",
   "id": "9fdf8d57",
   "metadata": {},
   "source": [
    "### 2.2 - Split data <a name=\"split\"></a>\n",
    "\n",
    "Recall that our variable `ladder_score` corresponds to the ladder score on the World Happiness Report. This score is also known as a \"Cantril Ladder.\" From the [World Happiness Report website's FAQ page](https://worldhappiness.report/faq/):\n",
    ">The rankings in ... \\[the\\] World Happiness Report 2024 use data from the Gallup World Poll surveys from 2021 to 2023. They are based on answers to the main life evaluation question asked in the poll. This is called the Cantril ladder: it asks respondents to think of a ladder, with the best possible life for them being a 10 and the worst possible life being a 0. They are then asked to rate their own current lives on that 0 to 10 scale.\n",
    "\n",
    "The `ladder_score` is the best approximation we have from our World Happiness Report to a comprehensive score on World Happiness. For this reason, we will use `ladder_score` as our target variable, and we will split and train our data accordingly.\n",
    "\n",
    "Note that our dataset, `df`, contains other variables from the World Happiness Report, including `'gdp_per_capita'`, `'social_support'`, `'life_expectancy'`, `'life_choice_freedom'`, `'generosity'`, and `'corruption'`. While these may be interesting target variables to explore in a separate project, we are only interested in how a country's music listening habits might predict their overall scores of happiness. Therefore, we will be excluding these variables from our analysis."
   ]
  },
  {
   "cell_type": "code",
   "execution_count": 7,
   "id": "02cf48a3",
   "metadata": {},
   "outputs": [],
   "source": [
    "# Define our X and y variables\n",
    "X = df.drop(['ladder_score', 'gdp_per_capita', 'social_support', 'life_expectancy',\n",
    "       'life_choice_freedom', 'generosity', 'corruption'], axis=1)\n",
    "y = df['ladder_score']"
   ]
  },
  {
   "cell_type": "code",
   "execution_count": 8,
   "id": "61eb126d",
   "metadata": {},
   "outputs": [],
   "source": [
    "# Split the dataset\n",
    "X_train, X_test, y_train, y_test = train_test_split(X, y, test_size=0.2, random_state=42)"
   ]
  },
  {
   "cell_type": "markdown",
   "id": "00834b9d",
   "metadata": {},
   "source": [
    "### 2.3 Scale data using StandardScaler <a name=\"scaling\"></a>"
   ]
  },
  {
   "cell_type": "code",
   "execution_count": 9,
   "id": "abc039f6",
   "metadata": {},
   "outputs": [],
   "source": [
    "scaler = StandardScaler()"
   ]
  },
  {
   "cell_type": "code",
   "execution_count": 10,
   "id": "373d667a",
   "metadata": {},
   "outputs": [],
   "source": [
    "# Fit the scaler on the training data\n",
    "X_train_scaled = scaler.fit_transform(X_train)"
   ]
  },
  {
   "cell_type": "code",
   "execution_count": 11,
   "id": "08a0ca58",
   "metadata": {},
   "outputs": [],
   "source": [
    "# Use the scaler to transform the test data\n",
    "X_test_scaled = scaler.transform(X_test)"
   ]
  },
  {
   "cell_type": "markdown",
   "id": "1059b659",
   "metadata": {},
   "source": [
    "## 3 - Finalizing <a name=\"final\"></a>"
   ]
  },
  {
   "cell_type": "markdown",
   "id": "a3ce2cf5",
   "metadata": {},
   "source": [
    "### 3.1 - Check data and save for retrieval <a name=\"check\"></a>"
   ]
  },
  {
   "cell_type": "code",
   "execution_count": 12,
   "id": "7f879fd4",
   "metadata": {},
   "outputs": [
    {
     "name": "stdout",
     "output_type": "stream",
     "text": [
      "X_train shape: (56, 83)\n",
      "X_test shape: (15, 83)\n",
      "y_train shape: (56,)\n",
      "y_test shape: (15,)\n"
     ]
    }
   ],
   "source": [
    "# Check the shapes of the training and testing sets\n",
    "print(f\"X_train shape: {X_train.shape}\")\n",
    "print(f\"X_test shape: {X_test.shape}\")\n",
    "print(f\"y_train shape: {y_train.shape}\")\n",
    "print(f\"y_test shape: {y_test.shape}\")"
   ]
  },
  {
   "cell_type": "markdown",
   "id": "a5b9dbe3",
   "metadata": {},
   "source": [
    "We have completed the pre-processing and training phase of our data. Now, let's save our work so we can retrieve it in the next notebook, where we will create our machine learning model:"
   ]
  },
  {
   "cell_type": "code",
   "execution_count": 13,
   "id": "761d4b0d",
   "metadata": {},
   "outputs": [
    {
     "name": "stdout",
     "output_type": "stream",
     "text": [
      "Stored 'X_train' (DataFrame)\n",
      "Stored 'X_test' (DataFrame)\n",
      "Stored 'y_train' (Series)\n",
      "Stored 'y_test' (Series)\n",
      "Stored 'df' (DataFrame)\n"
     ]
    }
   ],
   "source": [
    "%store X_train\n",
    "%store X_test\n",
    "%store y_train\n",
    "%store y_test\n",
    "%store df"
   ]
  }
 ],
 "metadata": {
  "kernelspec": {
   "display_name": "Python 3 (ipykernel)",
   "language": "python",
   "name": "python3"
  },
  "language_info": {
   "codemirror_mode": {
    "name": "ipython",
    "version": 3
   },
   "file_extension": ".py",
   "mimetype": "text/x-python",
   "name": "python",
   "nbconvert_exporter": "python",
   "pygments_lexer": "ipython3",
   "version": "3.11.5"
  }
 },
 "nbformat": 4,
 "nbformat_minor": 5
}
