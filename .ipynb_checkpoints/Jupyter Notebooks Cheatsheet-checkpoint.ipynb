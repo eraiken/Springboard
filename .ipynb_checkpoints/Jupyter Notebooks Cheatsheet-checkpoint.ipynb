{
 "cells": [
  {
   "cell_type": "markdown",
   "id": "356c0da4",
   "metadata": {},
   "source": [
    "# Jupyter Notebooks Cheatsheet"
   ]
  },
  {
   "cell_type": "markdown",
   "id": "82d8ff13",
   "metadata": {},
   "source": [
    "Some notes on Markdown and nifty little Python code snippets."
   ]
  },
  {
   "cell_type": "markdown",
   "id": "a02c851c",
   "metadata": {},
   "source": [
    "### Table of Contents\n",
    "\n",
    "* [Colored note boxes](#boxes)\n",
    "    * [Blue boxes](#blue-boxes)\n",
    "    * [Yellow boxes](#yellow-boxes)\n",
    "    * [Green boxes](#green-boxes)\n",
    "    * [Red boxes](#blue-boxes)\n",
    "* [Saving things for retrieval in another notebook](#saving)\n",
    "* [Disable warnings (temporarily)](#warnings)"
   ]
  },
  {
   "cell_type": "markdown",
   "id": "194b941a",
   "metadata": {},
   "source": [
    "## Colored note boxes <a name=\"boxes\"></a>"
   ]
  },
  {
   "cell_type": "markdown",
   "id": "995bb7f7",
   "metadata": {},
   "source": [
    "### Blue boxes <a name=\"blue-boxes\"></a>\n",
    "<div class=\"alert alert-block alert-info\">\n",
    "<b>Tip:</b> Use blue boxes (alert-info) for tips and notes. \n",
    "If it’s a note, you don’t have to include the word “Note”.\n",
    "</div>"
   ]
  },
  {
   "cell_type": "markdown",
   "id": "eaf59d20",
   "metadata": {},
   "source": [
    "### Yellow boxes <a name=\"yellow-boxes\"></a>\n",
    "<div class=\"alert alert-block alert-warning\">\n",
    "<b>Example:</b> Use yellow boxes for examples that are not \n",
    "inside code cells, or use for mathematical formulas if needed.\n",
    "</div>"
   ]
  },
  {
   "cell_type": "markdown",
   "id": "d12c83e8",
   "metadata": {},
   "source": [
    "### Green boxes <a name=\"green-boxes\"></a>\n",
    "<div class=\"alert alert-block alert-success\">\n",
    "<b>Up to you:</b> Use green boxes sparingly, and only for some specific \n",
    "purpose that the other boxes can't cover. For example, if you have a lot \n",
    "of related content to link to, maybe you decide to use green boxes for \n",
    "related links from each section of a notebook.\n",
    "</div>"
   ]
  },
  {
   "cell_type": "markdown",
   "id": "45ab1b5a",
   "metadata": {},
   "source": [
    "### Red boxes <a name=\"red-boxes\"></a>\n",
    "<div class=\"alert alert-block alert-danger\">\n",
    "<b>Just don't:</b> In general, avoid the red boxes. These should only be\n",
    "used for actions that might cause data loss or another major issue.\n",
    "</div>"
   ]
  },
  {
   "cell_type": "markdown",
   "id": "62a22109",
   "metadata": {},
   "source": [
    "---"
   ]
  },
  {
   "cell_type": "markdown",
   "id": "5fad6631",
   "metadata": {},
   "source": [
    "## Storing and retrieving variables <a name=\"saving\"></a>\n",
    "\n",
    "Say you have a variable called `variable`."
   ]
  },
  {
   "cell_type": "markdown",
   "id": "8457771d",
   "metadata": {},
   "source": [
    "### Storing\n",
    "```\n",
    "%store variable\n",
    "```"
   ]
  },
  {
   "cell_type": "markdown",
   "id": "1d63469d",
   "metadata": {},
   "source": [
    "Now, say you want to retrieve your variable `variable` in a separate Jupyter notebook."
   ]
  },
  {
   "cell_type": "markdown",
   "id": "84a7a442",
   "metadata": {},
   "source": [
    "### Retrieving\n",
    "```\n",
    "%store -r variable\n",
    "```"
   ]
  },
  {
   "cell_type": "markdown",
   "id": "260446dc",
   "metadata": {},
   "source": [
    "---"
   ]
  },
  {
   "cell_type": "markdown",
   "id": "fa117936",
   "metadata": {},
   "source": [
    "## Disable warnings (temporarily) <a name=\"warnings\"></a>"
   ]
  },
  {
   "cell_type": "markdown",
   "id": "9772413c",
   "metadata": {},
   "source": [
    "Put this before the problematic code block to disable warnings:\n",
    "\n",
    "```\n",
    "# Temporarily disable warning\n",
    "pd.options.mode.chained_assignment = None\n",
    "```"
   ]
  },
  {
   "cell_type": "markdown",
   "id": "673b2d88",
   "metadata": {},
   "source": [
    "And after the code block, add this to re-enable warnings (because I know you *really* want to see those warnings pop up again):\n",
    "```\n",
    "# Re-enable warning\n",
    "pd.options.mode.chained_assignment = 'warn'\n",
    "```"
   ]
  },
  {
   "cell_type": "markdown",
   "id": "5d085d49",
   "metadata": {},
   "source": [
    "### Suppress all warnings temporarily (not recommended)\n",
    "```\n",
    "import warnings\n",
    "\n",
    "warnings.filterwarnings(\"ignore\", category=FutureWarning)\n",
    "```"
   ]
  }
 ],
 "metadata": {
  "kernelspec": {
   "display_name": "Python 3 (ipykernel)",
   "language": "python",
   "name": "python3"
  },
  "language_info": {
   "codemirror_mode": {
    "name": "ipython",
    "version": 3
   },
   "file_extension": ".py",
   "mimetype": "text/x-python",
   "name": "python",
   "nbconvert_exporter": "python",
   "pygments_lexer": "ipython3",
   "version": "3.11.5"
  }
 },
 "nbformat": 4,
 "nbformat_minor": 5
}
