{
 "cells": [
  {
   "cell_type": "markdown",
   "id": "11c03f56",
   "metadata": {},
   "source": [
    "# Take-Home Challenge: Relax, Inc."
   ]
  },
  {
   "cell_type": "markdown",
   "id": "2fe65d29",
   "metadata": {},
   "source": [
    "The data is available as two attached CSV files:\n",
    "```\n",
    "takehome_user_engagement.csv  \n",
    "takehome_users.csv\n",
    "```"
   ]
  },
  {
   "cell_type": "markdown",
   "id": "b204aa48",
   "metadata": {},
   "source": [
    "The data has the following two tables:\n",
    "\n",
    "1. A user table (\"takehome_users\") with data on 12,000 users who signed up for the product in the last two years. This table includes:\n",
    "    - **name**: the user's name\n",
    "    - **object_id**: the user's id\n",
    "    - **email**: email address\n",
    "    - **creation_source**: how their account was created. This takes on one of 5 values:\n",
    "        - **PERSONAL_PROJECTS**: invited to join another user's personal workspace\n",
    "        - **GUEST_INVITE**: invited to an organization as a guest (limited permissions)\n",
    "        - **ORG_INVITE**: invited to an organization (as a full member)\n",
    "        - **SIGNUP**: signed up via the website\n",
    "        - **SIGNUP_GOOGLE_AUTH**: signed up using Google Authentication (using a Google email account for their login id)\n",
    "    - **creation_time**: when they created their account\n",
    "    - **last_session_creation_time**: unix timestamp of last login\n",
    "    - **opted_in_to_mailing_list**: whether they have opted into receiving marketing emails\n",
    "    - **enabled_for_marketing_drip**: whether they are on the regular marketing email drip\n",
    "    - **org_id**: the organization (group of users) they belong to\n",
    "    - **invited_by_user_id**: which user invited them to join (if applicable)\n",
    "<br><br>\n",
    "2. A usage summary table (\"takehome_user_engagement\") that has a row for each day that a user logged into the product."
   ]
  },
  {
   "cell_type": "markdown",
   "id": "64a4e91c",
   "metadata": {},
   "source": [
    "Defining an \"adopted user\" as a user who has logged into the product on three separate days in at least one seven-day period, **identify which factors predict future user adoption**."
   ]
  },
  {
   "cell_type": "markdown",
   "id": "ffba6cc9",
   "metadata": {},
   "source": [
    "We suggest spending 1-2 hours on this, but you're welcome to spend more or less. Please send us a brief writeup of your findings (the more concise, the better — no more than one page), along with any summary tables, graphs, code, or queries that can help us understand your approach. Please note any factors you considered or investigation you did, even if they did not pan out. Feel free to identify any further research or data you think would be valuable."
   ]
  },
  {
   "cell_type": "markdown",
   "id": "07355d40",
   "metadata": {},
   "source": [
    "---"
   ]
  },
  {
   "cell_type": "code",
   "execution_count": 1,
   "id": "a23aa420",
   "metadata": {},
   "outputs": [],
   "source": [
    "import pandas as pd\n",
    "import numpy as np\n",
    "import matplotlib.pyplot as plt\n",
    "import seaborn as sns\n",
    "\n",
    "from datetime import datetime, timedelta\n",
    "\n",
    "from sklearn.model_selection import train_test_split\n",
    "from sklearn.ensemble import RandomForestClassifier\n",
    "from sklearn.metrics import classification_report\n",
    "from sklearn.linear_model import LogisticRegression\n",
    "\n",
    "from xgboost import XGBClassifier"
   ]
  },
  {
   "cell_type": "code",
   "execution_count": 2,
   "id": "e1b55c2b",
   "metadata": {},
   "outputs": [],
   "source": [
    "# Read CSV files\n",
    "user_engagement = pd.read_csv(\"takehome_user_engagement.csv\")\n",
    "users = pd.read_csv(\"takehome_users.csv\", encoding='latin-1')"
   ]
  },
  {
   "cell_type": "markdown",
   "id": "7ede443e",
   "metadata": {},
   "source": [
    "---"
   ]
  },
  {
   "cell_type": "markdown",
   "id": "d2b46c08",
   "metadata": {},
   "source": [
    "## Cleaning `user_engagement` DataFrame"
   ]
  },
  {
   "cell_type": "code",
   "execution_count": 3,
   "id": "9ade57d1",
   "metadata": {},
   "outputs": [
    {
     "data": {
      "text/html": [
       "<div>\n",
       "<style scoped>\n",
       "    .dataframe tbody tr th:only-of-type {\n",
       "        vertical-align: middle;\n",
       "    }\n",
       "\n",
       "    .dataframe tbody tr th {\n",
       "        vertical-align: top;\n",
       "    }\n",
       "\n",
       "    .dataframe thead th {\n",
       "        text-align: right;\n",
       "    }\n",
       "</style>\n",
       "<table border=\"1\" class=\"dataframe\">\n",
       "  <thead>\n",
       "    <tr style=\"text-align: right;\">\n",
       "      <th></th>\n",
       "      <th>time_stamp</th>\n",
       "      <th>user_id</th>\n",
       "      <th>visited</th>\n",
       "    </tr>\n",
       "  </thead>\n",
       "  <tbody>\n",
       "    <tr>\n",
       "      <th>0</th>\n",
       "      <td>2014-04-22 03:53:30</td>\n",
       "      <td>1</td>\n",
       "      <td>1</td>\n",
       "    </tr>\n",
       "    <tr>\n",
       "      <th>1</th>\n",
       "      <td>2013-11-15 03:45:04</td>\n",
       "      <td>2</td>\n",
       "      <td>1</td>\n",
       "    </tr>\n",
       "    <tr>\n",
       "      <th>2</th>\n",
       "      <td>2013-11-29 03:45:04</td>\n",
       "      <td>2</td>\n",
       "      <td>1</td>\n",
       "    </tr>\n",
       "    <tr>\n",
       "      <th>3</th>\n",
       "      <td>2013-12-09 03:45:04</td>\n",
       "      <td>2</td>\n",
       "      <td>1</td>\n",
       "    </tr>\n",
       "    <tr>\n",
       "      <th>4</th>\n",
       "      <td>2013-12-25 03:45:04</td>\n",
       "      <td>2</td>\n",
       "      <td>1</td>\n",
       "    </tr>\n",
       "  </tbody>\n",
       "</table>\n",
       "</div>"
      ],
      "text/plain": [
       "            time_stamp  user_id  visited\n",
       "0  2014-04-22 03:53:30        1        1\n",
       "1  2013-11-15 03:45:04        2        1\n",
       "2  2013-11-29 03:45:04        2        1\n",
       "3  2013-12-09 03:45:04        2        1\n",
       "4  2013-12-25 03:45:04        2        1"
      ]
     },
     "execution_count": 3,
     "metadata": {},
     "output_type": "execute_result"
    }
   ],
   "source": [
    "# Look at user_engagement.head()\n",
    "user_engagement.head()"
   ]
  },
  {
   "cell_type": "code",
   "execution_count": 4,
   "id": "0becb42b",
   "metadata": {},
   "outputs": [
    {
     "name": "stdout",
     "output_type": "stream",
     "text": [
      "<class 'pandas.core.frame.DataFrame'>\n",
      "RangeIndex: 207917 entries, 0 to 207916\n",
      "Data columns (total 3 columns):\n",
      " #   Column      Non-Null Count   Dtype \n",
      "---  ------      --------------   ----- \n",
      " 0   time_stamp  207917 non-null  object\n",
      " 1   user_id     207917 non-null  int64 \n",
      " 2   visited     207917 non-null  int64 \n",
      "dtypes: int64(2), object(1)\n",
      "memory usage: 4.8+ MB\n"
     ]
    }
   ],
   "source": [
    "# Check datatypes\n",
    "user_engagement.info()"
   ]
  },
  {
   "cell_type": "markdown",
   "id": "b194fe99",
   "metadata": {},
   "source": [
    "### Check for `NaN`s"
   ]
  },
  {
   "cell_type": "code",
   "execution_count": 5,
   "id": "9648c085",
   "metadata": {},
   "outputs": [
    {
     "data": {
      "text/plain": [
       "time_stamp    0\n",
       "user_id       0\n",
       "visited       0\n",
       "dtype: int64"
      ]
     },
     "execution_count": 5,
     "metadata": {},
     "output_type": "execute_result"
    }
   ],
   "source": [
    "user_engagement.isna().sum()"
   ]
  },
  {
   "cell_type": "markdown",
   "id": "81ce5f80",
   "metadata": {},
   "source": [
    "### Convert `time_stamp` to datetime"
   ]
  },
  {
   "cell_type": "code",
   "execution_count": 6,
   "id": "b6d0af21",
   "metadata": {},
   "outputs": [],
   "source": [
    "# Convert time_stamp to datetime format\n",
    "user_engagement['time_stamp'] = pd.to_datetime(user_engagement['time_stamp'])"
   ]
  },
  {
   "cell_type": "markdown",
   "id": "d7c33135",
   "metadata": {},
   "source": [
    "### Drop `visited` column\n",
    "Visited seems to be a Boolean column indicating `True` for whether a user visited at a particular time. All values in this column are equal to `1`. We can safely remove this column without losing any important information."
   ]
  },
  {
   "cell_type": "code",
   "execution_count": 7,
   "id": "8608215b",
   "metadata": {},
   "outputs": [
    {
     "data": {
      "text/plain": [
       "array([1], dtype=int64)"
      ]
     },
     "execution_count": 7,
     "metadata": {},
     "output_type": "execute_result"
    }
   ],
   "source": [
    "# Confirm values in visted column\n",
    "user_engagement['visited'].unique()"
   ]
  },
  {
   "cell_type": "code",
   "execution_count": 8,
   "id": "f7e8ec3b",
   "metadata": {},
   "outputs": [],
   "source": [
    "# Drop visited column\n",
    "user_engagement.drop(['visited'], axis=1, inplace=True)"
   ]
  },
  {
   "cell_type": "markdown",
   "id": "04ecec2d",
   "metadata": {},
   "source": [
    "### Rearrange columns"
   ]
  },
  {
   "cell_type": "code",
   "execution_count": 9,
   "id": "045c9e23",
   "metadata": {},
   "outputs": [],
   "source": [
    "# Rearrange columns\n",
    "user_engagement = user_engagement[['user_id', 'time_stamp']]"
   ]
  },
  {
   "cell_type": "markdown",
   "id": "eb10ce85",
   "metadata": {},
   "source": [
    "## Identify adopted users"
   ]
  },
  {
   "cell_type": "code",
   "execution_count": 10,
   "id": "d88c3565",
   "metadata": {},
   "outputs": [],
   "source": [
    "# Create a copy of the user_engagement dataframe\n",
    "user_adoption = user_engagement.copy()"
   ]
  },
  {
   "cell_type": "markdown",
   "id": "3c121c25",
   "metadata": {},
   "source": [
    "Since we only need the *days* that a user logged in to determine whether they are \"adopted\" or not, we will remove the time portion from the time stamp and only consider the date."
   ]
  },
  {
   "cell_type": "code",
   "execution_count": 11,
   "id": "8e5d5f88",
   "metadata": {},
   "outputs": [],
   "source": [
    "# Remove time component in time_stamp column\n",
    "user_adoption['time_stamp'] = user_adoption['time_stamp'].apply(lambda x: x.date())"
   ]
  },
  {
   "cell_type": "code",
   "execution_count": 12,
   "id": "fbed5316",
   "metadata": {},
   "outputs": [],
   "source": [
    "# Remove duplicates\n",
    "user_adoption = user_adoption.drop_duplicates()"
   ]
  },
  {
   "cell_type": "code",
   "execution_count": 13,
   "id": "e9265996",
   "metadata": {},
   "outputs": [],
   "source": [
    "# Create list of unique users\n",
    "users_list = list(user_adoption['user_id'].unique())"
   ]
  },
  {
   "cell_type": "code",
   "execution_count": 14,
   "id": "acf571ce",
   "metadata": {},
   "outputs": [],
   "source": [
    "adopted_dict = {}\n",
    "for user_id in users_list:\n",
    "    user_dates = user_adoption[user_adoption['user_id']==user_id]['time_stamp'].unique()\n",
    "    is_adopted = False\n",
    "    for i, start_date in enumerate(user_dates):\n",
    "        end_date = start_date + timedelta(days=6)\n",
    "        logins_in_window = sum(1 for date in user_dates if start_date <= date <= end_date)\n",
    "\n",
    "        if logins_in_window >= 3:\n",
    "            is_adopted = True\n",
    "            break\n",
    "\n",
    "    adopted_dict[user_id] = is_adopted"
   ]
  },
  {
   "cell_type": "code",
   "execution_count": 15,
   "id": "112c36cf",
   "metadata": {},
   "outputs": [],
   "source": [
    "# Create is_adopted column by mapping adopted_dict onto user_engagement dataframe\n",
    "user_engagement['is_adopted'] = user_engagement['user_id'].map(adopted_dict)"
   ]
  },
  {
   "cell_type": "markdown",
   "id": "162c9fc0",
   "metadata": {},
   "source": [
    "---"
   ]
  },
  {
   "cell_type": "markdown",
   "id": "cd58e3e8",
   "metadata": {},
   "source": [
    "## Cleaning `users` DataFrame"
   ]
  },
  {
   "cell_type": "code",
   "execution_count": 16,
   "id": "671bdc1a",
   "metadata": {},
   "outputs": [
    {
     "data": {
      "text/html": [
       "<div>\n",
       "<style scoped>\n",
       "    .dataframe tbody tr th:only-of-type {\n",
       "        vertical-align: middle;\n",
       "    }\n",
       "\n",
       "    .dataframe tbody tr th {\n",
       "        vertical-align: top;\n",
       "    }\n",
       "\n",
       "    .dataframe thead th {\n",
       "        text-align: right;\n",
       "    }\n",
       "</style>\n",
       "<table border=\"1\" class=\"dataframe\">\n",
       "  <thead>\n",
       "    <tr style=\"text-align: right;\">\n",
       "      <th></th>\n",
       "      <th>object_id</th>\n",
       "      <th>creation_time</th>\n",
       "      <th>name</th>\n",
       "      <th>email</th>\n",
       "      <th>creation_source</th>\n",
       "      <th>last_session_creation_time</th>\n",
       "      <th>opted_in_to_mailing_list</th>\n",
       "      <th>enabled_for_marketing_drip</th>\n",
       "      <th>org_id</th>\n",
       "      <th>invited_by_user_id</th>\n",
       "    </tr>\n",
       "  </thead>\n",
       "  <tbody>\n",
       "    <tr>\n",
       "      <th>0</th>\n",
       "      <td>1</td>\n",
       "      <td>2014-04-22 03:53:30</td>\n",
       "      <td>Clausen August</td>\n",
       "      <td>AugustCClausen@yahoo.com</td>\n",
       "      <td>GUEST_INVITE</td>\n",
       "      <td>1.398139e+09</td>\n",
       "      <td>1</td>\n",
       "      <td>0</td>\n",
       "      <td>11</td>\n",
       "      <td>10803.0</td>\n",
       "    </tr>\n",
       "    <tr>\n",
       "      <th>1</th>\n",
       "      <td>2</td>\n",
       "      <td>2013-11-15 03:45:04</td>\n",
       "      <td>Poole Matthew</td>\n",
       "      <td>MatthewPoole@gustr.com</td>\n",
       "      <td>ORG_INVITE</td>\n",
       "      <td>1.396238e+09</td>\n",
       "      <td>0</td>\n",
       "      <td>0</td>\n",
       "      <td>1</td>\n",
       "      <td>316.0</td>\n",
       "    </tr>\n",
       "    <tr>\n",
       "      <th>2</th>\n",
       "      <td>3</td>\n",
       "      <td>2013-03-19 23:14:52</td>\n",
       "      <td>Bottrill Mitchell</td>\n",
       "      <td>MitchellBottrill@gustr.com</td>\n",
       "      <td>ORG_INVITE</td>\n",
       "      <td>1.363735e+09</td>\n",
       "      <td>0</td>\n",
       "      <td>0</td>\n",
       "      <td>94</td>\n",
       "      <td>1525.0</td>\n",
       "    </tr>\n",
       "    <tr>\n",
       "      <th>3</th>\n",
       "      <td>4</td>\n",
       "      <td>2013-05-21 08:09:28</td>\n",
       "      <td>Clausen Nicklas</td>\n",
       "      <td>NicklasSClausen@yahoo.com</td>\n",
       "      <td>GUEST_INVITE</td>\n",
       "      <td>1.369210e+09</td>\n",
       "      <td>0</td>\n",
       "      <td>0</td>\n",
       "      <td>1</td>\n",
       "      <td>5151.0</td>\n",
       "    </tr>\n",
       "    <tr>\n",
       "      <th>4</th>\n",
       "      <td>5</td>\n",
       "      <td>2013-01-17 10:14:20</td>\n",
       "      <td>Raw Grace</td>\n",
       "      <td>GraceRaw@yahoo.com</td>\n",
       "      <td>GUEST_INVITE</td>\n",
       "      <td>1.358850e+09</td>\n",
       "      <td>0</td>\n",
       "      <td>0</td>\n",
       "      <td>193</td>\n",
       "      <td>5240.0</td>\n",
       "    </tr>\n",
       "  </tbody>\n",
       "</table>\n",
       "</div>"
      ],
      "text/plain": [
       "   object_id        creation_time               name  \\\n",
       "0          1  2014-04-22 03:53:30     Clausen August   \n",
       "1          2  2013-11-15 03:45:04      Poole Matthew   \n",
       "2          3  2013-03-19 23:14:52  Bottrill Mitchell   \n",
       "3          4  2013-05-21 08:09:28    Clausen Nicklas   \n",
       "4          5  2013-01-17 10:14:20          Raw Grace   \n",
       "\n",
       "                        email creation_source  last_session_creation_time  \\\n",
       "0    AugustCClausen@yahoo.com    GUEST_INVITE                1.398139e+09   \n",
       "1      MatthewPoole@gustr.com      ORG_INVITE                1.396238e+09   \n",
       "2  MitchellBottrill@gustr.com      ORG_INVITE                1.363735e+09   \n",
       "3   NicklasSClausen@yahoo.com    GUEST_INVITE                1.369210e+09   \n",
       "4          GraceRaw@yahoo.com    GUEST_INVITE                1.358850e+09   \n",
       "\n",
       "   opted_in_to_mailing_list  enabled_for_marketing_drip  org_id  \\\n",
       "0                         1                           0      11   \n",
       "1                         0                           0       1   \n",
       "2                         0                           0      94   \n",
       "3                         0                           0       1   \n",
       "4                         0                           0     193   \n",
       "\n",
       "   invited_by_user_id  \n",
       "0             10803.0  \n",
       "1               316.0  \n",
       "2              1525.0  \n",
       "3              5151.0  \n",
       "4              5240.0  "
      ]
     },
     "execution_count": 16,
     "metadata": {},
     "output_type": "execute_result"
    }
   ],
   "source": [
    "# Look at users.head()\n",
    "users.head()"
   ]
  },
  {
   "cell_type": "code",
   "execution_count": 17,
   "id": "d9253bd1",
   "metadata": {
    "scrolled": true
   },
   "outputs": [
    {
     "name": "stdout",
     "output_type": "stream",
     "text": [
      "<class 'pandas.core.frame.DataFrame'>\n",
      "RangeIndex: 12000 entries, 0 to 11999\n",
      "Data columns (total 10 columns):\n",
      " #   Column                      Non-Null Count  Dtype  \n",
      "---  ------                      --------------  -----  \n",
      " 0   object_id                   12000 non-null  int64  \n",
      " 1   creation_time               12000 non-null  object \n",
      " 2   name                        12000 non-null  object \n",
      " 3   email                       12000 non-null  object \n",
      " 4   creation_source             12000 non-null  object \n",
      " 5   last_session_creation_time  8823 non-null   float64\n",
      " 6   opted_in_to_mailing_list    12000 non-null  int64  \n",
      " 7   enabled_for_marketing_drip  12000 non-null  int64  \n",
      " 8   org_id                      12000 non-null  int64  \n",
      " 9   invited_by_user_id          6417 non-null   float64\n",
      "dtypes: float64(2), int64(4), object(4)\n",
      "memory usage: 937.6+ KB\n"
     ]
    }
   ],
   "source": [
    "# Check datatypes\n",
    "users.info()"
   ]
  },
  {
   "cell_type": "code",
   "execution_count": 18,
   "id": "8b7d7474",
   "metadata": {},
   "outputs": [],
   "source": [
    "# Copy users to users_df\n",
    "users_df = users.copy()"
   ]
  },
  {
   "cell_type": "markdown",
   "id": "787d861e",
   "metadata": {},
   "source": [
    "### Name change\n",
    "For consistency, we will change `'object_id'` to `'user_id'`."
   ]
  },
  {
   "cell_type": "code",
   "execution_count": 19,
   "id": "6490ba99",
   "metadata": {},
   "outputs": [],
   "source": [
    "users_df.rename({'object_id': 'user_id'}, axis='columns', inplace=True)"
   ]
  },
  {
   "cell_type": "markdown",
   "id": "43018167",
   "metadata": {},
   "source": [
    "### Check for `NaN`s"
   ]
  },
  {
   "cell_type": "code",
   "execution_count": 20,
   "id": "e648e347",
   "metadata": {},
   "outputs": [
    {
     "data": {
      "text/plain": [
       "user_id                          0\n",
       "creation_time                    0\n",
       "name                             0\n",
       "email                            0\n",
       "creation_source                  0\n",
       "last_session_creation_time    3177\n",
       "opted_in_to_mailing_list         0\n",
       "enabled_for_marketing_drip       0\n",
       "org_id                           0\n",
       "invited_by_user_id            5583\n",
       "dtype: int64"
      ]
     },
     "execution_count": 20,
     "metadata": {},
     "output_type": "execute_result"
    }
   ],
   "source": [
    "users_df.isna().sum()"
   ]
  },
  {
   "cell_type": "markdown",
   "id": "884c5748",
   "metadata": {},
   "source": [
    "Notably, there are over 3,000 users whose `last_session_creation_time` is `NaN`."
   ]
  },
  {
   "cell_type": "markdown",
   "id": "b2fed3c5",
   "metadata": {},
   "source": [
    "### Handling `NaN`s"
   ]
  },
  {
   "cell_type": "code",
   "execution_count": 21,
   "id": "7f62ea4f",
   "metadata": {
    "scrolled": true
   },
   "outputs": [
    {
     "data": {
      "text/html": [
       "<div>\n",
       "<style scoped>\n",
       "    .dataframe tbody tr th:only-of-type {\n",
       "        vertical-align: middle;\n",
       "    }\n",
       "\n",
       "    .dataframe tbody tr th {\n",
       "        vertical-align: top;\n",
       "    }\n",
       "\n",
       "    .dataframe thead th {\n",
       "        text-align: right;\n",
       "    }\n",
       "</style>\n",
       "<table border=\"1\" class=\"dataframe\">\n",
       "  <thead>\n",
       "    <tr style=\"text-align: right;\">\n",
       "      <th></th>\n",
       "      <th>user_id</th>\n",
       "      <th>time_stamp</th>\n",
       "      <th>is_adopted</th>\n",
       "    </tr>\n",
       "  </thead>\n",
       "  <tbody>\n",
       "  </tbody>\n",
       "</table>\n",
       "</div>"
      ],
      "text/plain": [
       "Empty DataFrame\n",
       "Columns: [user_id, time_stamp, is_adopted]\n",
       "Index: []"
      ]
     },
     "execution_count": 21,
     "metadata": {},
     "output_type": "execute_result"
    }
   ],
   "source": [
    "# Check whether there is a user with user_id=0\n",
    "user_engagement[user_engagement['user_id']==0]"
   ]
  },
  {
   "cell_type": "markdown",
   "id": "571970b3",
   "metadata": {},
   "source": [
    "Since there are no users with `user_id` 0, we will use `0` in the `invited_by_user_id` column to denote a user who was not invited by another user."
   ]
  },
  {
   "cell_type": "code",
   "execution_count": 22,
   "id": "29487f1e",
   "metadata": {},
   "outputs": [],
   "source": [
    "# Raplace NaN with 0\n",
    "users_df['invited_by_user_id'] = users_df['invited_by_user_id'].fillna(0)"
   ]
  },
  {
   "cell_type": "markdown",
   "id": "d189fb59",
   "metadata": {},
   "source": [
    "#### `NaN`s in `last_session_creation_time`"
   ]
  },
  {
   "cell_type": "code",
   "execution_count": 23,
   "id": "77620dd5",
   "metadata": {},
   "outputs": [
    {
     "name": "stdout",
     "output_type": "stream",
     "text": [
      "Number of NaN values: 3177\n",
      "Percentage of NaN values: 26.474999999999998 %\n"
     ]
    }
   ],
   "source": [
    "# Check how many NaN values we have\n",
    "print(\"Number of NaN values:\", users_df['last_session_creation_time'].isna().sum())\n",
    "print(\"Percentage of NaN values:\", (users_df['last_session_creation_time'].isna().sum() / len(users_df)) * 100, \"%\")"
   ]
  },
  {
   "cell_type": "markdown",
   "id": "a99e7932",
   "metadata": {},
   "source": [
    "As we observed previously, there are over 3,000 `NaN` values in `last_session_creation_time`. This could potentially be problematic when we create our machine learning model.\n",
    "\n",
    "Let's create a boolean column `has_last_session` to indicate whether a user has a timestamp for `last_session_creation_time`. \n",
    "\n",
    "We will also fill missing `last_session_creation_time` values with the timestamp that is in `creation_time`."
   ]
  },
  {
   "cell_type": "code",
   "execution_count": 24,
   "id": "2b384975",
   "metadata": {},
   "outputs": [],
   "source": [
    "# Create binary flag\n",
    "users_df['has_last_session'] = users_df['last_session_creation_time'].notna()\n",
    "\n",
    "# Fill missing last_session_creation_time with creation_time\n",
    "users_df['last_session_creation_time'] = users_df['last_session_creation_time'].fillna(users_df['creation_time'])"
   ]
  },
  {
   "cell_type": "code",
   "execution_count": 25,
   "id": "ba97cc6d",
   "metadata": {},
   "outputs": [],
   "source": [
    "# Convert 'invited_by_user_id' column to type int\n",
    "users_df['invited_by_user_id'] = users_df['invited_by_user_id'].astype(int)"
   ]
  },
  {
   "cell_type": "markdown",
   "id": "42523a5f",
   "metadata": {},
   "source": [
    "### Handling dates"
   ]
  },
  {
   "cell_type": "code",
   "execution_count": 26,
   "id": "917a984e",
   "metadata": {},
   "outputs": [],
   "source": [
    "# Convert creation_time to datetime format\n",
    "users_df['creation_time'] = pd.to_datetime(users_df['creation_time'], errors='coerce')"
   ]
  },
  {
   "cell_type": "code",
   "execution_count": 27,
   "id": "5ac8f96a",
   "metadata": {
    "scrolled": true
   },
   "outputs": [],
   "source": [
    "# Convert last_session_creation_time to a usable format\n",
    "users_df['last_session_creation_time'] = pd.to_datetime(users_df['last_session_creation_time'], unit='s', errors='coerce')"
   ]
  },
  {
   "cell_type": "markdown",
   "id": "017caec0",
   "metadata": {},
   "source": [
    "Now that both time columns are in datetime format, we will perform a validity check.\n",
    "\n",
    "We expect for `'creation_time'` to be earlier than `'last_session_creation_time'`. We will check to see whether this is the case.\n",
    "\n",
    "There are over 3,177 users whose `'last_session_creation_time'` is `NaN`; therefore, we expect for there to be at leaset 3,177 entries that do not pass the validity check."
   ]
  },
  {
   "cell_type": "code",
   "execution_count": 28,
   "id": "3abe2bcd",
   "metadata": {},
   "outputs": [],
   "source": [
    "# Check validity\n",
    "valid_times = users_df.copy()\n",
    "\n",
    "for index, row in valid_times.iterrows():\n",
    "    if pd.isna(row['last_session_creation_time']):\n",
    "        valid_times.at[index, 'valid_time'] = False\n",
    "    else:\n",
    "        valid_times.at[index, 'valid_time'] = row['last_session_creation_time'] >= row['creation_time']"
   ]
  },
  {
   "cell_type": "code",
   "execution_count": 29,
   "id": "aba49113",
   "metadata": {},
   "outputs": [],
   "source": [
    "# Create a dataframe of invalid times\n",
    "invalid_times = valid_times[valid_times['valid_time']==False]"
   ]
  },
  {
   "cell_type": "code",
   "execution_count": 30,
   "id": "01f54683",
   "metadata": {},
   "outputs": [
    {
     "data": {
      "text/plain": [
       "3177"
      ]
     },
     "execution_count": 30,
     "metadata": {},
     "output_type": "execute_result"
    }
   ],
   "source": [
    "len(invalid_times)"
   ]
  },
  {
   "cell_type": "markdown",
   "id": "14169c1b",
   "metadata": {},
   "source": [
    "`invalid_times` contains 3,177 entries, which is the exact number of `NaN` values for `last_session_creation_time`. Let's check the unique values of `last_session_creation_time` to confirm that this dataframe only consists of these types of rows."
   ]
  },
  {
   "cell_type": "code",
   "execution_count": 31,
   "id": "7cd7e936",
   "metadata": {
    "scrolled": false
   },
   "outputs": [
    {
     "data": {
      "text/plain": [
       "<DatetimeArray>\n",
       "['NaT']\n",
       "Length: 1, dtype: datetime64[ns]"
      ]
     },
     "execution_count": 31,
     "metadata": {},
     "output_type": "execute_result"
    }
   ],
   "source": [
    "# Check unique values of last_session_creation_time\n",
    "invalid_times['last_session_creation_time'].unique()"
   ]
  },
  {
   "cell_type": "markdown",
   "id": "785a30d2",
   "metadata": {},
   "source": [
    "### Create `org_size` column\n",
    "It could be informative for our model to get an idea of how many users from one specific organization are active."
   ]
  },
  {
   "cell_type": "code",
   "execution_count": 32,
   "id": "ca5e7f95",
   "metadata": {},
   "outputs": [],
   "source": [
    "# Calculate org size\n",
    "org_size = users_df.groupby('org_id')['user_id'].count().reset_index()\n",
    "org_size.columns = ['org_id', 'org_size']\n",
    "\n",
    "# Merge back to main dataframe\n",
    "users_df = users_df.merge(org_size, on='org_id', how='left')"
   ]
  },
  {
   "cell_type": "markdown",
   "id": "3f545980",
   "metadata": {},
   "source": [
    "---"
   ]
  },
  {
   "cell_type": "markdown",
   "id": "9230c76a",
   "metadata": {},
   "source": [
    "## Merge `user_engagement` and `users_df` into one dataframe"
   ]
  },
  {
   "cell_type": "code",
   "execution_count": 33,
   "id": "e04fa955",
   "metadata": {
    "scrolled": false
   },
   "outputs": [],
   "source": [
    "df = user_engagement.merge(users_df, how='left', on='user_id')"
   ]
  },
  {
   "cell_type": "markdown",
   "id": "463f4071",
   "metadata": {},
   "source": [
    "### Convert columns for consistency\n",
    "There are some binary integer columns that can be converted to boolean types. For the sake of consistency, let's convert them."
   ]
  },
  {
   "cell_type": "code",
   "execution_count": 34,
   "id": "fc75d207",
   "metadata": {},
   "outputs": [
    {
     "name": "stdout",
     "output_type": "stream",
     "text": [
      "<class 'pandas.core.frame.DataFrame'>\n",
      "RangeIndex: 207917 entries, 0 to 207916\n",
      "Data columns (total 14 columns):\n",
      " #   Column                      Non-Null Count   Dtype         \n",
      "---  ------                      --------------   -----         \n",
      " 0   user_id                     207917 non-null  int64         \n",
      " 1   time_stamp                  207917 non-null  datetime64[ns]\n",
      " 2   is_adopted                  207917 non-null  bool          \n",
      " 3   creation_time               207917 non-null  datetime64[ns]\n",
      " 4   name                        207917 non-null  object        \n",
      " 5   email                       207917 non-null  object        \n",
      " 6   creation_source             207917 non-null  object        \n",
      " 7   last_session_creation_time  207917 non-null  datetime64[ns]\n",
      " 8   opted_in_to_mailing_list    207917 non-null  int64         \n",
      " 9   enabled_for_marketing_drip  207917 non-null  int64         \n",
      " 10  org_id                      207917 non-null  int64         \n",
      " 11  invited_by_user_id          207917 non-null  int32         \n",
      " 12  has_last_session            207917 non-null  bool          \n",
      " 13  org_size                    207917 non-null  int64         \n",
      "dtypes: bool(2), datetime64[ns](3), int32(1), int64(5), object(3)\n",
      "memory usage: 18.6+ MB\n"
     ]
    }
   ],
   "source": [
    "df.info()"
   ]
  },
  {
   "cell_type": "code",
   "execution_count": 35,
   "id": "5a8d0444",
   "metadata": {},
   "outputs": [],
   "source": [
    "# Convert binary int columns to booleans\n",
    "df['opted_in_to_mailing_list'] = df['opted_in_to_mailing_list'].astype(bool)\n",
    "df['enabled_for_marketing_drip'] = df['enabled_for_marketing_drip'].astype(bool)"
   ]
  },
  {
   "cell_type": "markdown",
   "id": "3a09c6e0",
   "metadata": {},
   "source": [
    "### Drop unnecessary columns"
   ]
  },
  {
   "cell_type": "code",
   "execution_count": 36,
   "id": "01b35f08",
   "metadata": {},
   "outputs": [],
   "source": [
    "drop_cols = ['name', 'email', 'user_id', 'time_stamp', 'org_id', 'invited_by_user_id']\n",
    "df = df.drop(drop_cols, axis=1)"
   ]
  },
  {
   "cell_type": "markdown",
   "id": "8609b154",
   "metadata": {},
   "source": [
    "### Create dummy variables"
   ]
  },
  {
   "cell_type": "code",
   "execution_count": 37,
   "id": "e911bd9c",
   "metadata": {},
   "outputs": [],
   "source": [
    "df = pd.get_dummies(df, prefix='source', columns=['creation_source'])"
   ]
  },
  {
   "cell_type": "markdown",
   "id": "1c577bbe",
   "metadata": {},
   "source": [
    "---"
   ]
  },
  {
   "cell_type": "markdown",
   "id": "8393a7b1",
   "metadata": {},
   "source": [
    "# Exploratory Data Analysis"
   ]
  },
  {
   "cell_type": "code",
   "execution_count": 47,
   "id": "5b26e7e9",
   "metadata": {},
   "outputs": [
    {
     "name": "stdout",
     "output_type": "stream",
     "text": [
      "Distribution of adopted users:\n",
      "is_adopted\n",
      "True     0.951909\n",
      "False    0.048091\n",
      "Name: proportion, dtype: float64\n"
     ]
    }
   ],
   "source": [
    "# Distribution of adopted users\n",
    "print(\"Distribution of adopted users:\")\n",
    "print(df['is_adopted'].value_counts(normalize=True))"
   ]
  },
  {
   "cell_type": "markdown",
   "id": "3619417b",
   "metadata": {},
   "source": [
    "---"
   ]
  },
  {
   "cell_type": "markdown",
   "id": "737e5977",
   "metadata": {},
   "source": [
    "# Pre-processing"
   ]
  },
  {
   "cell_type": "markdown",
   "id": "7ae672d6",
   "metadata": {},
   "source": [
    "### Split data"
   ]
  },
  {
   "cell_type": "code",
   "execution_count": 41,
   "id": "58734c17",
   "metadata": {},
   "outputs": [],
   "source": [
    "# Define features (X) and target (y)\n",
    "features = ['opted_in_to_mailing_list', 'enabled_for_marketing_drip',\n",
    "           'org_size', 'source_GUEST_INVITE', 'source_ORG_INVITE',\n",
    "           'source_PERSONAL_PROJECTS', 'source_SIGNUP',\n",
    "           'source_SIGNUP_GOOGLE_AUTH']\n",
    "\n",
    "X = df[features]\n",
    "y = df['is_adopted']\n",
    "\n",
    "# Split the data\n",
    "X_train, X_test, y_train, y_test = train_test_split(X, y, test_size=0.2, random_state=42)"
   ]
  },
  {
   "cell_type": "markdown",
   "id": "0346e7cf",
   "metadata": {},
   "source": [
    "---"
   ]
  },
  {
   "cell_type": "markdown",
   "id": "80db449a",
   "metadata": {},
   "source": [
    "# Modeling"
   ]
  },
  {
   "cell_type": "markdown",
   "id": "a0c579b6",
   "metadata": {},
   "source": [
    "## Random Forest Model"
   ]
  },
  {
   "cell_type": "code",
   "execution_count": 42,
   "id": "254aff09",
   "metadata": {},
   "outputs": [],
   "source": [
    "# Get each user's creation date\n",
    "user_creation_dates = users_df[['user_id', 'creation_time']].copy()\n",
    "\n",
    "# Create new adoption dictionary\n",
    "future_adopted_dict = {}\n",
    "\n",
    "# Loop through each user\n",
    "for _, row in user_creation_dates.iterrows():\n",
    "    user_id = row['user_id']\n",
    "    creation_date = row['creation_time']\n",
    "    \n",
    "    # Get user's login dates after creation\n",
    "    user_logins = user_engagement[\n",
    "        (user_engagement['user_id'] == user_id) & \n",
    "        (user_engagement['time_stamp'] > creation_date)\n",
    "    ]['time_stamp'].dt.date.unique()\n",
    "    \n",
    "    # Sort login dates\n",
    "    user_logins = sorted(user_logins)\n",
    "    \n",
    "    # Initialize adoption status\n",
    "    is_adopted = False\n",
    "    \n",
    "    # Check each date as potential start of 7-day window\n",
    "    for start_date in user_logins:\n",
    "        end_date = start_date + timedelta(days=6)\n",
    "        logins_in_window = sum(1 for date in user_logins if start_date <= date <= end_date)\n",
    "        if logins_in_window >= 3:\n",
    "            is_adopted = True\n",
    "            break\n",
    "            \n",
    "    future_adopted_dict[user_id] = is_adopted\n",
    "\n",
    "# Create feature dataset with only sign-up information\n",
    "X_signup = users_df[[\n",
    "    'user_id',\n",
    "    'opted_in_to_mailing_list',\n",
    "    'enabled_for_marketing_drip',\n",
    "    'org_size',\n",
    "    'creation_source'\n",
    "]].copy()\n",
    "\n",
    "# Convert creation_source to dummy variables\n",
    "X_signup = pd.get_dummies(X_signup, columns=['creation_source'], prefix='source')\n",
    "\n",
    "# Add target variable\n",
    "X_signup['will_adopt'] = X_signup['user_id'].map(future_adopted_dict)"
   ]
  },
  {
   "cell_type": "code",
   "execution_count": 43,
   "id": "6b1a18f8",
   "metadata": {},
   "outputs": [
    {
     "name": "stdout",
     "output_type": "stream",
     "text": [
      "Distribution of future adoption:\n",
      "will_adopt\n",
      "False    0.86825\n",
      "True     0.13175\n",
      "Name: proportion, dtype: float64\n"
     ]
    }
   ],
   "source": [
    "# Print class distribution\n",
    "print(\"Distribution of future adoption:\")\n",
    "print(X_signup['will_adopt'].value_counts(normalize=True))"
   ]
  },
  {
   "cell_type": "code",
   "execution_count": 44,
   "id": "c2e3b23e",
   "metadata": {},
   "outputs": [],
   "source": [
    "# Prepare features (X) and target (y)\n",
    "X = X_signup.drop(['user_id', 'will_adopt'], axis=1)\n",
    "y = X_signup['will_adopt']\n",
    "\n",
    "# Split the data\n",
    "X_train, X_test, y_train, y_test = train_test_split(X, y, test_size=0.2, random_state=42)\n",
    "\n",
    "# Create and train model\n",
    "rf_model = RandomForestClassifier(\n",
    "    n_estimators=100,\n",
    "    max_depth=20,\n",
    "    min_samples_split=2,\n",
    "    class_weight='balanced',\n",
    "    random_state=42\n",
    ")\n",
    "\n",
    "rf_model.fit(X_train, y_train)\n",
    "y_pred = rf_model.predict(X_test)"
   ]
  },
  {
   "cell_type": "code",
   "execution_count": 45,
   "id": "445d5ebd",
   "metadata": {},
   "outputs": [
    {
     "name": "stdout",
     "output_type": "stream",
     "text": [
      "\n",
      "Random Forest Results:\n",
      "              precision    recall  f1-score   support\n",
      "\n",
      "       False       0.87      0.68      0.76      2080\n",
      "        True       0.14      0.33      0.19       320\n",
      "\n",
      "    accuracy                           0.63      2400\n",
      "   macro avg       0.50      0.50      0.48      2400\n",
      "weighted avg       0.77      0.63      0.69      2400\n",
      "\n",
      "\n",
      "Feature Importance:\n",
      "                      feature  importance\n",
      "2                    org_size    0.874395\n",
      "5    source_PERSONAL_PROJECTS    0.037968\n",
      "1  enabled_for_marketing_drip    0.026460\n",
      "0    opted_in_to_mailing_list    0.024129\n",
      "3         source_GUEST_INVITE    0.011825\n",
      "7   source_SIGNUP_GOOGLE_AUTH    0.009900\n",
      "4           source_ORG_INVITE    0.008409\n",
      "6               source_SIGNUP    0.006914\n"
     ]
    }
   ],
   "source": [
    "# Print results\n",
    "print(\"Random Forest Results:\")\n",
    "print(classification_report(y_test, y_pred))\n",
    "\n",
    "# Feature importance\n",
    "feature_importance = pd.DataFrame({\n",
    "    'feature': X.columns,\n",
    "    'importance': rf_model.feature_importances_\n",
    "})\n",
    "print(\"\\nFeature Importance:\")\n",
    "print(feature_importance.sort_values('importance', ascending=False))"
   ]
  },
  {
   "cell_type": "markdown",
   "id": "85bc5f59",
   "metadata": {},
   "source": [
    "### Attempts to improve model performance"
   ]
  },
  {
   "cell_type": "code",
   "execution_count": 46,
   "id": "49f4261c",
   "metadata": {},
   "outputs": [
    {
     "name": "stdout",
     "output_type": "stream",
     "text": [
      "Results with Custom Class Weights:\n",
      "              precision    recall  f1-score   support\n",
      "\n",
      "       False       0.87      0.78      0.82      2080\n",
      "        True       0.16      0.26      0.20       320\n",
      "\n",
      "    accuracy                           0.71      2400\n",
      "   macro avg       0.51      0.52      0.51      2400\n",
      "weighted avg       0.78      0.71      0.74      2400\n",
      "\n",
      "\n",
      "Results with SMOTE:\n",
      "              precision    recall  f1-score   support\n",
      "\n",
      "       False       0.87      0.61      0.72      2080\n",
      "        True       0.14      0.40      0.21       320\n",
      "\n",
      "    accuracy                           0.58      2400\n",
      "   macro avg       0.50      0.51      0.46      2400\n",
      "weighted avg       0.77      0.58      0.65      2400\n",
      "\n",
      "\n",
      "Results with Tuned Hyperparameters:\n",
      "              precision    recall  f1-score   support\n",
      "\n",
      "       False       0.88      0.67      0.76      2080\n",
      "        True       0.16      0.40      0.22       320\n",
      "\n",
      "    accuracy                           0.63      2400\n",
      "   macro avg       0.52      0.53      0.49      2400\n",
      "weighted avg       0.78      0.63      0.69      2400\n",
      "\n"
     ]
    }
   ],
   "source": [
    "# 1. Custom Class Weights\n",
    "weights = {False: 1, True: 5}\n",
    "rf_model_weighted = RandomForestClassifier(\n",
    "    n_estimators=100, max_depth=20, min_samples_split=2,\n",
    "    class_weight=weights, random_state=42\n",
    ")\n",
    "rf_model_weighted.fit(X_train, y_train)\n",
    "y_pred_weighted = rf_model_weighted.predict(X_test)\n",
    "\n",
    "print(\"Results with Custom Class Weights:\")\n",
    "print(classification_report(y_test, y_pred_weighted))\n",
    "\n",
    "# 2. SMOTE\n",
    "from imblearn.over_sampling import SMOTE\n",
    "smote = SMOTE(random_state=42)\n",
    "X_train_smote, y_train_smote = smote.fit_resample(X_train, y_train)\n",
    "\n",
    "rf_model_smote = RandomForestClassifier(\n",
    "    n_estimators=100, max_depth=20, min_samples_split=2,\n",
    "    random_state=42\n",
    ")\n",
    "rf_model_smote.fit(X_train_smote, y_train_smote)\n",
    "y_pred_smote = rf_model_smote.predict(X_test)\n",
    "\n",
    "print(\"\\nResults with SMOTE:\")\n",
    "print(classification_report(y_test, y_pred_smote))\n",
    "\n",
    "# 3. Tuned Hyperparameters\n",
    "rf_model_tuned = RandomForestClassifier(\n",
    "    n_estimators=200, max_depth=10, min_samples_split=5,\n",
    "    min_samples_leaf=4, class_weight='balanced_subsample',\n",
    "    random_state=42\n",
    ")\n",
    "rf_model_tuned.fit(X_train, y_train)\n",
    "y_pred_tuned = rf_model_tuned.predict(X_test)\n",
    "\n",
    "print(\"\\nResults with Tuned Hyperparameters:\")\n",
    "print(classification_report(y_test, y_pred_tuned))"
   ]
  },
  {
   "cell_type": "markdown",
   "id": "6fdfa120",
   "metadata": {},
   "source": [
    "Of these attempts to improve model performance, our custom class weights model performed best. Let's re-determine our feature importance using this model."
   ]
  },
  {
   "cell_type": "code",
   "execution_count": 47,
   "id": "d17e7330",
   "metadata": {},
   "outputs": [
    {
     "name": "stdout",
     "output_type": "stream",
     "text": [
      "Feature Importance with Custom Class Weights:\n",
      "                      feature  importance\n",
      "2                    org_size    0.874348\n",
      "5    source_PERSONAL_PROJECTS    0.037045\n",
      "1  enabled_for_marketing_drip    0.025404\n",
      "0    opted_in_to_mailing_list    0.024444\n",
      "3         source_GUEST_INVITE    0.012348\n",
      "7   source_SIGNUP_GOOGLE_AUTH    0.010144\n",
      "4           source_ORG_INVITE    0.009341\n",
      "6               source_SIGNUP    0.006926\n"
     ]
    }
   ],
   "source": [
    "# Get feature importance from the weighted model\n",
    "feature_importance_weighted = pd.DataFrame({\n",
    "    'feature': X.columns,\n",
    "    'importance': rf_model_weighted.feature_importances_\n",
    "})\n",
    "print(\"Feature Importance with Custom Class Weights:\")\n",
    "print(feature_importance_weighted.sort_values('importance', ascending=False))"
   ]
  },
  {
   "cell_type": "markdown",
   "id": "aa78b786",
   "metadata": {},
   "source": [
    "## XGBoost"
   ]
  },
  {
   "cell_type": "code",
   "execution_count": 48,
   "id": "4f765596",
   "metadata": {},
   "outputs": [],
   "source": [
    "# XGBoost with same class weights\n",
    "weight_ratio = {0:1, 1:5}  # Same as our Random Forest weights\n",
    "xgb_model = XGBClassifier(\n",
    "    scale_pos_weight=weight_ratio[1]/weight_ratio[0],  # XGBoost uses ratio\n",
    "    random_state=42\n",
    ")\n",
    "xgb_model.fit(X_train, y_train)\n",
    "y_pred_xgb = xgb_model.predict(X_test)"
   ]
  },
  {
   "cell_type": "code",
   "execution_count": 58,
   "id": "7f4a58b8",
   "metadata": {},
   "outputs": [
    {
     "name": "stdout",
     "output_type": "stream",
     "text": [
      "XGBoost Results:\n",
      "              precision    recall  f1-score   support\n",
      "\n",
      "       False       0.87      0.73      0.80      2080\n",
      "        True       0.15      0.31      0.20       320\n",
      "\n",
      "    accuracy                           0.68      2400\n",
      "   macro avg       0.51      0.52      0.50      2400\n",
      "weighted avg       0.78      0.68      0.72      2400\n",
      "\n",
      "XGBoost Feature Importance:\n",
      "                      feature  importance\n",
      "5    source_PERSONAL_PROJECTS    0.257100\n",
      "2                    org_size    0.132056\n",
      "1  enabled_for_marketing_drip    0.117695\n",
      "3         source_GUEST_INVITE    0.113799\n",
      "0    opted_in_to_mailing_list    0.102988\n",
      "4           source_ORG_INVITE    0.102246\n",
      "7   source_SIGNUP_GOOGLE_AUTH    0.089952\n",
      "6               source_SIGNUP    0.084164\n"
     ]
    }
   ],
   "source": [
    "# Print results\n",
    "print(\"XGBoost Results:\")\n",
    "print(classification_report(y_test, y_pred_xgb))\n",
    "\n",
    "# Feature importance\n",
    "print(\"XGBoost Feature Importance:\")\n",
    "feature_importance_xgb = pd.DataFrame({\n",
    "    'feature': X.columns,\n",
    "    'importance': xgb_model.feature_importances_\n",
    "})\n",
    "print(feature_importance_xgb.sort_values('importance', ascending=False))"
   ]
  },
  {
   "cell_type": "markdown",
   "id": "3f029f71",
   "metadata": {},
   "source": [
    "## Logistic Regression"
   ]
  },
  {
   "cell_type": "code",
   "execution_count": 51,
   "id": "40b84d1d",
   "metadata": {},
   "outputs": [],
   "source": [
    "# Logistic Regression with class weights\n",
    "lr_model = LogisticRegression(\n",
    "    class_weight=weights,\n",
    "    max_iter=1000,\n",
    "    random_state=42\n",
    ")\n",
    "lr_model.fit(X_train, y_train)\n",
    "y_pred_lr = lr_model.predict(X_test)"
   ]
  },
  {
   "cell_type": "code",
   "execution_count": 59,
   "id": "6cc46a10",
   "metadata": {},
   "outputs": [
    {
     "name": "stdout",
     "output_type": "stream",
     "text": [
      "Logistic Regression Results:\n",
      "              precision    recall  f1-score   support\n",
      "\n",
      "       False       0.88      0.81      0.85      2080\n",
      "        True       0.19      0.28      0.22       320\n",
      "\n",
      "    accuracy                           0.74      2400\n",
      "   macro avg       0.53      0.55      0.53      2400\n",
      "weighted avg       0.79      0.74      0.76      2400\n",
      "\n",
      "Logistic Regression Feature Importance:\n",
      "                      feature  importance\n",
      "5    source_PERSONAL_PROJECTS    0.608700\n",
      "7   source_SIGNUP_GOOGLE_AUTH    0.277508\n",
      "3         source_GUEST_INVITE    0.255220\n",
      "6               source_SIGNUP    0.076025\n",
      "4           source_ORG_INVITE    0.028503\n",
      "1  enabled_for_marketing_drip    0.023421\n",
      "0    opted_in_to_mailing_list    0.016310\n",
      "2                    org_size    0.005450\n"
     ]
    }
   ],
   "source": [
    "# Print results\n",
    "print(\"Logistic Regression Results:\")\n",
    "print(classification_report(y_test, y_pred_lr))\n",
    "\n",
    "# Feature importance\n",
    "print(\"Logistic Regression Feature Importance:\")\n",
    "feature_importance_lr = pd.DataFrame({\n",
    "    'feature': X.columns,\n",
    "    'importance': abs(lr_model.coef_[0])\n",
    "})\n",
    "print(feature_importance_lr.sort_values('importance', ascending=False))"
   ]
  },
  {
   "cell_type": "markdown",
   "id": "1d02e89d",
   "metadata": {},
   "source": [
    "---"
   ]
  },
  {
   "cell_type": "markdown",
   "id": "b8d912a3",
   "metadata": {},
   "source": [
    "# Model comparison"
   ]
  },
  {
   "cell_type": "code",
   "execution_count": 55,
   "id": "a6e14856",
   "metadata": {
    "scrolled": false
   },
   "outputs": [
    {
     "data": {
      "image/png": "[encoded data removed]",
      "text/plain": [
       "<Figure size 1200x1000 with 2 Axes>"
      ]
     },
     "metadata": {},
     "output_type": "display_data"
    }
   ],
   "source": [
    "# Run all three models and collect metrics\n",
    "# 1. Random Forest\n",
    "rf_metrics = classification_report(y_test, y_pred_weighted, output_dict=True)\n",
    "rf_importance = pd.DataFrame({\n",
    "    'feature': X.columns,\n",
    "    'rf_importance': rf_model_weighted.feature_importances_\n",
    "})\n",
    "\n",
    "# 2. XGBoost\n",
    "xgb_model = XGBClassifier(\n",
    "    scale_pos_weight=weight_ratio[1]/weight_ratio[0],\n",
    "    random_state=42\n",
    ")\n",
    "xgb_model.fit(X_train, y_train)\n",
    "y_pred_xgb = xgb_model.predict(X_test)\n",
    "xgb_metrics = classification_report(y_test, y_pred_xgb, output_dict=True)\n",
    "xgb_importance = pd.DataFrame({\n",
    "    'feature': X.columns,\n",
    "    'xgb_importance': xgb_model.feature_importances_\n",
    "})\n",
    "\n",
    "# 3. Logistic Regression\n",
    "lr_model = LogisticRegression(\n",
    "    class_weight=weights,\n",
    "    max_iter=1000,\n",
    "    random_state=42\n",
    ")\n",
    "lr_model.fit(X_train, y_train)\n",
    "y_pred_lr = lr_model.predict(X_test)\n",
    "lr_metrics = classification_report(y_test, y_pred_lr, output_dict=True)\n",
    "lr_importance = pd.DataFrame({\n",
    "    'feature': X.columns,\n",
    "    'lr_importance': abs(lr_model.coef_[0])\n",
    "})\n",
    "\n",
    "# Create performance comparison dataframe\n",
    "metrics_data = {\n",
    "    'Model': ['Random Forest', 'XGBoost', 'Logistic Regression'] * 4,\n",
    "    'Metric': ['Precision (True)'] * 3 + ['Recall (True)'] * 3 + \n",
    "              ['F1-Score (True)'] * 3 + ['Accuracy'] * 3,\n",
    "    'Value': [\n",
    "        rf_metrics['True']['precision'], xgb_metrics['True']['precision'], lr_metrics['True']['precision'],\n",
    "        rf_metrics['True']['recall'], xgb_metrics['True']['recall'], lr_metrics['True']['recall'],\n",
    "        rf_metrics['True']['f1-score'], xgb_metrics['True']['f1-score'], lr_metrics['True']['f1-score'],\n",
    "        rf_metrics['accuracy'], xgb_metrics['accuracy'], lr_metrics['accuracy']\n",
    "    ]\n",
    "}\n",
    "\n",
    "# Merge feature importance dataframes\n",
    "feature_importance = rf_importance.merge(xgb_importance, on='feature')\n",
    "feature_importance = feature_importance.merge(lr_importance, on='feature')\n",
    "\n",
    "# Create the visualizations\n",
    "fig, (ax1, ax2) = plt.subplots(2, 1, figsize=(12, 10))\n",
    "\n",
    "# Plot performance metrics\n",
    "sns.barplot(x='Metric', y='Value', hue='Model', data=pd.DataFrame(metrics_data), ax=ax1)\n",
    "ax1.set_title('Model Performance Comparison')\n",
    "ax1.set_ylim(0, 1)\n",
    "\n",
    "# Plot feature importance\n",
    "feature_importance_data = {\n",
    "    'Model': ['Random Forest', 'XGBoost', 'Logistic Regression'] * len(feature_importance),\n",
    "    'Feature': [f for f in feature_importance['feature'] for _ in range(3)],\n",
    "    'Importance': [\n",
    "        val for pair in zip(\n",
    "            feature_importance['rf_importance'],\n",
    "            feature_importance['xgb_importance'],\n",
    "            feature_importance['lr_importance']\n",
    "        ) for val in pair\n",
    "    ]\n",
    "}\n",
    "\n",
    "sns.barplot(x='Feature', y='Importance', hue='Model', \n",
    "            data=pd.DataFrame(feature_importance_data), ax=ax2)\n",
    "ax2.set_title('Feature Importance Comparison')\n",
    "ax2.tick_params(axis='x', rotation=45)\n",
    "\n",
    "plt.tight_layout()\n",
    "plt.show()"
   ]
  },
  {
   "cell_type": "markdown",
   "id": "dfd8af46",
   "metadata": {},
   "source": [
    "---"
   ]
  },
  {
   "cell_type": "markdown",
   "id": "34ff090c",
   "metadata": {},
   "source": [
    "# Summary"
   ]
  },
  {
   "cell_type": "markdown",
   "id": "20c25fca",
   "metadata": {},
   "source": [
    "## Overview\n",
    "- Objective: Predict future user adoption based on information available at signup\n",
    "- Definition: An adopted user logs in on three separate days within any 7-day period after account creation\n",
    "- Dataset: ~13% adopted users, ~87% non-adopted users\n",
    "\n",
    "## Model Performance\n",
    "We compared three models with the following results:\n",
    "\n",
    "1. Logistic Regression (Best Performer)\n",
    "   - Accuracy: 74%\n",
    "   - Non-adopters: 88% precision, 81% recall\n",
    "   - Adopters: 19% precision, 28% recall\n",
    "\n",
    "2. Random Forest\n",
    "   - Accuracy: 71%\n",
    "   - Non-adopters: 87% precision, 78% recall\n",
    "   - Adopters: 16% precision, 26% recall\n",
    "\n",
    "3. XGBoost\n",
    "   - Accuracy: 68%\n",
    "   - Non-adopters: 87% precision, 73% recall\n",
    "   - Adopters: 15% precision, 31% recall\n",
    "\n",
    "## Feature Importance\n",
    "Interesting disagreement between models on key predictors:\n",
    "\n",
    "1. Logistic Regression\n",
    "   - Personal Projects source (60.9%)\n",
    "   - Google Auth signup (27.8%)\n",
    "   - Guest Invites (25.5%)\n",
    "   - Organization size least important (0.5%)\n",
    "\n",
    "2. XGBoost\n",
    "   - Personal Projects source (25.7%)\n",
    "   - More evenly distributed importance across features\n",
    "   - Organization size second most important (13.2%)\n",
    "\n",
    "3. Random Forest\n",
    "   - Organization size most important\n",
    "   - Marketing features secondary importance\n",
    "\n",
    "## Key Findings\n",
    "1. The simpler Logistic Regression model outperforms more complex models\n",
    "2. All models are better at identifying non-adopters than adopters\n",
    "3. Feature importance varies significantly between models, suggesting complex relationships\n",
    "4. Account creation source (especially Personal Projects) is a stronger predictor than previously thought\n",
    "\n",
    "## Business Implications\n",
    "1. High confidence in identifying users unlikely to adopt (88% precision)\n",
    "2. Users from Personal Projects and Google Auth sources may need different onboarding approaches\n",
    "3. Organization size alone is not as predictive as initially assumed\n",
    "4. Consider collecting additional user behavior data early in the user journey to improve adoption predictions\n",
    "\n",
    "## Limitations\n",
    "1. Limited ability to accurately identify future adopters\n",
    "2. Models only use signup information\n",
    "3. Significant class imbalance in the dataset\n",
    "4. Disagreement between models on feature importance suggests underlying complexity"
   ]
  }
 ],
 "metadata": {
  "kernelspec": {
   "display_name": "Python 3 (ipykernel)",
   "language": "python",
   "name": "python3"
  },
  "language_info": {
   "codemirror_mode": {
    "name": "ipython",
    "version": 3
   },
   "file_extension": ".py",
   "mimetype": "text/x-python",
   "name": "python",
   "nbconvert_exporter": "python",
   "pygments_lexer": "ipython3",
   "version": "3.11.5"
  }
 },
 "nbformat": 4,
 "nbformat_minor": 5
}
