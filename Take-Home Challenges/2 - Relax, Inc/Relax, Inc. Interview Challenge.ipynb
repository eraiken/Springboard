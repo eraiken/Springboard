{
 "cells": [
  {
   "cell_type": "markdown",
   "id": "da5144fd",
   "metadata": {},
   "source": [
    "# Take-Home Challenge: Relax, Inc."
   ]
  },
  {
   "cell_type": "markdown",
   "id": "c60caa4b",
   "metadata": {},
   "source": [
    "The data is available as two attached CSV files:\n",
    "```\n",
    "takehome_user_engagement.csv  \n",
    "takehome_users.csv\n",
    "```"
   ]
  },
  {
   "cell_type": "markdown",
   "id": "fcac25a5",
   "metadata": {},
   "source": [
    "The data has the following two tables:\n",
    "\n",
    "1. A user table (\"takehome_users\") with data on 12,000 users who signed up for the product in the last two years. This table includes:\n",
    "    - **name**: the user's name\n",
    "    - **object_id**: the user's id\n",
    "    - **email**: email address\n",
    "    - **creation_source**: how their account was created. This takes on one of 5 values:\n",
    "        - **PERSONAL_PROJECTS**: invited to join another user's personal workspace\n",
    "        - **GUEST_INVITE**: invited to an organization as a guest (limited permissions)\n",
    "        - **ORG_INVITE**: invited to an organization (as a full member)\n",
    "        - **SIGNUP**: signed up via the website\n",
    "        - **SIGNUP_GOOGLE_AUTH**: signed up using Google Authentication (using a Google email account for their login id)\n",
    "    - **creation_time**: when they created their account\n",
    "    - **last_session_creation_time**: unix timestamp of last login\n",
    "    - **opted_in_to_mailing_list**: whether they have opted into receiving marketing emails\n",
    "    - **enabled_for_marketing_drip**: whether they are on the regular marketing email drip\n",
    "    - **org_id**: the organization (group of users) they belong to\n",
    "    - **invited_by_user_id**: which user invited them to join (if applicable)\n",
    "<br><br>\n",
    "2. A usage summary table (\"takehome_user_engagement\") that has a row for each day that a user logged into the product."
   ]
  },
  {
   "cell_type": "markdown",
   "id": "69cfb485",
   "metadata": {},
   "source": [
    "Defining an \"adopted user\" as a user who has logged into the product on three separate days in at least one seven-day period, **identify which factors predict future user adoption**."
   ]
  },
  {
   "cell_type": "markdown",
   "id": "930bb966",
   "metadata": {},
   "source": [
    "We suggest spending 1-2 hours on this, but you're welcome to spend more or less. Please send us a brief writeup of your findings (the more concise, the better — no more than one page), along with any summary tables, graphs, code, or queries that can help us understand your approach. Please note any factors you considered or investigation you did, even if they did not pan out. Feel free to identify any further research or data you think would be valuable."
   ]
  },
  {
   "cell_type": "markdown",
   "id": "f173b21e",
   "metadata": {},
   "source": [
    "---"
   ]
  },
  {
   "cell_type": "code",
   "execution_count": 1,
   "id": "19a0d52c",
   "metadata": {},
   "outputs": [],
   "source": [
    "import pandas as pd\n",
    "import numpy as np"
   ]
  },
  {
   "cell_type": "markdown",
   "id": "8511ca3b",
   "metadata": {},
   "source": []
  }
 ],
 "metadata": {
  "kernelspec": {
   "display_name": "Python 3 (ipykernel)",
   "language": "python",
   "name": "python3"
  },
  "language_info": {
   "codemirror_mode": {
    "name": "ipython",
    "version": 3
   },
   "file_extension": ".py",
   "mimetype": "text/x-python",
   "name": "python",
   "nbconvert_exporter": "python",
   "pygments_lexer": "ipython3",
   "version": "3.11.5"
  }
 },
 "nbformat": 4,
 "nbformat_minor": 5
}
