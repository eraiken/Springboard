{
 "cells": [
  {
   "cell_type": "markdown",
   "id": "4f91b539",
   "metadata": {},
   "source": [
    "# Modeling for Capstone Two: Music & Happiness\n",
    "\n",
    "### Table of Contents\n",
    "\n",
    "* [Introduction](#start)\n",
    "    * [Import relevant libraries](#import)\n",
    "    * [Load variables from pre-processing \\& training phase](#load)"
   ]
  },
  {
   "cell_type": "markdown",
   "id": "120d7132",
   "metadata": {},
   "source": [
    "## 1 - Introduction <a name=\"start\"></a>"
   ]
  },
  {
   "cell_type": "markdown",
   "id": "59f72e2e",
   "metadata": {},
   "source": [
    "### 1.1 Import relevant libraries <a name=\"import\"></a>"
   ]
  },
  {
   "cell_type": "code",
   "execution_count": 1,
   "id": "eedac811",
   "metadata": {},
   "outputs": [],
   "source": [
    "import pandas as pd\n",
    "import numpy as np"
   ]
  },
  {
   "cell_type": "markdown",
   "id": "1e6c2aea",
   "metadata": {},
   "source": [
    "### 1.2 Load variables from pre-processing and training phase <a name=\"load\"></a>\n",
    "Previously, we split and trained our data in preparation for creating our model. We stored these variables as `X_train`, `X_test`, `y_train`, and `y_test`. We will retrieve them here:"
   ]
  },
  {
   "cell_type": "code",
   "execution_count": 2,
   "id": "7c1de177",
   "metadata": {},
   "outputs": [],
   "source": [
    "%store -r X_train\n",
    "%store -r X_test\n",
    "%store -r y_train\n",
    "%store -r y_test"
   ]
  },
  {
   "cell_type": "code",
   "execution_count": null,
   "id": "713ca93a",
   "metadata": {},
   "outputs": [],
   "source": []
  }
 ],
 "metadata": {
  "kernelspec": {
   "display_name": "Python 3 (ipykernel)",
   "language": "python",
   "name": "python3"
  },
  "language_info": {
   "codemirror_mode": {
    "name": "ipython",
    "version": 3
   },
   "file_extension": ".py",
   "mimetype": "text/x-python",
   "name": "python",
   "nbconvert_exporter": "python",
   "pygments_lexer": "ipython3",
   "version": "3.11.5"
  }
 },
 "nbformat": 4,
 "nbformat_minor": 5
}
