{
 "cells": [
  {
   "cell_type": "markdown",
   "id": "0823a952",
   "metadata": {},
   "source": [
    "# Pre-processing and Training for Capstone Two: Music & Happiness\n",
    "\n",
    "### Table of Contents\n",
    "* [Introduction](#start)\n",
    "    * [Import relevant libraries](#import)"
   ]
  },
  {
   "cell_type": "markdown",
   "id": "c362dc72",
   "metadata": {},
   "source": [
    "## 1 - Introduction <a name=\"start\"></a>"
   ]
  },
  {
   "cell_type": "markdown",
   "id": "8c2023e5",
   "metadata": {},
   "source": [
    "### 1.1 - Import relevant libraries <a name=\"import\"></a>"
   ]
  },
  {
   "cell_type": "code",
   "execution_count": 1,
   "id": "4ca71e34",
   "metadata": {},
   "outputs": [
    {
     "name": "stdout",
     "output_type": "stream",
     "text": [
      "Stored variables and their in-db values:\n",
      "songs_data_df                        ->                     country                       \n",
      "songs_data_stats_country             ->            country  popularity  is_explicit    dur\n",
      "songs_data_stats_region              ->                          region  popularity  is_ex\n",
      "wh_data                              ->          country  Ladder score  Standard error of \n"
     ]
    }
   ],
   "source": [
    "%store"
   ]
  }
 ],
 "metadata": {
  "kernelspec": {
   "display_name": "Python 3 (ipykernel)",
   "language": "python",
   "name": "python3"
  },
  "language_info": {
   "codemirror_mode": {
    "name": "ipython",
    "version": 3
   },
   "file_extension": ".py",
   "mimetype": "text/x-python",
   "name": "python",
   "nbconvert_exporter": "python",
   "pygments_lexer": "ipython3",
   "version": "3.11.5"
  }
 },
 "nbformat": 4,
 "nbformat_minor": 5
}
